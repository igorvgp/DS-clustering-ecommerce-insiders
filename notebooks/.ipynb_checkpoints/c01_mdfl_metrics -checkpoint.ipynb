{
 "cells": [
  {
   "cell_type": "markdown",
   "id": "f914a8bc",
   "metadata": {},
   "source": [
    "# pa005: High Value Customer Identification (Insiders)"
   ]
  },
  {
   "cell_type": "markdown",
   "id": "d80bfa4c",
   "metadata": {},
   "source": [
    "## 0.0. Solution Plan (IOT)"
   ]
  },
  {
   "cell_type": "markdown",
   "id": "e3c929b7",
   "metadata": {},
   "source": [
    " ### 0.1. Input"
   ]
  },
  {
   "cell_type": "markdown",
   "id": "94031568",
   "metadata": {},
   "source": [
    "1. Business problem\n",
    "    - Select the most valuable costumers to join a loyalty program called \"Insiders\"\n",
    "    \n",
    "\n",
    "2. Data\n",
    "    - Sales during the period of one year"
   ]
  },
  {
   "cell_type": "markdown",
   "id": "6110a668",
   "metadata": {},
   "source": [
    " ### 0.2. Output"
   ]
  },
  {
   "cell_type": "markdown",
   "id": "04213346",
   "metadata": {},
   "source": [
    "1. Refer some people elegible to be part of the loyalty program\n",
    "            | client_id | is_insider | \n",
    "            | 20394     | yes(1)     |\n",
    "            | 23948     | no (0)     |"
   ]
  },
  {
   "cell_type": "markdown",
   "id": "3fe7af11",
   "metadata": {},
   "source": [
    " ### 0.3. Tasks"
   ]
  },
  {
   "cell_type": "markdown",
   "id": "9a350cbc",
   "metadata": {},
   "source": [
    "1. who are the people eligible for the loyalty program?\n",
    "    - What does \"being elegible\" mean? Who are the \"valuable customers\"?\n",
    "        - Invoicing:\n",
    "            - High ATP\n",
    "            - High LTV\n",
    "            - Low recency\n",
    "            - High basket size\n",
    "            - Low probability of churn\n",
    "        - Cost:\n",
    "            - Low product return rate\n",
    "        - Shopping Experience:       \n",
    "            - High average rating\n",
    "            \n",
    "        \n",
    "2. How many customers will be able to join the group?\n",
    "    - Total number of customers\n",
    "    - % Insiders Group\n",
    "3. What are the main features of these customers?\n",
    "        -  Age\n",
    "        - Location\n",
    "4. How much do the Insiders contribute to the total billing amount?\n",
    "    - Total billing amout\n",
    "    - % Insiders billing\n",
    "5. Whet is the Insider's billing forecast for the coming months?\n",
    "    - LTV Insiders group\n",
    "    - Cohort analysis\n",
    "6. What are the conditions to someone be elegible to the Insiders group?\n",
    "    - The person has to be similar to the others in the group\n",
    "8. How to ensure that the Insiders program is better tha the current model?\n",
    "    - A/B test\n",
    "    - Bayesian A/B test\n",
    "    - Hypotesis test\n",
    "9. What are the marketing plans for this group?\n",
    "    - Discounts\n",
    "    - Purchase preference\n",
    "    - Free shipping"
   ]
  },
  {
   "cell_type": "markdown",
   "id": "98d4b461",
   "metadata": {},
   "source": [
    "# 0.0. Imports"
   ]
  },
  {
   "cell_type": "code",
   "execution_count": 1,
   "id": "13289320",
   "metadata": {},
   "outputs": [],
   "source": [
    "import pandas as pd\n",
    "import numpy as np\n",
    "import seaborn as sns\n",
    "\n",
    "from matplotlib import pyplot as plt\n",
    "from IPython.display import HTML\n",
    "\n",
    "from sklearn import cluster as c\n",
    "\n",
    "import warnings\n",
    "warnings.filterwarnings('ignore')"
   ]
  },
  {
   "cell_type": "markdown",
   "id": "6cb4e166",
   "metadata": {},
   "source": [
    "## 0.1 Helper Functions"
   ]
  },
  {
   "cell_type": "code",
   "execution_count": 2,
   "id": "784780e1",
   "metadata": {},
   "outputs": [
    {
     "name": "stdout",
     "output_type": "stream",
     "text": [
      "%pylab is deprecated, use %matplotlib inline and import the required libraries.\n",
      "Populating the interactive namespace from numpy and matplotlib\n"
     ]
    },
    {
     "data": {
      "text/html": [
       "<style>.container { width:100% !important; }</style>"
      ],
      "text/plain": [
       "<IPython.core.display.HTML object>"
      ]
     },
     "metadata": {},
     "output_type": "display_data"
    }
   ],
   "source": [
    "def jupyter_settings():\n",
    "    %matplotlib inline\n",
    "    %pylab inline\n",
    "\n",
    "    plt.style.use( 'bmh' )\n",
    "    plt.rcParams['figure.figsize'] = [25, 12]\n",
    "    plt.rcParams['font.size'] = 24\n",
    "    display( HTML( '<style>.container { width:100% !important; }</style>') )\n",
    "\n",
    "\n",
    "    sns.set()\n",
    "jupyter_settings()"
   ]
  },
  {
   "cell_type": "markdown",
   "id": "db274fc1",
   "metadata": {},
   "source": [
    "## 0.2 Loading Dataset"
   ]
  },
  {
   "cell_type": "code",
   "execution_count": 3,
   "id": "64ef0cea",
   "metadata": {},
   "outputs": [],
   "source": [
    "# Load data\n",
    "ecommerce = pd.read_csv('../data/Ecommerce.csv',encoding='latin1')\n",
    "\n",
    "# Drop extra column\n",
    "ecommerce = ecommerce.iloc[:,:-1]"
   ]
  },
  {
   "cell_type": "markdown",
   "id": "eb37cab1",
   "metadata": {},
   "source": [
    "# 1.0. Data description"
   ]
  },
  {
   "cell_type": "code",
   "execution_count": 4,
   "id": "cf9276dc",
   "metadata": {},
   "outputs": [],
   "source": [
    "ecommerce1 = ecommerce"
   ]
  },
  {
   "cell_type": "markdown",
   "id": "1e9f774d",
   "metadata": {},
   "source": [
    "## 1.1. Rename Columns"
   ]
  },
  {
   "cell_type": "code",
   "execution_count": 5,
   "id": "a4945b5b",
   "metadata": {},
   "outputs": [],
   "source": [
    "new_cols =  ['invoice_no', 'stock_code','description', 'quantity', 'invoice_date', 'unit_price', 'customer_id', 'country']\n",
    "ecommerce1.columns = new_cols"
   ]
  },
  {
   "cell_type": "markdown",
   "id": "bdd17374",
   "metadata": {},
   "source": [
    "## 1.2. Data Dimensions"
   ]
  },
  {
   "cell_type": "code",
   "execution_count": 6,
   "id": "f7924b48",
   "metadata": {},
   "outputs": [
    {
     "data": {
      "text/plain": [
       "(541909, 8)"
      ]
     },
     "execution_count": 6,
     "metadata": {},
     "output_type": "execute_result"
    }
   ],
   "source": [
    "ecommerce1.shape"
   ]
  },
  {
   "cell_type": "markdown",
   "id": "ceb47ef0",
   "metadata": {},
   "source": [
    "## 1.3. Data types"
   ]
  },
  {
   "cell_type": "code",
   "execution_count": 7,
   "id": "073adcd9",
   "metadata": {},
   "outputs": [
    {
     "data": {
      "text/plain": [
       "invoice_no       object\n",
       "stock_code       object\n",
       "description      object\n",
       "quantity          int64\n",
       "invoice_date     object\n",
       "unit_price      float64\n",
       "customer_id     float64\n",
       "country          object\n",
       "dtype: object"
      ]
     },
     "execution_count": 7,
     "metadata": {},
     "output_type": "execute_result"
    }
   ],
   "source": [
    "ecommerce1.dtypes"
   ]
  },
  {
   "cell_type": "markdown",
   "id": "5d7c4a9d",
   "metadata": {},
   "source": [
    "## 1.4. Check NA"
   ]
  },
  {
   "cell_type": "code",
   "execution_count": 8,
   "id": "926dc7fa",
   "metadata": {
    "scrolled": false
   },
   "outputs": [
    {
     "data": {
      "text/plain": [
       "invoice_no           0\n",
       "stock_code           0\n",
       "description       1454\n",
       "quantity             0\n",
       "invoice_date         0\n",
       "unit_price           0\n",
       "customer_id     135080\n",
       "country              0\n",
       "dtype: int64"
      ]
     },
     "execution_count": 8,
     "metadata": {},
     "output_type": "execute_result"
    }
   ],
   "source": [
    "ecommerce1.isna().sum()"
   ]
  },
  {
   "cell_type": "markdown",
   "id": "37d4d226",
   "metadata": {},
   "source": [
    "## 1.5. Replace NA"
   ]
  },
  {
   "cell_type": "code",
   "execution_count": 9,
   "id": "8a0dd184",
   "metadata": {},
   "outputs": [],
   "source": [
    "ecommerce1.dropna(subset = ['description','customer_id'], inplace = True)"
   ]
  },
  {
   "cell_type": "code",
   "execution_count": 10,
   "id": "6cf1b45f",
   "metadata": {},
   "outputs": [
    {
     "data": {
      "text/plain": [
       "invoice_no      0\n",
       "stock_code      0\n",
       "description     0\n",
       "quantity        0\n",
       "invoice_date    0\n",
       "unit_price      0\n",
       "customer_id     0\n",
       "country         0\n",
       "dtype: int64"
      ]
     },
     "execution_count": 10,
     "metadata": {},
     "output_type": "execute_result"
    }
   ],
   "source": [
    "ecommerce1.isna().sum()"
   ]
  },
  {
   "cell_type": "markdown",
   "id": "144d703d",
   "metadata": {},
   "source": [
    "## 1.6. Change Dtypes"
   ]
  },
  {
   "cell_type": "code",
   "execution_count": 11,
   "id": "daaad1c8",
   "metadata": {},
   "outputs": [],
   "source": [
    "# Invoice date\n",
    "ecommerce['invoice_date'] = pd.to_datetime(ecommerce1['invoice_date'], format = '%d-%b-%y')\n",
    "\n",
    "# Customer id\n",
    "ecommerce['customer_id'] = ecommerce1['customer_id'].astype(int)"
   ]
  },
  {
   "cell_type": "markdown",
   "id": "66681528",
   "metadata": {},
   "source": [
    "## 1.7. Drop Duplicates"
   ]
  },
  {
   "cell_type": "code",
   "execution_count": 12,
   "id": "d04b49ff",
   "metadata": {},
   "outputs": [],
   "source": [
    "ecommerce1 = ecommerce1.drop_duplicates()"
   ]
  },
  {
   "cell_type": "markdown",
   "id": "30623aa6",
   "metadata": {},
   "source": [
    "## 1.8. Descriptive Statistics"
   ]
  },
  {
   "cell_type": "markdown",
   "id": "5d69dffc",
   "metadata": {},
   "source": [
    "# 2.0. Feature Engineering"
   ]
  },
  {
   "cell_type": "code",
   "execution_count": 13,
   "id": "5e3beb9a",
   "metadata": {},
   "outputs": [],
   "source": [
    "ecommerce2 = ecommerce1"
   ]
  },
  {
   "cell_type": "markdown",
   "id": "2bd5d4a8",
   "metadata": {},
   "source": [
    "## 2.1. Feature Creation"
   ]
  },
  {
   "cell_type": "code",
   "execution_count": 14,
   "id": "d6edf8ab",
   "metadata": {},
   "outputs": [],
   "source": [
    "customer_df = ecommerce2.drop(['invoice_no', 'stock_code', 'description', 'quantity', 'invoice_date', 'unit_price', 'country'], axis = 1).drop_duplicates(ignore_index = True)"
   ]
  },
  {
   "cell_type": "code",
   "execution_count": 15,
   "id": "763475e8",
   "metadata": {},
   "outputs": [],
   "source": [
    "# Cross Revenue\n",
    "ecommerce2['gross_revenue'] = ecommerce2['quantity'] * ecommerce2['unit_price']\n",
    "df_gross_revenue = ecommerce2[['gross_revenue','customer_id']].groupby('customer_id').sum().reset_index()\n",
    "customer_df = pd.merge(customer_df, df_gross_revenue,on = 'customer_id', how = 'left')\n",
    "\n",
    "# Recency - Last day purchase\n",
    "ecommerce2['last_day'] = ecommerce2['invoice_date'].max()\n",
    "df_recency = ecommerce2[['customer_id','invoice_date','last_day']].groupby('customer_id').min().reset_index()\n",
    "df_recency['recency'] =  (df_recency['last_day'] - df_recency['invoice_date']).dt.days\n",
    "df_recency = df_recency.drop(['invoice_date','last_day'], axis = 1)\n",
    "customer_df = pd.merge(customer_df, df_recency,on = 'customer_id', how = 'left')\n",
    "\n",
    "# Frequency\n",
    "df_frequency = ecommerce2[['invoice_no', 'customer_id']].drop_duplicates().groupby('customer_id').count().reset_index()\n",
    "customer_df = pd.merge(customer_df, df_frequency,on = 'customer_id', how = 'left')"
   ]
  },
  {
   "cell_type": "markdown",
   "id": "4ac55ad1",
   "metadata": {},
   "source": [
    "# 3.0. Data Filtering"
   ]
  },
  {
   "cell_type": "code",
   "execution_count": 16,
   "id": "a2bb4949",
   "metadata": {},
   "outputs": [],
   "source": [
    "ecommerce3 = customer_df.copy()"
   ]
  },
  {
   "cell_type": "markdown",
   "id": "9d0d09bc",
   "metadata": {},
   "source": [
    "# 4.0. Exploratory Data Analysis"
   ]
  },
  {
   "cell_type": "code",
   "execution_count": 17,
   "id": "2dc468ad",
   "metadata": {},
   "outputs": [],
   "source": [
    "ecommerce4 = ecommerce3.copy()"
   ]
  },
  {
   "cell_type": "markdown",
   "id": "f6e1f936",
   "metadata": {},
   "source": [
    "# 5.0. Data Preparation"
   ]
  },
  {
   "cell_type": "code",
   "execution_count": 18,
   "id": "695fdbef",
   "metadata": {},
   "outputs": [],
   "source": [
    "ecommerce5 = ecommerce4.copy()"
   ]
  },
  {
   "cell_type": "markdown",
   "id": "25cef89a",
   "metadata": {},
   "source": [
    "# 6.0. Feature Selection"
   ]
  },
  {
   "cell_type": "code",
   "execution_count": 19,
   "id": "fd987d91",
   "metadata": {},
   "outputs": [],
   "source": [
    "ecommerce6 = ecommerce5.copy()"
   ]
  },
  {
   "cell_type": "markdown",
   "id": "8ebe5ea8",
   "metadata": {},
   "source": [
    "# 7.0. Hyperparameter Fine-Tunning"
   ]
  },
  {
   "cell_type": "code",
   "execution_count": 20,
   "id": "824272d2",
   "metadata": {},
   "outputs": [],
   "source": [
    "ecommerce7 = ecommerce6\n",
    "X = ecommerce7.drop('customer_id', axis = 1).copy()"
   ]
  },
  {
   "cell_type": "code",
   "execution_count": 27,
   "id": "a09d40f1",
   "metadata": {},
   "outputs": [],
   "source": [
    "clusters = [2, 3, 4, 5, 6]"
   ]
  },
  {
   "cell_type": "markdown",
   "id": "76d8c694",
   "metadata": {},
   "source": [
    "## 7.1. Within-Cluster Sum of Square (WSS)"
   ]
  },
  {
   "cell_type": "code",
   "execution_count": 22,
   "id": "f1b21360",
   "metadata": {
    "scrolled": false
   },
   "outputs": [
    {
     "data": {
      "text/plain": [
       "Text(0.5, 1.0, 'WSS vs K')"
      ]
     },
     "execution_count": 22,
     "metadata": {},
     "output_type": "execute_result"
    },
    {
     "data": {
      "image/png": "[encoded data removed]",
      "text/plain": [
       "<Figure size 800x400 with 1 Axes>"
      ]
     },
     "metadata": {},
     "output_type": "display_data"
    }
   ],
   "source": [
    "wss = []\n",
    "for k in clusters:\n",
    "    #model definition\n",
    "    Kmeans = c.KMeans( init =  'random', n_clusters = k, n_init = 10, max_iter = 300, random_state = 42)\n",
    "    #model training\n",
    "    Kmeans.fit( X )\n",
    "    # validation\n",
    "    wss.append(Kmeans.inertia_)\n",
    "\n",
    "# plot wss\n",
    "plt.figure(figsize = (8, 4) )\n",
    "plt.plot( clusters, wss, linestyle = '--', marker = 'o', color = 'b')\n",
    "plt.xlabel( 'K' )\n",
    "plt.ylabel(' Within-Cluster Sum of Square' )\n",
    "plt.title( 'WSS vs K' )"
   ]
  },
  {
   "cell_type": "code",
   "execution_count": 28,
   "id": "d071a109",
   "metadata": {},
   "outputs": [
    {
     "data": {
      "image/png": "[encoded data removed]",
      "text/plain": [
       "<Figure size 800x550 with 1 Axes>"
      ]
     },
     "metadata": {},
     "output_type": "display_data"
    },
    {
     "data": {
      "text/plain": [
       "<AxesSubplot: title={'center': 'Distortion Score Elbow for KMeans Clustering'}, xlabel='k', ylabel='distortion score'>"
      ]
     },
     "execution_count": 28,
     "metadata": {},
     "output_type": "execute_result"
    }
   ],
   "source": [
    "from yellowbrick.cluster import KElbowVisualizer\n",
    "kmeans = KElbowVisualizer( c.KMeans(), k = clusters, timings = False)\n",
    "kmeans.fit( X )\n",
    "kmeans.show()"
   ]
  },
  {
   "cell_type": "markdown",
   "id": "26fff243",
   "metadata": {},
   "source": [
    "## 7.2. Sillhouette Score"
   ]
  },
  {
   "cell_type": "code",
   "execution_count": 30,
   "id": "bbf24e82",
   "metadata": {},
   "outputs": [
    {
     "data": {
      "image/png": "[encoded data removed]",
      "text/plain": [
       "<Figure size 800x550 with 1 Axes>"
      ]
     },
     "metadata": {},
     "output_type": "display_data"
    },
    {
     "data": {
      "text/plain": [
       "<AxesSubplot: title={'center': 'Silhouette Score Elbow for KMeans Clustering'}, xlabel='k', ylabel='silhouette score'>"
      ]
     },
     "execution_count": 30,
     "metadata": {},
     "output_type": "execute_result"
    }
   ],
   "source": [
    "from yellowbrick.cluster import KElbowVisualizer\n",
    "kmeans = KElbowVisualizer( c.KMeans(), k = clusters, metric = 'silhouette', timings = False)\n",
    "kmeans.fit( X )\n",
    "kmeans.show()"
   ]
  },
  {
   "cell_type": "markdown",
   "id": "897e4e50",
   "metadata": {},
   "source": [
    "# 8.0. Model Training"
   ]
  },
  {
   "cell_type": "markdown",
   "id": "8081af84",
   "metadata": {},
   "source": [
    "# 9.0. Cluster Analysis"
   ]
  },
  {
   "cell_type": "markdown",
   "id": "5e87e9f9",
   "metadata": {},
   "source": [
    "# 10.0. Deploy to Production"
   ]
  },
  {
   "cell_type": "code",
   "execution_count": null,
   "id": "03863e23",
   "metadata": {},
   "outputs": [],
   "source": []
  },
  {
   "cell_type": "code",
   "execution_count": null,
   "id": "c19e8dd5",
   "metadata": {},
   "outputs": [],
   "source": []
  },
  {
   "cell_type": "code",
   "execution_count": null,
   "id": "cc2a4f16",
   "metadata": {},
   "outputs": [],
   "source": []
  },
  {
   "cell_type": "code",
   "execution_count": null,
   "id": "15b4ae6e",
   "metadata": {},
   "outputs": [],
   "source": []
  },
  {
   "cell_type": "code",
   "execution_count": null,
   "id": "1924c608",
   "metadata": {},
   "outputs": [],
   "source": []
  },
  {
   "cell_type": "code",
   "execution_count": null,
   "id": "79bdfd04",
   "metadata": {},
   "outputs": [],
   "source": []
  },
  {
   "cell_type": "code",
   "execution_count": null,
   "id": "db8c3c0f",
   "metadata": {},
   "outputs": [],
   "source": []
  },
  {
   "cell_type": "code",
   "execution_count": null,
   "id": "aa7a78c5",
   "metadata": {},
   "outputs": [],
   "source": []
  },
  {
   "cell_type": "code",
   "execution_count": null,
   "id": "84a3f91f",
   "metadata": {},
   "outputs": [],
   "source": []
  },
  {
   "cell_type": "code",
   "execution_count": null,
   "id": "2fa8d139",
   "metadata": {},
   "outputs": [],
   "source": []
  },
  {
   "cell_type": "code",
   "execution_count": null,
   "id": "66bdda37",
   "metadata": {},
   "outputs": [],
   "source": []
  },
  {
   "cell_type": "code",
   "execution_count": null,
   "id": "323f08a1",
   "metadata": {},
   "outputs": [],
   "source": []
  },
  {
   "cell_type": "code",
   "execution_count": null,
   "id": "255b78c3",
   "metadata": {},
   "outputs": [],
   "source": []
  },
  {
   "cell_type": "code",
   "execution_count": null,
   "id": "ff0dc8af",
   "metadata": {},
   "outputs": [],
   "source": []
  },
  {
   "cell_type": "code",
   "execution_count": null,
   "id": "a9f417ad",
   "metadata": {},
   "outputs": [],
   "source": []
  },
  {
   "cell_type": "code",
   "execution_count": null,
   "id": "217922d4",
   "metadata": {},
   "outputs": [],
   "source": []
  },
  {
   "cell_type": "code",
   "execution_count": null,
   "id": "be7187d8",
   "metadata": {},
   "outputs": [],
   "source": []
  },
  {
   "cell_type": "code",
   "execution_count": null,
   "id": "612779df",
   "metadata": {},
   "outputs": [],
   "source": []
  },
  {
   "cell_type": "code",
   "execution_count": null,
   "id": "393aab00",
   "metadata": {},
   "outputs": [],
   "source": []
  },
  {
   "cell_type": "code",
   "execution_count": null,
   "id": "d54a5ca1",
   "metadata": {},
   "outputs": [],
   "source": []
  },
  {
   "cell_type": "code",
   "execution_count": null,
   "id": "7413f2a6",
   "metadata": {},
   "outputs": [],
   "source": []
  },
  {
   "cell_type": "code",
   "execution_count": null,
   "id": "50056eb7",
   "metadata": {},
   "outputs": [],
   "source": []
  },
  {
   "cell_type": "code",
   "execution_count": null,
   "id": "09d8805b",
   "metadata": {},
   "outputs": [],
   "source": []
  },
  {
   "cell_type": "code",
   "execution_count": null,
   "id": "f2b32c78",
   "metadata": {},
   "outputs": [],
   "source": []
  },
  {
   "cell_type": "code",
   "execution_count": null,
   "id": "a684cc61",
   "metadata": {},
   "outputs": [],
   "source": []
  },
  {
   "cell_type": "code",
   "execution_count": null,
   "id": "b11a337e",
   "metadata": {},
   "outputs": [],
   "source": []
  },
  {
   "cell_type": "code",
   "execution_count": null,
   "id": "a0a81b91",
   "metadata": {},
   "outputs": [],
   "source": []
  },
  {
   "cell_type": "code",
   "execution_count": null,
   "id": "cbd3814b",
   "metadata": {},
   "outputs": [],
   "source": []
  },
  {
   "cell_type": "code",
   "execution_count": null,
   "id": "65c84218",
   "metadata": {},
   "outputs": [],
   "source": []
  },
  {
   "cell_type": "code",
   "execution_count": null,
   "id": "b75df5be",
   "metadata": {},
   "outputs": [],
   "source": []
  }
 ],
 "metadata": {
  "kernelspec": {
   "display_name": "Python 3 (ipykernel)",
   "language": "python",
   "name": "python3"
  },
  "language_info": {
   "codemirror_mode": {
    "name": "ipython",
    "version": 3
   },
   "file_extension": ".py",
   "mimetype": "text/x-python",
   "name": "python",
   "nbconvert_exporter": "python",
   "pygments_lexer": "ipython3",
   "version": "3.9.13"
  },
  "varInspector": {
   "cols": {
    "lenName": 16,
    "lenType": 16,
    "lenVar": 40
   },
   "kernels_config": {
    "python": {
     "delete_cmd_postfix": "",
     "delete_cmd_prefix": "del ",
     "library": "var_list.py",
     "varRefreshCmd": "print(var_dic_list())"
    },
    "r": {
     "delete_cmd_postfix": ") ",
     "delete_cmd_prefix": "rm(",
     "library": "var_list.r",
     "varRefreshCmd": "cat(var_dic_list()) "
    }
   },
   "types_to_exclude": [
    "module",
    "function",
    "builtin_function_or_method",
    "instance",
    "_Feature"
   ],
   "window_display": false
  }
 },
 "nbformat": 4,
 "nbformat_minor": 5
}
