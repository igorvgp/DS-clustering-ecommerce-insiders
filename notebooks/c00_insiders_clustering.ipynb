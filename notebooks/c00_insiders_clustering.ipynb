{
 "cells": [
  {
   "cell_type": "markdown",
   "id": "f914a8bc",
   "metadata": {},
   "source": [
    "# pa005: High Value Customer Identification (Insiders)"
   ]
  },
  {
   "cell_type": "markdown",
   "id": "d80bfa4c",
   "metadata": {},
   "source": [
    "## 0.0. Solution Plan (IOT)"
   ]
  },
  {
   "cell_type": "markdown",
   "id": "e3c929b7",
   "metadata": {},
   "source": [
    " ### 0.1. Input"
   ]
  },
  {
   "cell_type": "markdown",
   "id": "94031568",
   "metadata": {},
   "source": [
    "1. Business problem\n",
    "    - Select the most valuable costumers to join a loyalty program called \"Insiders\"\n",
    "    \n",
    "\n",
    "2. Data\n",
    "    - Sales during the period of one year"
   ]
  },
  {
   "cell_type": "markdown",
   "id": "6110a668",
   "metadata": {},
   "source": [
    " ### 0.2. Output"
   ]
  },
  {
   "cell_type": "markdown",
   "id": "04213346",
   "metadata": {},
   "source": [
    "1. Refer some people elegible to be part of the loyalty program\n",
    "            | client_id | is_insider | \n",
    "            | 20394     | yes(1)     |\n",
    "            | 23948     | no (0)     |"
   ]
  },
  {
   "cell_type": "markdown",
   "id": "3fe7af11",
   "metadata": {},
   "source": [
    " ### 0.3. Tasks"
   ]
  },
  {
   "cell_type": "markdown",
   "id": "9a350cbc",
   "metadata": {},
   "source": [
    "1. who are the people eligible for the loyalty program?\n",
    "    - What does \"being elegible\" mean? Who are the \"valuable customers\"?\n",
    "        - Invoicing:\n",
    "            - High ATP\n",
    "            - High LTV\n",
    "            - Low recency\n",
    "            - High basket size\n",
    "            - Low probability of churn\n",
    "        - Cost:\n",
    "            - Low product return rate\n",
    "        - Shopping Experience:       \n",
    "            - High average rating\n",
    "            \n",
    "        \n",
    "2. How many customers will be able to join the group?\n",
    "    - Total number of customers\n",
    "    - % Insiders Group\n",
    "3. What are the main features of these customers?\n",
    "        -  Age\n",
    "        - Location\n",
    "4. How much do the Insiders contribute to the total billing amount?\n",
    "    - Total billing amout\n",
    "    - % Insiders billing\n",
    "5. Whet is the Insider's billing forecast for the coming months?\n",
    "    - LTV Insiders group\n",
    "    - Cohort analysis\n",
    "6. What are the conditions to someone be elegible to the Insiders group?\n",
    "    - The person has to be similar to the others in the group\n",
    "8. How to ensure that the Insiders program is better tha the current model?\n",
    "    - A/B test\n",
    "    - Bayesian A/B test\n",
    "    - Hypotesis test\n",
    "9. What are the marketing plans for this group?\n",
    "    - Discounts\n",
    "    - Purchase preference\n",
    "    - Free shipping"
   ]
  },
  {
   "cell_type": "markdown",
   "id": "91ef4fad",
   "metadata": {},
   "source": [
    "## 0.1. Solutions Benchmark"
   ]
  },
  {
   "cell_type": "markdown",
   "id": "9cb1a0ac",
   "metadata": {},
   "source": [
    "### Desk Research"
   ]
  }
 ],
 "metadata": {
  "celltoolbar": "Slideshow",
  "kernelspec": {
   "display_name": "Python 3 (ipykernel)",
   "language": "python",
   "name": "python3"
  },
  "language_info": {
   "codemirror_mode": {
    "name": "ipython",
    "version": 3
   },
   "file_extension": ".py",
   "mimetype": "text/x-python",
   "name": "python",
   "nbconvert_exporter": "python",
   "pygments_lexer": "ipython3",
   "version": "3.9.13"
  },
  "varInspector": {
   "cols": {
    "lenName": 16,
    "lenType": 16,
    "lenVar": 40
   },
   "kernels_config": {
    "python": {
     "delete_cmd_postfix": "",
     "delete_cmd_prefix": "del ",
     "library": "var_list.py",
     "varRefreshCmd": "print(var_dic_list())"
    },
    "r": {
     "delete_cmd_postfix": ") ",
     "delete_cmd_prefix": "rm(",
     "library": "var_list.r",
     "varRefreshCmd": "cat(var_dic_list()) "
    }
   },
   "types_to_exclude": [
    "module",
    "function",
    "builtin_function_or_method",
    "instance",
    "_Feature"
   ],
   "window_display": false
  }
 },
 "nbformat": 4,
 "nbformat_minor": 5
}
