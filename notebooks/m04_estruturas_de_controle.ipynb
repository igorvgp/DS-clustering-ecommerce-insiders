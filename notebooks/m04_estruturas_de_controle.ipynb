{
 "cells": [
  {
   "cell_type": "markdown",
   "id": "9914408b",
   "metadata": {},
   "source": [
    "## Adicionando filtros Interativos"
   ]
  },
  {
   "cell_type": "raw",
   "id": "4f7b92a9",
   "metadata": {
    "ExecuteTime": {
     "end_time": "2022-11-29T13:20:49.258086Z",
     "start_time": "2022-11-29T13:20:48.252124Z"
    }
   },
   "source": [
    "import pandas as pd\n",
    "import numpy as np\n",
    "pd.set_option('display.float_format', lambda x: '%.2f' % x)\n",
    "\n",
    "import ipywidgets as widgets\n",
    "from ipywidgets import fixed\n",
    "\n",
    "import seaborn as sns\n",
    "\n",
    "from matplotlib import gridspec\n",
    "from matplotlib import pyplot as plt\n",
    "import plotly.express as px\n",
    "import plotly.offline as pyo\n",
    "pyo.init_notebook_mode()\n",
    "\n",
    "from plotly.subplots import make_subplots\n",
    "import plotly.graph_objects as go\n",
    "\n",
    "from geopy.geocoders import Nominatim\n",
    "import time\n",
    "from multiprocessing import Pool\n",
    "\n",
    "import warnings\n",
    "warnings.filterwarnings('ignore')"
   ]
  },
  {
   "cell_type": "code",
   "execution_count": 2,
   "id": "2798eb9e",
   "metadata": {
    "ExecuteTime": {
     "end_time": "2022-11-29T13:20:49.322279Z",
     "start_time": "2022-11-29T13:20:49.261214Z"
    }
   },
   "outputs": [],
   "source": [
    "df = pd.read_csv('../data/kc_house_data.csv')\n",
    "\n",
    "df['is_waterfront'] =df['waterfront'].apply( lambda x: 'yes' if x == 1 else 'no' )\n",
    "\n",
    "# Define level\n",
    "df['level'] = df['price'].apply(lambda x: 0 if x < 321950 else\n",
    "                                          1 if (x >= 321950) & (x < 450000) else\n",
    "                                          2 if (x >= 450000) & (x < 645000) else\n",
    "                                          3\n",
    "                                    )\n",
    "df['level'] = df['level'].astype( int )"
   ]
  },
  {
   "cell_type": "code",
   "execution_count": 3,
   "id": "db6c1bac",
   "metadata": {
    "ExecuteTime": {
     "end_time": "2022-11-29T13:20:49.715919Z",
     "start_time": "2022-11-29T13:20:49.324340Z"
    }
   },
   "outputs": [],
   "source": [
    "# Interative buttons\n",
    "price_limit = widgets.IntSlider(value = 540000,\n",
    "                                min = 75000,\n",
    "                                max = 7700000,\n",
    "                                step = 1,\n",
    "                                description = 'Maximum price',\n",
    "                                disable = False,\n",
    "                                )\n",
    "\n",
    "waterfront_bar = widgets.Dropdown(options = df['is_waterfront'].unique().tolist(),\n",
    "                                  value = 'yes',\n",
    "                                  description = 'Water View',\n",
    "                                  disable = False                                    \n",
    "                                  )"
   ]
  },
  {
   "cell_type": "code",
   "execution_count": 4,
   "id": "ec35264c",
   "metadata": {
    "ExecuteTime": {
     "end_time": "2022-11-29T13:20:50.054739Z",
     "start_time": "2022-11-29T13:20:49.720081Z"
    }
   },
   "outputs": [],
   "source": [
    "def update_map(df, waterfront_bar, price_limit):\n",
    "    houses = df[(df['price'] <= price_limit) & (df['is_waterfront'] == waterfront_bar)][['id', 'lat', 'long', 'price', 'level']]\n",
    "\n",
    "    fig = px.scatter_mapbox( houses,\n",
    "                            lat = 'lat',\n",
    "                            lon = 'long',\n",
    "                            color = 'level',\n",
    "                            size = 'price',\n",
    "                            color_continuous_scale = px.colors.cyclical.IceFire,\n",
    "                            size_max = 15,\n",
    "                            zoom = 10 )\n",
    "\n",
    "    fig.update_layout( mapbox_style = 'open-street-map' )\n",
    "    fig.update_layout( height = 800, margin = {'r':0, 't':0, 'l':0, 'b':0})\n",
    "    fig.show()"
   ]
  },
  {
   "cell_type": "code",
   "execution_count": 5,
   "id": "3eb3435e",
   "metadata": {
    "ExecuteTime": {
     "end_time": "2022-11-29T13:20:50.601340Z",
     "start_time": "2022-11-29T13:20:50.061828Z"
    },
    "scrolled": false
   },
   "outputs": [
    {
     "data": {
      "application/vnd.jupyter.widget-view+json": {
       "model_id": "1b10e4e9efcc4674b2986e99c79a02d8",
       "version_major": 2,
       "version_minor": 0
      },
      "text/plain": [
       "interactive(children=(Dropdown(description='Water View', index=1, options=('no', 'yes'), value='yes'), IntSlid…"
      ]
     },
     "execution_count": 5,
     "metadata": {},
     "output_type": "execute_result"
    }
   ],
   "source": [
    "widgets.interactive(update_map, df = fixed( df ), waterfront_bar = waterfront_bar, price_limit = price_limit)"
   ]
  },
  {
   "cell_type": "markdown",
   "id": "cf10e4d9",
   "metadata": {},
   "source": [
    "## Interatividade com o Dashboard"
   ]
  },
  {
   "cell_type": "code",
   "execution_count": 6,
   "id": "4dbd4e24",
   "metadata": {
    "ExecuteTime": {
     "end_time": "2022-11-29T13:20:50.934530Z",
     "start_time": "2022-11-29T13:20:50.604464Z"
    }
   },
   "outputs": [],
   "source": [
    "df = pd.read_csv('../data/kc_house_data.csv')\n",
    "\n",
    "# Change date format\n",
    "df['year'] = pd.to_datetime( df['date'] ).dt.strftime( '%Y' )\n",
    "df['date'] = pd.to_datetime( df['date'] ).dt.strftime( '%Y-%m-%d' )\n",
    "df['year_week'] = pd.to_datetime( df['date'] ).dt.strftime( '%Y-%U' )\n",
    "\n",
    "# Widgets para controlar os dados\n",
    "date_limit = widgets.SelectionSlider(options = df['date'].sort_values().unique().tolist(),\n",
    "                                     value = '2014-12-01',\n",
    "                                     description = 'Disponível',\n",
    "                                     continuous_update = False,\n",
    "                                     orientation = 'horizontal',\n",
    "                                     readout = True\n",
    "                                     )\n",
    "\n",
    "def update_map( df, limit ):\n",
    "    # Filtrar dados\n",
    "    df = df[df['date'] <= limit].copy()\n",
    "    \n",
    "    fig = plt.figure(figsize = (21,12) ) \n",
    "    specs = gridspec.GridSpec( ncols = 2, nrows = 2, figure = fig )\n",
    "    \n",
    "    ax1 = fig.add_subplot( specs[ 0, : ] ) # Primeira linha\n",
    "    ax2 = fig.add_subplot( specs[ 1, 0 ] ) # Segunda linha e primeira coluna\n",
    "    ax3 = fig.add_subplot( specs[ 1, 1 ] ) # Segunda linha e segunda coluna\n",
    "    \n",
    "    by_year = df[['id','year']].groupby('year').sum().reset_index()\n",
    "    sns.barplot(x = 'year', y = 'id', data = by_year, ax = ax1 )\n",
    "    \n",
    "    by_day = df[['id','date']].groupby('date').mean().reset_index()\n",
    "    sns.lineplot( x = 'date', y = 'id', data = by_day, ax = ax2 )\n",
    "    ax2.set_title( 'AVG Price by Day')\n",
    "    \n",
    "    by_week_of_year = df[['id','year_week']].groupby('year_week').mean().reset_index()\n",
    "    sns.barplot( x = 'year_week',y = 'id', data = by_week_of_year, ax  = ax3 )\n",
    "    ax3.set_title( 'AVG Price by Week of Year')\n",
    "    plt.xticks( rotation = 60 );"
   ]
  },
  {
   "cell_type": "code",
   "execution_count": 7,
   "id": "d76fb5e5",
   "metadata": {
    "ExecuteTime": {
     "end_time": "2022-11-29T13:20:52.616837Z",
     "start_time": "2022-11-29T13:20:50.937446Z"
    }
   },
   "outputs": [
    {
     "data": {
      "application/vnd.jupyter.widget-view+json": {
       "model_id": "03b0d71bc5eb4ccf9cdf24ca56843538",
       "version_major": 2,
       "version_minor": 0
      },
      "text/plain": [
       "interactive(children=(SelectionSlider(continuous_update=False, description='Disponível', index=212, options=('…"
      ]
     },
     "execution_count": 7,
     "metadata": {},
     "output_type": "execute_result"
    }
   ],
   "source": [
    "widgets.interactive( update_map, df = fixed(df),\n",
    "                     limit          = date_limit,\n",
    "                   )"
   ]
  },
  {
   "cell_type": "markdown",
   "id": "daa748f2",
   "metadata": {},
   "source": [
    "# Perguntas do CEO\n",
    "\n",
    "1. Qual a média do preço de compra dos imóveis por nível?\n",
    "    - Nível 0: preço entre  0.00 e  321.950 dólares\n",
    "    - Nível 1: preço entre  321.950 e  450.000 dólares\n",
    "    - Nível 2: preço entre  450.000 e  645.000 dólares\n",
    "    - Nível 3: Preço acima de  645.000 dólares\n",
    "    \n",
    "\n",
    "2. Qual a média do tamanho da sala de estar dos imóveis por Size?\n",
    "    - Size 0 -> Tamanho entre 0 e 1427 sqft\n",
    "    - Size 1 -> Tamanho entre 1427 e 1910 sqft\n",
    "    - Size 2 -> Tamanho entre 1910 e 2550 sqft\n",
    "    - Size 3 -> Tamanho acima de 2550 sqft\n",
    "    \n",
    "    \n",
    "3. Adicione as seguintes informações ao conjunto de dados original:\n",
    "    - Place ID: Identificação da localização\n",
    "    - OSM Type: Open Street Map type\n",
    "    - Country: Nome do país\n",
    "    - Country Code: Código do País\n",
    "\n",
    "\n",
    "4. Adicione os seguintes filtros no Mapa:\n",
    "    - Tamanho mínimo da área da sala de estar\n",
    "    - Número mínimo de banheiros\n",
    "    - Valor máximo do preço\n",
    "    - Tamanho máximo da área do porão\n",
    "    - Filtro das Condições do imóvel\n",
    "    - Filtro por ano de construção\n",
    "    \n",
    "    \n",
    "5. Adicione os seguintes filtros no Dashboard:\n",
    "    - Filtro por data disponível para compra\n",
    "    - Filtro por ano de renovação\n",
    "    - Filtro se possui vista para água ou não"
   ]
  },
  {
   "cell_type": "code",
   "execution_count": 8,
   "id": "ca7db53c",
   "metadata": {
    "ExecuteTime": {
     "end_time": "2022-11-29T13:20:52.662881Z",
     "start_time": "2022-11-29T13:20:52.620071Z"
    }
   },
   "outputs": [],
   "source": [
    "df = pd.read_csv('../data/kc_house_data.csv')"
   ]
  },
  {
   "cell_type": "markdown",
   "id": "f788f4ba",
   "metadata": {},
   "source": [
    "## 1. Qual a média do preço de compra dos imóveis por nível?\n",
    "    - Nível 0: preço entre  0.00 e  321.950 dólares\n",
    "    - Nível 1: preço entre  321.950 e  450.000 dólares\n",
    "    - Nível 2: preço entre  450.000 e  645.000 dólares\n",
    "    - Nível 3: Preço acima de  645.000 dólares"
   ]
  },
  {
   "cell_type": "code",
   "execution_count": 9,
   "id": "ec915d8a",
   "metadata": {
    "ExecuteTime": {
     "end_time": "2022-11-29T13:20:53.029640Z",
     "start_time": "2022-11-29T13:20:52.666652Z"
    }
   },
   "outputs": [
    {
     "data": {
      "text/html": [
       "<div>\n",
       "<style scoped>\n",
       "    .dataframe tbody tr th:only-of-type {\n",
       "        vertical-align: middle;\n",
       "    }\n",
       "\n",
       "    .dataframe tbody tr th {\n",
       "        vertical-align: top;\n",
       "    }\n",
       "\n",
       "    .dataframe thead th {\n",
       "        text-align: right;\n",
       "    }\n",
       "</style>\n",
       "<table border=\"1\" class=\"dataframe\">\n",
       "  <thead>\n",
       "    <tr style=\"text-align: right;\">\n",
       "      <th></th>\n",
       "      <th>price</th>\n",
       "    </tr>\n",
       "    <tr>\n",
       "      <th>level</th>\n",
       "      <th></th>\n",
       "    </tr>\n",
       "  </thead>\n",
       "  <tbody>\n",
       "    <tr>\n",
       "      <th>0</th>\n",
       "      <td>251544.62</td>\n",
       "    </tr>\n",
       "    <tr>\n",
       "      <th>1</th>\n",
       "      <td>383585.21</td>\n",
       "    </tr>\n",
       "    <tr>\n",
       "      <th>2</th>\n",
       "      <td>536164.42</td>\n",
       "    </tr>\n",
       "    <tr>\n",
       "      <th>3</th>\n",
       "      <td>985008.98</td>\n",
       "    </tr>\n",
       "  </tbody>\n",
       "</table>\n",
       "</div>"
      ],
      "text/plain": [
       "          price\n",
       "level          \n",
       "0     251544.62\n",
       "1     383585.21\n",
       "2     536164.42\n",
       "3     985008.98"
      ]
     },
     "execution_count": 9,
     "metadata": {},
     "output_type": "execute_result"
    }
   ],
   "source": [
    "df['level'] = df['price'].apply(lambda x: 0 if x  <  321950.0 else\n",
    "                            1 if (x >= 321950.0 and x < 450000.0) else\n",
    "                            2 if (x >= 450000.0 and x < 645000.0) else 3 )\n",
    "df[['level','price']].groupby('level').mean()                              "
   ]
  },
  {
   "cell_type": "markdown",
   "id": "016a1e7e",
   "metadata": {},
   "source": [
    "## 2. Qual a média do tamanho da sala de estar dos imóveis por Size?\n",
    "    - Size 0 -> Tamanho entre 0 e 1427 sqft\n",
    "    - Size 1 -> Tamanho entre 1427 e 1910 sqft\n",
    "    - Size 2 -> Tamanho entre 1910 e 2550 sqft\n",
    "    - Size 3 -> Tamanho acima de 2550 sqft"
   ]
  },
  {
   "cell_type": "code",
   "execution_count": 10,
   "id": "35242f01",
   "metadata": {
    "ExecuteTime": {
     "end_time": "2022-11-29T13:20:53.328211Z",
     "start_time": "2022-11-29T13:20:53.033657Z"
    },
    "scrolled": true
   },
   "outputs": [
    {
     "data": {
      "text/html": [
       "<div>\n",
       "<style scoped>\n",
       "    .dataframe tbody tr th:only-of-type {\n",
       "        vertical-align: middle;\n",
       "    }\n",
       "\n",
       "    .dataframe tbody tr th {\n",
       "        vertical-align: top;\n",
       "    }\n",
       "\n",
       "    .dataframe thead th {\n",
       "        text-align: right;\n",
       "    }\n",
       "</style>\n",
       "<table border=\"1\" class=\"dataframe\">\n",
       "  <thead>\n",
       "    <tr style=\"text-align: right;\">\n",
       "      <th></th>\n",
       "      <th>sqft_living</th>\n",
       "    </tr>\n",
       "    <tr>\n",
       "      <th>living_type</th>\n",
       "      <th></th>\n",
       "    </tr>\n",
       "  </thead>\n",
       "  <tbody>\n",
       "    <tr>\n",
       "      <th>0</th>\n",
       "      <td>1123.78</td>\n",
       "    </tr>\n",
       "    <tr>\n",
       "      <th>1</th>\n",
       "      <td>1661.20</td>\n",
       "    </tr>\n",
       "    <tr>\n",
       "      <th>2</th>\n",
       "      <td>2202.70</td>\n",
       "    </tr>\n",
       "    <tr>\n",
       "      <th>3</th>\n",
       "      <td>3318.99</td>\n",
       "    </tr>\n",
       "  </tbody>\n",
       "</table>\n",
       "</div>"
      ],
      "text/plain": [
       "             sqft_living\n",
       "living_type             \n",
       "0                1123.78\n",
       "1                1661.20\n",
       "2                2202.70\n",
       "3                3318.99"
      ]
     },
     "execution_count": 10,
     "metadata": {},
     "output_type": "execute_result"
    }
   ],
   "source": [
    "df['living_type'] = df['sqft_living'].apply(lambda x: 0 if x  <  1427 else\n",
    "                            1 if (x >= 1427 and x < 1910) else\n",
    "                            2 if (x >= 1910 and x < 2550) else 3 )\n",
    "df[['living_type','sqft_living']].groupby('living_type').mean()     "
   ]
  },
  {
   "cell_type": "markdown",
   "id": "ba402f1f",
   "metadata": {},
   "source": [
    "## 3. Adicione as seguintes informações ao conjunto de dados original:\n",
    "    - Place ID: Identificação da localização\n",
    "    - OSM Type: Open Street Map type\n",
    "    - Country: Nome do país\n",
    "    - Country Code: Código do País\n",
    "    \n",
    "#### Utilizando processamento paralelo "
   ]
  },
  {
   "cell_type": "code",
   "execution_count": 11,
   "id": "be44c4d9",
   "metadata": {
    "ExecuteTime": {
     "end_time": "2022-11-29T13:20:53.621461Z",
     "start_time": "2022-11-29T13:20:53.332538Z"
    }
   },
   "outputs": [],
   "source": [
    "aux = df.loc[:,['id','lat','long']].sample(30)\n",
    "aux['lat+long'] = aux['lat'].astype( str ) + \",\" + aux['long'].astype( str )\n",
    "aux = aux[['id', 'lat+long']]"
   ]
  },
  {
   "cell_type": "code",
   "execution_count": 12,
   "id": "2a768274",
   "metadata": {
    "ExecuteTime": {
     "end_time": "2022-11-29T13:20:54.008239Z",
     "start_time": "2022-11-29T13:20:53.625927Z"
    }
   },
   "outputs": [],
   "source": [
    "# Iniciar Nominatim API\n",
    "#geolocator = Nominatim(user_agent = 'geoapiExercises', timeout = None)\n",
    "#import time\n",
    "#from geopy.geocoders import Nominatim\n",
    "\n",
    "#def get_data( x ):\n",
    "#    index, row = x  # Necessário pois o df foi transformado em iterrows()\n",
    "#    time.sleep( 1 ) # Necessário para evitar loop infinito\n",
    "    \n",
    "#    # Chamada API\n",
    "#    response = geolocator.reverse(x).raw\n",
    "#    address = response['address']\n",
    "    \n",
    "#    place_id = response['place_id']        if 'place_id'     in response else \"NA\"\n",
    "#    osm_type = response['osm_type']        if 'osm_type'     in response else \"NA\"\n",
    "#    country = address['country']           if 'country'      in address  else \"NA\"\n",
    "#    country_code = address['country_code'] if 'country_code' in address  else \"NA\"\n",
    "    \n",
    "#    return place_id, osm_type, country, country_code"
   ]
  },
  {
   "cell_type": "code",
   "execution_count": 13,
   "id": "6167d7a7",
   "metadata": {
    "ExecuteTime": {
     "end_time": "2022-11-29T13:21:16.380490Z",
     "start_time": "2022-11-29T13:20:54.010959Z"
    }
   },
   "outputs": [
    {
     "name": "stdout",
     "output_type": "stream",
     "text": [
      "Time Elapsed:  0.027853145999999995\n"
     ]
    }
   ],
   "source": [
    "import defs\n",
    "\n",
    "p = Pool ( 3 )\n",
    "\n",
    "start = time.process_time()\n",
    "aux[['place_id', 'osm_type', 'country', 'country_code']] = p.map( defs.get_data, aux.iterrows() )\n",
    "end = time.process_time()\n",
    "\n",
    "print(\"Time Elapsed: \", end - start)"
   ]
  },
  {
   "cell_type": "markdown",
   "id": "0431725d",
   "metadata": {},
   "source": [
    "## 4. Adicione os seguintes filtros no Mapa:\n",
    "    - Tamanho mínimo da área da sala de estar\n",
    "    - Número mínimo de banheiros\n",
    "    - Valor máximo do preço\n",
    "    - Tamanho máximo da área do porão\n",
    "    - Filtro das Condições do imóvel\n",
    "    - Filtro por ano de construção"
   ]
  },
  {
   "cell_type": "code",
   "execution_count": 14,
   "id": "1f912c65",
   "metadata": {
    "ExecuteTime": {
     "end_time": "2022-11-29T13:21:16.490906Z",
     "start_time": "2022-11-29T13:21:16.394278Z"
    }
   },
   "outputs": [],
   "source": [
    "min_living = widgets.SelectionSlider( options = df['sqft_living'].sort_values().unique().tolist(),\n",
    "                                      value = df['sqft_living'].min(),\n",
    "                                      disabled = False,\n",
    "                                      orientation = 'horizontal',\n",
    "                                      continuous_update = False,\n",
    "                                      readout = True,\n",
    "                                      description = 'Living Room Size')\n",
    "\n",
    "min_bathrooms = widgets.SelectionSlider( options = df['bathrooms'].sort_values().unique().tolist(),\n",
    "                                         value = df['bathrooms'].min(),\n",
    "                                         disabled = False,\n",
    "                                         orientation = 'horizontal',\n",
    "                                         continuous_update = False,\n",
    "                                         readout = True)\n",
    "\n",
    "max_price = widgets.IntSlider(  value = int( df['price'].mean() ),\n",
    "                                min   = int( df['price'].min() ),\n",
    "                                max   = int( df['price'].max() ),\n",
    "                                step  = 1,\n",
    "                                description = 'Max Price',\n",
    "                                )\n",
    "\n",
    "max_basement = widgets.SelectionSlider(  options = df['sqft_basement'].sort_values().unique().tolist(),\n",
    "                                         value = df['sqft_basement'].max(),\n",
    "                                         disabled = False,\n",
    "                                         orientation = 'horizontal',\n",
    "                                         continuous_update = False,\n",
    "                                         readout = True,\n",
    "                                         description = 'Basement Size')\n",
    "\n",
    "condition = widgets.Dropdown( options = df['condition'].sort_values().unique().tolist(),\n",
    "                              value = df['condition'].min(),\n",
    "                              description = 'House Condition',\n",
    "                              disable = False )\n",
    "\n",
    "yr_built = widgets.SelectionSlider( options = df['yr_built'].sort_values().unique().tolist(),\n",
    "                              value = df['yr_built'].min(),\n",
    "                              disabled = False,\n",
    "                              orientation = 'horizontal',\n",
    "                              continuous_update = False,\n",
    "                              readout = True,    \n",
    "                              description = 'Year Built')\n",
    "\n",
    "\n",
    "def update_map(data, living_filter, bathrooms_filter, basement_filter, price_filter, condition_filter, yr_built_filter):\n",
    "    max_level = data['level'].max()\n",
    "    min_level = data['level'].min()\n",
    "    df = data[['lat', 'long', 'price', 'level']][ (data['sqft_living'  ] >= living_filter   )  &\n",
    "                                                  (data['bathrooms'    ] >= bathrooms_filter)  &\n",
    "                                                  (data['sqft_basement'] <= basement_filter )  &\n",
    "                                                  (data['price'        ] <= price_filter    )  &\n",
    "                                                  (data['condition'    ] == condition_filter)  &\n",
    "                                                  (data['yr_built'     ] >= yr_built_filter )  &\n",
    "                                                  (data['bathrooms'    ] >= bathrooms_filter)]\n",
    "\n",
    "    fig = px.scatter_mapbox( data_frame = df,\n",
    "                             lat = 'lat',\n",
    "                             lon = 'long',\n",
    "                             color = 'level',\n",
    "                             range_color = [min_level, max_level],\n",
    "                             size = 'price',\n",
    "                             color_continuous_scale = 'deep',# px.colors.cyclical.IceFire,\n",
    "                             size_max = 15,\n",
    "                             zoom = 10 )\n",
    "    fig.update_layout( mapbox_style = 'open-street-map')\n",
    "    fig.update_layout( height = 600, margin = {'r':0,'t':0,'l':0,'b':0})\n",
    "    fig.show()"
   ]
  },
  {
   "cell_type": "code",
   "execution_count": 15,
   "id": "6a266a59",
   "metadata": {
    "ExecuteTime": {
     "end_time": "2022-11-29T13:21:16.889599Z",
     "start_time": "2022-11-29T13:21:16.493390Z"
    },
    "scrolled": false
   },
   "outputs": [
    {
     "data": {
      "application/vnd.jupyter.widget-view+json": {
       "model_id": "02e03c0249944c88be2bb9579016f66b",
       "version_major": 2,
       "version_minor": 0
      },
      "text/plain": [
       "interactive(children=(SelectionSlider(continuous_update=False, description='Living Room Size', options=(290, 3…"
      ]
     },
     "execution_count": 15,
     "metadata": {},
     "output_type": "execute_result"
    }
   ],
   "source": [
    "widgets.interactive( update_map, data = fixed(df),\n",
    "                     living_filter    = min_living,\n",
    "                     bathrooms_filter = min_bathrooms,\n",
    "                     basement_filter  = max_basement,\n",
    "                     price_filter     = max_price,\n",
    "                     condition_filter = condition,\n",
    "                     yr_built_filter  = yr_built       )"
   ]
  },
  {
   "cell_type": "markdown",
   "id": "ceafd5dc",
   "metadata": {},
   "source": [
    "## 5. Adicione os seguintes filtros no Dashboard:\n",
    "    - Filtro por data disponível para compra\n",
    "    - Filtro por ano de renovação\n",
    "    - Filtro se possui vista para água ou não"
   ]
  },
  {
   "cell_type": "code",
   "execution_count": 16,
   "id": "b97a0d0e",
   "metadata": {
    "ExecuteTime": {
     "end_time": "2022-11-29T13:21:17.551823Z",
     "start_time": "2022-11-29T13:21:16.892509Z"
    }
   },
   "outputs": [],
   "source": [
    "df = pd.read_csv('../data/kc_house_data.csv')\n",
    "df['is_waterfront'] = df['waterfront'].apply( lambda x: 'yes' if x == 1 else 'no' )\n",
    "\n",
    "# Change date format\n",
    "df['year'] = pd.to_datetime( df['date'] ).dt.strftime( '%Y' )\n",
    "df['year_week'] = pd.to_datetime( df['date'] ).dt.strftime( '%Y-%U' )\n",
    "df['date'] = pd.to_datetime( df['date'] ).dt.strftime( '%Y-%m-%d' )\n",
    "df['is_waterfront'] = df['waterfront'].apply(lambda x: \"No\" if x == 0 else \"Yes\")\n",
    "\n",
    "date_filter = widgets.SelectionSlider(options = df['date'].sort_values().unique().tolist(),\n",
    "                                      value = '2014-12-01',\n",
    "                                      orientation = 'horizontal',\n",
    "                                      description = \"Min Date\",\n",
    "                                      continuous_update = False,\n",
    "                                      readout = True)\n",
    "yr_renovated = widgets.SelectionSlider(options = df['yr_renovated'].sort_values().unique().tolist(),\n",
    "                                      value = df['yr_renovated'].min(),\n",
    "                                      disabled = False,\n",
    "                                      orientation = 'horizontal',\n",
    "                                      description = \"Yr Renovated\",\n",
    "                                      continuous_update = False,\n",
    "                                      readout = True)\n",
    "is_waterfront = widgets.Dropdown(options = df['is_waterfront'].unique().tolist(),   \n",
    "                                 disabled = False,\n",
    "                                 description = \"Waterfront\"                             \n",
    "                                )\n",
    "\n",
    "\n",
    "# Widgets para controlar os dados\n",
    "\n",
    "\n",
    "def update_map( df, date_filter, yr_renovated, is_waterfront):\n",
    "    # Filtrar dados\n",
    "    df = df[(df['date'] <= date_filter) &\n",
    "            (df['yr_renovated'] >= yr_renovated) &\n",
    "            (df['is_waterfront'] == is_waterfront)].copy()\n",
    "    \n",
    "    fig = plt.figure(figsize = (21,12) ) \n",
    "    specs = gridspec.GridSpec( ncols = 2, nrows = 2, figure = fig )\n",
    "    \n",
    "    ax1 = fig.add_subplot( specs[ 0, : ] ) # Primeira linha\n",
    "    ax2 = fig.add_subplot( specs[ 1, 0 ] ) # Segunda linha e primeira coluna\n",
    "    ax3 = fig.add_subplot( specs[ 1, 1 ] ) # Segunda linha e segunda coluna\n",
    "    \n",
    "    by_year = df[['id','year']].groupby('year').sum().reset_index()\n",
    "    sns.barplot(x = 'year', y = 'id', data = by_year, ax = ax1 )\n",
    "    \n",
    "    by_day = df[['id','date']].groupby('date').mean().reset_index()\n",
    "    sns.lineplot( x = 'date', y = 'id', data = by_day, ax = ax2 )\n",
    "    ax2.set_title( 'AVG Price by Day')\n",
    "    \n",
    "    by_week_of_year = df[['id','year_week']].groupby('year_week').mean().reset_index()\n",
    "    sns.barplot( x = 'year_week',y = 'id', data = by_week_of_year, ax  = ax3 )\n",
    "    ax3.set_title( 'AVG Price by Week of Year')\n",
    "    plt.xticks( rotation = 60 );"
   ]
  },
  {
   "cell_type": "code",
   "execution_count": 17,
   "id": "337ac8a1",
   "metadata": {
    "ExecuteTime": {
     "end_time": "2022-11-29T13:21:19.345486Z",
     "start_time": "2022-11-29T13:21:17.553849Z"
    },
    "scrolled": false
   },
   "outputs": [
    {
     "data": {
      "application/vnd.jupyter.widget-view+json": {
       "model_id": "749d27dcbde64811b692de2aedebaa1a",
       "version_major": 2,
       "version_minor": 0
      },
      "text/plain": [
       "interactive(children=(SelectionSlider(continuous_update=False, description='Min Date', index=212, options=('20…"
      ]
     },
     "execution_count": 17,
     "metadata": {},
     "output_type": "execute_result"
    }
   ],
   "source": [
    "widgets.interactive(update_map, df = fixed( df ),\n",
    "                    date_filter = date_filter,\n",
    "                    yr_renovated = yr_renovated,\n",
    "                    is_waterfront = is_waterfront)"
   ]
  }
 ],
 "metadata": {
  "kernelspec": {
   "display_name": "Python 3 (ipykernel)",
   "language": "python",
   "name": "python3"
  },
  "language_info": {
   "codemirror_mode": {
    "name": "ipython",
    "version": 3
   },
   "file_extension": ".py",
   "mimetype": "text/x-python",
   "name": "python",
   "nbconvert_exporter": "python",
   "pygments_lexer": "ipython3",
   "version": "3.9.13"
  },
  "varInspector": {
   "cols": {
    "lenName": 16,
    "lenType": 16,
    "lenVar": 40
   },
   "kernels_config": {
    "python": {
     "delete_cmd_postfix": "",
     "delete_cmd_prefix": "del ",
     "library": "var_list.py",
     "varRefreshCmd": "print(var_dic_list())"
    },
    "r": {
     "delete_cmd_postfix": ") ",
     "delete_cmd_prefix": "rm(",
     "library": "var_list.r",
     "varRefreshCmd": "cat(var_dic_list()) "
    }
   },
   "types_to_exclude": [
    "module",
    "function",
    "builtin_function_or_method",
    "instance",
    "_Feature"
   ],
   "window_display": false
  }
 },
 "nbformat": 4,
 "nbformat_minor": 5
}
