{
 "cells": [
  {
   "cell_type": "markdown",
   "id": "d57894cf",
   "metadata": {
    "tags": [
     "papermill-error-cell-tag"
    ]
   },
   "source": [
    "<span style=\"color:red; font-family:Helvetica Neue, Helvetica, Arial, sans-serif; font-size:2em;\">An Exception was encountered at '<a href=\"#papermill-error-cell\">In [3]</a>'.</span>"
   ]
  },
  {
   "cell_type": "markdown",
   "id": "f914a8bc",
   "metadata": {
    "papermill": {
     "duration": 0.054039,
     "end_time": "2022-12-14T20:44:16.831843",
     "exception": false,
     "start_time": "2022-12-14T20:44:16.777804",
     "status": "completed"
    },
    "tags": []
   },
   "source": [
    "# pa005: High Value Customer Identification (Insiders)"
   ]
  },
  {
   "cell_type": "markdown",
   "id": "98d4b461",
   "metadata": {
    "papermill": {
     "duration": 0.016958,
     "end_time": "2022-12-14T20:44:16.885646",
     "exception": false,
     "start_time": "2022-12-14T20:44:16.868688",
     "status": "completed"
    },
    "tags": []
   },
   "source": [
    "# 0.0. Imports"
   ]
  },
  {
   "cell_type": "code",
   "execution_count": 1,
   "id": "13289320",
   "metadata": {
    "ExecuteTime": {
     "end_time": "2022-12-14T13:22:59.071601Z",
     "start_time": "2022-12-14T13:22:47.972157Z"
    },
    "execution": {
     "iopub.execute_input": "2022-12-14T20:44:16.922160Z",
     "iopub.status.busy": "2022-12-14T20:44:16.921540Z",
     "iopub.status.idle": "2022-12-14T20:44:23.132541Z",
     "shell.execute_reply": "2022-12-14T20:44:23.131079Z"
    },
    "papermill": {
     "duration": 6.233543,
     "end_time": "2022-12-14T20:44:23.136294",
     "exception": false,
     "start_time": "2022-12-14T20:44:16.902751",
     "status": "completed"
    },
    "tags": []
   },
   "outputs": [],
   "source": [
    "import pandas as pd\n",
    "import numpy as np\n",
    "import seaborn as sns\n",
    "import re\n",
    "\n",
    "from IPython.display         import Image\n",
    "\n",
    "from matplotlib              import pyplot       as plt\n",
    "from matplotlib              import gridspec\n",
    "from plotly                  import express      as px\n",
    "from IPython.display         import HTML\n",
    "\n",
    "import hdbscan\n",
    "import umap.umap_                                 as umap\n",
    "\n",
    "from sklearn                 import cluster       as c\n",
    "from sklearn                 import metrics       as m\n",
    "from sklearn                 import preprocessing as pp\n",
    "from sklearn                 import decomposition as dd\n",
    "from sklearn.manifold        import TSNE\n",
    "from sklearn.ensemble        import RandomForestRegressor\n",
    "from sklearn.neighbors       import NearestNeighbors\n",
    "from sklearn                 import mixture       as mx\n",
    "from scipy.cluster           import hierarchy     as hc\n",
    "\n",
    "\n",
    "from yellowbrick.cluster     import KElbowVisualizer, SilhouetteVisualizer\n",
    "\n",
    "import sqlite3\n",
    "from sqlalchemy              import create_engine\n",
    "\n",
    "import warnings\n",
    "warnings.filterwarnings('ignore')"
   ]
  },
  {
   "cell_type": "markdown",
   "id": "6cb4e166",
   "metadata": {
    "heading_collapsed": true,
    "papermill": {
     "duration": 0.021186,
     "end_time": "2022-12-14T20:44:23.179176",
     "exception": false,
     "start_time": "2022-12-14T20:44:23.157990",
     "status": "completed"
    },
    "tags": []
   },
   "source": [
    "## 0.1 Helper Functions"
   ]
  },
  {
   "cell_type": "code",
   "execution_count": 2,
   "id": "a8b3e1ce",
   "metadata": {
    "ExecuteTime": {
     "end_time": "2022-12-14T13:22:59.092842Z",
     "start_time": "2022-12-14T13:22:59.074866Z"
    },
    "execution": {
     "iopub.execute_input": "2022-12-14T20:44:23.260014Z",
     "iopub.status.busy": "2022-12-14T20:44:23.259533Z",
     "iopub.status.idle": "2022-12-14T20:44:23.280852Z",
     "shell.execute_reply": "2022-12-14T20:44:23.279721Z"
    },
    "hidden": true,
    "papermill": {
     "duration": 0.044551,
     "end_time": "2022-12-14T20:44:23.283293",
     "exception": false,
     "start_time": "2022-12-14T20:44:23.238742",
     "status": "completed"
    },
    "tags": []
   },
   "outputs": [],
   "source": [
    "def get_silhouettes( data, labels ):\n",
    "    \n",
    "    silhouette_scores = []\n",
    "\n",
    "    for label in labels:\n",
    "\n",
    "        # model performance\n",
    "            sil = m.silhouette_score( data, label, metric = 'euclidean' )\n",
    "            silhouette_scores.append( np.round(sil,2) )\n",
    "    \n",
    "    return silhouette_scores\n",
    "\n",
    "def plot_clusters( data, k, labels ):\n",
    "    \n",
    "    data = data.copy()\n",
    "    data.columns = ['embedding_x', 'embedding_y']\n",
    "    \n",
    "    nrows = len(k) // 4 if len(k) % 4 == 0 else (len(k)//4) + 1\n",
    "    fig = plt.figure(figsize = (21,18) ) \n",
    "    specs = gridspec.GridSpec( ncols = 4, nrows = nrows, figure = fig, wspace = .3, hspace = .3 )\n",
    "    \n",
    "    plots = []\n",
    "    \n",
    "    silhouettes = get_silhouettes( data, labels)\n",
    "    \n",
    "    for i in range(nrows):\n",
    "        for j in range(4):\n",
    "            ax = fig.add_subplot( specs[ i, j ] )\n",
    "            plots.append( ax )\n",
    "    \n",
    "    for i in range(len( k )):\n",
    "       \n",
    "        # model evaluation\n",
    "        sil = silhouettes[i]\n",
    "        \n",
    "        data['cluster'] = labels[i]\n",
    "        \n",
    "        sns.scatterplot(data = data, x='embedding_x',y='embedding_y', \n",
    "                        hue = 'cluster', palette = 'deep', \n",
    "                        ax = plots[i], legend = False)\n",
    "        \n",
    "        \n",
    "        title = \"Num. Clusters = \" + str(k[i]) + \" | Silhouette Score: \" + str(np.round(sil,2))\n",
    "        plots[i].set_title( title )\n",
    "        plots[i].set_xlabel(xlabel = \"\")\n",
    "        plots[i].set_ylabel(ylabel = \"\")\n",
    "\n",
    "        \n",
    "def best_silhouette( data, k, labels ):\n",
    "    \n",
    "    silhouettes = get_silhouettes( data = data, labels = labels )\n",
    "\n",
    "    plt.figure( figsize = ( 10, 6 ))\n",
    "    plt.plot( k, silhouettes, linestyle = '--', marker = 'o', color = 'b')\n",
    "    plt.xlabel( 'K' );\n",
    "    plt.ylabel( 'Silhouette Score' );\n",
    "    plt.title( 'Silhouette Score x K' );\n",
    "    \n",
    "\n",
    "def plot_cluster_silhouette(X, labels, k):\n",
    "    \n",
    "    fig, ax = plt.subplots( 1, 1 )\n",
    "    fig.set_size_inches( 8, 7 )\n",
    "\n",
    "    ax.set_xlim( [ -0.1, 1 ] )\n",
    "    ax.set_ylim( [ 0, len( X ) + ( k + 1 ) * 10] )\n",
    "    \n",
    "    samples_silhouette_values = m.silhouette_samples( X, labels )\n",
    "\n",
    "    y_lower = 10\n",
    "    for i in range( k ):\n",
    "\n",
    "        # select clusters\n",
    "        ith_samples_silhouette_values = samples_silhouette_values[ labels == i]\n",
    "        \n",
    "        # sort values\n",
    "        ith_samples_silhouette_values.sort()\n",
    "\n",
    "        # size clusters\n",
    "        size_cluster_i = ith_samples_silhouette_values.shape[0]\n",
    "        y_upper = y_lower + size_cluster_i\n",
    "        \n",
    "        cmap = plt.get_cmap( 'Spectral' )\n",
    "        color = cmap( i / k )\n",
    "\n",
    "        ax.fill_betweenx( np.arange( y_lower, y_upper ), 0, ith_samples_silhouette_values  )\n",
    "        \n",
    "        y_lower = y_upper + 10\n",
    "\n",
    "    ax.set_yticks([])\n",
    "    ax.set_xticks( [-0.1, 0, 0.2, 0.4, 0.6, 0.8, 1])\n",
    "    ax.legend( np.unique(labels) )\n",
    "    ax.set_title(\" Clusters Silhouettes\")"
   ]
  },
  {
   "cell_type": "markdown",
   "id": "db274fc1",
   "metadata": {
    "heading_collapsed": true,
    "papermill": {
     "duration": 0.019558,
     "end_time": "2022-12-14T20:44:23.322502",
     "exception": false,
     "start_time": "2022-12-14T20:44:23.302944",
     "status": "completed"
    },
    "tags": []
   },
   "source": [
    "## 0.2 Loading Dataset"
   ]
  },
  {
   "cell_type": "markdown",
   "id": "8d47cf4e",
   "metadata": {
    "tags": [
     "papermill-error-cell-tag"
    ]
   },
   "source": [
    "<span id=\"papermill-error-cell\" style=\"color:red; font-family:Helvetica Neue, Helvetica, Arial, sans-serif; font-size:2em;\">Execution using papermill encountered an exception here and stopped:</span>"
   ]
  },
  {
   "cell_type": "code",
   "execution_count": 3,
   "id": "64ef0cea",
   "metadata": {
    "ExecuteTime": {
     "end_time": "2022-12-14T13:23:00.077019Z",
     "start_time": "2022-12-14T13:22:59.095281Z"
    },
    "execution": {
     "iopub.execute_input": "2022-12-14T20:44:23.365771Z",
     "iopub.status.busy": "2022-12-14T20:44:23.364543Z",
     "iopub.status.idle": "2022-12-14T20:44:25.079965Z",
     "shell.execute_reply": "2022-12-14T20:44:25.077327Z"
    },
    "hidden": true,
    "papermill": {
     "duration": 1.739896,
     "end_time": "2022-12-14T20:44:25.082822",
     "exception": true,
     "start_time": "2022-12-14T20:44:23.342926",
     "status": "failed"
    },
    "tags": []
   },
   "outputs": [
    {
     "ename": "FileNotFoundError",
     "evalue": "[Errno 2] No such file or directory: '../data/Ecommerce.csv'",
     "output_type": "error",
     "traceback": [
      "\u001b[0;31m---------------------------------------------------------------------------\u001b[0m",
      "\u001b[0;31mFileNotFoundError\u001b[0m                         Traceback (most recent call last)",
      "Cell \u001b[0;32mIn [3], line 2\u001b[0m\n\u001b[1;32m      1\u001b[0m \u001b[38;5;66;03m# Load data\u001b[39;00m\n\u001b[0;32m----> 2\u001b[0m ecommerce \u001b[38;5;241m=\u001b[39m \u001b[43mpd\u001b[49m\u001b[38;5;241;43m.\u001b[39;49m\u001b[43mread_csv\u001b[49m\u001b[43m(\u001b[49m\u001b[38;5;124;43m'\u001b[39;49m\u001b[38;5;124;43m../data/Ecommerce.csv\u001b[39;49m\u001b[38;5;124;43m'\u001b[39;49m\u001b[43m,\u001b[49m\u001b[43mencoding\u001b[49m\u001b[38;5;241;43m=\u001b[39;49m\u001b[38;5;124;43m'\u001b[39;49m\u001b[38;5;124;43mlatin1\u001b[39;49m\u001b[38;5;124;43m'\u001b[39;49m\u001b[43m)\u001b[49m\n\u001b[1;32m      4\u001b[0m \u001b[38;5;66;03m# Drop extra column\u001b[39;00m\n\u001b[1;32m      5\u001b[0m ecommerce \u001b[38;5;241m=\u001b[39m ecommerce\u001b[38;5;241m.\u001b[39miloc[:,:\u001b[38;5;241m-\u001b[39m\u001b[38;5;241m1\u001b[39m]\n",
      "File \u001b[0;32m~/.pyenv/versions/ds_em_clusterizacao/lib/python3.9/site-packages/pandas/util/_decorators.py:211\u001b[0m, in \u001b[0;36mdeprecate_kwarg.<locals>._deprecate_kwarg.<locals>.wrapper\u001b[0;34m(*args, **kwargs)\u001b[0m\n\u001b[1;32m    209\u001b[0m     \u001b[38;5;28;01melse\u001b[39;00m:\n\u001b[1;32m    210\u001b[0m         kwargs[new_arg_name] \u001b[38;5;241m=\u001b[39m new_arg_value\n\u001b[0;32m--> 211\u001b[0m \u001b[38;5;28;01mreturn\u001b[39;00m \u001b[43mfunc\u001b[49m\u001b[43m(\u001b[49m\u001b[38;5;241;43m*\u001b[39;49m\u001b[43margs\u001b[49m\u001b[43m,\u001b[49m\u001b[43m \u001b[49m\u001b[38;5;241;43m*\u001b[39;49m\u001b[38;5;241;43m*\u001b[39;49m\u001b[43mkwargs\u001b[49m\u001b[43m)\u001b[49m\n",
      "File \u001b[0;32m~/.pyenv/versions/ds_em_clusterizacao/lib/python3.9/site-packages/pandas/util/_decorators.py:331\u001b[0m, in \u001b[0;36mdeprecate_nonkeyword_arguments.<locals>.decorate.<locals>.wrapper\u001b[0;34m(*args, **kwargs)\u001b[0m\n\u001b[1;32m    325\u001b[0m \u001b[38;5;28;01mif\u001b[39;00m \u001b[38;5;28mlen\u001b[39m(args) \u001b[38;5;241m>\u001b[39m num_allow_args:\n\u001b[1;32m    326\u001b[0m     warnings\u001b[38;5;241m.\u001b[39mwarn(\n\u001b[1;32m    327\u001b[0m         msg\u001b[38;5;241m.\u001b[39mformat(arguments\u001b[38;5;241m=\u001b[39m_format_argument_list(allow_args)),\n\u001b[1;32m    328\u001b[0m         \u001b[38;5;167;01mFutureWarning\u001b[39;00m,\n\u001b[1;32m    329\u001b[0m         stacklevel\u001b[38;5;241m=\u001b[39mfind_stack_level(),\n\u001b[1;32m    330\u001b[0m     )\n\u001b[0;32m--> 331\u001b[0m \u001b[38;5;28;01mreturn\u001b[39;00m \u001b[43mfunc\u001b[49m\u001b[43m(\u001b[49m\u001b[38;5;241;43m*\u001b[39;49m\u001b[43margs\u001b[49m\u001b[43m,\u001b[49m\u001b[43m \u001b[49m\u001b[38;5;241;43m*\u001b[39;49m\u001b[38;5;241;43m*\u001b[39;49m\u001b[43mkwargs\u001b[49m\u001b[43m)\u001b[49m\n",
      "File \u001b[0;32m~/.pyenv/versions/ds_em_clusterizacao/lib/python3.9/site-packages/pandas/io/parsers/readers.py:950\u001b[0m, in \u001b[0;36mread_csv\u001b[0;34m(filepath_or_buffer, sep, delimiter, header, names, index_col, usecols, squeeze, prefix, mangle_dupe_cols, dtype, engine, converters, true_values, false_values, skipinitialspace, skiprows, skipfooter, nrows, na_values, keep_default_na, na_filter, verbose, skip_blank_lines, parse_dates, infer_datetime_format, keep_date_col, date_parser, dayfirst, cache_dates, iterator, chunksize, compression, thousands, decimal, lineterminator, quotechar, quoting, doublequote, escapechar, comment, encoding, encoding_errors, dialect, error_bad_lines, warn_bad_lines, on_bad_lines, delim_whitespace, low_memory, memory_map, float_precision, storage_options)\u001b[0m\n\u001b[1;32m    935\u001b[0m kwds_defaults \u001b[38;5;241m=\u001b[39m _refine_defaults_read(\n\u001b[1;32m    936\u001b[0m     dialect,\n\u001b[1;32m    937\u001b[0m     delimiter,\n\u001b[0;32m   (...)\u001b[0m\n\u001b[1;32m    946\u001b[0m     defaults\u001b[38;5;241m=\u001b[39m{\u001b[38;5;124m\"\u001b[39m\u001b[38;5;124mdelimiter\u001b[39m\u001b[38;5;124m\"\u001b[39m: \u001b[38;5;124m\"\u001b[39m\u001b[38;5;124m,\u001b[39m\u001b[38;5;124m\"\u001b[39m},\n\u001b[1;32m    947\u001b[0m )\n\u001b[1;32m    948\u001b[0m kwds\u001b[38;5;241m.\u001b[39mupdate(kwds_defaults)\n\u001b[0;32m--> 950\u001b[0m \u001b[38;5;28;01mreturn\u001b[39;00m \u001b[43m_read\u001b[49m\u001b[43m(\u001b[49m\u001b[43mfilepath_or_buffer\u001b[49m\u001b[43m,\u001b[49m\u001b[43m \u001b[49m\u001b[43mkwds\u001b[49m\u001b[43m)\u001b[49m\n",
      "File \u001b[0;32m~/.pyenv/versions/ds_em_clusterizacao/lib/python3.9/site-packages/pandas/io/parsers/readers.py:605\u001b[0m, in \u001b[0;36m_read\u001b[0;34m(filepath_or_buffer, kwds)\u001b[0m\n\u001b[1;32m    602\u001b[0m _validate_names(kwds\u001b[38;5;241m.\u001b[39mget(\u001b[38;5;124m\"\u001b[39m\u001b[38;5;124mnames\u001b[39m\u001b[38;5;124m\"\u001b[39m, \u001b[38;5;28;01mNone\u001b[39;00m))\n\u001b[1;32m    604\u001b[0m \u001b[38;5;66;03m# Create the parser.\u001b[39;00m\n\u001b[0;32m--> 605\u001b[0m parser \u001b[38;5;241m=\u001b[39m \u001b[43mTextFileReader\u001b[49m\u001b[43m(\u001b[49m\u001b[43mfilepath_or_buffer\u001b[49m\u001b[43m,\u001b[49m\u001b[43m \u001b[49m\u001b[38;5;241;43m*\u001b[39;49m\u001b[38;5;241;43m*\u001b[39;49m\u001b[43mkwds\u001b[49m\u001b[43m)\u001b[49m\n\u001b[1;32m    607\u001b[0m \u001b[38;5;28;01mif\u001b[39;00m chunksize \u001b[38;5;129;01mor\u001b[39;00m iterator:\n\u001b[1;32m    608\u001b[0m     \u001b[38;5;28;01mreturn\u001b[39;00m parser\n",
      "File \u001b[0;32m~/.pyenv/versions/ds_em_clusterizacao/lib/python3.9/site-packages/pandas/io/parsers/readers.py:1442\u001b[0m, in \u001b[0;36mTextFileReader.__init__\u001b[0;34m(self, f, engine, **kwds)\u001b[0m\n\u001b[1;32m   1439\u001b[0m     \u001b[38;5;28mself\u001b[39m\u001b[38;5;241m.\u001b[39moptions[\u001b[38;5;124m\"\u001b[39m\u001b[38;5;124mhas_index_names\u001b[39m\u001b[38;5;124m\"\u001b[39m] \u001b[38;5;241m=\u001b[39m kwds[\u001b[38;5;124m\"\u001b[39m\u001b[38;5;124mhas_index_names\u001b[39m\u001b[38;5;124m\"\u001b[39m]\n\u001b[1;32m   1441\u001b[0m \u001b[38;5;28mself\u001b[39m\u001b[38;5;241m.\u001b[39mhandles: IOHandles \u001b[38;5;241m|\u001b[39m \u001b[38;5;28;01mNone\u001b[39;00m \u001b[38;5;241m=\u001b[39m \u001b[38;5;28;01mNone\u001b[39;00m\n\u001b[0;32m-> 1442\u001b[0m \u001b[38;5;28mself\u001b[39m\u001b[38;5;241m.\u001b[39m_engine \u001b[38;5;241m=\u001b[39m \u001b[38;5;28;43mself\u001b[39;49m\u001b[38;5;241;43m.\u001b[39;49m\u001b[43m_make_engine\u001b[49m\u001b[43m(\u001b[49m\u001b[43mf\u001b[49m\u001b[43m,\u001b[49m\u001b[43m \u001b[49m\u001b[38;5;28;43mself\u001b[39;49m\u001b[38;5;241;43m.\u001b[39;49m\u001b[43mengine\u001b[49m\u001b[43m)\u001b[49m\n",
      "File \u001b[0;32m~/.pyenv/versions/ds_em_clusterizacao/lib/python3.9/site-packages/pandas/io/parsers/readers.py:1735\u001b[0m, in \u001b[0;36mTextFileReader._make_engine\u001b[0;34m(self, f, engine)\u001b[0m\n\u001b[1;32m   1733\u001b[0m     \u001b[38;5;28;01mif\u001b[39;00m \u001b[38;5;124m\"\u001b[39m\u001b[38;5;124mb\u001b[39m\u001b[38;5;124m\"\u001b[39m \u001b[38;5;129;01mnot\u001b[39;00m \u001b[38;5;129;01min\u001b[39;00m mode:\n\u001b[1;32m   1734\u001b[0m         mode \u001b[38;5;241m+\u001b[39m\u001b[38;5;241m=\u001b[39m \u001b[38;5;124m\"\u001b[39m\u001b[38;5;124mb\u001b[39m\u001b[38;5;124m\"\u001b[39m\n\u001b[0;32m-> 1735\u001b[0m \u001b[38;5;28mself\u001b[39m\u001b[38;5;241m.\u001b[39mhandles \u001b[38;5;241m=\u001b[39m \u001b[43mget_handle\u001b[49m\u001b[43m(\u001b[49m\n\u001b[1;32m   1736\u001b[0m \u001b[43m    \u001b[49m\u001b[43mf\u001b[49m\u001b[43m,\u001b[49m\n\u001b[1;32m   1737\u001b[0m \u001b[43m    \u001b[49m\u001b[43mmode\u001b[49m\u001b[43m,\u001b[49m\n\u001b[1;32m   1738\u001b[0m \u001b[43m    \u001b[49m\u001b[43mencoding\u001b[49m\u001b[38;5;241;43m=\u001b[39;49m\u001b[38;5;28;43mself\u001b[39;49m\u001b[38;5;241;43m.\u001b[39;49m\u001b[43moptions\u001b[49m\u001b[38;5;241;43m.\u001b[39;49m\u001b[43mget\u001b[49m\u001b[43m(\u001b[49m\u001b[38;5;124;43m\"\u001b[39;49m\u001b[38;5;124;43mencoding\u001b[39;49m\u001b[38;5;124;43m\"\u001b[39;49m\u001b[43m,\u001b[49m\u001b[43m \u001b[49m\u001b[38;5;28;43;01mNone\u001b[39;49;00m\u001b[43m)\u001b[49m\u001b[43m,\u001b[49m\n\u001b[1;32m   1739\u001b[0m \u001b[43m    \u001b[49m\u001b[43mcompression\u001b[49m\u001b[38;5;241;43m=\u001b[39;49m\u001b[38;5;28;43mself\u001b[39;49m\u001b[38;5;241;43m.\u001b[39;49m\u001b[43moptions\u001b[49m\u001b[38;5;241;43m.\u001b[39;49m\u001b[43mget\u001b[49m\u001b[43m(\u001b[49m\u001b[38;5;124;43m\"\u001b[39;49m\u001b[38;5;124;43mcompression\u001b[39;49m\u001b[38;5;124;43m\"\u001b[39;49m\u001b[43m,\u001b[49m\u001b[43m \u001b[49m\u001b[38;5;28;43;01mNone\u001b[39;49;00m\u001b[43m)\u001b[49m\u001b[43m,\u001b[49m\n\u001b[1;32m   1740\u001b[0m \u001b[43m    \u001b[49m\u001b[43mmemory_map\u001b[49m\u001b[38;5;241;43m=\u001b[39;49m\u001b[38;5;28;43mself\u001b[39;49m\u001b[38;5;241;43m.\u001b[39;49m\u001b[43moptions\u001b[49m\u001b[38;5;241;43m.\u001b[39;49m\u001b[43mget\u001b[49m\u001b[43m(\u001b[49m\u001b[38;5;124;43m\"\u001b[39;49m\u001b[38;5;124;43mmemory_map\u001b[39;49m\u001b[38;5;124;43m\"\u001b[39;49m\u001b[43m,\u001b[49m\u001b[43m \u001b[49m\u001b[38;5;28;43;01mFalse\u001b[39;49;00m\u001b[43m)\u001b[49m\u001b[43m,\u001b[49m\n\u001b[1;32m   1741\u001b[0m \u001b[43m    \u001b[49m\u001b[43mis_text\u001b[49m\u001b[38;5;241;43m=\u001b[39;49m\u001b[43mis_text\u001b[49m\u001b[43m,\u001b[49m\n\u001b[1;32m   1742\u001b[0m \u001b[43m    \u001b[49m\u001b[43merrors\u001b[49m\u001b[38;5;241;43m=\u001b[39;49m\u001b[38;5;28;43mself\u001b[39;49m\u001b[38;5;241;43m.\u001b[39;49m\u001b[43moptions\u001b[49m\u001b[38;5;241;43m.\u001b[39;49m\u001b[43mget\u001b[49m\u001b[43m(\u001b[49m\u001b[38;5;124;43m\"\u001b[39;49m\u001b[38;5;124;43mencoding_errors\u001b[39;49m\u001b[38;5;124;43m\"\u001b[39;49m\u001b[43m,\u001b[49m\u001b[43m \u001b[49m\u001b[38;5;124;43m\"\u001b[39;49m\u001b[38;5;124;43mstrict\u001b[39;49m\u001b[38;5;124;43m\"\u001b[39;49m\u001b[43m)\u001b[49m\u001b[43m,\u001b[49m\n\u001b[1;32m   1743\u001b[0m \u001b[43m    \u001b[49m\u001b[43mstorage_options\u001b[49m\u001b[38;5;241;43m=\u001b[39;49m\u001b[38;5;28;43mself\u001b[39;49m\u001b[38;5;241;43m.\u001b[39;49m\u001b[43moptions\u001b[49m\u001b[38;5;241;43m.\u001b[39;49m\u001b[43mget\u001b[49m\u001b[43m(\u001b[49m\u001b[38;5;124;43m\"\u001b[39;49m\u001b[38;5;124;43mstorage_options\u001b[39;49m\u001b[38;5;124;43m\"\u001b[39;49m\u001b[43m,\u001b[49m\u001b[43m \u001b[49m\u001b[38;5;28;43;01mNone\u001b[39;49;00m\u001b[43m)\u001b[49m\u001b[43m,\u001b[49m\n\u001b[1;32m   1744\u001b[0m \u001b[43m\u001b[49m\u001b[43m)\u001b[49m\n\u001b[1;32m   1745\u001b[0m \u001b[38;5;28;01massert\u001b[39;00m \u001b[38;5;28mself\u001b[39m\u001b[38;5;241m.\u001b[39mhandles \u001b[38;5;129;01mis\u001b[39;00m \u001b[38;5;129;01mnot\u001b[39;00m \u001b[38;5;28;01mNone\u001b[39;00m\n\u001b[1;32m   1746\u001b[0m f \u001b[38;5;241m=\u001b[39m \u001b[38;5;28mself\u001b[39m\u001b[38;5;241m.\u001b[39mhandles\u001b[38;5;241m.\u001b[39mhandle\n",
      "File \u001b[0;32m~/.pyenv/versions/ds_em_clusterizacao/lib/python3.9/site-packages/pandas/io/common.py:856\u001b[0m, in \u001b[0;36mget_handle\u001b[0;34m(path_or_buf, mode, encoding, compression, memory_map, is_text, errors, storage_options)\u001b[0m\n\u001b[1;32m    851\u001b[0m \u001b[38;5;28;01melif\u001b[39;00m \u001b[38;5;28misinstance\u001b[39m(handle, \u001b[38;5;28mstr\u001b[39m):\n\u001b[1;32m    852\u001b[0m     \u001b[38;5;66;03m# Check whether the filename is to be opened in binary mode.\u001b[39;00m\n\u001b[1;32m    853\u001b[0m     \u001b[38;5;66;03m# Binary mode does not support 'encoding' and 'newline'.\u001b[39;00m\n\u001b[1;32m    854\u001b[0m     \u001b[38;5;28;01mif\u001b[39;00m ioargs\u001b[38;5;241m.\u001b[39mencoding \u001b[38;5;129;01mand\u001b[39;00m \u001b[38;5;124m\"\u001b[39m\u001b[38;5;124mb\u001b[39m\u001b[38;5;124m\"\u001b[39m \u001b[38;5;129;01mnot\u001b[39;00m \u001b[38;5;129;01min\u001b[39;00m ioargs\u001b[38;5;241m.\u001b[39mmode:\n\u001b[1;32m    855\u001b[0m         \u001b[38;5;66;03m# Encoding\u001b[39;00m\n\u001b[0;32m--> 856\u001b[0m         handle \u001b[38;5;241m=\u001b[39m \u001b[38;5;28;43mopen\u001b[39;49m\u001b[43m(\u001b[49m\n\u001b[1;32m    857\u001b[0m \u001b[43m            \u001b[49m\u001b[43mhandle\u001b[49m\u001b[43m,\u001b[49m\n\u001b[1;32m    858\u001b[0m \u001b[43m            \u001b[49m\u001b[43mioargs\u001b[49m\u001b[38;5;241;43m.\u001b[39;49m\u001b[43mmode\u001b[49m\u001b[43m,\u001b[49m\n\u001b[1;32m    859\u001b[0m \u001b[43m            \u001b[49m\u001b[43mencoding\u001b[49m\u001b[38;5;241;43m=\u001b[39;49m\u001b[43mioargs\u001b[49m\u001b[38;5;241;43m.\u001b[39;49m\u001b[43mencoding\u001b[49m\u001b[43m,\u001b[49m\n\u001b[1;32m    860\u001b[0m \u001b[43m            \u001b[49m\u001b[43merrors\u001b[49m\u001b[38;5;241;43m=\u001b[39;49m\u001b[43merrors\u001b[49m\u001b[43m,\u001b[49m\n\u001b[1;32m    861\u001b[0m \u001b[43m            \u001b[49m\u001b[43mnewline\u001b[49m\u001b[38;5;241;43m=\u001b[39;49m\u001b[38;5;124;43m\"\u001b[39;49m\u001b[38;5;124;43m\"\u001b[39;49m\u001b[43m,\u001b[49m\n\u001b[1;32m    862\u001b[0m \u001b[43m        \u001b[49m\u001b[43m)\u001b[49m\n\u001b[1;32m    863\u001b[0m     \u001b[38;5;28;01melse\u001b[39;00m:\n\u001b[1;32m    864\u001b[0m         \u001b[38;5;66;03m# Binary mode\u001b[39;00m\n\u001b[1;32m    865\u001b[0m         handle \u001b[38;5;241m=\u001b[39m \u001b[38;5;28mopen\u001b[39m(handle, ioargs\u001b[38;5;241m.\u001b[39mmode)\n",
      "\u001b[0;31mFileNotFoundError\u001b[0m: [Errno 2] No such file or directory: '../data/Ecommerce.csv'"
     ]
    }
   ],
   "source": [
    "# Load data\n",
    "ecommerce = pd.read_csv('../data/Ecommerce.csv',encoding='latin1')\n",
    "\n",
    "# Drop extra column\n",
    "ecommerce = ecommerce.iloc[:,:-1]"
   ]
  },
  {
   "cell_type": "markdown",
   "id": "eb37cab1",
   "metadata": {
    "papermill": {
     "duration": null,
     "end_time": null,
     "exception": null,
     "start_time": null,
     "status": "pending"
    },
    "tags": []
   },
   "source": [
    "# 1.0. Data description"
   ]
  },
  {
   "cell_type": "code",
   "execution_count": null,
   "id": "cf9276dc",
   "metadata": {
    "ExecuteTime": {
     "end_time": "2022-12-14T13:23:00.110168Z",
     "start_time": "2022-12-14T13:23:00.081988Z"
    },
    "papermill": {
     "duration": null,
     "end_time": null,
     "exception": null,
     "start_time": null,
     "status": "pending"
    },
    "tags": []
   },
   "outputs": [],
   "source": [
    "ecommerce1 = ecommerce.copy()"
   ]
  },
  {
   "cell_type": "markdown",
   "id": "1e9f774d",
   "metadata": {
    "heading_collapsed": true,
    "papermill": {
     "duration": null,
     "end_time": null,
     "exception": null,
     "start_time": null,
     "status": "pending"
    },
    "tags": []
   },
   "source": [
    "## 1.1. Rename Columns"
   ]
  },
  {
   "cell_type": "code",
   "execution_count": null,
   "id": "a4945b5b",
   "metadata": {
    "ExecuteTime": {
     "end_time": "2022-12-14T13:23:00.409129Z",
     "start_time": "2022-12-14T13:23:00.113403Z"
    },
    "hidden": true,
    "papermill": {
     "duration": null,
     "end_time": null,
     "exception": null,
     "start_time": null,
     "status": "pending"
    },
    "tags": []
   },
   "outputs": [],
   "source": [
    "new_cols =  ['invoice_no', 'stock_code','description', 'quantity', 'invoice_date', 'unit_price', 'customer_id', 'country']\n",
    "ecommerce1.columns = new_cols"
   ]
  },
  {
   "cell_type": "markdown",
   "id": "bdd17374",
   "metadata": {
    "heading_collapsed": true,
    "papermill": {
     "duration": null,
     "end_time": null,
     "exception": null,
     "start_time": null,
     "status": "pending"
    },
    "tags": []
   },
   "source": [
    "## 1.2. Data Dimensions"
   ]
  },
  {
   "cell_type": "code",
   "execution_count": null,
   "id": "f7924b48",
   "metadata": {
    "ExecuteTime": {
     "end_time": "2022-12-14T13:23:00.693520Z",
     "start_time": "2022-12-14T13:23:00.413029Z"
    },
    "hidden": true,
    "papermill": {
     "duration": null,
     "end_time": null,
     "exception": null,
     "start_time": null,
     "status": "pending"
    },
    "tags": []
   },
   "outputs": [],
   "source": [
    "ecommerce1.shape"
   ]
  },
  {
   "cell_type": "markdown",
   "id": "ceb47ef0",
   "metadata": {
    "heading_collapsed": true,
    "papermill": {
     "duration": null,
     "end_time": null,
     "exception": null,
     "start_time": null,
     "status": "pending"
    },
    "tags": []
   },
   "source": [
    "## 1.3. Data types"
   ]
  },
  {
   "cell_type": "code",
   "execution_count": null,
   "id": "073adcd9",
   "metadata": {
    "ExecuteTime": {
     "end_time": "2022-12-14T13:23:00.882207Z",
     "start_time": "2022-12-14T13:23:00.699999Z"
    },
    "hidden": true,
    "papermill": {
     "duration": null,
     "end_time": null,
     "exception": null,
     "start_time": null,
     "status": "pending"
    },
    "tags": []
   },
   "outputs": [],
   "source": [
    "ecommerce1.dtypes"
   ]
  },
  {
   "cell_type": "markdown",
   "id": "5d7c4a9d",
   "metadata": {
    "heading_collapsed": true,
    "papermill": {
     "duration": null,
     "end_time": null,
     "exception": null,
     "start_time": null,
     "status": "pending"
    },
    "tags": []
   },
   "source": [
    "## 1.4. Check NA"
   ]
  },
  {
   "cell_type": "code",
   "execution_count": null,
   "id": "926dc7fa",
   "metadata": {
    "ExecuteTime": {
     "end_time": "2022-12-14T13:23:01.608244Z",
     "start_time": "2022-12-14T13:23:00.888148Z"
    },
    "hidden": true,
    "papermill": {
     "duration": null,
     "end_time": null,
     "exception": null,
     "start_time": null,
     "status": "pending"
    },
    "scrolled": false,
    "tags": []
   },
   "outputs": [],
   "source": [
    "ecommerce1.isna().sum()"
   ]
  },
  {
   "cell_type": "markdown",
   "id": "37d4d226",
   "metadata": {
    "heading_collapsed": true,
    "papermill": {
     "duration": null,
     "end_time": null,
     "exception": null,
     "start_time": null,
     "status": "pending"
    },
    "tags": []
   },
   "source": [
    "## 1.5. Replace NA"
   ]
  },
  {
   "cell_type": "code",
   "execution_count": null,
   "id": "0c767c92",
   "metadata": {
    "ExecuteTime": {
     "end_time": "2022-12-14T13:23:01.971739Z",
     "start_time": "2022-12-14T13:23:01.610692Z"
    },
    "hidden": true,
    "papermill": {
     "duration": null,
     "end_time": null,
     "exception": null,
     "start_time": null,
     "status": "pending"
    },
    "tags": []
   },
   "outputs": [],
   "source": [
    "# Missing values on customer ID\n",
    "ecommerce_missing = ecommerce1[ecommerce1['customer_id'].isna()]\n",
    "ecommerce_not_missing = ecommerce1[~ecommerce1['customer_id'].isna()]"
   ]
  },
  {
   "cell_type": "code",
   "execution_count": null,
   "id": "74860748",
   "metadata": {
    "ExecuteTime": {
     "end_time": "2022-12-14T13:23:02.351070Z",
     "start_time": "2022-12-14T13:23:01.977287Z"
    },
    "hidden": true,
    "papermill": {
     "duration": null,
     "end_time": null,
     "exception": null,
     "start_time": null,
     "status": "pending"
    },
    "tags": []
   },
   "outputs": [],
   "source": [
    "ecommerce_missing_customerid = ecommerce_missing[['invoice_no','customer_id']].drop_duplicates()\n",
    "ecommerce_missing_customerid['customer_id'] = np.arange( 19000, 19000 + len(ecommerce_missing_customerid), 1 )\n",
    "ecommerce_missing = pd.merge(ecommerce_missing.drop('customer_id', axis = 1), ecommerce_missing_customerid, on = 'invoice_no', how = 'left')\n",
    "ecommerce_missing = ecommerce_missing[ecommerce_not_missing.columns]\n",
    "ecommerce1 = pd.concat([ecommerce_missing, ecommerce_not_missing])"
   ]
  },
  {
   "cell_type": "code",
   "execution_count": null,
   "id": "28eea467",
   "metadata": {
    "ExecuteTime": {
     "end_time": "2022-12-14T13:23:02.911286Z",
     "start_time": "2022-12-14T13:23:02.353627Z"
    },
    "hidden": true,
    "papermill": {
     "duration": null,
     "end_time": null,
     "exception": null,
     "start_time": null,
     "status": "pending"
    },
    "tags": []
   },
   "outputs": [],
   "source": [
    "ecommerce1.isna().sum()"
   ]
  },
  {
   "cell_type": "markdown",
   "id": "144d703d",
   "metadata": {
    "heading_collapsed": true,
    "papermill": {
     "duration": null,
     "end_time": null,
     "exception": null,
     "start_time": null,
     "status": "pending"
    },
    "tags": []
   },
   "source": [
    "## 1.6. Change Dtypes"
   ]
  },
  {
   "cell_type": "code",
   "execution_count": null,
   "id": "daaad1c8",
   "metadata": {
    "ExecuteTime": {
     "end_time": "2022-12-14T13:23:03.247201Z",
     "start_time": "2022-12-14T13:23:02.914228Z"
    },
    "hidden": true,
    "papermill": {
     "duration": null,
     "end_time": null,
     "exception": null,
     "start_time": null,
     "status": "pending"
    },
    "tags": []
   },
   "outputs": [],
   "source": [
    "# Invoice date\n",
    "ecommerce1['invoice_date'] = pd.to_datetime(ecommerce1['invoice_date'], format = '%d-%b-%y')\n",
    "\n",
    "# Customer id\n",
    "ecommerce1['customer_id'] = ecommerce1['customer_id'].astype(np.int64)"
   ]
  },
  {
   "cell_type": "code",
   "execution_count": null,
   "id": "bde5f918",
   "metadata": {
    "ExecuteTime": {
     "end_time": "2022-12-14T13:23:03.907585Z",
     "start_time": "2022-12-14T13:23:03.249544Z"
    },
    "hidden": true,
    "papermill": {
     "duration": null,
     "end_time": null,
     "exception": null,
     "start_time": null,
     "status": "pending"
    },
    "tags": []
   },
   "outputs": [],
   "source": [
    "ecommerce1.sort_values('invoice_no').head()"
   ]
  },
  {
   "cell_type": "markdown",
   "id": "66681528",
   "metadata": {
    "heading_collapsed": true,
    "papermill": {
     "duration": null,
     "end_time": null,
     "exception": null,
     "start_time": null,
     "status": "pending"
    },
    "tags": []
   },
   "source": [
    "## 1.7. Drop Duplicates"
   ]
  },
  {
   "cell_type": "code",
   "execution_count": null,
   "id": "d04b49ff",
   "metadata": {
    "ExecuteTime": {
     "end_time": "2022-12-14T13:23:03.915203Z",
     "start_time": "2022-12-14T13:23:03.911289Z"
    },
    "hidden": true,
    "papermill": {
     "duration": null,
     "end_time": null,
     "exception": null,
     "start_time": null,
     "status": "pending"
    },
    "tags": []
   },
   "outputs": [],
   "source": [
    "#ecommerce1 = ecommerce1.drop_duplicates()"
   ]
  },
  {
   "cell_type": "markdown",
   "id": "30623aa6",
   "metadata": {
    "heading_collapsed": true,
    "papermill": {
     "duration": null,
     "end_time": null,
     "exception": null,
     "start_time": null,
     "status": "pending"
    },
    "tags": []
   },
   "source": [
    "## 1.8. Descriptive Statistics"
   ]
  },
  {
   "cell_type": "code",
   "execution_count": null,
   "id": "a6d80b52",
   "metadata": {
    "ExecuteTime": {
     "end_time": "2022-12-14T13:23:04.180043Z",
     "start_time": "2022-12-14T13:23:03.919582Z"
    },
    "hidden": true,
    "papermill": {
     "duration": null,
     "end_time": null,
     "exception": null,
     "start_time": null,
     "status": "pending"
    },
    "tags": []
   },
   "outputs": [],
   "source": [
    "num_attributes = ecommerce1.select_dtypes( include = ['int64', 'float64'])\n",
    "cat_attributes = ecommerce1.select_dtypes( exclude = ['int64', 'float64', 'datetime64[ns]'])"
   ]
  },
  {
   "cell_type": "markdown",
   "id": "4d5a3bc3",
   "metadata": {
    "heading_collapsed": true,
    "hidden": true,
    "papermill": {
     "duration": null,
     "end_time": null,
     "exception": null,
     "start_time": null,
     "status": "pending"
    },
    "tags": []
   },
   "source": [
    "### 1.8.1. Numerical Attributes"
   ]
  },
  {
   "cell_type": "code",
   "execution_count": null,
   "id": "2e991fa8",
   "metadata": {
    "ExecuteTime": {
     "end_time": "2022-12-14T13:23:04.409229Z",
     "start_time": "2022-12-14T13:23:04.182026Z"
    },
    "hidden": true,
    "papermill": {
     "duration": null,
     "end_time": null,
     "exception": null,
     "start_time": null,
     "status": "pending"
    },
    "tags": []
   },
   "outputs": [],
   "source": [
    "# Central tendency (mean, median)\n",
    "ct1 = ( num_attributes.apply( np.mean ) ).T\n",
    "ct2 = ( num_attributes.apply( np.median ) ).T\n",
    "# Dispersion ( std, min, max. range, skew, kurtosis)\n",
    "d1 = ( num_attributes.apply( np.std ) ).T\n",
    "d2 = ( num_attributes.apply( np.min ) ).T\n",
    "d3 = ( num_attributes.apply( np.max ) ).T\n",
    "d4 = ( num_attributes.apply( lambda x: x.max() - x.min() ) ).T\n",
    "d5 = ( num_attributes.apply( lambda x: x.max() - x.skew() ) ).T\n",
    "d6 = ( num_attributes.apply( lambda x: x.max() - x.kurtosis() ) ).T\n",
    "\n",
    "# Concatenate\n",
    "ecommerce_stats = pd.concat( [d2, d3, d4, ct1, ct2, d1, d5, d6], axis = 1 ).reset_index()\n",
    "ecommerce_stats.columns = ['attributes','min','max', 'range', 'mean', 'median',' std',' skew', 'kurtosis']\n",
    "ecommerce_stats"
   ]
  },
  {
   "cell_type": "markdown",
   "id": "cf204385",
   "metadata": {
    "heading_collapsed": true,
    "hidden": true,
    "papermill": {
     "duration": null,
     "end_time": null,
     "exception": null,
     "start_time": null,
     "status": "pending"
    },
    "tags": []
   },
   "source": [
    "### 1.8.2. Categorical Attributes"
   ]
  },
  {
   "cell_type": "markdown",
   "id": "42548006",
   "metadata": {
    "heading_collapsed": true,
    "hidden": true,
    "papermill": {
     "duration": null,
     "end_time": null,
     "exception": null,
     "start_time": null,
     "status": "pending"
    },
    "tags": []
   },
   "source": [
    "##### Invoice Number"
   ]
  },
  {
   "cell_type": "code",
   "execution_count": null,
   "id": "8b379702",
   "metadata": {
    "ExecuteTime": {
     "end_time": "2022-12-14T13:23:05.261371Z",
     "start_time": "2022-12-14T13:23:04.413562Z"
    },
    "hidden": true,
    "papermill": {
     "duration": null,
     "end_time": null,
     "exception": null,
     "start_time": null,
     "status": "pending"
    },
    "tags": []
   },
   "outputs": [],
   "source": [
    " # Invoice number\n",
    "invoices_w_letters = ecommerce1.loc[ecommerce1['invoice_no'].apply( lambda x: bool( re.search( '[^0-9]+', x ) ) ), : ]\n",
    "negative_quantity = len( invoices_w_letters.loc[invoices_w_letters['quantity'] < 0, : ] )\n",
    "print('Total number of invoices number with letter: ',len( invoices_w_letters ), '\\nTotal number of negative quantity: ', negative_quantity)"
   ]
  },
  {
   "cell_type": "markdown",
   "id": "1c70018e",
   "metadata": {
    "heading_collapsed": true,
    "hidden": true,
    "papermill": {
     "duration": null,
     "end_time": null,
     "exception": null,
     "start_time": null,
     "status": "pending"
    },
    "tags": []
   },
   "source": [
    "##### Stock code"
   ]
  },
  {
   "cell_type": "code",
   "execution_count": null,
   "id": "45ad4afa",
   "metadata": {
    "ExecuteTime": {
     "end_time": "2022-12-14T13:23:05.972688Z",
     "start_time": "2022-12-14T13:23:05.266821Z"
    },
    "hidden": true,
    "papermill": {
     "duration": null,
     "end_time": null,
     "exception": null,
     "start_time": null,
     "status": "pending"
    },
    "tags": []
   },
   "outputs": [],
   "source": [
    "# Stock code\n",
    "# Check only characters on stock code\n",
    "ecommerce1.loc[ecommerce1['stock_code'].apply( lambda x: bool( re.search( '^[a-zA-Z]+$',  x ) ) ), 'stock_code' ].unique()\n",
    "\n",
    "# Action: Remove stock code in ['DOT', 'M', 'S', 'AMAZONFEE', 'm', 'POST', 'DCGSSBOY', 'DCGSSGIRL', 'B', 'D', 'PADS', 'CRUK']\n"
   ]
  },
  {
   "cell_type": "markdown",
   "id": "c4715144",
   "metadata": {
    "heading_collapsed": true,
    "hidden": true,
    "papermill": {
     "duration": null,
     "end_time": null,
     "exception": null,
     "start_time": null,
     "status": "pending"
    },
    "tags": []
   },
   "source": [
    "##### Description"
   ]
  },
  {
   "cell_type": "code",
   "execution_count": null,
   "id": "3919b91a",
   "metadata": {
    "ExecuteTime": {
     "end_time": "2022-12-14T13:23:05.980968Z",
     "start_time": "2022-12-14T13:23:05.976006Z"
    },
    "hidden": true,
    "papermill": {
     "duration": null,
     "end_time": null,
     "exception": null,
     "start_time": null,
     "status": "pending"
    },
    "tags": []
   },
   "outputs": [],
   "source": [
    "# Action: delete description"
   ]
  },
  {
   "cell_type": "markdown",
   "id": "987194e5",
   "metadata": {
    "heading_collapsed": true,
    "hidden": true,
    "papermill": {
     "duration": null,
     "end_time": null,
     "exception": null,
     "start_time": null,
     "status": "pending"
    },
    "tags": []
   },
   "source": [
    "##### Country"
   ]
  },
  {
   "cell_type": "code",
   "execution_count": null,
   "id": "4d20ce18",
   "metadata": {
    "ExecuteTime": {
     "end_time": "2022-12-14T13:23:06.301122Z",
     "start_time": "2022-12-14T13:23:05.984521Z"
    },
    "hidden": true,
    "papermill": {
     "duration": null,
     "end_time": null,
     "exception": null,
     "start_time": null,
     "status": "pending"
    },
    "tags": []
   },
   "outputs": [],
   "source": [
    "ecommerce1['country'].unique()"
   ]
  },
  {
   "cell_type": "code",
   "execution_count": null,
   "id": "10ea5f53",
   "metadata": {
    "ExecuteTime": {
     "end_time": "2022-12-14T13:23:06.534102Z",
     "start_time": "2022-12-14T13:23:06.306256Z"
    },
    "hidden": true,
    "papermill": {
     "duration": null,
     "end_time": null,
     "exception": null,
     "start_time": null,
     "status": "pending"
    },
    "scrolled": true,
    "tags": []
   },
   "outputs": [],
   "source": [
    "ecommerce1['country'].value_counts(normalize = True)"
   ]
  },
  {
   "cell_type": "code",
   "execution_count": null,
   "id": "8709b3d6",
   "metadata": {
    "ExecuteTime": {
     "end_time": "2022-12-14T13:23:06.862895Z",
     "start_time": "2022-12-14T13:23:06.536759Z"
    },
    "hidden": true,
    "papermill": {
     "duration": null,
     "end_time": null,
     "exception": null,
     "start_time": null,
     "status": "pending"
    },
    "tags": []
   },
   "outputs": [],
   "source": [
    "ecommerce1[['customer_id','country']].drop_duplicates().groupby('country').count().reset_index().sort_values(by = 'customer_id', ascending = False).head(4)"
   ]
  },
  {
   "cell_type": "markdown",
   "id": "4ac55ad1",
   "metadata": {
    "heading_collapsed": true,
    "papermill": {
     "duration": null,
     "end_time": null,
     "exception": null,
     "start_time": null,
     "status": "pending"
    },
    "tags": []
   },
   "source": [
    "# 2.0. Data Filtering"
   ]
  },
  {
   "cell_type": "code",
   "execution_count": null,
   "id": "a2bb4949",
   "metadata": {
    "ExecuteTime": {
     "end_time": "2022-12-14T13:23:07.042407Z",
     "start_time": "2022-12-14T13:23:06.865481Z"
    },
    "hidden": true,
    "papermill": {
     "duration": null,
     "end_time": null,
     "exception": null,
     "start_time": null,
     "status": "pending"
    },
    "tags": []
   },
   "outputs": [],
   "source": [
    "ecommerce2 = ecommerce1"
   ]
  },
  {
   "cell_type": "code",
   "execution_count": null,
   "id": "ced7cf42",
   "metadata": {
    "ExecuteTime": {
     "end_time": "2022-12-14T13:23:07.294971Z",
     "start_time": "2022-12-14T13:23:07.047108Z"
    },
    "hidden": true,
    "papermill": {
     "duration": null,
     "end_time": null,
     "exception": null,
     "start_time": null,
     "status": "pending"
    },
    "tags": []
   },
   "outputs": [],
   "source": [
    "# Drop description column\n",
    "ecommerce2 = ecommerce2.drop('description', axis = 1)"
   ]
  },
  {
   "cell_type": "code",
   "execution_count": null,
   "id": "5fc89e87",
   "metadata": {
    "ExecuteTime": {
     "end_time": "2022-12-14T13:23:07.730327Z",
     "start_time": "2022-12-14T13:23:07.299440Z"
    },
    "hidden": true,
    "papermill": {
     "duration": null,
     "end_time": null,
     "exception": null,
     "start_time": null,
     "status": "pending"
    },
    "tags": []
   },
   "outputs": [],
   "source": [
    "# Categorical attributes\n",
    "\n",
    "# Stock code\n",
    "ecommerce2 = ecommerce2[~ecommerce2['stock_code'].isin(['DOT', 'M', 'S', 'AMAZONFEE', 'm', 'POST', 'DCGSSBOY', 'DCGSSGIRL', 'B', 'D', 'PADS', 'CRUK'])]\n",
    "\n",
    "# Country\n",
    "ecommerce2 = ecommerce2[~ecommerce2['country'].isin( ['European Community', 'Unspecified'] )] \n",
    "\n",
    "# Numerical attributes\n",
    "\n",
    "# Unit price\n",
    "ecommerce2 = ecommerce2[ecommerce2['unit_price'] >= 0.04]\n",
    "\n",
    "# Bad users\n",
    "ecommerce2 = ecommerce2[~ecommerce2['customer_id'].isin( [16446] )]\n",
    "\n",
    "# Quantity\n",
    "ecommerce_returns = ecommerce2.loc[ecommerce2['quantity'] < 0, : ] \n",
    "ecommerce_purchases = ecommerce2.loc[ecommerce2['quantity'] >= 0, : ] "
   ]
  },
  {
   "cell_type": "markdown",
   "id": "5d69dffc",
   "metadata": {
    "heading_collapsed": true,
    "papermill": {
     "duration": null,
     "end_time": null,
     "exception": null,
     "start_time": null,
     "status": "pending"
    },
    "tags": []
   },
   "source": [
    "# 3.0. Feature Engineering"
   ]
  },
  {
   "cell_type": "code",
   "execution_count": null,
   "id": "5e3beb9a",
   "metadata": {
    "ExecuteTime": {
     "end_time": "2022-12-14T13:23:07.782775Z",
     "start_time": "2022-12-14T13:23:07.732314Z"
    },
    "hidden": true,
    "papermill": {
     "duration": null,
     "end_time": null,
     "exception": null,
     "start_time": null,
     "status": "pending"
    },
    "tags": []
   },
   "outputs": [],
   "source": [
    "ecommerce3 = ecommerce2"
   ]
  },
  {
   "cell_type": "code",
   "execution_count": null,
   "id": "d6edf8ab",
   "metadata": {
    "ExecuteTime": {
     "end_time": "2022-12-14T13:23:07.977313Z",
     "start_time": "2022-12-14T13:23:07.788084Z"
    },
    "hidden": true,
    "papermill": {
     "duration": null,
     "end_time": null,
     "exception": null,
     "start_time": null,
     "status": "pending"
    },
    "tags": []
   },
   "outputs": [],
   "source": [
    "customer_df = ecommerce3.drop(['invoice_no', 'stock_code', 'quantity', 'invoice_date', 'unit_price', 'country'], axis = 1).drop_duplicates(ignore_index = True)"
   ]
  },
  {
   "cell_type": "markdown",
   "id": "2bd5d4a8",
   "metadata": {
    "hidden": true,
    "papermill": {
     "duration": null,
     "end_time": null,
     "exception": null,
     "start_time": null,
     "status": "pending"
    },
    "tags": []
   },
   "source": [
    "## 3.1. Feature Creation"
   ]
  },
  {
   "cell_type": "markdown",
   "id": "06ceabda",
   "metadata": {
    "heading_collapsed": true,
    "hidden": true,
    "papermill": {
     "duration": null,
     "end_time": null,
     "exception": null,
     "start_time": null,
     "status": "pending"
    },
    "tags": []
   },
   "source": [
    "### 3.1.1. Gross Revenue"
   ]
  },
  {
   "cell_type": "code",
   "execution_count": null,
   "id": "843b4fa2",
   "metadata": {
    "ExecuteTime": {
     "end_time": "2022-12-14T13:23:08.217264Z",
     "start_time": "2022-12-14T13:23:07.996310Z"
    },
    "hidden": true,
    "papermill": {
     "duration": null,
     "end_time": null,
     "exception": null,
     "start_time": null,
     "status": "pending"
    },
    "tags": []
   },
   "outputs": [],
   "source": [
    "# Gross Revenue\n",
    "ecommerce_purchases['gross_revenue'] = ecommerce_purchases['quantity'] * ecommerce_purchases['unit_price']\n",
    "df_gross_revenue = ecommerce_purchases[['gross_revenue','customer_id']].groupby('customer_id').sum().reset_index()\n",
    "customer_df = pd.merge(customer_df, df_gross_revenue,on = 'customer_id', how = 'left')\n",
    "\n",
    "customer_df.isna().sum()"
   ]
  },
  {
   "cell_type": "markdown",
   "id": "4f324df3",
   "metadata": {
    "heading_collapsed": true,
    "hidden": true,
    "papermill": {
     "duration": null,
     "end_time": null,
     "exception": null,
     "start_time": null,
     "status": "pending"
    },
    "tags": []
   },
   "source": [
    "### 3.1.2. Recency"
   ]
  },
  {
   "cell_type": "code",
   "execution_count": null,
   "id": "b45fdba3",
   "metadata": {
    "ExecuteTime": {
     "end_time": "2022-12-14T13:23:08.391700Z",
     "start_time": "2022-12-14T13:23:08.221492Z"
    },
    "hidden": true,
    "papermill": {
     "duration": null,
     "end_time": null,
     "exception": null,
     "start_time": null,
     "status": "pending"
    },
    "tags": []
   },
   "outputs": [],
   "source": [
    "# Recency - Last day purchase\n",
    "df_recency = ecommerce_purchases[['customer_id', 'invoice_date']].groupby('customer_id').max().reset_index()\n",
    "df_recency['recency'] = (ecommerce_purchases['invoice_date'].max() - df_recency['invoice_date']).dt.days\n",
    "df_recency = df_recency[['customer_id','recency']].copy()\n",
    "\n",
    "# Merge\n",
    "customer_df = pd.merge(customer_df, df_recency, on = 'customer_id', how = 'left')\n",
    "\n",
    "customer_df.isna().sum()"
   ]
  },
  {
   "cell_type": "markdown",
   "id": "d769cd55",
   "metadata": {
    "heading_collapsed": true,
    "hidden": true,
    "papermill": {
     "duration": null,
     "end_time": null,
     "exception": null,
     "start_time": null,
     "status": "pending"
    },
    "tags": []
   },
   "source": [
    "### 3.1.3. Quantity of purchases"
   ]
  },
  {
   "cell_type": "code",
   "execution_count": null,
   "id": "f428c783",
   "metadata": {
    "ExecuteTime": {
     "end_time": "2022-12-14T13:23:08.632220Z",
     "start_time": "2022-12-14T13:23:08.396034Z"
    },
    "hidden": true,
    "papermill": {
     "duration": null,
     "end_time": null,
     "exception": null,
     "start_time": null,
     "status": "pending"
    },
    "tags": []
   },
   "outputs": [],
   "source": [
    "# qtty purchased\n",
    "df_frequency = ecommerce_purchases[['invoice_no', 'customer_id']].drop_duplicates().groupby('customer_id').count().reset_index().rename(columns = {'invoice_no' : 'qtty_invoices'})\n",
    "\n",
    "# Merge\n",
    "customer_df = pd.merge(customer_df, df_frequency, on = 'customer_id', how = 'left')\n",
    "customer_df.isna().sum()"
   ]
  },
  {
   "cell_type": "markdown",
   "id": "bb25bd62",
   "metadata": {
    "heading_collapsed": true,
    "hidden": true,
    "papermill": {
     "duration": null,
     "end_time": null,
     "exception": null,
     "start_time": null,
     "status": "pending"
    },
    "tags": []
   },
   "source": [
    "### 3.1.4. Quantity of items purchased"
   ]
  },
  {
   "cell_type": "code",
   "execution_count": null,
   "id": "0d51c704",
   "metadata": {
    "ExecuteTime": {
     "end_time": "2022-12-14T13:23:08.802816Z",
     "start_time": "2022-12-14T13:23:08.635077Z"
    },
    "hidden": true,
    "papermill": {
     "duration": null,
     "end_time": null,
     "exception": null,
     "start_time": null,
     "status": "pending"
    },
    "tags": []
   },
   "outputs": [],
   "source": [
    "# qtty purchased\n",
    "df_products = ecommerce_purchases[['quantity', 'customer_id']].groupby('customer_id').sum().reset_index().rename(columns = {'quantity' : 'qtty_items'})\n",
    "\n",
    "# Merge\n",
    "customer_df = pd.merge(customer_df, df_products, on = 'customer_id', how = 'left')\n",
    "\n",
    "customer_df.isna().sum()"
   ]
  },
  {
   "cell_type": "markdown",
   "id": "83d572be",
   "metadata": {
    "heading_collapsed": true,
    "hidden": true,
    "papermill": {
     "duration": null,
     "end_time": null,
     "exception": null,
     "start_time": null,
     "status": "pending"
    },
    "tags": []
   },
   "source": [
    "### 3.1.5. Quantity of products purchased"
   ]
  },
  {
   "cell_type": "code",
   "execution_count": null,
   "id": "a4eda19a",
   "metadata": {
    "ExecuteTime": {
     "end_time": "2022-12-14T13:23:09.128994Z",
     "start_time": "2022-12-14T13:23:08.807318Z"
    },
    "hidden": true,
    "papermill": {
     "duration": null,
     "end_time": null,
     "exception": null,
     "start_time": null,
     "status": "pending"
    },
    "tags": []
   },
   "outputs": [],
   "source": [
    "# qtty purchased\n",
    "df_products = ecommerce_purchases[['stock_code', 'customer_id']].groupby('customer_id').count().reset_index().rename(columns = {'stock_code' : 'qtty_products'})\n",
    "\n",
    "# Merge\n",
    "customer_df = pd.merge(customer_df, df_products, on = 'customer_id', how = 'left')\n",
    "\n",
    "customer_df.isna().sum()"
   ]
  },
  {
   "cell_type": "markdown",
   "id": "29430858",
   "metadata": {
    "heading_collapsed": true,
    "hidden": true,
    "papermill": {
     "duration": null,
     "end_time": null,
     "exception": null,
     "start_time": null,
     "status": "pending"
    },
    "tags": []
   },
   "source": [
    "### 3.1.6. Average Ticket"
   ]
  },
  {
   "cell_type": "code",
   "execution_count": null,
   "id": "cd08fc98",
   "metadata": {
    "ExecuteTime": {
     "end_time": "2022-12-14T13:23:09.215547Z",
     "start_time": "2022-12-14T13:23:09.132285Z"
    },
    "hidden": true,
    "papermill": {
     "duration": null,
     "end_time": null,
     "exception": null,
     "start_time": null,
     "status": "pending"
    },
    "tags": []
   },
   "outputs": [],
   "source": [
    "# AVG Ticket\n",
    "df_avgticket = ecommerce_purchases[['customer_id','gross_revenue']].groupby('customer_id').mean().reset_index().rename(columns = {'gross_revenue':'avg_ticket'})\n",
    "\n",
    "# Merge\n",
    "customer_df = pd.merge(customer_df, df_avgticket, on = 'customer_id', how = 'left')\n",
    "\n",
    "customer_df.isna().sum()"
   ]
  },
  {
   "cell_type": "markdown",
   "id": "61c44a7c",
   "metadata": {
    "heading_collapsed": true,
    "hidden": true,
    "papermill": {
     "duration": null,
     "end_time": null,
     "exception": null,
     "start_time": null,
     "status": "pending"
    },
    "tags": []
   },
   "source": [
    "### 3.1.7. Average Recency Days"
   ]
  },
  {
   "cell_type": "code",
   "execution_count": null,
   "id": "18da81e9",
   "metadata": {
    "ExecuteTime": {
     "end_time": "2022-12-14T13:23:09.920860Z",
     "start_time": "2022-12-14T13:23:09.219376Z"
    },
    "hidden": true,
    "papermill": {
     "duration": null,
     "end_time": null,
     "exception": null,
     "start_time": null,
     "status": "pending"
    },
    "tags": []
   },
   "outputs": [],
   "source": [
    "# AVG Recency days\n",
    "aux_recency = ecommerce2[['customer_id','invoice_date']].drop_duplicates().sort_values( ['customer_id','invoice_date'], ascending = [True, True])\n",
    "aux_recency['next_customer_id'] = aux_recency['customer_id'].shift()\n",
    "aux_recency['previous_date'] = aux_recency['invoice_date'].shift()\n",
    "aux_recency['avg_recency_days'] = aux_recency.apply( lambda x:( ( x['invoice_date'] - x['previous_date'] ).days if x['customer_id'] == x['next_customer_id'] else np.nan), axis = 1 )\n",
    "aux_recency = aux_recency.drop( ['invoice_date','next_customer_id','previous_date'], axis = 1).dropna()\n",
    "aux_recency = aux_recency.groupby('customer_id').mean().reset_index()\n",
    "\n",
    "# Merge\n",
    "customer_df = pd.merge(customer_df, aux_recency, on = 'customer_id', how = 'left')\n",
    "\n",
    "customer_df.isna().sum()"
   ]
  },
  {
   "cell_type": "markdown",
   "id": "b6ce8b76",
   "metadata": {
    "heading_collapsed": true,
    "hidden": true,
    "papermill": {
     "duration": null,
     "end_time": null,
     "exception": null,
     "start_time": null,
     "status": "pending"
    },
    "tags": []
   },
   "source": [
    "### 3.1.8. Fequecy Purchase"
   ]
  },
  {
   "cell_type": "code",
   "execution_count": null,
   "id": "89f8a49f",
   "metadata": {
    "ExecuteTime": {
     "end_time": "2022-12-14T13:23:10.091626Z",
     "start_time": "2022-12-14T13:23:09.923631Z"
    },
    "hidden": true,
    "papermill": {
     "duration": null,
     "end_time": null,
     "exception": null,
     "start_time": null,
     "status": "pending"
    },
    "tags": []
   },
   "outputs": [],
   "source": [
    "# Frquency purchase\n",
    "frequency_df = (\n",
    "                ecommerce2[['customer_id','invoice_no', 'invoice_date']].drop_duplicates()\n",
    "                                                                        .groupby('customer_id')\n",
    "                                                                        .agg( max_date = ('invoice_date', 'max'),\n",
    "                                                                              min_date = ('invoice_date', 'min'),\n",
    "                                                                              qtty_purchases = ('invoice_no', 'count')     \n",
    "                                                                            ).reset_index()\n",
    "              )\n",
    "frequency_df['date_interval'] = ((frequency_df['max_date'] - frequency_df['min_date']).dt.days)\n",
    "frequency_df['frequency'] = frequency_df.apply(lambda x: ( x['qtty_purchases'] / x['date_interval'] ) if x['date_interval'] != 0 else 0, axis = 1 )\n",
    "\n",
    "# Merge\n",
    "customer_df = pd.merge(customer_df, frequency_df[['customer_id','frequency']], on = 'customer_id', how = 'left')\n",
    "\n",
    "customer_df.isna().sum()"
   ]
  },
  {
   "cell_type": "markdown",
   "id": "e6ecebf0",
   "metadata": {
    "heading_collapsed": true,
    "hidden": true,
    "papermill": {
     "duration": null,
     "end_time": null,
     "exception": null,
     "start_time": null,
     "status": "pending"
    },
    "tags": []
   },
   "source": [
    "### 3.1.9. Returns"
   ]
  },
  {
   "cell_type": "code",
   "execution_count": null,
   "id": "7ff34b3c",
   "metadata": {
    "ExecuteTime": {
     "end_time": "2022-12-14T13:23:10.191619Z",
     "start_time": "2022-12-14T13:23:10.094215Z"
    },
    "hidden": true,
    "papermill": {
     "duration": null,
     "end_time": null,
     "exception": null,
     "start_time": null,
     "status": "pending"
    },
    "tags": []
   },
   "outputs": [],
   "source": [
    "# Number of returns\n",
    "customer_returns = ecommerce_returns[['customer_id','quantity']].groupby('customer_id').sum().reset_index().rename(columns = {'quantity' : 'qtty_returns'})\n",
    "customer_returns['qtty_returns'] = customer_returns['qtty_returns'] * - 1\n",
    "\n",
    "# Merge\n",
    "customer_df = pd.merge(customer_df, customer_returns, on = 'customer_id', how = 'left')\n",
    "customer_df.loc[customer_df['qtty_returns'].isna(),'qtty_returns'] = 0\n",
    "\n",
    "customer_df.isna().sum()"
   ]
  },
  {
   "cell_type": "markdown",
   "id": "a76bdcca",
   "metadata": {
    "heading_collapsed": true,
    "hidden": true,
    "papermill": {
     "duration": null,
     "end_time": null,
     "exception": null,
     "start_time": null,
     "status": "pending"
    },
    "tags": []
   },
   "source": [
    "### 3.1.10. Basket Size"
   ]
  },
  {
   "cell_type": "code",
   "execution_count": null,
   "id": "99c92a17",
   "metadata": {
    "ExecuteTime": {
     "end_time": "2022-12-14T13:23:10.482619Z",
     "start_time": "2022-12-14T13:23:10.194215Z"
    },
    "hidden": true,
    "papermill": {
     "duration": null,
     "end_time": null,
     "exception": null,
     "start_time": null,
     "status": "pending"
    },
    "tags": []
   },
   "outputs": [],
   "source": [
    "basket_size = (ecommerce_purchases[['customer_id', 'invoice_no', 'quantity']].groupby('customer_id')\n",
    "                                                                 .agg(invoices = ('invoice_no','nunique'),\n",
    "                                                                      products = ('quantity','sum')).reset_index() \n",
    "                \n",
    ")\n",
    "\n",
    "basket_size['basket_size'] = basket_size['products'] / basket_size['invoices']\n",
    "\n",
    "# Merge\n",
    "customer_df = pd.merge(customer_df, basket_size[['customer_id','basket_size']], on = 'customer_id', how = 'left')\n",
    "\n",
    "customer_df.isna().sum()"
   ]
  },
  {
   "cell_type": "markdown",
   "id": "4054435d",
   "metadata": {
    "heading_collapsed": true,
    "hidden": true,
    "papermill": {
     "duration": null,
     "end_time": null,
     "exception": null,
     "start_time": null,
     "status": "pending"
    },
    "tags": []
   },
   "source": [
    "### 3.1.11. Unique Basket Size"
   ]
  },
  {
   "cell_type": "code",
   "execution_count": null,
   "id": "6e1722ea",
   "metadata": {
    "ExecuteTime": {
     "end_time": "2022-12-14T13:23:10.802617Z",
     "start_time": "2022-12-14T13:23:10.485122Z"
    },
    "hidden": true,
    "papermill": {
     "duration": null,
     "end_time": null,
     "exception": null,
     "start_time": null,
     "status": "pending"
    },
    "tags": []
   },
   "outputs": [],
   "source": [
    "avg_basket_size = ( ecommerce_purchases[['customer_id', 'invoice_no', 'stock_code']].groupby('customer_id')\n",
    "                                                                 .agg( invoices = ('invoice_no','nunique'),\n",
    "                                                                       products = ('stock_code','nunique') ).reset_index() \n",
    "                \n",
    "                  )\n",
    "\n",
    "avg_basket_size['unique_basket_size'] = avg_basket_size['products'] / avg_basket_size['invoices']\n",
    "# Merge\n",
    "customer_df = pd.merge(customer_df, avg_basket_size[['customer_id','unique_basket_size']], on = 'customer_id', how = 'left')\n",
    "\n",
    "customer_df.isna().sum()"
   ]
  },
  {
   "cell_type": "markdown",
   "id": "9d0d09bc",
   "metadata": {
    "heading_collapsed": true,
    "papermill": {
     "duration": null,
     "end_time": null,
     "exception": null,
     "start_time": null,
     "status": "pending"
    },
    "tags": []
   },
   "source": [
    "# 4.0. Univariate & Bivariate Analysis"
   ]
  },
  {
   "cell_type": "code",
   "execution_count": null,
   "id": "2dc468ad",
   "metadata": {
    "ExecuteTime": {
     "end_time": "2022-12-14T13:23:10.866108Z",
     "start_time": "2022-12-14T13:23:10.804942Z"
    },
    "hidden": true,
    "papermill": {
     "duration": null,
     "end_time": null,
     "exception": null,
     "start_time": null,
     "status": "pending"
    },
    "tags": []
   },
   "outputs": [],
   "source": [
    "ecommerce4 = customer_df.dropna().copy()"
   ]
  },
  {
   "cell_type": "markdown",
   "id": "25cef89a",
   "metadata": {
    "heading_collapsed": true,
    "papermill": {
     "duration": null,
     "end_time": null,
     "exception": null,
     "start_time": null,
     "status": "pending"
    },
    "tags": []
   },
   "source": [
    "# 5.0. Feature Selection"
   ]
  },
  {
   "cell_type": "code",
   "execution_count": null,
   "id": "429af087",
   "metadata": {
    "ExecuteTime": {
     "end_time": "2022-12-14T13:23:11.052930Z",
     "start_time": "2022-12-14T13:23:10.870348Z"
    },
    "hidden": true,
    "papermill": {
     "duration": null,
     "end_time": null,
     "exception": null,
     "start_time": null,
     "status": "pending"
    },
    "tags": []
   },
   "outputs": [],
   "source": [
    "cols_select = ['customer_id','gross_revenue', 'recency', 'qtty_products', 'frequency', 'qtty_returns']\n",
    "ecommerce4 = ecommerce4[cols_select].copy()"
   ]
  },
  {
   "cell_type": "markdown",
   "id": "f6e1f936",
   "metadata": {
    "heading_collapsed": true,
    "papermill": {
     "duration": null,
     "end_time": null,
     "exception": null,
     "start_time": null,
     "status": "pending"
    },
    "tags": []
   },
   "source": [
    "# 6.0. Data Preparation"
   ]
  },
  {
   "cell_type": "code",
   "execution_count": null,
   "id": "695fdbef",
   "metadata": {
    "ExecuteTime": {
     "end_time": "2022-12-14T13:23:11.238354Z",
     "start_time": "2022-12-14T13:23:11.057218Z"
    },
    "hidden": true,
    "papermill": {
     "duration": null,
     "end_time": null,
     "exception": null,
     "start_time": null,
     "status": "pending"
    },
    "tags": []
   },
   "outputs": [],
   "source": [
    "ecommerce5 = ecommerce4.copy()"
   ]
  },
  {
   "cell_type": "markdown",
   "id": "96b18330",
   "metadata": {
    "heading_collapsed": true,
    "hidden": true,
    "papermill": {
     "duration": null,
     "end_time": null,
     "exception": null,
     "start_time": null,
     "status": "pending"
    },
    "tags": []
   },
   "source": [
    "## 6.1. Rescaling"
   ]
  },
  {
   "cell_type": "code",
   "execution_count": null,
   "id": "c8d92430",
   "metadata": {
    "ExecuteTime": {
     "end_time": "2022-12-14T13:23:11.601155Z",
     "start_time": "2022-12-14T13:23:11.244265Z"
    },
    "hidden": true,
    "papermill": {
     "duration": null,
     "end_time": null,
     "exception": null,
     "start_time": null,
     "status": "pending"
    },
    "tags": []
   },
   "outputs": [],
   "source": [
    "# Minmax Scaler\n",
    "mm = pp.MinMaxScaler() # not normal distribution\n",
    "ss = pp.StandardScaler() # normal distribution without outliers\n",
    "rs = pp.RobustScaler() # normal distribution with outliers\n",
    "\n",
    "ecommerce5['gross_revenue'] = mm.fit_transform(ecommerce5[['gross_revenue']])\n",
    "\n",
    "ecommerce5['recency']       = mm.fit_transform(ecommerce5[['recency']])\n",
    "\n",
    "ecommerce5['qtty_products'] = mm.fit_transform(ecommerce5[['qtty_products']])\n",
    "\n",
    "ecommerce5['frequency']     = mm.fit_transform(ecommerce5[['frequency']])\n",
    "\n",
    "ecommerce5['qtty_returns']  = mm.fit_transform(ecommerce5[['qtty_returns']])"
   ]
  },
  {
   "cell_type": "markdown",
   "id": "fb06d352",
   "metadata": {
    "papermill": {
     "duration": null,
     "end_time": null,
     "exception": null,
     "start_time": null,
     "status": "pending"
    },
    "tags": []
   },
   "source": [
    "# 7.0. Space Study"
   ]
  },
  {
   "cell_type": "code",
   "execution_count": null,
   "id": "64881920",
   "metadata": {
    "ExecuteTime": {
     "end_time": "2022-12-14T13:23:11.792057Z",
     "start_time": "2022-12-14T13:23:11.603357Z"
    },
    "papermill": {
     "duration": null,
     "end_time": null,
     "exception": null,
     "start_time": null,
     "status": "pending"
    },
    "tags": []
   },
   "outputs": [],
   "source": [
    "# Selected dataset\n",
    "ecommerce6 = ecommerce5.copy()\n",
    "X = ecommerce6.drop('customer_id', axis = 1)"
   ]
  },
  {
   "cell_type": "markdown",
   "id": "23528a7a",
   "metadata": {
    "papermill": {
     "duration": null,
     "end_time": null,
     "exception": null,
     "start_time": null,
     "status": "pending"
    },
    "tags": []
   },
   "source": [
    "## 7.4. Tree-Based Embedding"
   ]
  },
  {
   "cell_type": "code",
   "execution_count": null,
   "id": "4273438d",
   "metadata": {
    "ExecuteTime": {
     "end_time": "2022-12-14T13:23:12.093216Z",
     "start_time": "2022-12-14T13:23:11.796465Z"
    },
    "papermill": {
     "duration": null,
     "end_time": null,
     "exception": null,
     "start_time": null,
     "status": "pending"
    },
    "tags": []
   },
   "outputs": [],
   "source": [
    "y = X['gross_revenue']\n",
    "X = X.drop('gross_revenue', axis = 1)"
   ]
  },
  {
   "cell_type": "code",
   "execution_count": null,
   "id": "1ecc230a",
   "metadata": {
    "ExecuteTime": {
     "end_time": "2022-12-14T13:23:13.132900Z",
     "start_time": "2022-12-14T13:23:12.097606Z"
    },
    "papermill": {
     "duration": null,
     "end_time": null,
     "exception": null,
     "start_time": null,
     "status": "pending"
    },
    "tags": []
   },
   "outputs": [],
   "source": [
    "# Model definition\n",
    "rf_model = RandomForestRegressor( n_estimators = 100, random_state = 42 )\n",
    "\n",
    "# Model training\n",
    "rf_model.fit( X, y )\n",
    "\n",
    "# Leaf\n",
    "df_leaf = pd.DataFrame( rf_model.apply( X ) )"
   ]
  },
  {
   "cell_type": "code",
   "execution_count": null,
   "id": "ea5b57fa",
   "metadata": {
    "ExecuteTime": {
     "end_time": "2022-12-14T18:41:56.054339Z",
     "start_time": "2022-12-14T18:41:46.871493Z"
    },
    "papermill": {
     "duration": null,
     "end_time": null,
     "exception": null,
     "start_time": null,
     "status": "pending"
    },
    "scrolled": false,
    "tags": []
   },
   "outputs": [],
   "source": [
    "reducer = umap.UMAP( random_state = 42 )\n",
    "embedding = reducer.fit_transform( df_leaf )\n",
    "\n",
    "# embedding\n",
    "df_leaf['embedding_x'] = embedding[: , 0]\n",
    "df_leaf['embedding_y'] = embedding[: , 1 ]\n",
    "\n",
    "df_leaf.to_csv('../data/tree_based_embedding.csv', index = False)"
   ]
  },
  {
   "cell_type": "markdown",
   "id": "897e4e50",
   "metadata": {
    "heading_collapsed": true,
    "papermill": {
     "duration": null,
     "end_time": null,
     "exception": null,
     "start_time": null,
     "status": "pending"
    },
    "tags": []
   },
   "source": [
    "# 9.0. Model Training"
   ]
  },
  {
   "cell_type": "code",
   "execution_count": null,
   "id": "9d6f32df",
   "metadata": {
    "ExecuteTime": {
     "end_time": "2022-12-14T13:23:26.879636Z",
     "start_time": "2022-12-14T13:23:26.870554Z"
    },
    "hidden": true,
    "papermill": {
     "duration": null,
     "end_time": null,
     "exception": null,
     "start_time": null,
     "status": "pending"
    },
    "tags": []
   },
   "outputs": [],
   "source": [
    "ecommerce7 = df_leaf.iloc[:,-2:].copy()\n",
    "ecommerce7['customer_id'] = ecommerce6['customer_id']\n",
    "X = ecommerce7.iloc[:,:-1].copy()"
   ]
  },
  {
   "cell_type": "markdown",
   "id": "5b1f4dd0",
   "metadata": {
    "heading_collapsed": true,
    "hidden": true,
    "papermill": {
     "duration": null,
     "end_time": null,
     "exception": null,
     "start_time": null,
     "status": "pending"
    },
    "tags": []
   },
   "source": [
    "## 9.1. GMM"
   ]
  },
  {
   "cell_type": "code",
   "execution_count": null,
   "id": "f90051ef",
   "metadata": {
    "ExecuteTime": {
     "end_time": "2022-12-14T13:23:28.934919Z",
     "start_time": "2022-12-14T13:23:26.883379Z"
    },
    "hidden": true,
    "papermill": {
     "duration": null,
     "end_time": null,
     "exception": null,
     "start_time": null,
     "status": "pending"
    },
    "tags": []
   },
   "outputs": [],
   "source": [
    "# Model definition\n",
    "k = 10\n",
    "gmm_model = mx.GaussianMixture( n_components = k, n_init = 30 )\n",
    "# Model training\n",
    "gmm_model.fit( X )\n",
    "\n",
    "# Clustering\n",
    "labels = gmm_model.predict( X )"
   ]
  },
  {
   "cell_type": "code",
   "execution_count": null,
   "id": "7eca2cdc",
   "metadata": {
    "ExecuteTime": {
     "end_time": "2022-12-14T13:23:28.943461Z",
     "start_time": "2022-12-14T13:23:28.937874Z"
    },
    "hidden": true,
    "papermill": {
     "duration": null,
     "end_time": null,
     "exception": null,
     "start_time": null,
     "status": "pending"
    },
    "tags": []
   },
   "outputs": [],
   "source": [
    "# Saving clusters labels\n",
    "idx = np.argsort( gmm_model.means_.sum(axis = 1) )\n",
    "\n",
    "new_cluster_label = np.zeros_like( idx )\n",
    "\n",
    "clustar_name = [0, 1, 2, 3, 4, 5, 6, 7, 8, 9]\n",
    "\n",
    "new_cluster_label[idx] = clustar_name\n",
    "\n",
    "labels = new_cluster_label[ labels ]"
   ]
  },
  {
   "cell_type": "markdown",
   "id": "ef898d3b",
   "metadata": {
    "heading_collapsed": true,
    "hidden": true,
    "papermill": {
     "duration": null,
     "end_time": null,
     "exception": null,
     "start_time": null,
     "status": "pending"
    },
    "tags": []
   },
   "source": [
    "## 9.2. Cluster Validation"
   ]
  },
  {
   "cell_type": "code",
   "execution_count": null,
   "id": "dad74c9d",
   "metadata": {
    "ExecuteTime": {
     "end_time": "2022-12-14T13:23:29.355034Z",
     "start_time": "2022-12-14T13:23:28.947481Z"
    },
    "hidden": true,
    "papermill": {
     "duration": null,
     "end_time": null,
     "exception": null,
     "start_time": null,
     "status": "pending"
    },
    "tags": []
   },
   "outputs": [],
   "source": [
    "## SS ( Silhouette Score)\n",
    "print(\"SS value: {}\".format ( m.silhouette_score(X, labels, metric = 'euclidean' ) ) )"
   ]
  },
  {
   "cell_type": "markdown",
   "id": "8081af84",
   "metadata": {
    "heading_collapsed": true,
    "papermill": {
     "duration": null,
     "end_time": null,
     "exception": null,
     "start_time": null,
     "status": "pending"
    },
    "tags": []
   },
   "source": [
    "# 10.0. Cluster Analysis"
   ]
  },
  {
   "cell_type": "code",
   "execution_count": null,
   "id": "97f827e6",
   "metadata": {
    "ExecuteTime": {
     "end_time": "2022-12-14T13:23:29.422827Z",
     "start_time": "2022-12-14T13:23:29.357764Z"
    },
    "hidden": true,
    "papermill": {
     "duration": null,
     "end_time": null,
     "exception": null,
     "start_time": null,
     "status": "pending"
    },
    "tags": []
   },
   "outputs": [],
   "source": [
    "ecommerce9 = ecommerce4.copy()\n",
    "ecommerce9['cluster'] = labels\n",
    "\n",
    "# Number of customers\n",
    "no_customers = ecommerce9[['customer_id','cluster']].groupby('cluster').count().reset_index()\n",
    "no_customers['percentage'] = ( no_customers['customer_id'] /  no_customers['customer_id'].sum() ) * 100\n",
    "\n",
    "# AVG Gross Revenue\n",
    "class_gross_revenue = ecommerce9[['gross_revenue','cluster']].groupby('cluster').mean().reset_index().rename(columns = {'gross_revenue':'avg_gross_revenue'})\n",
    "df_cluster = pd.merge(no_customers, class_gross_revenue, how = 'inner', on = 'cluster')\n",
    "\n",
    "# AVG Recency days\n",
    "class_recency = ecommerce9[['recency','cluster']].groupby('cluster').mean().reset_index()\n",
    "df_cluster = pd.merge(df_cluster, class_recency, how = 'inner', on = 'cluster')\n",
    "\n",
    "# AVG invoices\n",
    "class_invoices = ecommerce9[['qtty_products','cluster']].groupby('cluster').mean().reset_index()\n",
    "df_cluster = pd.merge(df_cluster, class_invoices, how = 'inner', on = 'cluster')\n",
    "\n",
    "# Frequency\n",
    "class_frequency = ecommerce9[['frequency','cluster']].groupby('cluster').mean().reset_index()\n",
    "df_cluster = pd.merge(df_cluster, class_frequency, how = 'inner', on = 'cluster')\n",
    "\n",
    "# Returns\n",
    "class_returns = ecommerce9[['qtty_returns','cluster']].groupby('cluster').mean().reset_index()\n",
    "df_cluster = pd.merge(df_cluster, class_returns, how = 'inner', on = 'cluster')\n",
    "\n",
    "# Percentual Gross Revenue\n",
    "perc_gross_revenue = ecommerce9[['gross_revenue','cluster']].groupby('cluster').sum().reset_index()\n",
    "perc_gross_revenue['percentual_gross_revenue'] = ( perc_gross_revenue['gross_revenue'] /  perc_gross_revenue['gross_revenue'].sum() ) * 100\n",
    "df_cluster = pd.merge(df_cluster, perc_gross_revenue, how = 'inner', on = 'cluster')"
   ]
  },
  {
   "cell_type": "code",
   "execution_count": null,
   "id": "a2eefd1a",
   "metadata": {
    "ExecuteTime": {
     "end_time": "2022-12-14T13:23:29.694266Z",
     "start_time": "2022-12-14T13:23:29.424949Z"
    },
    "hidden": true,
    "papermill": {
     "duration": null,
     "end_time": null,
     "exception": null,
     "start_time": null,
     "status": "pending"
    },
    "scrolled": false,
    "tags": []
   },
   "outputs": [],
   "source": [
    "df_cluster"
   ]
  },
  {
   "cell_type": "markdown",
   "id": "0ed4d5dc",
   "metadata": {
    "papermill": {
     "duration": null,
     "end_time": null,
     "exception": null,
     "start_time": null,
     "status": "pending"
    },
    "tags": []
   },
   "source": [
    "# 11.0. Deploy to Production"
   ]
  },
  {
   "cell_type": "code",
   "execution_count": null,
   "id": "5d67a42a",
   "metadata": {
    "ExecuteTime": {
     "end_time": "2022-12-14T13:23:29.872394Z",
     "start_time": "2022-12-14T13:23:29.698528Z"
    },
    "papermill": {
     "duration": null,
     "end_time": null,
     "exception": null,
     "start_time": null,
     "status": "pending"
    },
    "scrolled": true,
    "tags": []
   },
   "outputs": [],
   "source": [
    "ecommerce9.dtypes"
   ]
  },
  {
   "cell_type": "code",
   "execution_count": null,
   "id": "294b0907",
   "metadata": {
    "ExecuteTime": {
     "end_time": "2022-12-14T13:23:30.047199Z",
     "start_time": "2022-12-14T13:23:29.877030Z"
    },
    "papermill": {
     "duration": null,
     "end_time": null,
     "exception": null,
     "start_time": null,
     "status": "pending"
    },
    "tags": []
   },
   "outputs": [],
   "source": [
    "ecommerce9['recency'] = ecommerce9['recency'].astype( int )\n",
    "ecommerce9['qtty_products'] = ecommerce9['qtty_products'].astype( int )\n",
    "ecommerce9['qtty_returns'] = ecommerce9['qtty_returns'].astype( int )"
   ]
  },
  {
   "cell_type": "markdown",
   "id": "a71f9383",
   "metadata": {
    "papermill": {
     "duration": null,
     "end_time": null,
     "exception": null,
     "start_time": null,
     "status": "pending"
    },
    "tags": []
   },
   "source": [
    "## 11.1. Insert into SQLite"
   ]
  },
  {
   "cell_type": "code",
   "execution_count": null,
   "id": "f8a9797d",
   "metadata": {
    "ExecuteTime": {
     "end_time": "2022-12-14T13:23:30.935051Z",
     "start_time": "2022-12-14T13:23:30.051253Z"
    },
    "papermill": {
     "duration": null,
     "end_time": null,
     "exception": null,
     "start_time": null,
     "status": "pending"
    },
    "tags": []
   },
   "outputs": [],
   "source": [
    "# create table\n",
    "query_create_table_insiders = \"\"\"CREATE TABLE insiders (customer_id     INTEGER,\n",
    "                                                       gross_revenue   REAL,\n",
    "                                                       recency         INTEGER,\n",
    "                                                       qtty_products   INTEGER,\n",
    "                                                       frequency       REAL,\n",
    "                                                       qtty_returns    INTEGER,\n",
    "                                                       cluster         INTEGER)\"\"\"\n",
    "    \n",
    "\n",
    "\n",
    "connect = sqlite3.connect( 'insiders_db_sqlite' )\n",
    "connect.execute( query_create_table_insiders )\n",
    "connect.commit()\n",
    "connect.close()"
   ]
  },
  {
   "cell_type": "code",
   "execution_count": null,
   "id": "9d755512",
   "metadata": {
    "ExecuteTime": {
     "end_time": "2022-12-14T13:23:55.795507Z",
     "start_time": "2022-12-14T13:23:55.272052Z"
    },
    "papermill": {
     "duration": null,
     "end_time": null,
     "exception": null,
     "start_time": null,
     "status": "pending"
    },
    "tags": []
   },
   "outputs": [],
   "source": [
    "# insert data\n",
    "connect = create_engine('sqlite:///insiders_db_sqlite')\n",
    "ecommerce9.to_sql('insiders', con = connect, if_exists = 'append', index = False)"
   ]
  },
  {
   "cell_type": "code",
   "execution_count": null,
   "id": "cacdd492",
   "metadata": {
    "ExecuteTime": {
     "end_time": "2022-12-14T13:25:40.252449Z",
     "start_time": "2022-12-14T13:25:40.210252Z"
    },
    "papermill": {
     "duration": null,
     "end_time": null,
     "exception": null,
     "start_time": null,
     "status": "pending"
    },
    "tags": []
   },
   "outputs": [],
   "source": [
    "# # Consulting database\n",
    "\n",
    "# connect = create_engine('sqlite:///insiders_db_sqlite')\n",
    "\n",
    "# query = \"\"\"\n",
    "#         SELECT * FROM insiders\n",
    "#         \"\"\"\n",
    "# df = pd.read_sql_query(query, connect)"
   ]
  }
 ],
 "metadata": {
  "kernelspec": {
   "display_name": "Python 3 (ipykernel)",
   "language": "python",
   "name": "python3"
  },
  "language_info": {
   "codemirror_mode": {
    "name": "ipython",
    "version": 3
   },
   "file_extension": ".py",
   "mimetype": "text/x-python",
   "name": "python",
   "nbconvert_exporter": "python",
   "pygments_lexer": "ipython3",
   "version": "3.9.13"
  },
  "papermill": {
   "default_parameters": {},
   "duration": 10.966675,
   "end_time": "2022-12-14T20:44:26.329109",
   "environment_variables": {},
   "exception": true,
   "input_path": "src/models/c09_deploy_planning.ipynb",
   "output_path": "reports/c09_deploy_planning.ipynb",
   "parameters": {},
   "start_time": "2022-12-14T20:44:15.362434",
   "version": "2.4.0"
  },
  "varInspector": {
   "cols": {
    "lenName": 16,
    "lenType": 16,
    "lenVar": 40
   },
   "kernels_config": {
    "python": {
     "delete_cmd_postfix": "",
     "delete_cmd_prefix": "del ",
     "library": "var_list.py",
     "varRefreshCmd": "print(var_dic_list())"
    },
    "r": {
     "delete_cmd_postfix": ") ",
     "delete_cmd_prefix": "rm(",
     "library": "var_list.r",
     "varRefreshCmd": "cat(var_dic_list()) "
    }
   },
   "types_to_exclude": [
    "module",
    "function",
    "builtin_function_or_method",
    "instance",
    "_Feature"
   ],
   "window_display": false
  }
 },
 "nbformat": 4,
 "nbformat_minor": 5
}