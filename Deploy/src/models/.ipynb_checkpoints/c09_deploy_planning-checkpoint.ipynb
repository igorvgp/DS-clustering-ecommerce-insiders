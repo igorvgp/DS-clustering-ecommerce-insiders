{
 "cells": [
  {
   "cell_type": "markdown",
   "id": "f914a8bc",
   "metadata": {},
   "source": [
    "# pa005: High Value Customer Identification (Insiders)"
   ]
  },
  {
   "cell_type": "markdown",
   "id": "98d4b461",
   "metadata": {},
   "source": [
    "# 0.0. Imports"
   ]
  },
  {
   "cell_type": "code",
   "execution_count": 1,
   "id": "13289320",
   "metadata": {
    "ExecuteTime": {
     "end_time": "2022-12-15T18:45:32.642013Z",
     "start_time": "2022-12-15T18:45:26.020891Z"
    }
   },
   "outputs": [],
   "source": [
    "import pandas as pd\n",
    "import numpy as np\n",
    "import seaborn as sns\n",
    "import re\n",
    "import os\n",
    "import boto3\n",
    "import io\n",
    "\n",
    "from IPython.display         import Image\n",
    "\n",
    "from matplotlib              import pyplot       as plt\n",
    "from matplotlib              import gridspec\n",
    "from plotly                  import express      as px\n",
    "from IPython.display         import HTML\n",
    "\n",
    "import hdbscan\n",
    "import umap.umap_                                 as umap\n",
    "\n",
    "from sklearn                 import cluster       as c\n",
    "from sklearn                 import metrics       as m\n",
    "from sklearn                 import preprocessing as pp\n",
    "from sklearn                 import decomposition as dd\n",
    "from sklearn.manifold        import TSNE\n",
    "from sklearn.ensemble        import RandomForestRegressor\n",
    "from sklearn.neighbors       import NearestNeighbors\n",
    "from sklearn                 import mixture       as mx\n",
    "from scipy.cluster           import hierarchy     as hc\n",
    "\n",
    "\n",
    "from yellowbrick.cluster     import KElbowVisualizer, SilhouetteVisualizer\n",
    "\n",
    "import sqlite3\n",
    "from sqlalchemy              import create_engine\n",
    "\n",
    "import warnings\n",
    "warnings.filterwarnings('ignore')"
   ]
  },
  {
   "cell_type": "markdown",
   "id": "6cb4e166",
   "metadata": {},
   "source": [
    "## 0.1 Helper Functions"
   ]
  },
  {
   "cell_type": "code",
   "execution_count": 2,
   "id": "a8b3e1ce",
   "metadata": {
    "ExecuteTime": {
     "end_time": "2022-12-15T18:45:32.663641Z",
     "start_time": "2022-12-15T18:45:32.645215Z"
    }
   },
   "outputs": [],
   "source": [
    "def get_silhouettes( data, labels ):\n",
    "    \n",
    "    silhouette_scores = []\n",
    "\n",
    "    for label in labels:\n",
    "\n",
    "        # model performance\n",
    "            sil = m.silhouette_score( data, label, metric = 'euclidean' )\n",
    "            silhouette_scores.append( np.round(sil,2) )\n",
    "    \n",
    "    return silhouette_scores\n",
    "\n",
    "def plot_clusters( data, k, labels ):\n",
    "    \n",
    "    data = data.copy()\n",
    "    data.columns = ['embedding_x', 'embedding_y']\n",
    "    \n",
    "    nrows = len(k) // 4 if len(k) % 4 == 0 else (len(k)//4) + 1\n",
    "    fig = plt.figure(figsize = (21,18) ) \n",
    "    specs = gridspec.GridSpec( ncols = 4, nrows = nrows, figure = fig, wspace = .3, hspace = .3 )\n",
    "    \n",
    "    plots = []\n",
    "    \n",
    "    silhouettes = get_silhouettes( data, labels)\n",
    "    \n",
    "    for i in range(nrows):\n",
    "        for j in range(4):\n",
    "            ax = fig.add_subplot( specs[ i, j ] )\n",
    "            plots.append( ax )\n",
    "    \n",
    "    for i in range(len( k )):\n",
    "       \n",
    "        # model evaluation\n",
    "        sil = silhouettes[i]\n",
    "        \n",
    "        data['cluster'] = labels[i]\n",
    "        \n",
    "        sns.scatterplot(data = data, x='embedding_x',y='embedding_y', \n",
    "                        hue = 'cluster', palette = 'deep', \n",
    "                        ax = plots[i], legend = False)\n",
    "        \n",
    "        \n",
    "        title = \"Num. Clusters = \" + str(k[i]) + \" | Silhouette Score: \" + str(np.round(sil,2))\n",
    "        plots[i].set_title( title )\n",
    "        plots[i].set_xlabel(xlabel = \"\")\n",
    "        plots[i].set_ylabel(ylabel = \"\")\n",
    "\n",
    "        \n",
    "def best_silhouette( data, k, labels ):\n",
    "    \n",
    "    silhouettes = get_silhouettes( data = data, labels = labels )\n",
    "\n",
    "    plt.figure( figsize = ( 10, 6 ))\n",
    "    plt.plot( k, silhouettes, linestyle = '--', marker = 'o', color = 'b')\n",
    "    plt.xlabel( 'K' );\n",
    "    plt.ylabel( 'Silhouette Score' );\n",
    "    plt.title( 'Silhouette Score x K' );\n",
    "    \n",
    "\n",
    "def plot_cluster_silhouette(X, labels, k):\n",
    "    \n",
    "    fig, ax = plt.subplots( 1, 1 )\n",
    "    fig.set_size_inches( 8, 7 )\n",
    "\n",
    "    ax.set_xlim( [ -0.1, 1 ] )\n",
    "    ax.set_ylim( [ 0, len( X ) + ( k + 1 ) * 10] )\n",
    "    \n",
    "    samples_silhouette_values = m.silhouette_samples( X, labels )\n",
    "\n",
    "    y_lower = 10\n",
    "    for i in range( k ):\n",
    "\n",
    "        # select clusters\n",
    "        ith_samples_silhouette_values = samples_silhouette_values[ labels == i]\n",
    "        \n",
    "        # sort values\n",
    "        ith_samples_silhouette_values.sort()\n",
    "\n",
    "        # size clusters\n",
    "        size_cluster_i = ith_samples_silhouette_values.shape[0]\n",
    "        y_upper = y_lower + size_cluster_i\n",
    "        \n",
    "        cmap = plt.get_cmap( 'Spectral' )\n",
    "        color = cmap( i / k )\n",
    "\n",
    "        ax.fill_betweenx( np.arange( y_lower, y_upper ), 0, ith_samples_silhouette_values  )\n",
    "        \n",
    "        y_lower = y_upper + 10\n",
    "\n",
    "    ax.set_yticks([])\n",
    "    ax.set_xticks( [-0.1, 0, 0.2, 0.4, 0.6, 0.8, 1])\n",
    "    ax.legend( np.unique(labels) )\n",
    "    ax.set_title(\" Clusters Silhouettes\")"
   ]
  },
  {
   "cell_type": "markdown",
   "id": "db274fc1",
   "metadata": {},
   "source": [
    "## 0.2 Loading Dataset"
   ]
  },
  {
   "cell_type": "code",
   "execution_count": 3,
   "id": "09a5d3b9",
   "metadata": {
    "ExecuteTime": {
     "end_time": "2022-12-15T18:46:31.904591Z",
     "start_time": "2022-12-15T18:45:32.666037Z"
    }
   },
   "outputs": [],
   "source": [
    "# AWS\n",
    "aws_access_key_id = os.environ['AWS_ACCESS_KEY_ID']\n",
    "aws_secret_access_key = os.environ['AWS_SECRET_ACCESS_KEY']\n",
    "\n",
    "client = boto3.client(\n",
    "    's3',\n",
    "    aws_access_key_id = aws_access_key_id,\n",
    "    aws_secret_access_key = aws_secret_access_key)\n",
    "    #aws_session_token=SESSION_TOKEN)\n",
    "\n",
    "obj = client.get_object(Bucket= 'insiders-dataset-clusters', Key= 'Ecommerce.csv')   \n",
    "\n",
    "ecommerce = pd.read_csv(io.BytesIO(obj['Body'].read()), encoding='latin1')\n",
    "\n",
    "# # Drop extra column\n",
    "ecommerce = ecommerce.iloc[:,:-1]"
   ]
  },
  {
   "cell_type": "markdown",
   "id": "eb37cab1",
   "metadata": {},
   "source": [
    "# 1.0. Data description"
   ]
  },
  {
   "cell_type": "code",
   "execution_count": 4,
   "id": "cf9276dc",
   "metadata": {
    "ExecuteTime": {
     "end_time": "2022-12-15T18:46:37.897044Z",
     "start_time": "2022-12-15T18:46:37.870292Z"
    }
   },
   "outputs": [],
   "source": [
    "ecommerce1 = ecommerce.copy()"
   ]
  },
  {
   "cell_type": "markdown",
   "id": "1e9f774d",
   "metadata": {},
   "source": [
    "## 1.1. Rename Columns"
   ]
  },
  {
   "cell_type": "code",
   "execution_count": 5,
   "id": "a4945b5b",
   "metadata": {
    "ExecuteTime": {
     "end_time": "2022-12-15T18:46:39.654423Z",
     "start_time": "2022-12-15T18:46:39.645512Z"
    }
   },
   "outputs": [],
   "source": [
    "new_cols =  ['invoice_no', 'stock_code','description', 'quantity', 'invoice_date', 'unit_price', 'customer_id', 'country']\n",
    "ecommerce1.columns = new_cols"
   ]
  },
  {
   "cell_type": "markdown",
   "id": "bdd17374",
   "metadata": {},
   "source": [
    "## 1.2. Data Dimensions"
   ]
  },
  {
   "cell_type": "code",
   "execution_count": 6,
   "id": "f7924b48",
   "metadata": {
    "ExecuteTime": {
     "end_time": "2022-12-15T18:46:41.317216Z",
     "start_time": "2022-12-15T18:46:41.293023Z"
    }
   },
   "outputs": [
    {
     "data": {
      "text/plain": [
       "(541909, 8)"
      ]
     },
     "execution_count": 6,
     "metadata": {},
     "output_type": "execute_result"
    }
   ],
   "source": [
    "ecommerce1.shape"
   ]
  },
  {
   "cell_type": "markdown",
   "id": "ceb47ef0",
   "metadata": {},
   "source": [
    "## 1.3. Data types"
   ]
  },
  {
   "cell_type": "code",
   "execution_count": 7,
   "id": "073adcd9",
   "metadata": {
    "ExecuteTime": {
     "end_time": "2022-12-15T18:46:43.170278Z",
     "start_time": "2022-12-15T18:46:43.160409Z"
    }
   },
   "outputs": [
    {
     "data": {
      "text/plain": [
       "invoice_no       object\n",
       "stock_code       object\n",
       "description      object\n",
       "quantity          int64\n",
       "invoice_date     object\n",
       "unit_price      float64\n",
       "customer_id     float64\n",
       "country          object\n",
       "dtype: object"
      ]
     },
     "execution_count": 7,
     "metadata": {},
     "output_type": "execute_result"
    }
   ],
   "source": [
    "ecommerce1.dtypes"
   ]
  },
  {
   "cell_type": "markdown",
   "id": "5d7c4a9d",
   "metadata": {},
   "source": [
    "## 1.4. Check NA"
   ]
  },
  {
   "cell_type": "code",
   "execution_count": 8,
   "id": "926dc7fa",
   "metadata": {
    "ExecuteTime": {
     "end_time": "2022-12-15T18:46:44.349706Z",
     "start_time": "2022-12-15T18:46:43.980668Z"
    },
    "scrolled": false
   },
   "outputs": [
    {
     "data": {
      "text/plain": [
       "invoice_no           0\n",
       "stock_code           0\n",
       "description       1454\n",
       "quantity             0\n",
       "invoice_date         0\n",
       "unit_price           0\n",
       "customer_id     135080\n",
       "country              0\n",
       "dtype: int64"
      ]
     },
     "execution_count": 8,
     "metadata": {},
     "output_type": "execute_result"
    }
   ],
   "source": [
    "ecommerce1.isna().sum()"
   ]
  },
  {
   "cell_type": "markdown",
   "id": "37d4d226",
   "metadata": {},
   "source": [
    "## 1.5. Replace NA"
   ]
  },
  {
   "cell_type": "code",
   "execution_count": 9,
   "id": "0c767c92",
   "metadata": {
    "ExecuteTime": {
     "end_time": "2022-12-15T18:46:45.410523Z",
     "start_time": "2022-12-15T18:46:45.325556Z"
    }
   },
   "outputs": [],
   "source": [
    "# Missing values on customer ID\n",
    "ecommerce_missing = ecommerce1[ecommerce1['customer_id'].isna()]\n",
    "ecommerce_not_missing = ecommerce1[~ecommerce1['customer_id'].isna()]"
   ]
  },
  {
   "cell_type": "code",
   "execution_count": 10,
   "id": "74860748",
   "metadata": {
    "ExecuteTime": {
     "end_time": "2022-12-15T18:46:46.417552Z",
     "start_time": "2022-12-15T18:46:46.227452Z"
    }
   },
   "outputs": [],
   "source": [
    "ecommerce_missing_customerid = ecommerce_missing[['invoice_no','customer_id']].drop_duplicates()\n",
    "ecommerce_missing_customerid['customer_id'] = np.arange( 19000, 19000 + len(ecommerce_missing_customerid), 1 )\n",
    "ecommerce_missing = pd.merge(ecommerce_missing.drop('customer_id', axis = 1), ecommerce_missing_customerid, on = 'invoice_no', how = 'left')\n",
    "ecommerce_missing = ecommerce_missing[ecommerce_not_missing.columns]\n",
    "ecommerce1 = pd.concat([ecommerce_missing, ecommerce_not_missing])"
   ]
  },
  {
   "cell_type": "code",
   "execution_count": 11,
   "id": "28eea467",
   "metadata": {
    "ExecuteTime": {
     "end_time": "2022-12-15T18:46:47.542032Z",
     "start_time": "2022-12-15T18:46:47.148222Z"
    }
   },
   "outputs": [
    {
     "data": {
      "text/plain": [
       "invoice_no         0\n",
       "stock_code         0\n",
       "description     1454\n",
       "quantity           0\n",
       "invoice_date       0\n",
       "unit_price         0\n",
       "customer_id        0\n",
       "country            0\n",
       "dtype: int64"
      ]
     },
     "execution_count": 11,
     "metadata": {},
     "output_type": "execute_result"
    }
   ],
   "source": [
    "ecommerce1.isna().sum()"
   ]
  },
  {
   "cell_type": "markdown",
   "id": "144d703d",
   "metadata": {},
   "source": [
    "## 1.6. Change Dtypes"
   ]
  },
  {
   "cell_type": "code",
   "execution_count": 12,
   "id": "daaad1c8",
   "metadata": {
    "ExecuteTime": {
     "end_time": "2022-12-15T18:46:51.628381Z",
     "start_time": "2022-12-15T18:46:51.556912Z"
    }
   },
   "outputs": [],
   "source": [
    "# Invoice date\n",
    "ecommerce1['invoice_date'] = pd.to_datetime(ecommerce1['invoice_date'], format = '%d-%b-%y')\n",
    "\n",
    "# Customer id\n",
    "ecommerce1['customer_id'] = ecommerce1['customer_id'].astype(np.int64)"
   ]
  },
  {
   "cell_type": "code",
   "execution_count": 13,
   "id": "bde5f918",
   "metadata": {
    "ExecuteTime": {
     "end_time": "2022-12-15T18:46:52.780200Z",
     "start_time": "2022-12-15T18:46:52.335112Z"
    }
   },
   "outputs": [
    {
     "data": {
      "text/html": [
       "<div>\n",
       "<style scoped>\n",
       "    .dataframe tbody tr th:only-of-type {\n",
       "        vertical-align: middle;\n",
       "    }\n",
       "\n",
       "    .dataframe tbody tr th {\n",
       "        vertical-align: top;\n",
       "    }\n",
       "\n",
       "    .dataframe thead th {\n",
       "        text-align: right;\n",
       "    }\n",
       "</style>\n",
       "<table border=\"1\" class=\"dataframe\">\n",
       "  <thead>\n",
       "    <tr style=\"text-align: right;\">\n",
       "      <th></th>\n",
       "      <th>invoice_no</th>\n",
       "      <th>stock_code</th>\n",
       "      <th>description</th>\n",
       "      <th>quantity</th>\n",
       "      <th>invoice_date</th>\n",
       "      <th>unit_price</th>\n",
       "      <th>customer_id</th>\n",
       "      <th>country</th>\n",
       "    </tr>\n",
       "  </thead>\n",
       "  <tbody>\n",
       "    <tr>\n",
       "      <th>0</th>\n",
       "      <td>536365</td>\n",
       "      <td>85123A</td>\n",
       "      <td>WHITE HANGING HEART T-LIGHT HOLDER</td>\n",
       "      <td>6</td>\n",
       "      <td>2016-11-29</td>\n",
       "      <td>2.55</td>\n",
       "      <td>17850</td>\n",
       "      <td>United Kingdom</td>\n",
       "    </tr>\n",
       "    <tr>\n",
       "      <th>6</th>\n",
       "      <td>536365</td>\n",
       "      <td>21730</td>\n",
       "      <td>GLASS STAR FROSTED T-LIGHT HOLDER</td>\n",
       "      <td>6</td>\n",
       "      <td>2016-11-29</td>\n",
       "      <td>4.25</td>\n",
       "      <td>17850</td>\n",
       "      <td>United Kingdom</td>\n",
       "    </tr>\n",
       "    <tr>\n",
       "      <th>5</th>\n",
       "      <td>536365</td>\n",
       "      <td>22752</td>\n",
       "      <td>SET 7 BABUSHKA NESTING BOXES</td>\n",
       "      <td>2</td>\n",
       "      <td>2016-11-29</td>\n",
       "      <td>7.65</td>\n",
       "      <td>17850</td>\n",
       "      <td>United Kingdom</td>\n",
       "    </tr>\n",
       "    <tr>\n",
       "      <th>1</th>\n",
       "      <td>536365</td>\n",
       "      <td>71053</td>\n",
       "      <td>WHITE METAL LANTERN</td>\n",
       "      <td>6</td>\n",
       "      <td>2016-11-29</td>\n",
       "      <td>3.39</td>\n",
       "      <td>17850</td>\n",
       "      <td>United Kingdom</td>\n",
       "    </tr>\n",
       "    <tr>\n",
       "      <th>3</th>\n",
       "      <td>536365</td>\n",
       "      <td>84029G</td>\n",
       "      <td>KNITTED UNION FLAG HOT WATER BOTTLE</td>\n",
       "      <td>6</td>\n",
       "      <td>2016-11-29</td>\n",
       "      <td>3.39</td>\n",
       "      <td>17850</td>\n",
       "      <td>United Kingdom</td>\n",
       "    </tr>\n",
       "  </tbody>\n",
       "</table>\n",
       "</div>"
      ],
      "text/plain": [
       "  invoice_no stock_code                          description  quantity  \\\n",
       "0     536365     85123A   WHITE HANGING HEART T-LIGHT HOLDER         6   \n",
       "6     536365      21730    GLASS STAR FROSTED T-LIGHT HOLDER         6   \n",
       "5     536365      22752         SET 7 BABUSHKA NESTING BOXES         2   \n",
       "1     536365      71053                  WHITE METAL LANTERN         6   \n",
       "3     536365     84029G  KNITTED UNION FLAG HOT WATER BOTTLE         6   \n",
       "\n",
       "  invoice_date  unit_price  customer_id         country  \n",
       "0   2016-11-29        2.55        17850  United Kingdom  \n",
       "6   2016-11-29        4.25        17850  United Kingdom  \n",
       "5   2016-11-29        7.65        17850  United Kingdom  \n",
       "1   2016-11-29        3.39        17850  United Kingdom  \n",
       "3   2016-11-29        3.39        17850  United Kingdom  "
      ]
     },
     "execution_count": 13,
     "metadata": {},
     "output_type": "execute_result"
    }
   ],
   "source": [
    "ecommerce1.sort_values('invoice_no').head()"
   ]
  },
  {
   "cell_type": "markdown",
   "id": "66681528",
   "metadata": {},
   "source": [
    "## 1.7. Drop Duplicates"
   ]
  },
  {
   "cell_type": "code",
   "execution_count": 14,
   "id": "d04b49ff",
   "metadata": {
    "ExecuteTime": {
     "end_time": "2022-12-15T18:46:54.473946Z",
     "start_time": "2022-12-15T18:46:54.468565Z"
    }
   },
   "outputs": [],
   "source": [
    "#ecommerce1 = ecommerce1.drop_duplicates()"
   ]
  },
  {
   "cell_type": "markdown",
   "id": "30623aa6",
   "metadata": {},
   "source": [
    "## 1.8. Descriptive Statistics"
   ]
  },
  {
   "cell_type": "code",
   "execution_count": 15,
   "id": "a6d80b52",
   "metadata": {
    "ExecuteTime": {
     "end_time": "2022-12-15T18:46:56.161764Z",
     "start_time": "2022-12-15T18:46:56.060470Z"
    }
   },
   "outputs": [],
   "source": [
    "num_attributes = ecommerce1.select_dtypes( include = ['int64', 'float64'])\n",
    "cat_attributes = ecommerce1.select_dtypes( exclude = ['int64', 'float64', 'datetime64[ns]'])"
   ]
  },
  {
   "cell_type": "markdown",
   "id": "4d5a3bc3",
   "metadata": {},
   "source": [
    "### 1.8.1. Numerical Attributes"
   ]
  },
  {
   "cell_type": "code",
   "execution_count": 16,
   "id": "2e991fa8",
   "metadata": {
    "ExecuteTime": {
     "end_time": "2022-12-15T18:46:57.614846Z",
     "start_time": "2022-12-15T18:46:57.485900Z"
    }
   },
   "outputs": [
    {
     "data": {
      "text/html": [
       "<div>\n",
       "<style scoped>\n",
       "    .dataframe tbody tr th:only-of-type {\n",
       "        vertical-align: middle;\n",
       "    }\n",
       "\n",
       "    .dataframe tbody tr th {\n",
       "        vertical-align: top;\n",
       "    }\n",
       "\n",
       "    .dataframe thead th {\n",
       "        text-align: right;\n",
       "    }\n",
       "</style>\n",
       "<table border=\"1\" class=\"dataframe\">\n",
       "  <thead>\n",
       "    <tr style=\"text-align: right;\">\n",
       "      <th></th>\n",
       "      <th>attributes</th>\n",
       "      <th>min</th>\n",
       "      <th>max</th>\n",
       "      <th>range</th>\n",
       "      <th>mean</th>\n",
       "      <th>median</th>\n",
       "      <th>std</th>\n",
       "      <th>skew</th>\n",
       "      <th>kurtosis</th>\n",
       "    </tr>\n",
       "  </thead>\n",
       "  <tbody>\n",
       "    <tr>\n",
       "      <th>0</th>\n",
       "      <td>quantity</td>\n",
       "      <td>-80995.00</td>\n",
       "      <td>80995.0</td>\n",
       "      <td>161990.00</td>\n",
       "      <td>9.552250</td>\n",
       "      <td>3.00</td>\n",
       "      <td>218.080957</td>\n",
       "      <td>80995.264076</td>\n",
       "      <td>-38774.160031</td>\n",
       "    </tr>\n",
       "    <tr>\n",
       "      <th>1</th>\n",
       "      <td>unit_price</td>\n",
       "      <td>-11062.06</td>\n",
       "      <td>38970.0</td>\n",
       "      <td>50032.06</td>\n",
       "      <td>4.611114</td>\n",
       "      <td>2.08</td>\n",
       "      <td>96.759764</td>\n",
       "      <td>38783.493028</td>\n",
       "      <td>-20035.719097</td>\n",
       "    </tr>\n",
       "    <tr>\n",
       "      <th>2</th>\n",
       "      <td>customer_id</td>\n",
       "      <td>12346.00</td>\n",
       "      <td>22709.0</td>\n",
       "      <td>10363.00</td>\n",
       "      <td>16688.840453</td>\n",
       "      <td>16249.00</td>\n",
       "      <td>2911.408666</td>\n",
       "      <td>22708.512551</td>\n",
       "      <td>22709.804287</td>\n",
       "    </tr>\n",
       "  </tbody>\n",
       "</table>\n",
       "</div>"
      ],
      "text/plain": [
       "    attributes       min      max      range          mean    median  \\\n",
       "0     quantity -80995.00  80995.0  161990.00      9.552250      3.00   \n",
       "1   unit_price -11062.06  38970.0   50032.06      4.611114      2.08   \n",
       "2  customer_id  12346.00  22709.0   10363.00  16688.840453  16249.00   \n",
       "\n",
       "           std          skew      kurtosis  \n",
       "0   218.080957  80995.264076 -38774.160031  \n",
       "1    96.759764  38783.493028 -20035.719097  \n",
       "2  2911.408666  22708.512551  22709.804287  "
      ]
     },
     "execution_count": 16,
     "metadata": {},
     "output_type": "execute_result"
    }
   ],
   "source": [
    "# Central tendency (mean, median)\n",
    "ct1 = ( num_attributes.apply( np.mean ) ).T\n",
    "ct2 = ( num_attributes.apply( np.median ) ).T\n",
    "# Dispersion ( std, min, max. range, skew, kurtosis)\n",
    "d1 = ( num_attributes.apply( np.std ) ).T\n",
    "d2 = ( num_attributes.apply( np.min ) ).T\n",
    "d3 = ( num_attributes.apply( np.max ) ).T\n",
    "d4 = ( num_attributes.apply( lambda x: x.max() - x.min() ) ).T\n",
    "d5 = ( num_attributes.apply( lambda x: x.max() - x.skew() ) ).T\n",
    "d6 = ( num_attributes.apply( lambda x: x.max() - x.kurtosis() ) ).T\n",
    "\n",
    "# Concatenate\n",
    "ecommerce_stats = pd.concat( [d2, d3, d4, ct1, ct2, d1, d5, d6], axis = 1 ).reset_index()\n",
    "ecommerce_stats.columns = ['attributes','min','max', 'range', 'mean', 'median',' std',' skew', 'kurtosis']\n",
    "ecommerce_stats"
   ]
  },
  {
   "cell_type": "markdown",
   "id": "cf204385",
   "metadata": {},
   "source": [
    "### 1.8.2. Categorical Attributes"
   ]
  },
  {
   "cell_type": "markdown",
   "id": "42548006",
   "metadata": {},
   "source": [
    "##### Invoice Number"
   ]
  },
  {
   "cell_type": "code",
   "execution_count": 17,
   "id": "8b379702",
   "metadata": {
    "ExecuteTime": {
     "end_time": "2022-12-15T18:46:59.891307Z",
     "start_time": "2022-12-15T18:46:59.014137Z"
    }
   },
   "outputs": [
    {
     "name": "stdout",
     "output_type": "stream",
     "text": [
      "Total number of invoices number with letter:  9291 \n",
      "Total number of negative quantity:  9288\n"
     ]
    }
   ],
   "source": [
    " # Invoice number\n",
    "invoices_w_letters = ecommerce1.loc[ecommerce1['invoice_no'].apply( lambda x: bool( re.search( '[^0-9]+', x ) ) ), : ]\n",
    "negative_quantity = len( invoices_w_letters.loc[invoices_w_letters['quantity'] < 0, : ] )\n",
    "print('Total number of invoices number with letter: ',len( invoices_w_letters ), '\\nTotal number of negative quantity: ', negative_quantity)"
   ]
  },
  {
   "cell_type": "markdown",
   "id": "1c70018e",
   "metadata": {},
   "source": [
    "##### Stock code"
   ]
  },
  {
   "cell_type": "code",
   "execution_count": 18,
   "id": "45ad4afa",
   "metadata": {
    "ExecuteTime": {
     "end_time": "2022-12-15T18:47:01.342679Z",
     "start_time": "2022-12-15T18:47:00.587901Z"
    }
   },
   "outputs": [
    {
     "data": {
      "text/plain": [
       "array(['DOT', 'M', 'S', 'AMAZONFEE', 'm', 'POST', 'DCGSSBOY', 'DCGSSGIRL',\n",
       "       'B', 'D', 'PADS', 'CRUK'], dtype=object)"
      ]
     },
     "execution_count": 18,
     "metadata": {},
     "output_type": "execute_result"
    }
   ],
   "source": [
    "# Stock code\n",
    "# Check only characters on stock code\n",
    "ecommerce1.loc[ecommerce1['stock_code'].apply( lambda x: bool( re.search( '^[a-zA-Z]+$',  x ) ) ), 'stock_code' ].unique()\n",
    "\n",
    "# Action: Remove stock code in ['DOT', 'M', 'S', 'AMAZONFEE', 'm', 'POST', 'DCGSSBOY', 'DCGSSGIRL', 'B', 'D', 'PADS', 'CRUK']\n"
   ]
  },
  {
   "cell_type": "markdown",
   "id": "c4715144",
   "metadata": {},
   "source": [
    "##### Description"
   ]
  },
  {
   "cell_type": "code",
   "execution_count": 20,
   "id": "3919b91a",
   "metadata": {
    "ExecuteTime": {
     "end_time": "2022-12-15T17:44:17.361554Z",
     "start_time": "2022-12-15T17:44:17.358009Z"
    }
   },
   "outputs": [],
   "source": [
    "# Action: delete description"
   ]
  },
  {
   "cell_type": "markdown",
   "id": "987194e5",
   "metadata": {},
   "source": [
    "##### Country"
   ]
  },
  {
   "cell_type": "code",
   "execution_count": 19,
   "id": "4d20ce18",
   "metadata": {
    "ExecuteTime": {
     "end_time": "2022-12-15T18:47:02.560679Z",
     "start_time": "2022-12-15T18:47:02.532931Z"
    }
   },
   "outputs": [
    {
     "data": {
      "text/plain": [
       "array(['United Kingdom', 'EIRE', 'Bahrain', 'Israel', 'Hong Kong',\n",
       "       'Unspecified', 'France', 'Switzerland', 'Portugal', 'Australia',\n",
       "       'Netherlands', 'Germany', 'Norway', 'Spain', 'Poland', 'Italy',\n",
       "       'Belgium', 'Lithuania', 'Japan', 'Iceland', 'Channel Islands',\n",
       "       'Denmark', 'Cyprus', 'Sweden', 'Austria', 'Finland', 'Greece',\n",
       "       'Singapore', 'Lebanon', 'United Arab Emirates', 'Saudi Arabia',\n",
       "       'Czech Republic', 'Canada', 'Brazil', 'USA', 'European Community',\n",
       "       'Malta', 'RSA'], dtype=object)"
      ]
     },
     "execution_count": 19,
     "metadata": {},
     "output_type": "execute_result"
    }
   ],
   "source": [
    "ecommerce1['country'].unique()"
   ]
  },
  {
   "cell_type": "code",
   "execution_count": 20,
   "id": "10ea5f53",
   "metadata": {
    "ExecuteTime": {
     "end_time": "2022-12-15T18:47:04.534355Z",
     "start_time": "2022-12-15T18:47:04.445134Z"
    },
    "scrolled": true
   },
   "outputs": [
    {
     "data": {
      "text/plain": [
       "United Kingdom          0.914320\n",
       "Germany                 0.017521\n",
       "France                  0.015790\n",
       "EIRE                    0.015124\n",
       "Spain                   0.004674\n",
       "Netherlands             0.004375\n",
       "Belgium                 0.003818\n",
       "Switzerland             0.003694\n",
       "Portugal                0.002803\n",
       "Australia               0.002323\n",
       "Norway                  0.002004\n",
       "Italy                   0.001482\n",
       "Channel Islands         0.001399\n",
       "Finland                 0.001283\n",
       "Cyprus                  0.001148\n",
       "Sweden                  0.000853\n",
       "Unspecified             0.000823\n",
       "Austria                 0.000740\n",
       "Denmark                 0.000718\n",
       "Japan                   0.000661\n",
       "Poland                  0.000629\n",
       "Israel                  0.000548\n",
       "USA                     0.000537\n",
       "Hong Kong               0.000531\n",
       "Singapore               0.000423\n",
       "Iceland                 0.000336\n",
       "Canada                  0.000279\n",
       "Greece                  0.000269\n",
       "Malta                   0.000234\n",
       "United Arab Emirates    0.000125\n",
       "European Community      0.000113\n",
       "RSA                     0.000107\n",
       "Lebanon                 0.000083\n",
       "Lithuania               0.000065\n",
       "Brazil                  0.000059\n",
       "Czech Republic          0.000055\n",
       "Bahrain                 0.000035\n",
       "Saudi Arabia            0.000018\n",
       "Name: country, dtype: float64"
      ]
     },
     "execution_count": 20,
     "metadata": {},
     "output_type": "execute_result"
    }
   ],
   "source": [
    "ecommerce1['country'].value_counts(normalize = True)"
   ]
  },
  {
   "cell_type": "code",
   "execution_count": 21,
   "id": "8709b3d6",
   "metadata": {
    "ExecuteTime": {
     "end_time": "2022-12-15T18:47:07.299381Z",
     "start_time": "2022-12-15T18:47:07.196383Z"
    }
   },
   "outputs": [
    {
     "data": {
      "text/html": [
       "<div>\n",
       "<style scoped>\n",
       "    .dataframe tbody tr th:only-of-type {\n",
       "        vertical-align: middle;\n",
       "    }\n",
       "\n",
       "    .dataframe tbody tr th {\n",
       "        vertical-align: top;\n",
       "    }\n",
       "\n",
       "    .dataframe thead th {\n",
       "        text-align: right;\n",
       "    }\n",
       "</style>\n",
       "<table border=\"1\" class=\"dataframe\">\n",
       "  <thead>\n",
       "    <tr style=\"text-align: right;\">\n",
       "      <th></th>\n",
       "      <th>country</th>\n",
       "      <th>customer_id</th>\n",
       "    </tr>\n",
       "  </thead>\n",
       "  <tbody>\n",
       "    <tr>\n",
       "      <th>36</th>\n",
       "      <td>United Kingdom</td>\n",
       "      <td>7587</td>\n",
       "    </tr>\n",
       "    <tr>\n",
       "      <th>14</th>\n",
       "      <td>Germany</td>\n",
       "      <td>95</td>\n",
       "    </tr>\n",
       "    <tr>\n",
       "      <th>13</th>\n",
       "      <td>France</td>\n",
       "      <td>90</td>\n",
       "    </tr>\n",
       "    <tr>\n",
       "      <th>10</th>\n",
       "      <td>EIRE</td>\n",
       "      <td>44</td>\n",
       "    </tr>\n",
       "  </tbody>\n",
       "</table>\n",
       "</div>"
      ],
      "text/plain": [
       "           country  customer_id\n",
       "36  United Kingdom         7587\n",
       "14         Germany           95\n",
       "13          France           90\n",
       "10            EIRE           44"
      ]
     },
     "execution_count": 21,
     "metadata": {},
     "output_type": "execute_result"
    }
   ],
   "source": [
    "ecommerce1[['customer_id','country']].drop_duplicates().groupby('country').count().reset_index().sort_values(by = 'customer_id', ascending = False).head(4)"
   ]
  },
  {
   "cell_type": "markdown",
   "id": "4ac55ad1",
   "metadata": {},
   "source": [
    "# 2.0. Data Filtering"
   ]
  },
  {
   "cell_type": "code",
   "execution_count": null,
   "id": "a2bb4949",
   "metadata": {
    "ExecuteTime": {
     "start_time": "2022-12-15T18:47:09.039Z"
    }
   },
   "outputs": [],
   "source": [
    "ecommerce2 = ecommerce1"
   ]
  },
  {
   "cell_type": "code",
   "execution_count": 25,
   "id": "ced7cf42",
   "metadata": {
    "ExecuteTime": {
     "end_time": "2022-12-15T17:44:19.494243Z",
     "start_time": "2022-12-15T17:44:19.179718Z"
    }
   },
   "outputs": [],
   "source": [
    "# Drop description column\n",
    "ecommerce2 = ecommerce2.drop('description', axis = 1)"
   ]
  },
  {
   "cell_type": "code",
   "execution_count": 26,
   "id": "5fc89e87",
   "metadata": {
    "ExecuteTime": {
     "end_time": "2022-12-15T17:44:19.991336Z",
     "start_time": "2022-12-15T17:44:19.498289Z"
    }
   },
   "outputs": [],
   "source": [
    "# Categorical attributes\n",
    "\n",
    "# Stock code\n",
    "ecommerce2 = ecommerce2[~ecommerce2['stock_code'].isin(['DOT', 'M', 'S', 'AMAZONFEE', 'm', 'POST', 'DCGSSBOY', 'DCGSSGIRL', 'B', 'D', 'PADS', 'CRUK'])]\n",
    "\n",
    "# Country\n",
    "ecommerce2 = ecommerce2[~ecommerce2['country'].isin( ['European Community', 'Unspecified'] )] \n",
    "\n",
    "# Numerical attributes\n",
    "\n",
    "# Unit price\n",
    "ecommerce2 = ecommerce2[ecommerce2['unit_price'] >= 0.04]\n",
    "\n",
    "# Bad users\n",
    "ecommerce2 = ecommerce2[~ecommerce2['customer_id'].isin( [16446] )]\n",
    "\n",
    "# Quantity\n",
    "ecommerce_returns = ecommerce2.loc[ecommerce2['quantity'] < 0, : ] \n",
    "ecommerce_purchases = ecommerce2.loc[ecommerce2['quantity'] >= 0, : ] "
   ]
  },
  {
   "cell_type": "markdown",
   "id": "5d69dffc",
   "metadata": {},
   "source": [
    "# 3.0. Feature Engineering"
   ]
  },
  {
   "cell_type": "code",
   "execution_count": 27,
   "id": "5e3beb9a",
   "metadata": {
    "ExecuteTime": {
     "end_time": "2022-12-15T17:44:20.136984Z",
     "start_time": "2022-12-15T17:44:19.993401Z"
    }
   },
   "outputs": [],
   "source": [
    "ecommerce3 = ecommerce2"
   ]
  },
  {
   "cell_type": "code",
   "execution_count": 28,
   "id": "d6edf8ab",
   "metadata": {
    "ExecuteTime": {
     "end_time": "2022-12-15T17:44:20.444567Z",
     "start_time": "2022-12-15T17:44:20.146515Z"
    }
   },
   "outputs": [],
   "source": [
    "customer_df = ecommerce3.drop(['invoice_no', 'stock_code', 'quantity', 'invoice_date', 'unit_price', 'country'], axis = 1).drop_duplicates(ignore_index = True)"
   ]
  },
  {
   "cell_type": "markdown",
   "id": "2bd5d4a8",
   "metadata": {},
   "source": [
    "## 3.1. Feature Creation"
   ]
  },
  {
   "cell_type": "markdown",
   "id": "06ceabda",
   "metadata": {},
   "source": [
    "### 3.1.1. Gross Revenue"
   ]
  },
  {
   "cell_type": "code",
   "execution_count": 29,
   "id": "843b4fa2",
   "metadata": {
    "ExecuteTime": {
     "end_time": "2022-12-15T17:44:20.818729Z",
     "start_time": "2022-12-15T17:44:20.447612Z"
    }
   },
   "outputs": [
    {
     "data": {
      "text/plain": [
       "customer_id       0\n",
       "gross_revenue    91\n",
       "dtype: int64"
      ]
     },
     "execution_count": 29,
     "metadata": {},
     "output_type": "execute_result"
    }
   ],
   "source": [
    "# Gross Revenue\n",
    "ecommerce_purchases['gross_revenue'] = ecommerce_purchases['quantity'] * ecommerce_purchases['unit_price']\n",
    "df_gross_revenue = ecommerce_purchases[['gross_revenue','customer_id']].groupby('customer_id').sum().reset_index()\n",
    "customer_df = pd.merge(customer_df, df_gross_revenue,on = 'customer_id', how = 'left')\n",
    "\n",
    "customer_df.isna().sum()"
   ]
  },
  {
   "cell_type": "markdown",
   "id": "4f324df3",
   "metadata": {},
   "source": [
    "### 3.1.2. Recency"
   ]
  },
  {
   "cell_type": "code",
   "execution_count": 30,
   "id": "b45fdba3",
   "metadata": {
    "ExecuteTime": {
     "end_time": "2022-12-15T17:44:21.386864Z",
     "start_time": "2022-12-15T17:44:20.821329Z"
    }
   },
   "outputs": [
    {
     "data": {
      "text/plain": [
       "customer_id       0\n",
       "gross_revenue    91\n",
       "recency          91\n",
       "dtype: int64"
      ]
     },
     "execution_count": 30,
     "metadata": {},
     "output_type": "execute_result"
    }
   ],
   "source": [
    "# Recency - Last day purchase\n",
    "df_recency = ecommerce_purchases[['customer_id', 'invoice_date']].groupby('customer_id').max().reset_index()\n",
    "df_recency['recency'] = (ecommerce_purchases['invoice_date'].max() - df_recency['invoice_date']).dt.days\n",
    "df_recency = df_recency[['customer_id','recency']].copy()\n",
    "\n",
    "# Merge\n",
    "customer_df = pd.merge(customer_df, df_recency, on = 'customer_id', how = 'left')\n",
    "\n",
    "customer_df.isna().sum()"
   ]
  },
  {
   "cell_type": "markdown",
   "id": "d769cd55",
   "metadata": {},
   "source": [
    "### 3.1.3. Quantity of purchases"
   ]
  },
  {
   "cell_type": "code",
   "execution_count": 31,
   "id": "f428c783",
   "metadata": {
    "ExecuteTime": {
     "end_time": "2022-12-15T17:44:21.751471Z",
     "start_time": "2022-12-15T17:44:21.393587Z"
    }
   },
   "outputs": [
    {
     "data": {
      "text/plain": [
       "customer_id       0\n",
       "gross_revenue    91\n",
       "recency          91\n",
       "qtty_invoices    91\n",
       "dtype: int64"
      ]
     },
     "execution_count": 31,
     "metadata": {},
     "output_type": "execute_result"
    }
   ],
   "source": [
    "# qtty purchased\n",
    "df_frequency = ecommerce_purchases[['invoice_no', 'customer_id']].drop_duplicates().groupby('customer_id').count().reset_index().rename(columns = {'invoice_no' : 'qtty_invoices'})\n",
    "\n",
    "# Merge\n",
    "customer_df = pd.merge(customer_df, df_frequency, on = 'customer_id', how = 'left')\n",
    "customer_df.isna().sum()"
   ]
  },
  {
   "cell_type": "markdown",
   "id": "bb25bd62",
   "metadata": {},
   "source": [
    "### 3.1.4. Quantity of items purchased"
   ]
  },
  {
   "cell_type": "code",
   "execution_count": 32,
   "id": "0d51c704",
   "metadata": {
    "ExecuteTime": {
     "end_time": "2022-12-15T17:44:22.002900Z",
     "start_time": "2022-12-15T17:44:21.753933Z"
    },
    "scrolled": true
   },
   "outputs": [
    {
     "data": {
      "text/plain": [
       "customer_id       0\n",
       "gross_revenue    91\n",
       "recency          91\n",
       "qtty_invoices    91\n",
       "qtty_items       91\n",
       "dtype: int64"
      ]
     },
     "execution_count": 32,
     "metadata": {},
     "output_type": "execute_result"
    }
   ],
   "source": [
    "# qtty purchased\n",
    "df_products = ecommerce_purchases[['quantity', 'customer_id']].groupby('customer_id').sum().reset_index().rename(columns = {'quantity' : 'qtty_items'})\n",
    "\n",
    "# Merge\n",
    "customer_df = pd.merge(customer_df, df_products, on = 'customer_id', how = 'left')\n",
    "\n",
    "customer_df.isna().sum()"
   ]
  },
  {
   "cell_type": "markdown",
   "id": "83d572be",
   "metadata": {},
   "source": [
    "### 3.1.5. Quantity of products purchased"
   ]
  },
  {
   "cell_type": "code",
   "execution_count": 33,
   "id": "a4eda19a",
   "metadata": {
    "ExecuteTime": {
     "end_time": "2022-12-15T17:44:22.397199Z",
     "start_time": "2022-12-15T17:44:22.005098Z"
    }
   },
   "outputs": [
    {
     "data": {
      "text/plain": [
       "customer_id       0\n",
       "gross_revenue    91\n",
       "recency          91\n",
       "qtty_invoices    91\n",
       "qtty_items       91\n",
       "qtty_products    91\n",
       "dtype: int64"
      ]
     },
     "execution_count": 33,
     "metadata": {},
     "output_type": "execute_result"
    }
   ],
   "source": [
    "# qtty purchased\n",
    "df_products = ecommerce_purchases[['stock_code', 'customer_id']].groupby('customer_id').count().reset_index().rename(columns = {'stock_code' : 'qtty_products'})\n",
    "\n",
    "# Merge\n",
    "customer_df = pd.merge(customer_df, df_products, on = 'customer_id', how = 'left')\n",
    "\n",
    "customer_df.isna().sum()"
   ]
  },
  {
   "cell_type": "markdown",
   "id": "29430858",
   "metadata": {},
   "source": [
    "### 3.1.6. Average Ticket"
   ]
  },
  {
   "cell_type": "code",
   "execution_count": 34,
   "id": "cd08fc98",
   "metadata": {
    "ExecuteTime": {
     "end_time": "2022-12-15T17:44:22.778091Z",
     "start_time": "2022-12-15T17:44:22.399465Z"
    }
   },
   "outputs": [
    {
     "data": {
      "text/plain": [
       "customer_id       0\n",
       "gross_revenue    91\n",
       "recency          91\n",
       "qtty_invoices    91\n",
       "qtty_items       91\n",
       "qtty_products    91\n",
       "avg_ticket       91\n",
       "dtype: int64"
      ]
     },
     "execution_count": 34,
     "metadata": {},
     "output_type": "execute_result"
    }
   ],
   "source": [
    "# AVG Ticket\n",
    "df_avgticket = ecommerce_purchases[['customer_id','gross_revenue']].groupby('customer_id').mean().reset_index().rename(columns = {'gross_revenue':'avg_ticket'})\n",
    "\n",
    "# Merge\n",
    "customer_df = pd.merge(customer_df, df_avgticket, on = 'customer_id', how = 'left')\n",
    "\n",
    "customer_df.isna().sum()"
   ]
  },
  {
   "cell_type": "markdown",
   "id": "61c44a7c",
   "metadata": {},
   "source": [
    "### 3.1.7. Average Recency Days"
   ]
  },
  {
   "cell_type": "code",
   "execution_count": 35,
   "id": "18da81e9",
   "metadata": {
    "ExecuteTime": {
     "end_time": "2022-12-15T17:44:23.834474Z",
     "start_time": "2022-12-15T17:44:22.783367Z"
    }
   },
   "outputs": [
    {
     "data": {
      "text/plain": [
       "customer_id            0\n",
       "gross_revenue         91\n",
       "recency               91\n",
       "qtty_invoices         91\n",
       "qtty_items            91\n",
       "qtty_products         91\n",
       "avg_ticket            91\n",
       "avg_recency_days    2816\n",
       "dtype: int64"
      ]
     },
     "execution_count": 35,
     "metadata": {},
     "output_type": "execute_result"
    }
   ],
   "source": [
    "# AVG Recency days\n",
    "aux_recency = ecommerce2[['customer_id','invoice_date']].drop_duplicates().sort_values( ['customer_id','invoice_date'], ascending = [True, True])\n",
    "aux_recency['next_customer_id'] = aux_recency['customer_id'].shift()\n",
    "aux_recency['previous_date'] = aux_recency['invoice_date'].shift()\n",
    "aux_recency['avg_recency_days'] = aux_recency.apply( lambda x:( ( x['invoice_date'] - x['previous_date'] ).days if x['customer_id'] == x['next_customer_id'] else np.nan), axis = 1 )\n",
    "aux_recency = aux_recency.drop( ['invoice_date','next_customer_id','previous_date'], axis = 1).dropna()\n",
    "aux_recency = aux_recency.groupby('customer_id').mean().reset_index()\n",
    "\n",
    "# Merge\n",
    "customer_df = pd.merge(customer_df, aux_recency, on = 'customer_id', how = 'left')\n",
    "\n",
    "customer_df.isna().sum()"
   ]
  },
  {
   "cell_type": "markdown",
   "id": "b6ce8b76",
   "metadata": {},
   "source": [
    "### 3.1.8. Fequecy Purchase"
   ]
  },
  {
   "cell_type": "code",
   "execution_count": 36,
   "id": "89f8a49f",
   "metadata": {
    "ExecuteTime": {
     "end_time": "2022-12-15T17:44:24.008897Z",
     "start_time": "2022-12-15T17:44:23.837226Z"
    }
   },
   "outputs": [
    {
     "data": {
      "text/plain": [
       "customer_id            0\n",
       "gross_revenue         91\n",
       "recency               91\n",
       "qtty_invoices         91\n",
       "qtty_items            91\n",
       "qtty_products         91\n",
       "avg_ticket            91\n",
       "avg_recency_days    2816\n",
       "frequency              0\n",
       "dtype: int64"
      ]
     },
     "execution_count": 36,
     "metadata": {},
     "output_type": "execute_result"
    }
   ],
   "source": [
    "# Frquency purchase\n",
    "frequency_df = (\n",
    "                ecommerce2[['customer_id','invoice_no', 'invoice_date']].drop_duplicates()\n",
    "                                                                        .groupby('customer_id')\n",
    "                                                                        .agg( max_date = ('invoice_date', 'max'),\n",
    "                                                                              min_date = ('invoice_date', 'min'),\n",
    "                                                                              qtty_purchases = ('invoice_no', 'count')     \n",
    "                                                                            ).reset_index()\n",
    "              )\n",
    "frequency_df['date_interval'] = ((frequency_df['max_date'] - frequency_df['min_date']).dt.days)\n",
    "frequency_df['frequency'] = frequency_df.apply(lambda x: ( x['qtty_purchases'] / x['date_interval'] ) if x['date_interval'] != 0 else 0, axis = 1 )\n",
    "\n",
    "# Merge\n",
    "customer_df = pd.merge(customer_df, frequency_df[['customer_id','frequency']], on = 'customer_id', how = 'left')\n",
    "\n",
    "customer_df.isna().sum()"
   ]
  },
  {
   "cell_type": "markdown",
   "id": "e6ecebf0",
   "metadata": {},
   "source": [
    "### 3.1.9. Returns"
   ]
  },
  {
   "cell_type": "code",
   "execution_count": 37,
   "id": "7ff34b3c",
   "metadata": {
    "ExecuteTime": {
     "end_time": "2022-12-15T17:44:24.285200Z",
     "start_time": "2022-12-15T17:44:24.012895Z"
    }
   },
   "outputs": [
    {
     "data": {
      "text/plain": [
       "customer_id            0\n",
       "gross_revenue         91\n",
       "recency               91\n",
       "qtty_invoices         91\n",
       "qtty_items            91\n",
       "qtty_products         91\n",
       "avg_ticket            91\n",
       "avg_recency_days    2816\n",
       "frequency              0\n",
       "qtty_returns           0\n",
       "dtype: int64"
      ]
     },
     "execution_count": 37,
     "metadata": {},
     "output_type": "execute_result"
    }
   ],
   "source": [
    "# Number of returns\n",
    "customer_returns = ecommerce_returns[['customer_id','quantity']].groupby('customer_id').sum().reset_index().rename(columns = {'quantity' : 'qtty_returns'})\n",
    "customer_returns['qtty_returns'] = customer_returns['qtty_returns'] * - 1\n",
    "\n",
    "# Merge\n",
    "customer_df = pd.merge(customer_df, customer_returns, on = 'customer_id', how = 'left')\n",
    "customer_df.loc[customer_df['qtty_returns'].isna(),'qtty_returns'] = 0\n",
    "\n",
    "customer_df.isna().sum()"
   ]
  },
  {
   "cell_type": "markdown",
   "id": "a76bdcca",
   "metadata": {},
   "source": [
    "### 3.1.10. Basket Size"
   ]
  },
  {
   "cell_type": "code",
   "execution_count": 38,
   "id": "99c92a17",
   "metadata": {
    "ExecuteTime": {
     "end_time": "2022-12-15T17:44:24.775518Z",
     "start_time": "2022-12-15T17:44:24.290246Z"
    }
   },
   "outputs": [
    {
     "data": {
      "text/plain": [
       "customer_id            0\n",
       "gross_revenue         91\n",
       "recency               91\n",
       "qtty_invoices         91\n",
       "qtty_items            91\n",
       "qtty_products         91\n",
       "avg_ticket            91\n",
       "avg_recency_days    2816\n",
       "frequency              0\n",
       "qtty_returns           0\n",
       "basket_size           91\n",
       "dtype: int64"
      ]
     },
     "execution_count": 38,
     "metadata": {},
     "output_type": "execute_result"
    }
   ],
   "source": [
    "basket_size = (ecommerce_purchases[['customer_id', 'invoice_no', 'quantity']].groupby('customer_id')\n",
    "                                                                 .agg(invoices = ('invoice_no','nunique'),\n",
    "                                                                      products = ('quantity','sum')).reset_index() \n",
    "                \n",
    ")\n",
    "\n",
    "basket_size['basket_size'] = basket_size['products'] / basket_size['invoices']\n",
    "\n",
    "# Merge\n",
    "customer_df = pd.merge(customer_df, basket_size[['customer_id','basket_size']], on = 'customer_id', how = 'left')\n",
    "\n",
    "customer_df.isna().sum()"
   ]
  },
  {
   "cell_type": "markdown",
   "id": "4054435d",
   "metadata": {},
   "source": [
    "### 3.1.11. Unique Basket Size"
   ]
  },
  {
   "cell_type": "code",
   "execution_count": 39,
   "id": "6e1722ea",
   "metadata": {
    "ExecuteTime": {
     "end_time": "2022-12-15T17:44:25.456154Z",
     "start_time": "2022-12-15T17:44:24.778648Z"
    }
   },
   "outputs": [
    {
     "data": {
      "text/plain": [
       "customer_id              0\n",
       "gross_revenue           91\n",
       "recency                 91\n",
       "qtty_invoices           91\n",
       "qtty_items              91\n",
       "qtty_products           91\n",
       "avg_ticket              91\n",
       "avg_recency_days      2816\n",
       "frequency                0\n",
       "qtty_returns             0\n",
       "basket_size             91\n",
       "unique_basket_size      91\n",
       "dtype: int64"
      ]
     },
     "execution_count": 39,
     "metadata": {},
     "output_type": "execute_result"
    }
   ],
   "source": [
    "avg_basket_size = ( ecommerce_purchases[['customer_id', 'invoice_no', 'stock_code']].groupby('customer_id')\n",
    "                                                                 .agg( invoices = ('invoice_no','nunique'),\n",
    "                                                                       products = ('stock_code','nunique') ).reset_index() \n",
    "                \n",
    "                  )\n",
    "\n",
    "avg_basket_size['unique_basket_size'] = avg_basket_size['products'] / avg_basket_size['invoices']\n",
    "# Merge\n",
    "customer_df = pd.merge(customer_df, avg_basket_size[['customer_id','unique_basket_size']], on = 'customer_id', how = 'left')\n",
    "\n",
    "customer_df.isna().sum()"
   ]
  },
  {
   "cell_type": "markdown",
   "id": "9d0d09bc",
   "metadata": {},
   "source": [
    "# 4.0. Univariate & Bivariate Analysis"
   ]
  },
  {
   "cell_type": "code",
   "execution_count": 40,
   "id": "2dc468ad",
   "metadata": {
    "ExecuteTime": {
     "end_time": "2022-12-15T17:44:25.649144Z",
     "start_time": "2022-12-15T17:44:25.460247Z"
    }
   },
   "outputs": [],
   "source": [
    "ecommerce4 = customer_df.dropna().copy()"
   ]
  },
  {
   "cell_type": "markdown",
   "id": "25cef89a",
   "metadata": {},
   "source": [
    "# 5.0. Feature Selection"
   ]
  },
  {
   "cell_type": "code",
   "execution_count": 41,
   "id": "429af087",
   "metadata": {
    "ExecuteTime": {
     "end_time": "2022-12-15T17:44:25.954151Z",
     "start_time": "2022-12-15T17:44:25.652006Z"
    }
   },
   "outputs": [],
   "source": [
    "cols_select = ['customer_id','gross_revenue', 'recency', 'qtty_products', 'frequency', 'qtty_returns']\n",
    "ecommerce4 = ecommerce4[cols_select].copy()"
   ]
  },
  {
   "cell_type": "markdown",
   "id": "f6e1f936",
   "metadata": {},
   "source": [
    "# 6.0. Data Preparation"
   ]
  },
  {
   "cell_type": "code",
   "execution_count": 42,
   "id": "695fdbef",
   "metadata": {
    "ExecuteTime": {
     "end_time": "2022-12-15T17:44:26.331497Z",
     "start_time": "2022-12-15T17:44:25.957288Z"
    }
   },
   "outputs": [],
   "source": [
    "ecommerce5 = ecommerce4.copy()"
   ]
  },
  {
   "cell_type": "markdown",
   "id": "96b18330",
   "metadata": {},
   "source": [
    "## 6.1. Rescaling"
   ]
  },
  {
   "cell_type": "code",
   "execution_count": 43,
   "id": "c8d92430",
   "metadata": {
    "ExecuteTime": {
     "end_time": "2022-12-15T17:44:26.703819Z",
     "start_time": "2022-12-15T17:44:26.335355Z"
    }
   },
   "outputs": [],
   "source": [
    "# Minmax Scaler\n",
    "mm = pp.MinMaxScaler() # not normal distribution\n",
    "ss = pp.StandardScaler() # normal distribution without outliers\n",
    "rs = pp.RobustScaler() # normal distribution with outliers\n",
    "\n",
    "ecommerce5['gross_revenue'] = mm.fit_transform(ecommerce5[['gross_revenue']])\n",
    "\n",
    "ecommerce5['recency']       = mm.fit_transform(ecommerce5[['recency']])\n",
    "\n",
    "ecommerce5['qtty_products'] = mm.fit_transform(ecommerce5[['qtty_products']])\n",
    "\n",
    "ecommerce5['frequency']     = mm.fit_transform(ecommerce5[['frequency']])\n",
    "\n",
    "ecommerce5['qtty_returns']  = mm.fit_transform(ecommerce5[['qtty_returns']])"
   ]
  },
  {
   "cell_type": "markdown",
   "id": "fb06d352",
   "metadata": {},
   "source": [
    "# 7.0. Space Study"
   ]
  },
  {
   "cell_type": "code",
   "execution_count": 44,
   "id": "64881920",
   "metadata": {
    "ExecuteTime": {
     "end_time": "2022-12-15T17:44:27.010931Z",
     "start_time": "2022-12-15T17:44:26.707719Z"
    }
   },
   "outputs": [],
   "source": [
    "# Selected dataset\n",
    "ecommerce6 = ecommerce5.copy()\n",
    "X = ecommerce6.drop('customer_id', axis = 1)"
   ]
  },
  {
   "cell_type": "markdown",
   "id": "23528a7a",
   "metadata": {},
   "source": [
    "## 7.4. Tree-Based Embedding"
   ]
  },
  {
   "cell_type": "code",
   "execution_count": 45,
   "id": "4273438d",
   "metadata": {
    "ExecuteTime": {
     "end_time": "2022-12-15T17:44:27.366943Z",
     "start_time": "2022-12-15T17:44:27.014822Z"
    }
   },
   "outputs": [],
   "source": [
    "y = X['gross_revenue']\n",
    "X = X.drop('gross_revenue', axis = 1)"
   ]
  },
  {
   "cell_type": "code",
   "execution_count": 46,
   "id": "1ecc230a",
   "metadata": {
    "ExecuteTime": {
     "end_time": "2022-12-15T17:44:28.695297Z",
     "start_time": "2022-12-15T17:44:27.370511Z"
    }
   },
   "outputs": [],
   "source": [
    "# Model definition\n",
    "rf_model = RandomForestRegressor( n_estimators = 100, random_state = 42 )\n",
    "\n",
    "# Model training\n",
    "rf_model.fit( X, y )\n",
    "\n",
    "# Leaf\n",
    "df_leaf = pd.DataFrame( rf_model.apply( X ) )"
   ]
  },
  {
   "cell_type": "code",
   "execution_count": 48,
   "id": "ea5b57fa",
   "metadata": {
    "ExecuteTime": {
     "end_time": "2022-12-15T17:45:56.536665Z",
     "start_time": "2022-12-15T17:45:47.630679Z"
    },
    "scrolled": false
   },
   "outputs": [],
   "source": [
    "path = \"/home/igor/Documents/repos/ds_em_clusterizacao/project/data/\" \n",
    "reducer = umap.UMAP( random_state = 42 )\n",
    "embedding = reducer.fit_transform( df_leaf )\n",
    "\n",
    "# embedding\n",
    "df_leaf['embedding_x'] = embedding[: , 0]\n",
    "df_leaf['embedding_y'] = embedding[: , 1 ]\n",
    "\n",
    "df_leaf.to_csv(path + 'tree_based_embedding.csv', index = False)"
   ]
  },
  {
   "cell_type": "markdown",
   "id": "897e4e50",
   "metadata": {},
   "source": [
    "# 9.0. Model Training"
   ]
  },
  {
   "cell_type": "code",
   "execution_count": 49,
   "id": "9d6f32df",
   "metadata": {
    "ExecuteTime": {
     "end_time": "2022-12-15T17:45:56.548001Z",
     "start_time": "2022-12-15T17:45:56.539604Z"
    }
   },
   "outputs": [],
   "source": [
    "ecommerce7 = df_leaf.iloc[:,-2:].copy()\n",
    "ecommerce7['customer_id'] = ecommerce6['customer_id']\n",
    "X = ecommerce7.iloc[:,:-1].copy()"
   ]
  },
  {
   "cell_type": "markdown",
   "id": "5b1f4dd0",
   "metadata": {},
   "source": [
    "## 9.1. GMM"
   ]
  },
  {
   "cell_type": "code",
   "execution_count": 50,
   "id": "f90051ef",
   "metadata": {
    "ExecuteTime": {
     "end_time": "2022-12-15T17:45:58.359747Z",
     "start_time": "2022-12-15T17:45:56.550850Z"
    }
   },
   "outputs": [],
   "source": [
    "# Model definition\n",
    "k = 10\n",
    "gmm_model = mx.GaussianMixture( n_components = k, n_init = 30 )\n",
    "# Model training\n",
    "gmm_model.fit( X )\n",
    "\n",
    "# Clustering\n",
    "labels = gmm_model.predict( X )"
   ]
  },
  {
   "cell_type": "code",
   "execution_count": 51,
   "id": "7eca2cdc",
   "metadata": {
    "ExecuteTime": {
     "end_time": "2022-12-15T17:45:58.368334Z",
     "start_time": "2022-12-15T17:45:58.363129Z"
    }
   },
   "outputs": [],
   "source": [
    "# Saving clusters labels\n",
    "idx = np.argsort( gmm_model.means_.sum(axis = 1) )\n",
    "\n",
    "new_cluster_label = np.zeros_like( idx )\n",
    "\n",
    "clustar_name = [0, 1, 2, 3, 4, 5, 6, 7, 8, 9]\n",
    "\n",
    "new_cluster_label[idx] = clustar_name\n",
    "\n",
    "labels = new_cluster_label[ labels ]"
   ]
  },
  {
   "cell_type": "markdown",
   "id": "ef898d3b",
   "metadata": {},
   "source": [
    "## 9.2. Cluster Validation"
   ]
  },
  {
   "cell_type": "code",
   "execution_count": 52,
   "id": "dad74c9d",
   "metadata": {
    "ExecuteTime": {
     "end_time": "2022-12-15T17:45:59.205876Z",
     "start_time": "2022-12-15T17:45:59.013709Z"
    }
   },
   "outputs": [
    {
     "name": "stdout",
     "output_type": "stream",
     "text": [
      "SS value: 0.6909051537513733\n"
     ]
    }
   ],
   "source": [
    "## SS ( Silhouette Score)\n",
    "print(\"SS value: {}\".format ( m.silhouette_score(X, labels, metric = 'euclidean' ) ) )"
   ]
  },
  {
   "cell_type": "markdown",
   "id": "8081af84",
   "metadata": {},
   "source": [
    "# 10.0. Cluster Analysis"
   ]
  },
  {
   "cell_type": "code",
   "execution_count": 53,
   "id": "97f827e6",
   "metadata": {
    "ExecuteTime": {
     "end_time": "2022-12-15T17:46:00.302835Z",
     "start_time": "2022-12-15T17:46:00.254323Z"
    }
   },
   "outputs": [],
   "source": [
    "ecommerce9 = ecommerce4.copy()\n",
    "ecommerce9['cluster'] = labels\n",
    "\n",
    "# Number of customers\n",
    "no_customers = ecommerce9[['customer_id','cluster']].groupby('cluster').count().reset_index()\n",
    "no_customers['percentage'] = ( no_customers['customer_id'] /  no_customers['customer_id'].sum() ) * 100\n",
    "\n",
    "# AVG Gross Revenue\n",
    "class_gross_revenue = ecommerce9[['gross_revenue','cluster']].groupby('cluster').mean().reset_index().rename(columns = {'gross_revenue':'avg_gross_revenue'})\n",
    "df_cluster = pd.merge(no_customers, class_gross_revenue, how = 'inner', on = 'cluster')\n",
    "\n",
    "# AVG Recency days\n",
    "class_recency = ecommerce9[['recency','cluster']].groupby('cluster').mean().reset_index()\n",
    "df_cluster = pd.merge(df_cluster, class_recency, how = 'inner', on = 'cluster')\n",
    "\n",
    "# AVG invoices\n",
    "class_invoices = ecommerce9[['qtty_products','cluster']].groupby('cluster').mean().reset_index()\n",
    "df_cluster = pd.merge(df_cluster, class_invoices, how = 'inner', on = 'cluster')\n",
    "\n",
    "# Frequency\n",
    "class_frequency = ecommerce9[['frequency','cluster']].groupby('cluster').mean().reset_index()\n",
    "df_cluster = pd.merge(df_cluster, class_frequency, how = 'inner', on = 'cluster')\n",
    "\n",
    "# Returns\n",
    "class_returns = ecommerce9[['qtty_returns','cluster']].groupby('cluster').mean().reset_index()\n",
    "df_cluster = pd.merge(df_cluster, class_returns, how = 'inner', on = 'cluster')\n",
    "\n",
    "# Percentual Gross Revenue\n",
    "perc_gross_revenue = ecommerce9[['gross_revenue','cluster']].groupby('cluster').sum().reset_index()\n",
    "perc_gross_revenue['percentual_gross_revenue'] = ( perc_gross_revenue['gross_revenue'] /  perc_gross_revenue['gross_revenue'].sum() ) * 100\n",
    "df_cluster = pd.merge(df_cluster, perc_gross_revenue, how = 'inner', on = 'cluster')"
   ]
  },
  {
   "cell_type": "code",
   "execution_count": 54,
   "id": "a2eefd1a",
   "metadata": {
    "ExecuteTime": {
     "end_time": "2022-12-15T17:46:02.267260Z",
     "start_time": "2022-12-15T17:46:02.230146Z"
    },
    "scrolled": false
   },
   "outputs": [
    {
     "data": {
      "text/html": [
       "<div>\n",
       "<style scoped>\n",
       "    .dataframe tbody tr th:only-of-type {\n",
       "        vertical-align: middle;\n",
       "    }\n",
       "\n",
       "    .dataframe tbody tr th {\n",
       "        vertical-align: top;\n",
       "    }\n",
       "\n",
       "    .dataframe thead th {\n",
       "        text-align: right;\n",
       "    }\n",
       "</style>\n",
       "<table border=\"1\" class=\"dataframe\">\n",
       "  <thead>\n",
       "    <tr style=\"text-align: right;\">\n",
       "      <th></th>\n",
       "      <th>cluster</th>\n",
       "      <th>customer_id</th>\n",
       "      <th>percentage</th>\n",
       "      <th>avg_gross_revenue</th>\n",
       "      <th>recency</th>\n",
       "      <th>qtty_products</th>\n",
       "      <th>frequency</th>\n",
       "      <th>qtty_returns</th>\n",
       "      <th>gross_revenue</th>\n",
       "      <th>percentual_gross_revenue</th>\n",
       "    </tr>\n",
       "  </thead>\n",
       "  <tbody>\n",
       "    <tr>\n",
       "      <th>0</th>\n",
       "      <td>0</td>\n",
       "      <td>281</td>\n",
       "      <td>9.467655</td>\n",
       "      <td>956.602883</td>\n",
       "      <td>78.348754</td>\n",
       "      <td>36.587189</td>\n",
       "      <td>0.058879</td>\n",
       "      <td>5.661922</td>\n",
       "      <td>268805.41</td>\n",
       "      <td>3.362479</td>\n",
       "    </tr>\n",
       "    <tr>\n",
       "      <th>1</th>\n",
       "      <td>1</td>\n",
       "      <td>413</td>\n",
       "      <td>13.915094</td>\n",
       "      <td>1221.087046</td>\n",
       "      <td>60.622276</td>\n",
       "      <td>53.276029</td>\n",
       "      <td>0.038509</td>\n",
       "      <td>9.171913</td>\n",
       "      <td>504308.95</td>\n",
       "      <td>6.308385</td>\n",
       "    </tr>\n",
       "    <tr>\n",
       "      <th>2</th>\n",
       "      <td>2</td>\n",
       "      <td>312</td>\n",
       "      <td>10.512129</td>\n",
       "      <td>749.056635</td>\n",
       "      <td>101.131410</td>\n",
       "      <td>24.903846</td>\n",
       "      <td>0.076527</td>\n",
       "      <td>15.227564</td>\n",
       "      <td>233705.67</td>\n",
       "      <td>2.923417</td>\n",
       "    </tr>\n",
       "    <tr>\n",
       "      <th>3</th>\n",
       "      <td>3</td>\n",
       "      <td>133</td>\n",
       "      <td>4.481132</td>\n",
       "      <td>4624.370301</td>\n",
       "      <td>50.406015</td>\n",
       "      <td>101.721805</td>\n",
       "      <td>0.052981</td>\n",
       "      <td>33.323308</td>\n",
       "      <td>615041.25</td>\n",
       "      <td>7.693532</td>\n",
       "    </tr>\n",
       "    <tr>\n",
       "      <th>4</th>\n",
       "      <td>4</td>\n",
       "      <td>455</td>\n",
       "      <td>15.330189</td>\n",
       "      <td>525.132813</td>\n",
       "      <td>115.564835</td>\n",
       "      <td>11.672527</td>\n",
       "      <td>0.172586</td>\n",
       "      <td>6.861538</td>\n",
       "      <td>238935.43</td>\n",
       "      <td>2.988836</td>\n",
       "    </tr>\n",
       "    <tr>\n",
       "      <th>5</th>\n",
       "      <td>5</td>\n",
       "      <td>429</td>\n",
       "      <td>14.454178</td>\n",
       "      <td>1652.893683</td>\n",
       "      <td>53.748252</td>\n",
       "      <td>91.377622</td>\n",
       "      <td>0.047199</td>\n",
       "      <td>10.888112</td>\n",
       "      <td>709091.39</td>\n",
       "      <td>8.870003</td>\n",
       "    </tr>\n",
       "    <tr>\n",
       "      <th>6</th>\n",
       "      <td>6</td>\n",
       "      <td>332</td>\n",
       "      <td>11.185984</td>\n",
       "      <td>2500.743946</td>\n",
       "      <td>44.864458</td>\n",
       "      <td>128.201807</td>\n",
       "      <td>0.051815</td>\n",
       "      <td>23.885542</td>\n",
       "      <td>830246.99</td>\n",
       "      <td>10.385534</td>\n",
       "    </tr>\n",
       "    <tr>\n",
       "      <th>7</th>\n",
       "      <td>7</td>\n",
       "      <td>57</td>\n",
       "      <td>1.920485</td>\n",
       "      <td>2143.361930</td>\n",
       "      <td>44.438596</td>\n",
       "      <td>175.561404</td>\n",
       "      <td>0.019788</td>\n",
       "      <td>3.736842</td>\n",
       "      <td>122171.63</td>\n",
       "      <td>1.528241</td>\n",
       "    </tr>\n",
       "    <tr>\n",
       "      <th>8</th>\n",
       "      <td>8</td>\n",
       "      <td>88</td>\n",
       "      <td>2.964960</td>\n",
       "      <td>3825.512614</td>\n",
       "      <td>27.943182</td>\n",
       "      <td>172.784091</td>\n",
       "      <td>0.131351</td>\n",
       "      <td>36.272727</td>\n",
       "      <td>336645.11</td>\n",
       "      <td>4.211083</td>\n",
       "    </tr>\n",
       "    <tr>\n",
       "      <th>9</th>\n",
       "      <td>9</td>\n",
       "      <td>468</td>\n",
       "      <td>15.768194</td>\n",
       "      <td>8836.136389</td>\n",
       "      <td>21.438034</td>\n",
       "      <td>424.134615</td>\n",
       "      <td>0.067650</td>\n",
       "      <td>149.271368</td>\n",
       "      <td>4135311.83</td>\n",
       "      <td>51.728489</td>\n",
       "    </tr>\n",
       "  </tbody>\n",
       "</table>\n",
       "</div>"
      ],
      "text/plain": [
       "   cluster  customer_id  percentage  avg_gross_revenue     recency  \\\n",
       "0        0          281    9.467655         956.602883   78.348754   \n",
       "1        1          413   13.915094        1221.087046   60.622276   \n",
       "2        2          312   10.512129         749.056635  101.131410   \n",
       "3        3          133    4.481132        4624.370301   50.406015   \n",
       "4        4          455   15.330189         525.132813  115.564835   \n",
       "5        5          429   14.454178        1652.893683   53.748252   \n",
       "6        6          332   11.185984        2500.743946   44.864458   \n",
       "7        7           57    1.920485        2143.361930   44.438596   \n",
       "8        8           88    2.964960        3825.512614   27.943182   \n",
       "9        9          468   15.768194        8836.136389   21.438034   \n",
       "\n",
       "   qtty_products  frequency  qtty_returns  gross_revenue  \\\n",
       "0      36.587189   0.058879      5.661922      268805.41   \n",
       "1      53.276029   0.038509      9.171913      504308.95   \n",
       "2      24.903846   0.076527     15.227564      233705.67   \n",
       "3     101.721805   0.052981     33.323308      615041.25   \n",
       "4      11.672527   0.172586      6.861538      238935.43   \n",
       "5      91.377622   0.047199     10.888112      709091.39   \n",
       "6     128.201807   0.051815     23.885542      830246.99   \n",
       "7     175.561404   0.019788      3.736842      122171.63   \n",
       "8     172.784091   0.131351     36.272727      336645.11   \n",
       "9     424.134615   0.067650    149.271368     4135311.83   \n",
       "\n",
       "   percentual_gross_revenue  \n",
       "0                  3.362479  \n",
       "1                  6.308385  \n",
       "2                  2.923417  \n",
       "3                  7.693532  \n",
       "4                  2.988836  \n",
       "5                  8.870003  \n",
       "6                 10.385534  \n",
       "7                  1.528241  \n",
       "8                  4.211083  \n",
       "9                 51.728489  "
      ]
     },
     "execution_count": 54,
     "metadata": {},
     "output_type": "execute_result"
    }
   ],
   "source": [
    "df_cluster"
   ]
  },
  {
   "cell_type": "markdown",
   "id": "0ed4d5dc",
   "metadata": {},
   "source": [
    "# 11.0. Deploy to Production"
   ]
  },
  {
   "cell_type": "code",
   "execution_count": 55,
   "id": "5d67a42a",
   "metadata": {
    "ExecuteTime": {
     "end_time": "2022-12-15T17:46:03.842146Z",
     "start_time": "2022-12-15T17:46:03.829571Z"
    },
    "scrolled": true
   },
   "outputs": [
    {
     "data": {
      "text/plain": [
       "customer_id        int64\n",
       "gross_revenue    float64\n",
       "recency          float64\n",
       "qtty_products    float64\n",
       "frequency        float64\n",
       "qtty_returns     float64\n",
       "cluster            int64\n",
       "dtype: object"
      ]
     },
     "execution_count": 55,
     "metadata": {},
     "output_type": "execute_result"
    }
   ],
   "source": [
    "ecommerce9.dtypes"
   ]
  },
  {
   "cell_type": "code",
   "execution_count": 56,
   "id": "294b0907",
   "metadata": {
    "ExecuteTime": {
     "end_time": "2022-12-15T17:46:05.160843Z",
     "start_time": "2022-12-15T17:46:05.148818Z"
    }
   },
   "outputs": [],
   "source": [
    "ecommerce9['recency'] = ecommerce9['recency'].astype( int )\n",
    "ecommerce9['qtty_products'] = ecommerce9['qtty_products'].astype( int )\n",
    "ecommerce9['qtty_returns'] = ecommerce9['qtty_returns'].astype( int )"
   ]
  },
  {
   "cell_type": "markdown",
   "id": "a71f9383",
   "metadata": {},
   "source": [
    "## 11.1. Insert into SQLite"
   ]
  },
  {
   "cell_type": "code",
   "execution_count": 57,
   "id": "f8a9797d",
   "metadata": {
    "ExecuteTime": {
     "end_time": "2022-12-15T17:46:06.560105Z",
     "start_time": "2022-12-15T17:46:06.509697Z"
    }
   },
   "outputs": [
    {
     "ename": "OperationalError",
     "evalue": "table insiders already exists",
     "output_type": "error",
     "traceback": [
      "\u001b[0;31m---------------------------------------------------------------------------\u001b[0m",
      "\u001b[0;31mOperationalError\u001b[0m                          Traceback (most recent call last)",
      "Cell \u001b[0;32mIn [57], line 13\u001b[0m\n\u001b[1;32m      2\u001b[0m query_create_table_insiders \u001b[38;5;241m=\u001b[39m \u001b[38;5;124m\"\"\"\u001b[39m\u001b[38;5;124mCREATE TABLE insiders (customer_id     INTEGER,\u001b[39m\n\u001b[1;32m      3\u001b[0m \u001b[38;5;124m                                                       gross_revenue   REAL,\u001b[39m\n\u001b[1;32m      4\u001b[0m \u001b[38;5;124m                                                       recency         INTEGER,\u001b[39m\n\u001b[0;32m   (...)\u001b[0m\n\u001b[1;32m      7\u001b[0m \u001b[38;5;124m                                                       qtty_returns    INTEGER,\u001b[39m\n\u001b[1;32m      8\u001b[0m \u001b[38;5;124m                                                       cluster         INTEGER)\u001b[39m\u001b[38;5;124m\"\"\"\u001b[39m\n\u001b[1;32m     12\u001b[0m connect \u001b[38;5;241m=\u001b[39m sqlite3\u001b[38;5;241m.\u001b[39mconnect( \u001b[38;5;124m'\u001b[39m\u001b[38;5;124minsiders_db_sqlite\u001b[39m\u001b[38;5;124m'\u001b[39m )\n\u001b[0;32m---> 13\u001b[0m \u001b[43mconnect\u001b[49m\u001b[38;5;241;43m.\u001b[39;49m\u001b[43mexecute\u001b[49m\u001b[43m(\u001b[49m\u001b[43m \u001b[49m\u001b[43mquery_create_table_insiders\u001b[49m\u001b[43m \u001b[49m\u001b[43m)\u001b[49m\n\u001b[1;32m     14\u001b[0m connect\u001b[38;5;241m.\u001b[39mcommit()\n\u001b[1;32m     15\u001b[0m connect\u001b[38;5;241m.\u001b[39mclose()\n",
      "\u001b[0;31mOperationalError\u001b[0m: table insiders already exists"
     ]
    }
   ],
   "source": [
    "# create table\n",
    "query_create_table_insiders = \"\"\"CREATE TABLE insiders (customer_id     INTEGER,\n",
    "                                                       gross_revenue   REAL,\n",
    "                                                       recency         INTEGER,\n",
    "                                                       qtty_products   INTEGER,\n",
    "                                                       frequency       REAL,\n",
    "                                                       qtty_returns    INTEGER,\n",
    "                                                       cluster         INTEGER)\"\"\"\n",
    "    \n",
    "\n",
    "\n",
    "connect = sqlite3.connect( 'insiders_db_sqlite' )\n",
    "connect.execute( query_create_table_insiders )\n",
    "connect.commit()\n",
    "connect.close()"
   ]
  },
  {
   "cell_type": "code",
   "execution_count": 61,
   "id": "9d755512",
   "metadata": {
    "ExecuteTime": {
     "end_time": "2022-12-15T17:46:42.743418Z",
     "start_time": "2022-12-15T17:46:41.375808Z"
    }
   },
   "outputs": [
    {
     "data": {
      "text/plain": [
       "2968"
      ]
     },
     "execution_count": 61,
     "metadata": {},
     "output_type": "execute_result"
    }
   ],
   "source": [
    "# insert data\n",
    "connect = create_engine('sqlite:///insiders_db_sqlite')\n",
    "ecommerce9.to_sql('insiders', con = connect, if_exists = 'append', index = False)"
   ]
  },
  {
   "cell_type": "code",
   "execution_count": 62,
   "id": "cacdd492",
   "metadata": {
    "ExecuteTime": {
     "end_time": "2022-12-15T17:46:42.791383Z",
     "start_time": "2022-12-15T17:46:42.749382Z"
    }
   },
   "outputs": [],
   "source": [
    "# Consulting database\n",
    "\n",
    "connect = create_engine('sqlite:///insiders_db_sqlite')\n",
    "\n",
    "query = \"\"\"\n",
    "        SELECT * FROM insiders\n",
    "        \"\"\"\n",
    "df = pd.read_sql_query(query, connect)"
   ]
  },
  {
   "cell_type": "markdown",
   "id": "c6d0bf26",
   "metadata": {},
   "source": [
    "## 11.2. Insert into Postgres AWS"
   ]
  },
  {
   "cell_type": "code",
   "execution_count": null,
   "id": "4bdd48ae",
   "metadata": {},
   "outputs": [],
   "source": []
  }
 ],
 "metadata": {
  "kernelspec": {
   "display_name": "Python 3 (ipykernel)",
   "language": "python",
   "name": "python3"
  },
  "language_info": {
   "codemirror_mode": {
    "name": "ipython",
    "version": 3
   },
   "file_extension": ".py",
   "mimetype": "text/x-python",
   "name": "python",
   "nbconvert_exporter": "python",
   "pygments_lexer": "ipython3",
   "version": "3.9.13"
  },
  "varInspector": {
   "cols": {
    "lenName": 16,
    "lenType": 16,
    "lenVar": 40
   },
   "kernels_config": {
    "python": {
     "delete_cmd_postfix": "",
     "delete_cmd_prefix": "del ",
     "library": "var_list.py",
     "varRefreshCmd": "print(var_dic_list())"
    },
    "r": {
     "delete_cmd_postfix": ") ",
     "delete_cmd_prefix": "rm(",
     "library": "var_list.r",
     "varRefreshCmd": "cat(var_dic_list()) "
    }
   },
   "types_to_exclude": [
    "module",
    "function",
    "builtin_function_or_method",
    "instance",
    "_Feature"
   ],
   "window_display": false
  }
 },
 "nbformat": 4,
 "nbformat_minor": 5
}
