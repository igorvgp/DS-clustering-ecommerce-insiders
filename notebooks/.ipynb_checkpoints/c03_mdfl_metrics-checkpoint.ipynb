{
 "cells": [
  {
   "cell_type": "markdown",
   "id": "f914a8bc",
   "metadata": {
    "heading_collapsed": true
   },
   "source": [
    "# pa005: High Value Customer Identification (Insiders)"
   ]
  },
  {
   "cell_type": "markdown",
   "id": "d80bfa4c",
   "metadata": {
    "heading_collapsed": true,
    "hidden": true
   },
   "source": [
    "## Solution Plan (IOT)"
   ]
  },
  {
   "cell_type": "markdown",
   "id": "e3c929b7",
   "metadata": {
    "hidden": true
   },
   "source": [
    " ### 0.1. Input"
   ]
  },
  {
   "cell_type": "markdown",
   "id": "94031568",
   "metadata": {
    "hidden": true
   },
   "source": [
    "1. Business problem\n",
    "    - Select the most valuable costumers to join a loyalty program called \"Insiders\"\n",
    "    \n",
    "\n",
    "2. Data\n",
    "    - Sales during the period of one year"
   ]
  },
  {
   "cell_type": "markdown",
   "id": "6110a668",
   "metadata": {
    "hidden": true
   },
   "source": [
    " ### 0.2. Output"
   ]
  },
  {
   "cell_type": "markdown",
   "id": "04213346",
   "metadata": {
    "hidden": true
   },
   "source": [
    "1. Refer some people elegible to be part of the loyalty program\n",
    "            | client_id | is_insider | \n",
    "            | 20394     | yes(1)     |\n",
    "            | 23948     | no (0)     |"
   ]
  },
  {
   "cell_type": "markdown",
   "id": "3fe7af11",
   "metadata": {
    "hidden": true
   },
   "source": [
    " ### 0.3. Tasks"
   ]
  },
  {
   "cell_type": "markdown",
   "id": "9a350cbc",
   "metadata": {
    "hidden": true
   },
   "source": [
    "1. who are the people eligible for the loyalty program?\n",
    "    - What does \"being elegible\" mean? Who are the \"valuable customers\"?\n",
    "        - Invoicing:\n",
    "            - High ATP\n",
    "            - High LTV\n",
    "            - Low recency\n",
    "            - High basket size\n",
    "            - Low probability of churn\n",
    "        - Cost:\n",
    "            - Low product return rate\n",
    "        - Shopping Experience:       \n",
    "            - High average rating\n",
    "            \n",
    "        \n",
    "2. How many customers will be able to join the group?\n",
    "    - Total number of customers\n",
    "    - % Insiders Group\n",
    "3. What are the main features of these customers?\n",
    "        -  Age\n",
    "        - Location\n",
    "4. How much do the Insiders contribute to the total billing amount?\n",
    "    - Total billing amout\n",
    "    - % Insiders billing\n",
    "5. Whet is the Insider's billing forecast for the coming months?\n",
    "    - LTV Insiders group\n",
    "    - Cohort analysis\n",
    "6. What are the conditions to someone be elegible to the Insiders group?\n",
    "    - The person has to be similar to the others in the group\n",
    "8. How to ensure that the Insiders program is better tha the current model?\n",
    "    - A/B test\n",
    "    - Bayesian A/B test\n",
    "    - Hypotesis test\n",
    "9. What are the marketing plans for this group?\n",
    "    - Discounts\n",
    "    - Purchase preference\n",
    "    - Free shipping"
   ]
  },
  {
   "cell_type": "markdown",
   "id": "98d4b461",
   "metadata": {
    "heading_collapsed": true
   },
   "source": [
    "# 0.0. Imports"
   ]
  },
  {
   "cell_type": "code",
   "execution_count": null,
   "id": "13289320",
   "metadata": {
    "hidden": true
   },
   "outputs": [],
   "source": [
    "import pandas as pd\n",
    "import numpy as np\n",
    "import seaborn as sns\n",
    "\n",
    "import umap.umap_ as umap\n",
    "\n",
    "from matplotlib import pyplot as plt\n",
    "from plotly import express as px\n",
    "from IPython.display import HTML\n",
    "\n",
    "from sklearn import cluster as c\n",
    "from sklearn import metrics as m\n",
    "\n",
    "from yellowbrick.cluster import KElbowVisualizer, SilhouetteVisualizer\n",
    "\n",
    "import warnings\n",
    "warnings.filterwarnings('ignore')"
   ]
  },
  {
   "cell_type": "markdown",
   "id": "6cb4e166",
   "metadata": {
    "heading_collapsed": true,
    "hidden": true
   },
   "source": [
    "## 0.1 Helper Functions"
   ]
  },
  {
   "cell_type": "code",
   "execution_count": null,
   "id": "784780e1",
   "metadata": {
    "hidden": true
   },
   "outputs": [],
   "source": [
    "def jupyter_settings():\n",
    "    %matplotlib inline\n",
    "    %pylab inline\n",
    "\n",
    "    plt.style.use( 'bmh' )\n",
    "    plt.rcParams['figure.figsize'] = [25, 12]\n",
    "    plt.rcParams['font.size'] = 24\n",
    "    display( HTML( '<style>.container { width:100% !important; }</style>') )\n",
    "\n",
    "\n",
    "    sns.set()\n",
    "jupyter_settings()"
   ]
  },
  {
   "cell_type": "markdown",
   "id": "db274fc1",
   "metadata": {
    "heading_collapsed": true,
    "hidden": true
   },
   "source": [
    "## 0.2 Loading Dataset"
   ]
  },
  {
   "cell_type": "code",
   "execution_count": null,
   "id": "64ef0cea",
   "metadata": {
    "hidden": true
   },
   "outputs": [],
   "source": [
    "# Load data\n",
    "ecommerce = pd.read_csv('../data/Ecommerce.csv',encoding='latin1')\n",
    "\n",
    "# Drop extra column\n",
    "ecommerce = ecommerce.iloc[:,:-1]"
   ]
  },
  {
   "cell_type": "markdown",
   "id": "eb37cab1",
   "metadata": {},
   "source": [
    "# 1.0. Data description"
   ]
  },
  {
   "cell_type": "code",
   "execution_count": null,
   "id": "cf9276dc",
   "metadata": {},
   "outputs": [],
   "source": [
    "ecommerce1 = ecommerce"
   ]
  },
  {
   "cell_type": "markdown",
   "id": "1e9f774d",
   "metadata": {
    "heading_collapsed": true
   },
   "source": [
    "## 1.1. Rename Columns"
   ]
  },
  {
   "cell_type": "code",
   "execution_count": null,
   "id": "a4945b5b",
   "metadata": {
    "hidden": true
   },
   "outputs": [],
   "source": [
    "new_cols =  ['invoice_no', 'stock_code','description', 'quantity', 'invoice_date', 'unit_price', 'customer_id', 'country']\n",
    "ecommerce1.columns = new_cols"
   ]
  },
  {
   "cell_type": "markdown",
   "id": "bdd17374",
   "metadata": {
    "heading_collapsed": true
   },
   "source": [
    "## 1.2. Data Dimensions"
   ]
  },
  {
   "cell_type": "code",
   "execution_count": null,
   "id": "f7924b48",
   "metadata": {
    "hidden": true
   },
   "outputs": [],
   "source": [
    "ecommerce1.shape"
   ]
  },
  {
   "cell_type": "markdown",
   "id": "ceb47ef0",
   "metadata": {
    "heading_collapsed": true
   },
   "source": [
    "## 1.3. Data types"
   ]
  },
  {
   "cell_type": "code",
   "execution_count": null,
   "id": "073adcd9",
   "metadata": {
    "hidden": true
   },
   "outputs": [],
   "source": [
    "ecommerce1.dtypes"
   ]
  },
  {
   "cell_type": "markdown",
   "id": "5d7c4a9d",
   "metadata": {
    "heading_collapsed": true
   },
   "source": [
    "## 1.4. Check NA"
   ]
  },
  {
   "cell_type": "code",
   "execution_count": null,
   "id": "926dc7fa",
   "metadata": {
    "hidden": true,
    "scrolled": false
   },
   "outputs": [],
   "source": [
    "ecommerce1.isna().sum()"
   ]
  },
  {
   "cell_type": "markdown",
   "id": "37d4d226",
   "metadata": {
    "heading_collapsed": true
   },
   "source": [
    "## 1.5. Replace NA"
   ]
  },
  {
   "cell_type": "code",
   "execution_count": null,
   "id": "8a0dd184",
   "metadata": {
    "hidden": true
   },
   "outputs": [],
   "source": [
    "ecommerce1.dropna(subset = ['description','customer_id'], inplace = True)"
   ]
  },
  {
   "cell_type": "code",
   "execution_count": null,
   "id": "6cf1b45f",
   "metadata": {
    "hidden": true
   },
   "outputs": [],
   "source": [
    "ecommerce1.isna().sum()"
   ]
  },
  {
   "cell_type": "markdown",
   "id": "144d703d",
   "metadata": {
    "heading_collapsed": true
   },
   "source": [
    "## 1.6. Change Dtypes"
   ]
  },
  {
   "cell_type": "code",
   "execution_count": null,
   "id": "daaad1c8",
   "metadata": {
    "hidden": true
   },
   "outputs": [],
   "source": [
    "# Invoice date\n",
    "ecommerce['invoice_date'] = pd.to_datetime(ecommerce1['invoice_date'], format = '%d-%b-%y')\n",
    "\n",
    "# Customer id\n",
    "ecommerce['customer_id'] = ecommerce1['customer_id'].astype(int)"
   ]
  },
  {
   "cell_type": "markdown",
   "id": "66681528",
   "metadata": {
    "heading_collapsed": true
   },
   "source": [
    "## 1.7. Drop Duplicates"
   ]
  },
  {
   "cell_type": "code",
   "execution_count": null,
   "id": "d04b49ff",
   "metadata": {
    "hidden": true
   },
   "outputs": [],
   "source": [
    "ecommerce1 = ecommerce1.drop_duplicates()"
   ]
  },
  {
   "cell_type": "markdown",
   "id": "30623aa6",
   "metadata": {},
   "source": [
    "## 1.8. Descriptive Statistics"
   ]
  },
  {
   "cell_type": "markdown",
   "id": "da7103ba",
   "metadata": {},
   "source": [
    "### 1.8.1. Numerical Attributes"
   ]
  },
  {
   "cell_type": "code",
   "execution_count": null,
   "id": "bab895bb",
   "metadata": {},
   "outputs": [],
   "source": [
    "ecommerce1.dtypes"
   ]
  },
  {
   "cell_type": "markdown",
   "id": "27502614",
   "metadata": {},
   "source": [
    "### 1.8.2. Categorical Attributes"
   ]
  },
  {
   "cell_type": "markdown",
   "id": "5d69dffc",
   "metadata": {
    "heading_collapsed": true
   },
   "source": [
    "# 2.0. Feature Engineering"
   ]
  },
  {
   "cell_type": "code",
   "execution_count": null,
   "id": "5e3beb9a",
   "metadata": {
    "hidden": true
   },
   "outputs": [],
   "source": [
    "ecommerce2 = ecommerce1"
   ]
  },
  {
   "cell_type": "markdown",
   "id": "2bd5d4a8",
   "metadata": {
    "heading_collapsed": true,
    "hidden": true
   },
   "source": [
    "## 2.1. Feature Creation"
   ]
  },
  {
   "cell_type": "code",
   "execution_count": null,
   "id": "d6edf8ab",
   "metadata": {
    "hidden": true
   },
   "outputs": [],
   "source": [
    "customer_df = ecommerce2.drop(['invoice_no', 'stock_code', 'description', 'quantity', 'invoice_date', 'unit_price', 'country'], axis = 1).drop_duplicates(ignore_index = True)"
   ]
  },
  {
   "cell_type": "code",
   "execution_count": null,
   "id": "763475e8",
   "metadata": {
    "hidden": true
   },
   "outputs": [],
   "source": [
    "# Gross Revenue\n",
    "ecommerce2['gross_revenue'] = ecommerce2['quantity'] * ecommerce2['unit_price']\n",
    "df_gross_revenue = ecommerce2[['gross_revenue','customer_id']].groupby('customer_id').sum().reset_index()\n",
    "customer_df = pd.merge(customer_df, df_gross_revenue,on = 'customer_id', how = 'left')\n",
    "\n",
    "# Recency - Last day purchase\n",
    "df_recency = ecommerce2[['customer_id', 'invoice_date']].groupby('customer_id').max().reset_index()\n",
    "df_recency['recency'] = (ecommerce2['invoice_date'].max() - df_recency['invoice_date']).dt.days\n",
    "df_recency = df_recency[['customer_id','recency']].copy()\n",
    "customer_df = pd.merge(customer_df, df_recency, on = 'customer_id', how = 'left')\n",
    "\n",
    "# Frequency\n",
    "df_frequency = ecommerce2[['invoice_no', 'customer_id']].drop_duplicates().groupby('customer_id').count().reset_index()\n",
    "customer_df = pd.merge(customer_df, df_frequency, on = 'customer_id', how = 'left')\n",
    "\n",
    "# AVG Ticket\n",
    "df_avgticket = ecommerce2[['customer_id','gross_revenue']].groupby('customer_id').mean().reset_index().rename(columns = {'gross_revenue':'avg_ticket'})\n",
    "customer_df = pd.merge(customer_df, df_avgticket, on = 'customer_id', how = 'left')"
   ]
  },
  {
   "cell_type": "markdown",
   "id": "4ac55ad1",
   "metadata": {
    "heading_collapsed": true
   },
   "source": [
    "# 3.0. Data Filtering"
   ]
  },
  {
   "cell_type": "code",
   "execution_count": null,
   "id": "a2bb4949",
   "metadata": {
    "hidden": true
   },
   "outputs": [],
   "source": [
    "ecommerce3 = customer_df.copy()"
   ]
  },
  {
   "cell_type": "markdown",
   "id": "9d0d09bc",
   "metadata": {
    "heading_collapsed": true
   },
   "source": [
    "# 4.0. Exploratory Data Analysis"
   ]
  },
  {
   "cell_type": "code",
   "execution_count": null,
   "id": "2dc468ad",
   "metadata": {
    "hidden": true
   },
   "outputs": [],
   "source": [
    "ecommerce4 = ecommerce3.copy()"
   ]
  },
  {
   "cell_type": "markdown",
   "id": "f6e1f936",
   "metadata": {
    "heading_collapsed": true
   },
   "source": [
    "# 5.0. Data Preparation"
   ]
  },
  {
   "cell_type": "code",
   "execution_count": null,
   "id": "695fdbef",
   "metadata": {
    "hidden": true
   },
   "outputs": [],
   "source": [
    "ecommerce5 = ecommerce4.copy()"
   ]
  },
  {
   "cell_type": "markdown",
   "id": "25cef89a",
   "metadata": {
    "heading_collapsed": true
   },
   "source": [
    "# 6.0. Feature Selection"
   ]
  },
  {
   "cell_type": "code",
   "execution_count": null,
   "id": "fd987d91",
   "metadata": {
    "hidden": true
   },
   "outputs": [],
   "source": [
    "ecommerce6 = ecommerce5.copy()"
   ]
  },
  {
   "cell_type": "markdown",
   "id": "8ebe5ea8",
   "metadata": {
    "heading_collapsed": true
   },
   "source": [
    "# 7.0. Hyperparameter Fine-Tunning"
   ]
  },
  {
   "cell_type": "code",
   "execution_count": null,
   "id": "824272d2",
   "metadata": {
    "hidden": true
   },
   "outputs": [],
   "source": [
    "ecommerce7 = ecommerce6.copy()\n",
    "X = ecommerce7.drop('customer_id', axis = 1).copy()"
   ]
  },
  {
   "cell_type": "code",
   "execution_count": null,
   "id": "a09d40f1",
   "metadata": {
    "hidden": true
   },
   "outputs": [],
   "source": [
    "clusters = [2, 3, 4, 5, 6, 7]"
   ]
  },
  {
   "cell_type": "markdown",
   "id": "76d8c694",
   "metadata": {
    "heading_collapsed": true,
    "hidden": true
   },
   "source": [
    "## 7.1. Within-Cluster Sum of Square (WSS)"
   ]
  },
  {
   "cell_type": "code",
   "execution_count": null,
   "id": "d071a109",
   "metadata": {
    "hidden": true
   },
   "outputs": [],
   "source": [
    "kmeans = KElbowVisualizer( c.KMeans(), k = clusters, timings = False)\n",
    "plt.figure(figsize=(8, 5))\n",
    "kmeans.fit( X )\n",
    "kmeans.show()"
   ]
  },
  {
   "cell_type": "markdown",
   "id": "26fff243",
   "metadata": {
    "heading_collapsed": true,
    "hidden": true
   },
   "source": [
    "## 7.2. Sillhouette Score"
   ]
  },
  {
   "cell_type": "code",
   "execution_count": null,
   "id": "bbf24e82",
   "metadata": {
    "hidden": true,
    "scrolled": false
   },
   "outputs": [],
   "source": [
    "from yellowbrick.cluster import KElbowVisualizer\n",
    "kmeans = KElbowVisualizer( c.KMeans(), k = clusters, metric = 'silhouette', timings = False)\n",
    "plt.figure(figsize=(8, 5))\n",
    "kmeans.fit( X )\n",
    "kmeans.show()"
   ]
  },
  {
   "cell_type": "markdown",
   "id": "85c9ea13",
   "metadata": {
    "heading_collapsed": true,
    "hidden": true
   },
   "source": [
    "### 7.2.1. Silhouette Analysis"
   ]
  },
  {
   "cell_type": "code",
   "execution_count": null,
   "id": "9a84db33",
   "metadata": {
    "hidden": true,
    "scrolled": false
   },
   "outputs": [],
   "source": [
    "fig, ax = plt.subplots( 3, 2, figsize=(25,18) )\n",
    "for k in clusters:\n",
    "    km = c.KMeans(n_clusters = k, init = 'random', n_init = 10, max_iter = 100, random_state = 42)\n",
    "    q, mod = divmod( k, 2 )\n",
    "    \n",
    "    visualizer = SilhouetteVisualizer( km, colors = 'yellowbrick', ax = ax[q-1][mod] )\n",
    "    visualizer.fit( X )\n",
    "    visualizer.finalize()"
   ]
  },
  {
   "cell_type": "markdown",
   "id": "897e4e50",
   "metadata": {
    "heading_collapsed": true
   },
   "source": [
    "# 8.0. Model Training"
   ]
  },
  {
   "cell_type": "markdown",
   "id": "5b1f4dd0",
   "metadata": {
    "heading_collapsed": true,
    "hidden": true
   },
   "source": [
    "## 8.1. K-Means"
   ]
  },
  {
   "cell_type": "code",
   "execution_count": null,
   "id": "f90051ef",
   "metadata": {
    "hidden": true
   },
   "outputs": [],
   "source": [
    "# Model definition\n",
    "k = 4\n",
    "kmeans = c.KMeans(init = 'random', n_clusters = k, n_init = 10, max_iter = 300, random_state = 42)\n",
    "# Model training\n",
    "kmeans.fit( X )\n",
    "\n",
    "# Clustering\n",
    "labels = kmeans.predict( X )## 8.1. K-Means"
   ]
  },
  {
   "cell_type": "markdown",
   "id": "ef898d3b",
   "metadata": {
    "heading_collapsed": true,
    "hidden": true
   },
   "source": [
    "## 8.2. Cluster Validation"
   ]
  },
  {
   "cell_type": "code",
   "execution_count": null,
   "id": "dad74c9d",
   "metadata": {
    "hidden": true
   },
   "outputs": [],
   "source": [
    "## WSS (Within-cluster sum of square)\n",
    "print(\"WSS value: {}\".format( kmeans.inertia_))\n",
    "\n",
    "## SS ( Silhouette Score)\n",
    "print(\"SS value: {}\".format ( m.silhouette_score(X, labels, metric = 'euclidean' ) ) )"
   ]
  },
  {
   "cell_type": "markdown",
   "id": "8081af84",
   "metadata": {
    "heading_collapsed": true
   },
   "source": [
    "# 9.0. Cluster Analysis"
   ]
  },
  {
   "cell_type": "code",
   "execution_count": null,
   "id": "cedf17c2",
   "metadata": {
    "hidden": true
   },
   "outputs": [],
   "source": [
    "ecommerce9 = ecommerce6.copy()\n",
    "ecommerce9['cluster'] = labels"
   ]
  },
  {
   "cell_type": "markdown",
   "id": "fc62dbd2",
   "metadata": {
    "heading_collapsed": true,
    "hidden": true
   },
   "source": [
    "## 9.1. Visual Inspection"
   ]
  },
  {
   "cell_type": "code",
   "execution_count": null,
   "id": "a37b6f9b",
   "metadata": {
    "hidden": true,
    "scrolled": false
   },
   "outputs": [],
   "source": [
    "plt.figure(figsize=(8, 5))\n",
    "visualizer = SilhouetteVisualizer (kmeans, colors = 'yellowbrick')\n",
    "visualizer.fit( X )\n",
    "visualizer.finalize()"
   ]
  },
  {
   "cell_type": "markdown",
   "id": "c212b485",
   "metadata": {
    "heading_collapsed": true,
    "hidden": true
   },
   "source": [
    "## 9.2. 2d plot"
   ]
  },
  {
   "cell_type": "code",
   "execution_count": null,
   "id": "979677d3",
   "metadata": {
    "hidden": true
   },
   "outputs": [],
   "source": [
    "df_viz = ecommerce9.drop(columns = 'customer_id', axis = 1)\n",
    "sns.pairplot(df_viz, hue = 'cluster', palette = \"dark:salmon_r\")"
   ]
  },
  {
   "cell_type": "markdown",
   "id": "05946412",
   "metadata": {
    "heading_collapsed": true,
    "hidden": true
   },
   "source": [
    "## 9.3. UMAP"
   ]
  },
  {
   "cell_type": "code",
   "execution_count": null,
   "id": "40af2a08",
   "metadata": {
    "hidden": true
   },
   "outputs": [],
   "source": [
    "reducer = umap.UMAP( n_neighbors = 20, random_state = 42 )\n",
    "embedding = reducer.fit_transform( X )\n",
    "\n",
    "# embedding\n",
    "df_viz['embedding_x'] = embedding[: , 0]\n",
    "df_viz['embedding_y'] = embedding[: , 1]\n",
    "\n",
    "# Plot UMAP\n",
    "plt.figure(figsize=(8, 7))\n",
    "sns.scatterplot( x = 'embedding_x', y = 'embedding_y',\n",
    "                 hue = 'cluster',\n",
    "                 palette = sns.color_palette('hls', n_colors = len( df_viz['cluster'].unique() ) ), \n",
    "                 data = df_viz )"
   ]
  },
  {
   "cell_type": "code",
   "execution_count": null,
   "id": "7337c636",
   "metadata": {
    "hidden": true
   },
   "outputs": [],
   "source": [
    "#fig = px.scatter_3d(ecommerce9, x='recency',y='invoice_no', z= 'gross_revenue', color = 'cluster' )\n",
    "#fig.show()"
   ]
  },
  {
   "cell_type": "markdown",
   "id": "8a391f2f",
   "metadata": {
    "heading_collapsed": true,
    "hidden": true
   },
   "source": [
    "## 9.2. Cluster Profile"
   ]
  },
  {
   "cell_type": "code",
   "execution_count": null,
   "id": "97f827e6",
   "metadata": {
    "hidden": true
   },
   "outputs": [],
   "source": [
    "# Number of customers\n",
    "no_customers = ecommerce9[['customer_id','cluster']].groupby('cluster').count().reset_index()\n",
    "no_customers['percentage'] = ( no_customers['customer_id'] /  no_customers['customer_id'].sum() ) * 100\n",
    "\n",
    "# AVG Gross Revenue\n",
    "class_gross_revenue = ecommerce9[['gross_revenue','cluster']].groupby('cluster').mean().reset_index().rename(columns = {'gross_revenue':'avg_gross_revenue'})\n",
    "df_cluster = pd.merge(no_customers, class_gross_revenue, how = 'inner', on = 'cluster')\n",
    "\n",
    "# AVG Recency days\n",
    "class_recency = ecommerce9[['recency','cluster']].groupby('cluster').mean().reset_index()\n",
    "df_cluster = pd.merge(df_cluster, class_recency, how = 'inner', on = 'cluster')\n",
    "\n",
    "# AVG invoices\n",
    "class_invoices = ecommerce9[['invoice_no','cluster']].groupby('cluster').mean().reset_index()\n",
    "df_cluster = pd.merge(df_cluster, class_invoices, how = 'inner', on = 'cluster')\n",
    "\n",
    "# AVG ticket\n",
    "class_avgticket = ecommerce9[['avg_ticket','cluster']].groupby('cluster').mean().reset_index()\n",
    "df_cluster = pd.merge(df_cluster, class_avgticket, how = 'inner', on = 'cluster')\n",
    "\n",
    "# Percentual Gross Revenue\n",
    "perc_gross_revenue = ecommerce9[['gross_revenue','cluster']].groupby('cluster').sum().reset_index()\n",
    "perc_gross_revenue['percentual_gross_revenue'] = ( perc_gross_revenue['gross_revenue'] /  perc_gross_revenue['gross_revenue'].sum() ) * 100\n",
    "df_cluster = pd.merge(df_cluster, perc_gross_revenue, how = 'inner', on = 'cluster')"
   ]
  },
  {
   "cell_type": "code",
   "execution_count": null,
   "id": "f52ef523",
   "metadata": {
    "hidden": true
   },
   "outputs": [],
   "source": [
    "df_cluster"
   ]
  },
  {
   "cell_type": "markdown",
   "id": "72b7665d",
   "metadata": {
    "heading_collapsed": true,
    "hidden": true
   },
   "source": [
    "### Cluster 01: (Insider Candidades)\n",
    "    - Customers: 6 (0.14% of the customers)\n",
    "    - AVG Recency: 7 days\n",
    "    - AVG invoices: 89\n",
    "    - AVG Revenue: $ 182.108.000\n",
    "    \n",
    "### Cluster 02:\n",
    "    - Customers: 31 (0.71% of the customers)\n",
    "    - AVG Recency: 14 days\n",
    "    - AVG invoices: 53\n",
    "    - AVG Revenue: $ 40.543,52\n",
    "    \n",
    "### Cluster 03: \n",
    "    - Customers: 4335 (99% of the customers)\n",
    "    - AVG Recency: 92 days\n",
    "    - AVG invoices: 5\n",
    "    - AVG Revenue: $ 1.372,57"
   ]
  },
  {
   "cell_type": "markdown",
   "id": "5e87e9f9",
   "metadata": {},
   "source": [
    "# 10.0. Deploy to Production"
   ]
  },
  {
   "cell_type": "code",
   "execution_count": null,
   "id": "03863e23",
   "metadata": {},
   "outputs": [],
   "source": []
  },
  {
   "cell_type": "code",
   "execution_count": null,
   "id": "c19e8dd5",
   "metadata": {},
   "outputs": [],
   "source": []
  },
  {
   "cell_type": "code",
   "execution_count": null,
   "id": "cc2a4f16",
   "metadata": {},
   "outputs": [],
   "source": []
  },
  {
   "cell_type": "code",
   "execution_count": null,
   "id": "15b4ae6e",
   "metadata": {},
   "outputs": [],
   "source": []
  },
  {
   "cell_type": "code",
   "execution_count": null,
   "id": "1924c608",
   "metadata": {},
   "outputs": [],
   "source": []
  },
  {
   "cell_type": "code",
   "execution_count": null,
   "id": "79bdfd04",
   "metadata": {},
   "outputs": [],
   "source": []
  },
  {
   "cell_type": "code",
   "execution_count": null,
   "id": "db8c3c0f",
   "metadata": {},
   "outputs": [],
   "source": []
  },
  {
   "cell_type": "code",
   "execution_count": null,
   "id": "aa7a78c5",
   "metadata": {},
   "outputs": [],
   "source": []
  },
  {
   "cell_type": "code",
   "execution_count": null,
   "id": "84a3f91f",
   "metadata": {},
   "outputs": [],
   "source": []
  },
  {
   "cell_type": "code",
   "execution_count": null,
   "id": "2fa8d139",
   "metadata": {},
   "outputs": [],
   "source": []
  },
  {
   "cell_type": "code",
   "execution_count": null,
   "id": "66bdda37",
   "metadata": {},
   "outputs": [],
   "source": []
  },
  {
   "cell_type": "code",
   "execution_count": null,
   "id": "323f08a1",
   "metadata": {},
   "outputs": [],
   "source": []
  },
  {
   "cell_type": "code",
   "execution_count": null,
   "id": "255b78c3",
   "metadata": {},
   "outputs": [],
   "source": []
  },
  {
   "cell_type": "code",
   "execution_count": null,
   "id": "ff0dc8af",
   "metadata": {},
   "outputs": [],
   "source": []
  },
  {
   "cell_type": "code",
   "execution_count": null,
   "id": "a9f417ad",
   "metadata": {},
   "outputs": [],
   "source": []
  },
  {
   "cell_type": "code",
   "execution_count": null,
   "id": "217922d4",
   "metadata": {},
   "outputs": [],
   "source": []
  },
  {
   "cell_type": "code",
   "execution_count": null,
   "id": "be7187d8",
   "metadata": {},
   "outputs": [],
   "source": []
  },
  {
   "cell_type": "code",
   "execution_count": null,
   "id": "612779df",
   "metadata": {},
   "outputs": [],
   "source": []
  },
  {
   "cell_type": "code",
   "execution_count": null,
   "id": "393aab00",
   "metadata": {},
   "outputs": [],
   "source": []
  },
  {
   "cell_type": "code",
   "execution_count": null,
   "id": "d54a5ca1",
   "metadata": {},
   "outputs": [],
   "source": []
  },
  {
   "cell_type": "code",
   "execution_count": null,
   "id": "7413f2a6",
   "metadata": {},
   "outputs": [],
   "source": []
  },
  {
   "cell_type": "code",
   "execution_count": null,
   "id": "50056eb7",
   "metadata": {},
   "outputs": [],
   "source": []
  },
  {
   "cell_type": "code",
   "execution_count": null,
   "id": "09d8805b",
   "metadata": {},
   "outputs": [],
   "source": []
  },
  {
   "cell_type": "code",
   "execution_count": null,
   "id": "f2b32c78",
   "metadata": {},
   "outputs": [],
   "source": []
  },
  {
   "cell_type": "code",
   "execution_count": null,
   "id": "a684cc61",
   "metadata": {},
   "outputs": [],
   "source": []
  },
  {
   "cell_type": "code",
   "execution_count": null,
   "id": "b11a337e",
   "metadata": {},
   "outputs": [],
   "source": []
  },
  {
   "cell_type": "code",
   "execution_count": null,
   "id": "a0a81b91",
   "metadata": {},
   "outputs": [],
   "source": []
  },
  {
   "cell_type": "code",
   "execution_count": null,
   "id": "cbd3814b",
   "metadata": {},
   "outputs": [],
   "source": []
  },
  {
   "cell_type": "code",
   "execution_count": null,
   "id": "65c84218",
   "metadata": {},
   "outputs": [],
   "source": []
  },
  {
   "cell_type": "code",
   "execution_count": null,
   "id": "b75df5be",
   "metadata": {},
   "outputs": [],
   "source": []
  }
 ],
 "metadata": {
  "kernelspec": {
   "display_name": "Python 3 (ipykernel)",
   "language": "python",
   "name": "python3"
  },
  "language_info": {
   "codemirror_mode": {
    "name": "ipython",
    "version": 3
   },
   "file_extension": ".py",
   "mimetype": "text/x-python",
   "name": "python",
   "nbconvert_exporter": "python",
   "pygments_lexer": "ipython3",
   "version": "3.9.13"
  },
  "varInspector": {
   "cols": {
    "lenName": 16,
    "lenType": 16,
    "lenVar": 40
   },
   "kernels_config": {
    "python": {
     "delete_cmd_postfix": "",
     "delete_cmd_prefix": "del ",
     "library": "var_list.py",
     "varRefreshCmd": "print(var_dic_list())"
    },
    "r": {
     "delete_cmd_postfix": ") ",
     "delete_cmd_prefix": "rm(",
     "library": "var_list.r",
     "varRefreshCmd": "cat(var_dic_list()) "
    }
   },
   "types_to_exclude": [
    "module",
    "function",
    "builtin_function_or_method",
    "instance",
    "_Feature"
   ],
   "window_display": false
  }
 },
 "nbformat": 4,
 "nbformat_minor": 5
}
