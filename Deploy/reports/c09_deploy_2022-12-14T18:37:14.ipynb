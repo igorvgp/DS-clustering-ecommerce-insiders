{
 "cells": [
  {
   "cell_type": "markdown",
   "id": "70bec4fd",
   "metadata": {
    "tags": [
     "papermill-error-cell-tag"
    ]
   },
   "source": [
    "<span style=\"color:red; font-family:Helvetica Neue, Helvetica, Arial, sans-serif; font-size:2em;\">An Exception was encountered at '<a href=\"#papermill-error-cell\">In [46]</a>'.</span>"
   ]
  },
  {
   "cell_type": "markdown",
   "id": "f914a8bc",
   "metadata": {
    "papermill": {
     "duration": 0.059517,
     "end_time": "2022-12-14T21:37:16.190022",
     "exception": false,
     "start_time": "2022-12-14T21:37:16.130505",
     "status": "completed"
    },
    "tags": []
   },
   "source": [
    "# pa005: High Value Customer Identification (Insiders)"
   ]
  },
  {
   "cell_type": "markdown",
   "id": "98d4b461",
   "metadata": {
    "papermill": {
     "duration": 0.018066,
     "end_time": "2022-12-14T21:37:16.243689",
     "exception": false,
     "start_time": "2022-12-14T21:37:16.225623",
     "status": "completed"
    },
    "tags": []
   },
   "source": [
    "# 0.0. Imports"
   ]
  },
  {
   "cell_type": "code",
   "execution_count": 1,
   "id": "13289320",
   "metadata": {
    "ExecuteTime": {
     "end_time": "2022-12-14T20:46:29.025334Z",
     "start_time": "2022-12-14T20:46:22.902858Z"
    },
    "execution": {
     "iopub.execute_input": "2022-12-14T21:37:16.281529Z",
     "iopub.status.busy": "2022-12-14T21:37:16.280977Z",
     "iopub.status.idle": "2022-12-14T21:37:23.993898Z",
     "shell.execute_reply": "2022-12-14T21:37:23.992374Z"
    },
    "papermill": {
     "duration": 7.737062,
     "end_time": "2022-12-14T21:37:23.998378",
     "exception": false,
     "start_time": "2022-12-14T21:37:16.261316",
     "status": "completed"
    },
    "tags": []
   },
   "outputs": [],
   "source": [
    "import pandas as pd\n",
    "import numpy as np\n",
    "import seaborn as sns\n",
    "import re\n",
    "\n",
    "from IPython.display         import Image\n",
    "\n",
    "from matplotlib              import pyplot       as plt\n",
    "from matplotlib              import gridspec\n",
    "from plotly                  import express      as px\n",
    "from IPython.display         import HTML\n",
    "\n",
    "import hdbscan\n",
    "import umap.umap_                                 as umap\n",
    "\n",
    "from sklearn                 import cluster       as c\n",
    "from sklearn                 import metrics       as m\n",
    "from sklearn                 import preprocessing as pp\n",
    "from sklearn                 import decomposition as dd\n",
    "from sklearn.manifold        import TSNE\n",
    "from sklearn.ensemble        import RandomForestRegressor\n",
    "from sklearn.neighbors       import NearestNeighbors\n",
    "from sklearn                 import mixture       as mx\n",
    "from scipy.cluster           import hierarchy     as hc\n",
    "\n",
    "\n",
    "from yellowbrick.cluster     import KElbowVisualizer, SilhouetteVisualizer\n",
    "\n",
    "import sqlite3\n",
    "from sqlalchemy              import create_engine\n",
    "\n",
    "import warnings\n",
    "warnings.filterwarnings('ignore')"
   ]
  },
  {
   "cell_type": "markdown",
   "id": "6cb4e166",
   "metadata": {
    "heading_collapsed": true,
    "papermill": {
     "duration": 0.038361,
     "end_time": "2022-12-14T21:37:24.083842",
     "exception": false,
     "start_time": "2022-12-14T21:37:24.045481",
     "status": "completed"
    },
    "tags": []
   },
   "source": [
    "## 0.1 Helper Functions"
   ]
  },
  {
   "cell_type": "code",
   "execution_count": 2,
   "id": "a8b3e1ce",
   "metadata": {
    "ExecuteTime": {
     "end_time": "2022-12-14T13:22:59.092842Z",
     "start_time": "2022-12-14T13:22:59.074866Z"
    },
    "execution": {
     "iopub.execute_input": "2022-12-14T21:37:24.166812Z",
     "iopub.status.busy": "2022-12-14T21:37:24.165524Z",
     "iopub.status.idle": "2022-12-14T21:37:24.204985Z",
     "shell.execute_reply": "2022-12-14T21:37:24.203910Z"
    },
    "hidden": true,
    "papermill": {
     "duration": 0.061762,
     "end_time": "2022-12-14T21:37:24.207461",
     "exception": false,
     "start_time": "2022-12-14T21:37:24.145699",
     "status": "completed"
    },
    "tags": []
   },
   "outputs": [],
   "source": [
    "def get_silhouettes( data, labels ):\n",
    "    \n",
    "    silhouette_scores = []\n",
    "\n",
    "    for label in labels:\n",
    "\n",
    "        # model performance\n",
    "            sil = m.silhouette_score( data, label, metric = 'euclidean' )\n",
    "            silhouette_scores.append( np.round(sil,2) )\n",
    "    \n",
    "    return silhouette_scores\n",
    "\n",
    "def plot_clusters( data, k, labels ):\n",
    "    \n",
    "    data = data.copy()\n",
    "    data.columns = ['embedding_x', 'embedding_y']\n",
    "    \n",
    "    nrows = len(k) // 4 if len(k) % 4 == 0 else (len(k)//4) + 1\n",
    "    fig = plt.figure(figsize = (21,18) ) \n",
    "    specs = gridspec.GridSpec( ncols = 4, nrows = nrows, figure = fig, wspace = .3, hspace = .3 )\n",
    "    \n",
    "    plots = []\n",
    "    \n",
    "    silhouettes = get_silhouettes( data, labels)\n",
    "    \n",
    "    for i in range(nrows):\n",
    "        for j in range(4):\n",
    "            ax = fig.add_subplot( specs[ i, j ] )\n",
    "            plots.append( ax )\n",
    "    \n",
    "    for i in range(len( k )):\n",
    "       \n",
    "        # model evaluation\n",
    "        sil = silhouettes[i]\n",
    "        \n",
    "        data['cluster'] = labels[i]\n",
    "        \n",
    "        sns.scatterplot(data = data, x='embedding_x',y='embedding_y', \n",
    "                        hue = 'cluster', palette = 'deep', \n",
    "                        ax = plots[i], legend = False)\n",
    "        \n",
    "        \n",
    "        title = \"Num. Clusters = \" + str(k[i]) + \" | Silhouette Score: \" + str(np.round(sil,2))\n",
    "        plots[i].set_title( title )\n",
    "        plots[i].set_xlabel(xlabel = \"\")\n",
    "        plots[i].set_ylabel(ylabel = \"\")\n",
    "\n",
    "        \n",
    "def best_silhouette( data, k, labels ):\n",
    "    \n",
    "    silhouettes = get_silhouettes( data = data, labels = labels )\n",
    "\n",
    "    plt.figure( figsize = ( 10, 6 ))\n",
    "    plt.plot( k, silhouettes, linestyle = '--', marker = 'o', color = 'b')\n",
    "    plt.xlabel( 'K' );\n",
    "    plt.ylabel( 'Silhouette Score' );\n",
    "    plt.title( 'Silhouette Score x K' );\n",
    "    \n",
    "\n",
    "def plot_cluster_silhouette(X, labels, k):\n",
    "    \n",
    "    fig, ax = plt.subplots( 1, 1 )\n",
    "    fig.set_size_inches( 8, 7 )\n",
    "\n",
    "    ax.set_xlim( [ -0.1, 1 ] )\n",
    "    ax.set_ylim( [ 0, len( X ) + ( k + 1 ) * 10] )\n",
    "    \n",
    "    samples_silhouette_values = m.silhouette_samples( X, labels )\n",
    "\n",
    "    y_lower = 10\n",
    "    for i in range( k ):\n",
    "\n",
    "        # select clusters\n",
    "        ith_samples_silhouette_values = samples_silhouette_values[ labels == i]\n",
    "        \n",
    "        # sort values\n",
    "        ith_samples_silhouette_values.sort()\n",
    "\n",
    "        # size clusters\n",
    "        size_cluster_i = ith_samples_silhouette_values.shape[0]\n",
    "        y_upper = y_lower + size_cluster_i\n",
    "        \n",
    "        cmap = plt.get_cmap( 'Spectral' )\n",
    "        color = cmap( i / k )\n",
    "\n",
    "        ax.fill_betweenx( np.arange( y_lower, y_upper ), 0, ith_samples_silhouette_values  )\n",
    "        \n",
    "        y_lower = y_upper + 10\n",
    "\n",
    "    ax.set_yticks([])\n",
    "    ax.set_xticks( [-0.1, 0, 0.2, 0.4, 0.6, 0.8, 1])\n",
    "    ax.legend( np.unique(labels) )\n",
    "    ax.set_title(\" Clusters Silhouettes\")"
   ]
  },
  {
   "cell_type": "markdown",
   "id": "db274fc1",
   "metadata": {
    "papermill": {
     "duration": 0.018281,
     "end_time": "2022-12-14T21:37:24.245247",
     "exception": false,
     "start_time": "2022-12-14T21:37:24.226966",
     "status": "completed"
    },
    "tags": []
   },
   "source": [
    "## 0.2 Loading Dataset"
   ]
  },
  {
   "cell_type": "code",
   "execution_count": 3,
   "id": "64ef0cea",
   "metadata": {
    "ExecuteTime": {
     "end_time": "2022-12-14T20:46:29.548272Z",
     "start_time": "2022-12-14T20:46:29.029026Z"
    },
    "execution": {
     "iopub.execute_input": "2022-12-14T21:37:24.285337Z",
     "iopub.status.busy": "2022-12-14T21:37:24.284265Z",
     "iopub.status.idle": "2022-12-14T21:37:24.918916Z",
     "shell.execute_reply": "2022-12-14T21:37:24.918097Z"
    },
    "papermill": {
     "duration": 0.658922,
     "end_time": "2022-12-14T21:37:24.922274",
     "exception": false,
     "start_time": "2022-12-14T21:37:24.263352",
     "status": "completed"
    },
    "tags": []
   },
   "outputs": [],
   "source": [
    "# Load data\n",
    "path = \"/home/igor/Documents/repos/ds_em_clusterizacao/project/\"\n",
    "ecommerce = pd.read_csv(path + 'data/Ecommerce.csv',encoding='latin1')\n",
    "\n",
    "# Drop extra column\n",
    "ecommerce = ecommerce.iloc[:,:-1]"
   ]
  },
  {
   "cell_type": "markdown",
   "id": "eb37cab1",
   "metadata": {
    "papermill": {
     "duration": 0.017672,
     "end_time": "2022-12-14T21:37:24.963217",
     "exception": false,
     "start_time": "2022-12-14T21:37:24.945545",
     "status": "completed"
    },
    "tags": []
   },
   "source": [
    "# 1.0. Data description"
   ]
  },
  {
   "cell_type": "code",
   "execution_count": 4,
   "id": "cf9276dc",
   "metadata": {
    "ExecuteTime": {
     "end_time": "2022-12-14T13:23:00.110168Z",
     "start_time": "2022-12-14T13:23:00.081988Z"
    },
    "execution": {
     "iopub.execute_input": "2022-12-14T21:37:25.001322Z",
     "iopub.status.busy": "2022-12-14T21:37:25.000611Z",
     "iopub.status.idle": "2022-12-14T21:37:25.028896Z",
     "shell.execute_reply": "2022-12-14T21:37:25.027234Z"
    },
    "papermill": {
     "duration": 0.050114,
     "end_time": "2022-12-14T21:37:25.031482",
     "exception": false,
     "start_time": "2022-12-14T21:37:24.981368",
     "status": "completed"
    },
    "tags": []
   },
   "outputs": [],
   "source": [
    "ecommerce1 = ecommerce.copy()"
   ]
  },
  {
   "cell_type": "markdown",
   "id": "1e9f774d",
   "metadata": {
    "heading_collapsed": true,
    "papermill": {
     "duration": 0.018443,
     "end_time": "2022-12-14T21:37:25.068390",
     "exception": false,
     "start_time": "2022-12-14T21:37:25.049947",
     "status": "completed"
    },
    "tags": []
   },
   "source": [
    "## 1.1. Rename Columns"
   ]
  },
  {
   "cell_type": "code",
   "execution_count": 5,
   "id": "a4945b5b",
   "metadata": {
    "ExecuteTime": {
     "end_time": "2022-12-14T13:23:00.409129Z",
     "start_time": "2022-12-14T13:23:00.113403Z"
    },
    "execution": {
     "iopub.execute_input": "2022-12-14T21:37:25.112375Z",
     "iopub.status.busy": "2022-12-14T21:37:25.111457Z",
     "iopub.status.idle": "2022-12-14T21:37:25.118665Z",
     "shell.execute_reply": "2022-12-14T21:37:25.117498Z"
    },
    "hidden": true,
    "papermill": {
     "duration": 0.032053,
     "end_time": "2022-12-14T21:37:25.120591",
     "exception": false,
     "start_time": "2022-12-14T21:37:25.088538",
     "status": "completed"
    },
    "tags": []
   },
   "outputs": [],
   "source": [
    "new_cols =  ['invoice_no', 'stock_code','description', 'quantity', 'invoice_date', 'unit_price', 'customer_id', 'country']\n",
    "ecommerce1.columns = new_cols"
   ]
  },
  {
   "cell_type": "markdown",
   "id": "bdd17374",
   "metadata": {
    "heading_collapsed": true,
    "papermill": {
     "duration": 0.018621,
     "end_time": "2022-12-14T21:37:25.159352",
     "exception": false,
     "start_time": "2022-12-14T21:37:25.140731",
     "status": "completed"
    },
    "tags": []
   },
   "source": [
    "## 1.2. Data Dimensions"
   ]
  },
  {
   "cell_type": "code",
   "execution_count": 6,
   "id": "f7924b48",
   "metadata": {
    "ExecuteTime": {
     "end_time": "2022-12-14T13:23:00.693520Z",
     "start_time": "2022-12-14T13:23:00.413029Z"
    },
    "execution": {
     "iopub.execute_input": "2022-12-14T21:37:25.200803Z",
     "iopub.status.busy": "2022-12-14T21:37:25.200074Z",
     "iopub.status.idle": "2022-12-14T21:37:25.218690Z",
     "shell.execute_reply": "2022-12-14T21:37:25.217923Z"
    },
    "hidden": true,
    "papermill": {
     "duration": 0.045198,
     "end_time": "2022-12-14T21:37:25.224426",
     "exception": false,
     "start_time": "2022-12-14T21:37:25.179228",
     "status": "completed"
    },
    "tags": []
   },
   "outputs": [
    {
     "data": {
      "text/plain": [
       "(541909, 8)"
      ]
     },
     "execution_count": 6,
     "metadata": {},
     "output_type": "execute_result"
    }
   ],
   "source": [
    "ecommerce1.shape"
   ]
  },
  {
   "cell_type": "markdown",
   "id": "ceb47ef0",
   "metadata": {
    "heading_collapsed": true,
    "papermill": {
     "duration": 0.020643,
     "end_time": "2022-12-14T21:37:25.265332",
     "exception": false,
     "start_time": "2022-12-14T21:37:25.244689",
     "status": "completed"
    },
    "tags": []
   },
   "source": [
    "## 1.3. Data types"
   ]
  },
  {
   "cell_type": "code",
   "execution_count": 7,
   "id": "073adcd9",
   "metadata": {
    "ExecuteTime": {
     "end_time": "2022-12-14T13:23:00.882207Z",
     "start_time": "2022-12-14T13:23:00.699999Z"
    },
    "execution": {
     "iopub.execute_input": "2022-12-14T21:37:25.305136Z",
     "iopub.status.busy": "2022-12-14T21:37:25.304641Z",
     "iopub.status.idle": "2022-12-14T21:37:25.318321Z",
     "shell.execute_reply": "2022-12-14T21:37:25.316839Z"
    },
    "hidden": true,
    "papermill": {
     "duration": 0.036795,
     "end_time": "2022-12-14T21:37:25.321084",
     "exception": false,
     "start_time": "2022-12-14T21:37:25.284289",
     "status": "completed"
    },
    "tags": []
   },
   "outputs": [
    {
     "data": {
      "text/plain": [
       "invoice_no       object\n",
       "stock_code       object\n",
       "description      object\n",
       "quantity          int64\n",
       "invoice_date     object\n",
       "unit_price      float64\n",
       "customer_id     float64\n",
       "country          object\n",
       "dtype: object"
      ]
     },
     "execution_count": 7,
     "metadata": {},
     "output_type": "execute_result"
    }
   ],
   "source": [
    "ecommerce1.dtypes"
   ]
  },
  {
   "cell_type": "markdown",
   "id": "5d7c4a9d",
   "metadata": {
    "heading_collapsed": true,
    "papermill": {
     "duration": 0.02096,
     "end_time": "2022-12-14T21:37:25.363672",
     "exception": false,
     "start_time": "2022-12-14T21:37:25.342712",
     "status": "completed"
    },
    "tags": []
   },
   "source": [
    "## 1.4. Check NA"
   ]
  },
  {
   "cell_type": "code",
   "execution_count": 8,
   "id": "926dc7fa",
   "metadata": {
    "ExecuteTime": {
     "end_time": "2022-12-14T13:23:01.608244Z",
     "start_time": "2022-12-14T13:23:00.888148Z"
    },
    "execution": {
     "iopub.execute_input": "2022-12-14T21:37:25.411219Z",
     "iopub.status.busy": "2022-12-14T21:37:25.409475Z",
     "iopub.status.idle": "2022-12-14T21:37:25.838033Z",
     "shell.execute_reply": "2022-12-14T21:37:25.837128Z"
    },
    "hidden": true,
    "papermill": {
     "duration": 0.454964,
     "end_time": "2022-12-14T21:37:25.841212",
     "exception": false,
     "start_time": "2022-12-14T21:37:25.386248",
     "status": "completed"
    },
    "scrolled": false,
    "tags": []
   },
   "outputs": [
    {
     "data": {
      "text/plain": [
       "invoice_no           0\n",
       "stock_code           0\n",
       "description       1454\n",
       "quantity             0\n",
       "invoice_date         0\n",
       "unit_price           0\n",
       "customer_id     135080\n",
       "country              0\n",
       "dtype: int64"
      ]
     },
     "execution_count": 8,
     "metadata": {},
     "output_type": "execute_result"
    }
   ],
   "source": [
    "ecommerce1.isna().sum()"
   ]
  },
  {
   "cell_type": "markdown",
   "id": "37d4d226",
   "metadata": {
    "heading_collapsed": true,
    "papermill": {
     "duration": 0.020714,
     "end_time": "2022-12-14T21:37:25.883713",
     "exception": false,
     "start_time": "2022-12-14T21:37:25.862999",
     "status": "completed"
    },
    "tags": []
   },
   "source": [
    "## 1.5. Replace NA"
   ]
  },
  {
   "cell_type": "code",
   "execution_count": 9,
   "id": "0c767c92",
   "metadata": {
    "ExecuteTime": {
     "end_time": "2022-12-14T13:23:01.971739Z",
     "start_time": "2022-12-14T13:23:01.610692Z"
    },
    "execution": {
     "iopub.execute_input": "2022-12-14T21:37:25.928448Z",
     "iopub.status.busy": "2022-12-14T21:37:25.926934Z",
     "iopub.status.idle": "2022-12-14T21:37:25.983800Z",
     "shell.execute_reply": "2022-12-14T21:37:25.982784Z"
    },
    "hidden": true,
    "papermill": {
     "duration": 0.083102,
     "end_time": "2022-12-14T21:37:25.987394",
     "exception": false,
     "start_time": "2022-12-14T21:37:25.904292",
     "status": "completed"
    },
    "tags": []
   },
   "outputs": [],
   "source": [
    "# Missing values on customer ID\n",
    "ecommerce_missing = ecommerce1[ecommerce1['customer_id'].isna()]\n",
    "ecommerce_not_missing = ecommerce1[~ecommerce1['customer_id'].isna()]"
   ]
  },
  {
   "cell_type": "code",
   "execution_count": 10,
   "id": "74860748",
   "metadata": {
    "ExecuteTime": {
     "end_time": "2022-12-14T13:23:02.351070Z",
     "start_time": "2022-12-14T13:23:01.977287Z"
    },
    "execution": {
     "iopub.execute_input": "2022-12-14T21:37:26.045156Z",
     "iopub.status.busy": "2022-12-14T21:37:26.043944Z",
     "iopub.status.idle": "2022-12-14T21:37:26.219604Z",
     "shell.execute_reply": "2022-12-14T21:37:26.218636Z"
    },
    "hidden": true,
    "papermill": {
     "duration": 0.203996,
     "end_time": "2022-12-14T21:37:26.223712",
     "exception": false,
     "start_time": "2022-12-14T21:37:26.019716",
     "status": "completed"
    },
    "tags": []
   },
   "outputs": [],
   "source": [
    "ecommerce_missing_customerid = ecommerce_missing[['invoice_no','customer_id']].drop_duplicates()\n",
    "ecommerce_missing_customerid['customer_id'] = np.arange( 19000, 19000 + len(ecommerce_missing_customerid), 1 )\n",
    "ecommerce_missing = pd.merge(ecommerce_missing.drop('customer_id', axis = 1), ecommerce_missing_customerid, on = 'invoice_no', how = 'left')\n",
    "ecommerce_missing = ecommerce_missing[ecommerce_not_missing.columns]\n",
    "ecommerce1 = pd.concat([ecommerce_missing, ecommerce_not_missing])"
   ]
  },
  {
   "cell_type": "code",
   "execution_count": 11,
   "id": "28eea467",
   "metadata": {
    "ExecuteTime": {
     "end_time": "2022-12-14T13:23:02.911286Z",
     "start_time": "2022-12-14T13:23:02.353627Z"
    },
    "execution": {
     "iopub.execute_input": "2022-12-14T21:37:26.316259Z",
     "iopub.status.busy": "2022-12-14T21:37:26.315538Z",
     "iopub.status.idle": "2022-12-14T21:37:26.730860Z",
     "shell.execute_reply": "2022-12-14T21:37:26.730049Z"
    },
    "hidden": true,
    "papermill": {
     "duration": 0.457919,
     "end_time": "2022-12-14T21:37:26.734962",
     "exception": false,
     "start_time": "2022-12-14T21:37:26.277043",
     "status": "completed"
    },
    "tags": []
   },
   "outputs": [
    {
     "data": {
      "text/plain": [
       "invoice_no         0\n",
       "stock_code         0\n",
       "description     1454\n",
       "quantity           0\n",
       "invoice_date       0\n",
       "unit_price         0\n",
       "customer_id        0\n",
       "country            0\n",
       "dtype: int64"
      ]
     },
     "execution_count": 11,
     "metadata": {},
     "output_type": "execute_result"
    }
   ],
   "source": [
    "ecommerce1.isna().sum()"
   ]
  },
  {
   "cell_type": "markdown",
   "id": "144d703d",
   "metadata": {
    "heading_collapsed": true,
    "papermill": {
     "duration": 0.032545,
     "end_time": "2022-12-14T21:37:26.821853",
     "exception": false,
     "start_time": "2022-12-14T21:37:26.789308",
     "status": "completed"
    },
    "tags": []
   },
   "source": [
    "## 1.6. Change Dtypes"
   ]
  },
  {
   "cell_type": "code",
   "execution_count": 12,
   "id": "daaad1c8",
   "metadata": {
    "ExecuteTime": {
     "end_time": "2022-12-14T13:23:03.247201Z",
     "start_time": "2022-12-14T13:23:02.914228Z"
    },
    "execution": {
     "iopub.execute_input": "2022-12-14T21:37:26.863999Z",
     "iopub.status.busy": "2022-12-14T21:37:26.862894Z",
     "iopub.status.idle": "2022-12-14T21:37:26.922277Z",
     "shell.execute_reply": "2022-12-14T21:37:26.921421Z"
    },
    "hidden": true,
    "papermill": {
     "duration": 0.084294,
     "end_time": "2022-12-14T21:37:26.925749",
     "exception": false,
     "start_time": "2022-12-14T21:37:26.841455",
     "status": "completed"
    },
    "tags": []
   },
   "outputs": [],
   "source": [
    "# Invoice date\n",
    "ecommerce1['invoice_date'] = pd.to_datetime(ecommerce1['invoice_date'], format = '%d-%b-%y')\n",
    "\n",
    "# Customer id\n",
    "ecommerce1['customer_id'] = ecommerce1['customer_id'].astype(np.int64)"
   ]
  },
  {
   "cell_type": "code",
   "execution_count": 13,
   "id": "bde5f918",
   "metadata": {
    "ExecuteTime": {
     "end_time": "2022-12-14T13:23:03.907585Z",
     "start_time": "2022-12-14T13:23:03.249544Z"
    },
    "execution": {
     "iopub.execute_input": "2022-12-14T21:37:26.970569Z",
     "iopub.status.busy": "2022-12-14T21:37:26.970095Z",
     "iopub.status.idle": "2022-12-14T21:37:27.410890Z",
     "shell.execute_reply": "2022-12-14T21:37:27.409783Z"
    },
    "hidden": true,
    "papermill": {
     "duration": 0.464246,
     "end_time": "2022-12-14T21:37:27.413141",
     "exception": false,
     "start_time": "2022-12-14T21:37:26.948895",
     "status": "completed"
    },
    "tags": []
   },
   "outputs": [
    {
     "data": {
      "text/html": [
       "<div>\n",
       "<style scoped>\n",
       "    .dataframe tbody tr th:only-of-type {\n",
       "        vertical-align: middle;\n",
       "    }\n",
       "\n",
       "    .dataframe tbody tr th {\n",
       "        vertical-align: top;\n",
       "    }\n",
       "\n",
       "    .dataframe thead th {\n",
       "        text-align: right;\n",
       "    }\n",
       "</style>\n",
       "<table border=\"1\" class=\"dataframe\">\n",
       "  <thead>\n",
       "    <tr style=\"text-align: right;\">\n",
       "      <th></th>\n",
       "      <th>invoice_no</th>\n",
       "      <th>stock_code</th>\n",
       "      <th>description</th>\n",
       "      <th>quantity</th>\n",
       "      <th>invoice_date</th>\n",
       "      <th>unit_price</th>\n",
       "      <th>customer_id</th>\n",
       "      <th>country</th>\n",
       "    </tr>\n",
       "  </thead>\n",
       "  <tbody>\n",
       "    <tr>\n",
       "      <th>0</th>\n",
       "      <td>536365</td>\n",
       "      <td>85123A</td>\n",
       "      <td>WHITE HANGING HEART T-LIGHT HOLDER</td>\n",
       "      <td>6</td>\n",
       "      <td>2016-11-29</td>\n",
       "      <td>2.55</td>\n",
       "      <td>17850</td>\n",
       "      <td>United Kingdom</td>\n",
       "    </tr>\n",
       "    <tr>\n",
       "      <th>6</th>\n",
       "      <td>536365</td>\n",
       "      <td>21730</td>\n",
       "      <td>GLASS STAR FROSTED T-LIGHT HOLDER</td>\n",
       "      <td>6</td>\n",
       "      <td>2016-11-29</td>\n",
       "      <td>4.25</td>\n",
       "      <td>17850</td>\n",
       "      <td>United Kingdom</td>\n",
       "    </tr>\n",
       "    <tr>\n",
       "      <th>5</th>\n",
       "      <td>536365</td>\n",
       "      <td>22752</td>\n",
       "      <td>SET 7 BABUSHKA NESTING BOXES</td>\n",
       "      <td>2</td>\n",
       "      <td>2016-11-29</td>\n",
       "      <td>7.65</td>\n",
       "      <td>17850</td>\n",
       "      <td>United Kingdom</td>\n",
       "    </tr>\n",
       "    <tr>\n",
       "      <th>1</th>\n",
       "      <td>536365</td>\n",
       "      <td>71053</td>\n",
       "      <td>WHITE METAL LANTERN</td>\n",
       "      <td>6</td>\n",
       "      <td>2016-11-29</td>\n",
       "      <td>3.39</td>\n",
       "      <td>17850</td>\n",
       "      <td>United Kingdom</td>\n",
       "    </tr>\n",
       "    <tr>\n",
       "      <th>3</th>\n",
       "      <td>536365</td>\n",
       "      <td>84029G</td>\n",
       "      <td>KNITTED UNION FLAG HOT WATER BOTTLE</td>\n",
       "      <td>6</td>\n",
       "      <td>2016-11-29</td>\n",
       "      <td>3.39</td>\n",
       "      <td>17850</td>\n",
       "      <td>United Kingdom</td>\n",
       "    </tr>\n",
       "  </tbody>\n",
       "</table>\n",
       "</div>"
      ],
      "text/plain": [
       "  invoice_no stock_code                          description  quantity  \\\n",
       "0     536365     85123A   WHITE HANGING HEART T-LIGHT HOLDER         6   \n",
       "6     536365      21730    GLASS STAR FROSTED T-LIGHT HOLDER         6   \n",
       "5     536365      22752         SET 7 BABUSHKA NESTING BOXES         2   \n",
       "1     536365      71053                  WHITE METAL LANTERN         6   \n",
       "3     536365     84029G  KNITTED UNION FLAG HOT WATER BOTTLE         6   \n",
       "\n",
       "  invoice_date  unit_price  customer_id         country  \n",
       "0   2016-11-29        2.55        17850  United Kingdom  \n",
       "6   2016-11-29        4.25        17850  United Kingdom  \n",
       "5   2016-11-29        7.65        17850  United Kingdom  \n",
       "1   2016-11-29        3.39        17850  United Kingdom  \n",
       "3   2016-11-29        3.39        17850  United Kingdom  "
      ]
     },
     "execution_count": 13,
     "metadata": {},
     "output_type": "execute_result"
    }
   ],
   "source": [
    "ecommerce1.sort_values('invoice_no').head()"
   ]
  },
  {
   "cell_type": "markdown",
   "id": "66681528",
   "metadata": {
    "heading_collapsed": true,
    "papermill": {
     "duration": 0.01982,
     "end_time": "2022-12-14T21:37:27.453628",
     "exception": false,
     "start_time": "2022-12-14T21:37:27.433808",
     "status": "completed"
    },
    "tags": []
   },
   "source": [
    "## 1.7. Drop Duplicates"
   ]
  },
  {
   "cell_type": "code",
   "execution_count": 14,
   "id": "d04b49ff",
   "metadata": {
    "ExecuteTime": {
     "end_time": "2022-12-14T13:23:03.915203Z",
     "start_time": "2022-12-14T13:23:03.911289Z"
    },
    "execution": {
     "iopub.execute_input": "2022-12-14T21:37:27.497617Z",
     "iopub.status.busy": "2022-12-14T21:37:27.497133Z",
     "iopub.status.idle": "2022-12-14T21:37:27.501987Z",
     "shell.execute_reply": "2022-12-14T21:37:27.500958Z"
    },
    "hidden": true,
    "papermill": {
     "duration": 0.029952,
     "end_time": "2022-12-14T21:37:27.504062",
     "exception": false,
     "start_time": "2022-12-14T21:37:27.474110",
     "status": "completed"
    },
    "tags": []
   },
   "outputs": [],
   "source": [
    "#ecommerce1 = ecommerce1.drop_duplicates()"
   ]
  },
  {
   "cell_type": "markdown",
   "id": "30623aa6",
   "metadata": {
    "heading_collapsed": true,
    "papermill": {
     "duration": 0.020332,
     "end_time": "2022-12-14T21:37:27.544078",
     "exception": false,
     "start_time": "2022-12-14T21:37:27.523746",
     "status": "completed"
    },
    "tags": []
   },
   "source": [
    "## 1.8. Descriptive Statistics"
   ]
  },
  {
   "cell_type": "code",
   "execution_count": 15,
   "id": "a6d80b52",
   "metadata": {
    "ExecuteTime": {
     "end_time": "2022-12-14T13:23:04.180043Z",
     "start_time": "2022-12-14T13:23:03.919582Z"
    },
    "execution": {
     "iopub.execute_input": "2022-12-14T21:37:27.586834Z",
     "iopub.status.busy": "2022-12-14T21:37:27.586360Z",
     "iopub.status.idle": "2022-12-14T21:37:27.657828Z",
     "shell.execute_reply": "2022-12-14T21:37:27.656196Z"
    },
    "hidden": true,
    "papermill": {
     "duration": 0.098107,
     "end_time": "2022-12-14T21:37:27.662335",
     "exception": false,
     "start_time": "2022-12-14T21:37:27.564228",
     "status": "completed"
    },
    "tags": []
   },
   "outputs": [],
   "source": [
    "num_attributes = ecommerce1.select_dtypes( include = ['int64', 'float64'])\n",
    "cat_attributes = ecommerce1.select_dtypes( exclude = ['int64', 'float64', 'datetime64[ns]'])"
   ]
  },
  {
   "cell_type": "markdown",
   "id": "4d5a3bc3",
   "metadata": {
    "heading_collapsed": true,
    "hidden": true,
    "papermill": {
     "duration": 0.022136,
     "end_time": "2022-12-14T21:37:27.708208",
     "exception": false,
     "start_time": "2022-12-14T21:37:27.686072",
     "status": "completed"
    },
    "tags": []
   },
   "source": [
    "### 1.8.1. Numerical Attributes"
   ]
  },
  {
   "cell_type": "code",
   "execution_count": 16,
   "id": "2e991fa8",
   "metadata": {
    "ExecuteTime": {
     "end_time": "2022-12-14T13:23:04.409229Z",
     "start_time": "2022-12-14T13:23:04.182026Z"
    },
    "execution": {
     "iopub.execute_input": "2022-12-14T21:37:27.759144Z",
     "iopub.status.busy": "2022-12-14T21:37:27.757916Z",
     "iopub.status.idle": "2022-12-14T21:37:27.875412Z",
     "shell.execute_reply": "2022-12-14T21:37:27.873817Z"
    },
    "hidden": true,
    "papermill": {
     "duration": 0.148183,
     "end_time": "2022-12-14T21:37:27.879773",
     "exception": false,
     "start_time": "2022-12-14T21:37:27.731590",
     "status": "completed"
    },
    "tags": []
   },
   "outputs": [
    {
     "data": {
      "text/html": [
       "<div>\n",
       "<style scoped>\n",
       "    .dataframe tbody tr th:only-of-type {\n",
       "        vertical-align: middle;\n",
       "    }\n",
       "\n",
       "    .dataframe tbody tr th {\n",
       "        vertical-align: top;\n",
       "    }\n",
       "\n",
       "    .dataframe thead th {\n",
       "        text-align: right;\n",
       "    }\n",
       "</style>\n",
       "<table border=\"1\" class=\"dataframe\">\n",
       "  <thead>\n",
       "    <tr style=\"text-align: right;\">\n",
       "      <th></th>\n",
       "      <th>attributes</th>\n",
       "      <th>min</th>\n",
       "      <th>max</th>\n",
       "      <th>range</th>\n",
       "      <th>mean</th>\n",
       "      <th>median</th>\n",
       "      <th>std</th>\n",
       "      <th>skew</th>\n",
       "      <th>kurtosis</th>\n",
       "    </tr>\n",
       "  </thead>\n",
       "  <tbody>\n",
       "    <tr>\n",
       "      <th>0</th>\n",
       "      <td>quantity</td>\n",
       "      <td>-80995.00</td>\n",
       "      <td>80995.0</td>\n",
       "      <td>161990.00</td>\n",
       "      <td>9.552250</td>\n",
       "      <td>3.00</td>\n",
       "      <td>218.080957</td>\n",
       "      <td>80995.264076</td>\n",
       "      <td>-38774.160031</td>\n",
       "    </tr>\n",
       "    <tr>\n",
       "      <th>1</th>\n",
       "      <td>unit_price</td>\n",
       "      <td>-11062.06</td>\n",
       "      <td>38970.0</td>\n",
       "      <td>50032.06</td>\n",
       "      <td>4.611114</td>\n",
       "      <td>2.08</td>\n",
       "      <td>96.759764</td>\n",
       "      <td>38783.493028</td>\n",
       "      <td>-20035.719097</td>\n",
       "    </tr>\n",
       "    <tr>\n",
       "      <th>2</th>\n",
       "      <td>customer_id</td>\n",
       "      <td>12346.00</td>\n",
       "      <td>22709.0</td>\n",
       "      <td>10363.00</td>\n",
       "      <td>16688.840453</td>\n",
       "      <td>16249.00</td>\n",
       "      <td>2911.408666</td>\n",
       "      <td>22708.512551</td>\n",
       "      <td>22709.804287</td>\n",
       "    </tr>\n",
       "  </tbody>\n",
       "</table>\n",
       "</div>"
      ],
      "text/plain": [
       "    attributes       min      max      range          mean    median  \\\n",
       "0     quantity -80995.00  80995.0  161990.00      9.552250      3.00   \n",
       "1   unit_price -11062.06  38970.0   50032.06      4.611114      2.08   \n",
       "2  customer_id  12346.00  22709.0   10363.00  16688.840453  16249.00   \n",
       "\n",
       "           std          skew      kurtosis  \n",
       "0   218.080957  80995.264076 -38774.160031  \n",
       "1    96.759764  38783.493028 -20035.719097  \n",
       "2  2911.408666  22708.512551  22709.804287  "
      ]
     },
     "execution_count": 16,
     "metadata": {},
     "output_type": "execute_result"
    }
   ],
   "source": [
    "# Central tendency (mean, median)\n",
    "ct1 = ( num_attributes.apply( np.mean ) ).T\n",
    "ct2 = ( num_attributes.apply( np.median ) ).T\n",
    "# Dispersion ( std, min, max. range, skew, kurtosis)\n",
    "d1 = ( num_attributes.apply( np.std ) ).T\n",
    "d2 = ( num_attributes.apply( np.min ) ).T\n",
    "d3 = ( num_attributes.apply( np.max ) ).T\n",
    "d4 = ( num_attributes.apply( lambda x: x.max() - x.min() ) ).T\n",
    "d5 = ( num_attributes.apply( lambda x: x.max() - x.skew() ) ).T\n",
    "d6 = ( num_attributes.apply( lambda x: x.max() - x.kurtosis() ) ).T\n",
    "\n",
    "# Concatenate\n",
    "ecommerce_stats = pd.concat( [d2, d3, d4, ct1, ct2, d1, d5, d6], axis = 1 ).reset_index()\n",
    "ecommerce_stats.columns = ['attributes','min','max', 'range', 'mean', 'median',' std',' skew', 'kurtosis']\n",
    "ecommerce_stats"
   ]
  },
  {
   "cell_type": "markdown",
   "id": "cf204385",
   "metadata": {
    "heading_collapsed": true,
    "hidden": true,
    "papermill": {
     "duration": 0.023478,
     "end_time": "2022-12-14T21:37:27.929118",
     "exception": false,
     "start_time": "2022-12-14T21:37:27.905640",
     "status": "completed"
    },
    "tags": []
   },
   "source": [
    "### 1.8.2. Categorical Attributes"
   ]
  },
  {
   "cell_type": "markdown",
   "id": "42548006",
   "metadata": {
    "heading_collapsed": true,
    "hidden": true,
    "papermill": {
     "duration": 0.022986,
     "end_time": "2022-12-14T21:37:27.974693",
     "exception": false,
     "start_time": "2022-12-14T21:37:27.951707",
     "status": "completed"
    },
    "tags": []
   },
   "source": [
    "##### Invoice Number"
   ]
  },
  {
   "cell_type": "code",
   "execution_count": 17,
   "id": "8b379702",
   "metadata": {
    "ExecuteTime": {
     "end_time": "2022-12-14T13:23:05.261371Z",
     "start_time": "2022-12-14T13:23:04.413562Z"
    },
    "execution": {
     "iopub.execute_input": "2022-12-14T21:37:28.019329Z",
     "iopub.status.busy": "2022-12-14T21:37:28.018323Z",
     "iopub.status.idle": "2022-12-14T21:37:28.916098Z",
     "shell.execute_reply": "2022-12-14T21:37:28.915245Z"
    },
    "hidden": true,
    "papermill": {
     "duration": 0.922457,
     "end_time": "2022-12-14T21:37:28.918920",
     "exception": false,
     "start_time": "2022-12-14T21:37:27.996463",
     "status": "completed"
    },
    "tags": []
   },
   "outputs": [
    {
     "name": "stdout",
     "output_type": "stream",
     "text": [
      "Total number of invoices number with letter:  9291 \n",
      "Total number of negative quantity:  9288\n"
     ]
    }
   ],
   "source": [
    " # Invoice number\n",
    "invoices_w_letters = ecommerce1.loc[ecommerce1['invoice_no'].apply( lambda x: bool( re.search( '[^0-9]+', x ) ) ), : ]\n",
    "negative_quantity = len( invoices_w_letters.loc[invoices_w_letters['quantity'] < 0, : ] )\n",
    "print('Total number of invoices number with letter: ',len( invoices_w_letters ), '\\nTotal number of negative quantity: ', negative_quantity)"
   ]
  },
  {
   "cell_type": "markdown",
   "id": "1c70018e",
   "metadata": {
    "heading_collapsed": true,
    "hidden": true,
    "papermill": {
     "duration": 0.019707,
     "end_time": "2022-12-14T21:37:28.962398",
     "exception": false,
     "start_time": "2022-12-14T21:37:28.942691",
     "status": "completed"
    },
    "tags": []
   },
   "source": [
    "##### Stock code"
   ]
  },
  {
   "cell_type": "code",
   "execution_count": 18,
   "id": "45ad4afa",
   "metadata": {
    "ExecuteTime": {
     "end_time": "2022-12-14T13:23:05.972688Z",
     "start_time": "2022-12-14T13:23:05.266821Z"
    },
    "execution": {
     "iopub.execute_input": "2022-12-14T21:37:29.014060Z",
     "iopub.status.busy": "2022-12-14T21:37:29.012704Z",
     "iopub.status.idle": "2022-12-14T21:37:29.808099Z",
     "shell.execute_reply": "2022-12-14T21:37:29.806717Z"
    },
    "hidden": true,
    "papermill": {
     "duration": 0.82678,
     "end_time": "2022-12-14T21:37:29.811966",
     "exception": false,
     "start_time": "2022-12-14T21:37:28.985186",
     "status": "completed"
    },
    "tags": []
   },
   "outputs": [
    {
     "data": {
      "text/plain": [
       "array(['DOT', 'M', 'S', 'AMAZONFEE', 'm', 'POST', 'DCGSSBOY', 'DCGSSGIRL',\n",
       "       'B', 'D', 'PADS', 'CRUK'], dtype=object)"
      ]
     },
     "execution_count": 18,
     "metadata": {},
     "output_type": "execute_result"
    }
   ],
   "source": [
    "# Stock code\n",
    "# Check only characters on stock code\n",
    "ecommerce1.loc[ecommerce1['stock_code'].apply( lambda x: bool( re.search( '^[a-zA-Z]+$',  x ) ) ), 'stock_code' ].unique()\n",
    "\n",
    "# Action: Remove stock code in ['DOT', 'M', 'S', 'AMAZONFEE', 'm', 'POST', 'DCGSSBOY', 'DCGSSGIRL', 'B', 'D', 'PADS', 'CRUK']\n"
   ]
  },
  {
   "cell_type": "markdown",
   "id": "c4715144",
   "metadata": {
    "heading_collapsed": true,
    "hidden": true,
    "papermill": {
     "duration": 0.021582,
     "end_time": "2022-12-14T21:37:29.856750",
     "exception": false,
     "start_time": "2022-12-14T21:37:29.835168",
     "status": "completed"
    },
    "tags": []
   },
   "source": [
    "##### Description"
   ]
  },
  {
   "cell_type": "code",
   "execution_count": 19,
   "id": "3919b91a",
   "metadata": {
    "ExecuteTime": {
     "end_time": "2022-12-14T13:23:05.980968Z",
     "start_time": "2022-12-14T13:23:05.976006Z"
    },
    "execution": {
     "iopub.execute_input": "2022-12-14T21:37:29.902760Z",
     "iopub.status.busy": "2022-12-14T21:37:29.901941Z",
     "iopub.status.idle": "2022-12-14T21:37:29.907457Z",
     "shell.execute_reply": "2022-12-14T21:37:29.906077Z"
    },
    "hidden": true,
    "papermill": {
     "duration": 0.03034,
     "end_time": "2022-12-14T21:37:29.910178",
     "exception": false,
     "start_time": "2022-12-14T21:37:29.879838",
     "status": "completed"
    },
    "tags": []
   },
   "outputs": [],
   "source": [
    "# Action: delete description"
   ]
  },
  {
   "cell_type": "markdown",
   "id": "987194e5",
   "metadata": {
    "heading_collapsed": true,
    "hidden": true,
    "papermill": {
     "duration": 0.03419,
     "end_time": "2022-12-14T21:37:29.966052",
     "exception": false,
     "start_time": "2022-12-14T21:37:29.931862",
     "status": "completed"
    },
    "tags": []
   },
   "source": [
    "##### Country"
   ]
  },
  {
   "cell_type": "code",
   "execution_count": 20,
   "id": "4d20ce18",
   "metadata": {
    "ExecuteTime": {
     "end_time": "2022-12-14T13:23:06.301122Z",
     "start_time": "2022-12-14T13:23:05.984521Z"
    },
    "execution": {
     "iopub.execute_input": "2022-12-14T21:37:30.018015Z",
     "iopub.status.busy": "2022-12-14T21:37:30.016861Z",
     "iopub.status.idle": "2022-12-14T21:37:30.066480Z",
     "shell.execute_reply": "2022-12-14T21:37:30.064888Z"
    },
    "hidden": true,
    "papermill": {
     "duration": 0.07864,
     "end_time": "2022-12-14T21:37:30.069293",
     "exception": false,
     "start_time": "2022-12-14T21:37:29.990653",
     "status": "completed"
    },
    "tags": []
   },
   "outputs": [
    {
     "data": {
      "text/plain": [
       "array(['United Kingdom', 'EIRE', 'Bahrain', 'Israel', 'Hong Kong',\n",
       "       'Unspecified', 'France', 'Switzerland', 'Portugal', 'Australia',\n",
       "       'Netherlands', 'Germany', 'Norway', 'Spain', 'Poland', 'Italy',\n",
       "       'Belgium', 'Lithuania', 'Japan', 'Iceland', 'Channel Islands',\n",
       "       'Denmark', 'Cyprus', 'Sweden', 'Austria', 'Finland', 'Greece',\n",
       "       'Singapore', 'Lebanon', 'United Arab Emirates', 'Saudi Arabia',\n",
       "       'Czech Republic', 'Canada', 'Brazil', 'USA', 'European Community',\n",
       "       'Malta', 'RSA'], dtype=object)"
      ]
     },
     "execution_count": 20,
     "metadata": {},
     "output_type": "execute_result"
    }
   ],
   "source": [
    "ecommerce1['country'].unique()"
   ]
  },
  {
   "cell_type": "code",
   "execution_count": 21,
   "id": "10ea5f53",
   "metadata": {
    "ExecuteTime": {
     "end_time": "2022-12-14T13:23:06.534102Z",
     "start_time": "2022-12-14T13:23:06.306256Z"
    },
    "execution": {
     "iopub.execute_input": "2022-12-14T21:37:30.238325Z",
     "iopub.status.busy": "2022-12-14T21:37:30.236897Z",
     "iopub.status.idle": "2022-12-14T21:37:30.335522Z",
     "shell.execute_reply": "2022-12-14T21:37:30.334473Z"
    },
    "hidden": true,
    "papermill": {
     "duration": 0.230994,
     "end_time": "2022-12-14T21:37:30.338143",
     "exception": false,
     "start_time": "2022-12-14T21:37:30.107149",
     "status": "completed"
    },
    "scrolled": true,
    "tags": []
   },
   "outputs": [
    {
     "data": {
      "text/plain": [
       "United Kingdom          0.914320\n",
       "Germany                 0.017521\n",
       "France                  0.015790\n",
       "EIRE                    0.015124\n",
       "Spain                   0.004674\n",
       "Netherlands             0.004375\n",
       "Belgium                 0.003818\n",
       "Switzerland             0.003694\n",
       "Portugal                0.002803\n",
       "Australia               0.002323\n",
       "Norway                  0.002004\n",
       "Italy                   0.001482\n",
       "Channel Islands         0.001399\n",
       "Finland                 0.001283\n",
       "Cyprus                  0.001148\n",
       "Sweden                  0.000853\n",
       "Unspecified             0.000823\n",
       "Austria                 0.000740\n",
       "Denmark                 0.000718\n",
       "Japan                   0.000661\n",
       "Poland                  0.000629\n",
       "Israel                  0.000548\n",
       "USA                     0.000537\n",
       "Hong Kong               0.000531\n",
       "Singapore               0.000423\n",
       "Iceland                 0.000336\n",
       "Canada                  0.000279\n",
       "Greece                  0.000269\n",
       "Malta                   0.000234\n",
       "United Arab Emirates    0.000125\n",
       "European Community      0.000113\n",
       "RSA                     0.000107\n",
       "Lebanon                 0.000083\n",
       "Lithuania               0.000065\n",
       "Brazil                  0.000059\n",
       "Czech Republic          0.000055\n",
       "Bahrain                 0.000035\n",
       "Saudi Arabia            0.000018\n",
       "Name: country, dtype: float64"
      ]
     },
     "execution_count": 21,
     "metadata": {},
     "output_type": "execute_result"
    }
   ],
   "source": [
    "ecommerce1['country'].value_counts(normalize = True)"
   ]
  },
  {
   "cell_type": "code",
   "execution_count": 22,
   "id": "8709b3d6",
   "metadata": {
    "ExecuteTime": {
     "end_time": "2022-12-14T13:23:06.862895Z",
     "start_time": "2022-12-14T13:23:06.536759Z"
    },
    "execution": {
     "iopub.execute_input": "2022-12-14T21:37:30.388582Z",
     "iopub.status.busy": "2022-12-14T21:37:30.387162Z",
     "iopub.status.idle": "2022-12-14T21:37:30.457199Z",
     "shell.execute_reply": "2022-12-14T21:37:30.456180Z"
    },
    "hidden": true,
    "papermill": {
     "duration": 0.099861,
     "end_time": "2022-12-14T21:37:30.460674",
     "exception": false,
     "start_time": "2022-12-14T21:37:30.360813",
     "status": "completed"
    },
    "tags": []
   },
   "outputs": [
    {
     "data": {
      "text/html": [
       "<div>\n",
       "<style scoped>\n",
       "    .dataframe tbody tr th:only-of-type {\n",
       "        vertical-align: middle;\n",
       "    }\n",
       "\n",
       "    .dataframe tbody tr th {\n",
       "        vertical-align: top;\n",
       "    }\n",
       "\n",
       "    .dataframe thead th {\n",
       "        text-align: right;\n",
       "    }\n",
       "</style>\n",
       "<table border=\"1\" class=\"dataframe\">\n",
       "  <thead>\n",
       "    <tr style=\"text-align: right;\">\n",
       "      <th></th>\n",
       "      <th>country</th>\n",
       "      <th>customer_id</th>\n",
       "    </tr>\n",
       "  </thead>\n",
       "  <tbody>\n",
       "    <tr>\n",
       "      <th>36</th>\n",
       "      <td>United Kingdom</td>\n",
       "      <td>7587</td>\n",
       "    </tr>\n",
       "    <tr>\n",
       "      <th>14</th>\n",
       "      <td>Germany</td>\n",
       "      <td>95</td>\n",
       "    </tr>\n",
       "    <tr>\n",
       "      <th>13</th>\n",
       "      <td>France</td>\n",
       "      <td>90</td>\n",
       "    </tr>\n",
       "    <tr>\n",
       "      <th>10</th>\n",
       "      <td>EIRE</td>\n",
       "      <td>44</td>\n",
       "    </tr>\n",
       "  </tbody>\n",
       "</table>\n",
       "</div>"
      ],
      "text/plain": [
       "           country  customer_id\n",
       "36  United Kingdom         7587\n",
       "14         Germany           95\n",
       "13          France           90\n",
       "10            EIRE           44"
      ]
     },
     "execution_count": 22,
     "metadata": {},
     "output_type": "execute_result"
    }
   ],
   "source": [
    "ecommerce1[['customer_id','country']].drop_duplicates().groupby('country').count().reset_index().sort_values(by = 'customer_id', ascending = False).head(4)"
   ]
  },
  {
   "cell_type": "markdown",
   "id": "4ac55ad1",
   "metadata": {
    "heading_collapsed": true,
    "papermill": {
     "duration": 0.026448,
     "end_time": "2022-12-14T21:37:30.511639",
     "exception": false,
     "start_time": "2022-12-14T21:37:30.485191",
     "status": "completed"
    },
    "tags": []
   },
   "source": [
    "# 2.0. Data Filtering"
   ]
  },
  {
   "cell_type": "code",
   "execution_count": 23,
   "id": "a2bb4949",
   "metadata": {
    "ExecuteTime": {
     "end_time": "2022-12-14T13:23:07.042407Z",
     "start_time": "2022-12-14T13:23:06.865481Z"
    },
    "execution": {
     "iopub.execute_input": "2022-12-14T21:37:30.566208Z",
     "iopub.status.busy": "2022-12-14T21:37:30.565751Z",
     "iopub.status.idle": "2022-12-14T21:37:30.570988Z",
     "shell.execute_reply": "2022-12-14T21:37:30.569760Z"
    },
    "hidden": true,
    "papermill": {
     "duration": 0.038361,
     "end_time": "2022-12-14T21:37:30.576102",
     "exception": false,
     "start_time": "2022-12-14T21:37:30.537741",
     "status": "completed"
    },
    "tags": []
   },
   "outputs": [],
   "source": [
    "ecommerce2 = ecommerce1"
   ]
  },
  {
   "cell_type": "code",
   "execution_count": 24,
   "id": "ced7cf42",
   "metadata": {
    "ExecuteTime": {
     "end_time": "2022-12-14T13:23:07.294971Z",
     "start_time": "2022-12-14T13:23:07.047108Z"
    },
    "execution": {
     "iopub.execute_input": "2022-12-14T21:37:30.630050Z",
     "iopub.status.busy": "2022-12-14T21:37:30.629110Z",
     "iopub.status.idle": "2022-12-14T21:37:30.656554Z",
     "shell.execute_reply": "2022-12-14T21:37:30.655205Z"
    },
    "hidden": true,
    "papermill": {
     "duration": 0.057941,
     "end_time": "2022-12-14T21:37:30.660483",
     "exception": false,
     "start_time": "2022-12-14T21:37:30.602542",
     "status": "completed"
    },
    "tags": []
   },
   "outputs": [],
   "source": [
    "# Drop description column\n",
    "ecommerce2 = ecommerce2.drop('description', axis = 1)"
   ]
  },
  {
   "cell_type": "code",
   "execution_count": 25,
   "id": "5fc89e87",
   "metadata": {
    "ExecuteTime": {
     "end_time": "2022-12-14T13:23:07.730327Z",
     "start_time": "2022-12-14T13:23:07.299440Z"
    },
    "execution": {
     "iopub.execute_input": "2022-12-14T21:37:30.709239Z",
     "iopub.status.busy": "2022-12-14T21:37:30.708020Z",
     "iopub.status.idle": "2022-12-14T21:37:30.942536Z",
     "shell.execute_reply": "2022-12-14T21:37:30.940990Z"
    },
    "hidden": true,
    "papermill": {
     "duration": 0.261839,
     "end_time": "2022-12-14T21:37:30.945725",
     "exception": false,
     "start_time": "2022-12-14T21:37:30.683886",
     "status": "completed"
    },
    "tags": []
   },
   "outputs": [],
   "source": [
    "# Categorical attributes\n",
    "\n",
    "# Stock code\n",
    "ecommerce2 = ecommerce2[~ecommerce2['stock_code'].isin(['DOT', 'M', 'S', 'AMAZONFEE', 'm', 'POST', 'DCGSSBOY', 'DCGSSGIRL', 'B', 'D', 'PADS', 'CRUK'])]\n",
    "\n",
    "# Country\n",
    "ecommerce2 = ecommerce2[~ecommerce2['country'].isin( ['European Community', 'Unspecified'] )] \n",
    "\n",
    "# Numerical attributes\n",
    "\n",
    "# Unit price\n",
    "ecommerce2 = ecommerce2[ecommerce2['unit_price'] >= 0.04]\n",
    "\n",
    "# Bad users\n",
    "ecommerce2 = ecommerce2[~ecommerce2['customer_id'].isin( [16446] )]\n",
    "\n",
    "# Quantity\n",
    "ecommerce_returns = ecommerce2.loc[ecommerce2['quantity'] < 0, : ] \n",
    "ecommerce_purchases = ecommerce2.loc[ecommerce2['quantity'] >= 0, : ] "
   ]
  },
  {
   "cell_type": "markdown",
   "id": "5d69dffc",
   "metadata": {
    "heading_collapsed": true,
    "papermill": {
     "duration": 0.024647,
     "end_time": "2022-12-14T21:37:30.997849",
     "exception": false,
     "start_time": "2022-12-14T21:37:30.973202",
     "status": "completed"
    },
    "tags": []
   },
   "source": [
    "# 3.0. Feature Engineering"
   ]
  },
  {
   "cell_type": "code",
   "execution_count": 26,
   "id": "5e3beb9a",
   "metadata": {
    "ExecuteTime": {
     "end_time": "2022-12-14T13:23:07.782775Z",
     "start_time": "2022-12-14T13:23:07.732314Z"
    },
    "execution": {
     "iopub.execute_input": "2022-12-14T21:37:31.048372Z",
     "iopub.status.busy": "2022-12-14T21:37:31.047362Z",
     "iopub.status.idle": "2022-12-14T21:37:31.052306Z",
     "shell.execute_reply": "2022-12-14T21:37:31.051215Z"
    },
    "hidden": true,
    "papermill": {
     "duration": 0.035748,
     "end_time": "2022-12-14T21:37:31.055784",
     "exception": false,
     "start_time": "2022-12-14T21:37:31.020036",
     "status": "completed"
    },
    "tags": []
   },
   "outputs": [],
   "source": [
    "ecommerce3 = ecommerce2"
   ]
  },
  {
   "cell_type": "code",
   "execution_count": 27,
   "id": "d6edf8ab",
   "metadata": {
    "ExecuteTime": {
     "end_time": "2022-12-14T13:23:07.977313Z",
     "start_time": "2022-12-14T13:23:07.788084Z"
    },
    "execution": {
     "iopub.execute_input": "2022-12-14T21:37:31.105600Z",
     "iopub.status.busy": "2022-12-14T21:37:31.104819Z",
     "iopub.status.idle": "2022-12-14T21:37:31.124042Z",
     "shell.execute_reply": "2022-12-14T21:37:31.123106Z"
    },
    "hidden": true,
    "papermill": {
     "duration": 0.046066,
     "end_time": "2022-12-14T21:37:31.127039",
     "exception": false,
     "start_time": "2022-12-14T21:37:31.080973",
     "status": "completed"
    },
    "tags": []
   },
   "outputs": [],
   "source": [
    "customer_df = ecommerce3.drop(['invoice_no', 'stock_code', 'quantity', 'invoice_date', 'unit_price', 'country'], axis = 1).drop_duplicates(ignore_index = True)"
   ]
  },
  {
   "cell_type": "markdown",
   "id": "2bd5d4a8",
   "metadata": {
    "hidden": true,
    "papermill": {
     "duration": 0.024523,
     "end_time": "2022-12-14T21:37:31.175380",
     "exception": false,
     "start_time": "2022-12-14T21:37:31.150857",
     "status": "completed"
    },
    "tags": []
   },
   "source": [
    "## 3.1. Feature Creation"
   ]
  },
  {
   "cell_type": "markdown",
   "id": "06ceabda",
   "metadata": {
    "heading_collapsed": true,
    "hidden": true,
    "papermill": {
     "duration": 0.024161,
     "end_time": "2022-12-14T21:37:31.223327",
     "exception": false,
     "start_time": "2022-12-14T21:37:31.199166",
     "status": "completed"
    },
    "tags": []
   },
   "source": [
    "### 3.1.1. Gross Revenue"
   ]
  },
  {
   "cell_type": "code",
   "execution_count": 28,
   "id": "843b4fa2",
   "metadata": {
    "ExecuteTime": {
     "end_time": "2022-12-14T13:23:08.217264Z",
     "start_time": "2022-12-14T13:23:07.996310Z"
    },
    "execution": {
     "iopub.execute_input": "2022-12-14T21:37:31.273179Z",
     "iopub.status.busy": "2022-12-14T21:37:31.271941Z",
     "iopub.status.idle": "2022-12-14T21:37:31.340107Z",
     "shell.execute_reply": "2022-12-14T21:37:31.338836Z"
    },
    "hidden": true,
    "papermill": {
     "duration": 0.095673,
     "end_time": "2022-12-14T21:37:31.342743",
     "exception": false,
     "start_time": "2022-12-14T21:37:31.247070",
     "status": "completed"
    },
    "tags": []
   },
   "outputs": [
    {
     "data": {
      "text/plain": [
       "customer_id       0\n",
       "gross_revenue    91\n",
       "dtype: int64"
      ]
     },
     "execution_count": 28,
     "metadata": {},
     "output_type": "execute_result"
    }
   ],
   "source": [
    "# Gross Revenue\n",
    "ecommerce_purchases['gross_revenue'] = ecommerce_purchases['quantity'] * ecommerce_purchases['unit_price']\n",
    "df_gross_revenue = ecommerce_purchases[['gross_revenue','customer_id']].groupby('customer_id').sum().reset_index()\n",
    "customer_df = pd.merge(customer_df, df_gross_revenue,on = 'customer_id', how = 'left')\n",
    "\n",
    "customer_df.isna().sum()"
   ]
  },
  {
   "cell_type": "markdown",
   "id": "4f324df3",
   "metadata": {
    "heading_collapsed": true,
    "hidden": true,
    "papermill": {
     "duration": 0.055705,
     "end_time": "2022-12-14T21:37:31.421910",
     "exception": false,
     "start_time": "2022-12-14T21:37:31.366205",
     "status": "completed"
    },
    "tags": []
   },
   "source": [
    "### 3.1.2. Recency"
   ]
  },
  {
   "cell_type": "code",
   "execution_count": 29,
   "id": "b45fdba3",
   "metadata": {
    "ExecuteTime": {
     "end_time": "2022-12-14T13:23:08.391700Z",
     "start_time": "2022-12-14T13:23:08.221492Z"
    },
    "execution": {
     "iopub.execute_input": "2022-12-14T21:37:31.551210Z",
     "iopub.status.busy": "2022-12-14T21:37:31.550349Z",
     "iopub.status.idle": "2022-12-14T21:37:31.585057Z",
     "shell.execute_reply": "2022-12-14T21:37:31.584060Z"
    },
    "hidden": true,
    "papermill": {
     "duration": 0.140774,
     "end_time": "2022-12-14T21:37:31.587166",
     "exception": false,
     "start_time": "2022-12-14T21:37:31.446392",
     "status": "completed"
    },
    "tags": []
   },
   "outputs": [
    {
     "data": {
      "text/plain": [
       "customer_id       0\n",
       "gross_revenue    91\n",
       "recency          91\n",
       "dtype: int64"
      ]
     },
     "execution_count": 29,
     "metadata": {},
     "output_type": "execute_result"
    }
   ],
   "source": [
    "# Recency - Last day purchase\n",
    "df_recency = ecommerce_purchases[['customer_id', 'invoice_date']].groupby('customer_id').max().reset_index()\n",
    "df_recency['recency'] = (ecommerce_purchases['invoice_date'].max() - df_recency['invoice_date']).dt.days\n",
    "df_recency = df_recency[['customer_id','recency']].copy()\n",
    "\n",
    "# Merge\n",
    "customer_df = pd.merge(customer_df, df_recency, on = 'customer_id', how = 'left')\n",
    "\n",
    "customer_df.isna().sum()"
   ]
  },
  {
   "cell_type": "markdown",
   "id": "d769cd55",
   "metadata": {
    "heading_collapsed": true,
    "hidden": true,
    "papermill": {
     "duration": 0.025523,
     "end_time": "2022-12-14T21:37:31.676791",
     "exception": false,
     "start_time": "2022-12-14T21:37:31.651268",
     "status": "completed"
    },
    "tags": []
   },
   "source": [
    "### 3.1.3. Quantity of purchases"
   ]
  },
  {
   "cell_type": "code",
   "execution_count": 30,
   "id": "f428c783",
   "metadata": {
    "ExecuteTime": {
     "end_time": "2022-12-14T13:23:08.632220Z",
     "start_time": "2022-12-14T13:23:08.396034Z"
    },
    "execution": {
     "iopub.execute_input": "2022-12-14T21:37:31.728179Z",
     "iopub.status.busy": "2022-12-14T21:37:31.726803Z",
     "iopub.status.idle": "2022-12-14T21:37:31.850965Z",
     "shell.execute_reply": "2022-12-14T21:37:31.850111Z"
    },
    "hidden": true,
    "papermill": {
     "duration": 0.154634,
     "end_time": "2022-12-14T21:37:31.854407",
     "exception": false,
     "start_time": "2022-12-14T21:37:31.699773",
     "status": "completed"
    },
    "tags": []
   },
   "outputs": [
    {
     "data": {
      "text/plain": [
       "customer_id       0\n",
       "gross_revenue    91\n",
       "recency          91\n",
       "qtty_invoices    91\n",
       "dtype: int64"
      ]
     },
     "execution_count": 30,
     "metadata": {},
     "output_type": "execute_result"
    }
   ],
   "source": [
    "# qtty purchased\n",
    "df_frequency = ecommerce_purchases[['invoice_no', 'customer_id']].drop_duplicates().groupby('customer_id').count().reset_index().rename(columns = {'invoice_no' : 'qtty_invoices'})\n",
    "\n",
    "# Merge\n",
    "customer_df = pd.merge(customer_df, df_frequency, on = 'customer_id', how = 'left')\n",
    "customer_df.isna().sum()"
   ]
  },
  {
   "cell_type": "markdown",
   "id": "bb25bd62",
   "metadata": {
    "heading_collapsed": true,
    "hidden": true,
    "papermill": {
     "duration": 0.023339,
     "end_time": "2022-12-14T21:37:31.904501",
     "exception": false,
     "start_time": "2022-12-14T21:37:31.881162",
     "status": "completed"
    },
    "tags": []
   },
   "source": [
    "### 3.1.4. Quantity of items purchased"
   ]
  },
  {
   "cell_type": "code",
   "execution_count": 31,
   "id": "0d51c704",
   "metadata": {
    "ExecuteTime": {
     "end_time": "2022-12-14T13:23:08.802816Z",
     "start_time": "2022-12-14T13:23:08.635077Z"
    },
    "execution": {
     "iopub.execute_input": "2022-12-14T21:37:32.050823Z",
     "iopub.status.busy": "2022-12-14T21:37:32.050108Z",
     "iopub.status.idle": "2022-12-14T21:37:32.083152Z",
     "shell.execute_reply": "2022-12-14T21:37:32.082044Z"
    },
    "hidden": true,
    "papermill": {
     "duration": 0.064817,
     "end_time": "2022-12-14T21:37:32.085978",
     "exception": false,
     "start_time": "2022-12-14T21:37:32.021161",
     "status": "completed"
    },
    "tags": []
   },
   "outputs": [
    {
     "data": {
      "text/plain": [
       "customer_id       0\n",
       "gross_revenue    91\n",
       "recency          91\n",
       "qtty_invoices    91\n",
       "qtty_items       91\n",
       "dtype: int64"
      ]
     },
     "execution_count": 31,
     "metadata": {},
     "output_type": "execute_result"
    }
   ],
   "source": [
    "# qtty purchased\n",
    "df_products = ecommerce_purchases[['quantity', 'customer_id']].groupby('customer_id').sum().reset_index().rename(columns = {'quantity' : 'qtty_items'})\n",
    "\n",
    "# Merge\n",
    "customer_df = pd.merge(customer_df, df_products, on = 'customer_id', how = 'left')\n",
    "\n",
    "customer_df.isna().sum()"
   ]
  },
  {
   "cell_type": "markdown",
   "id": "83d572be",
   "metadata": {
    "heading_collapsed": true,
    "hidden": true,
    "papermill": {
     "duration": 0.021758,
     "end_time": "2022-12-14T21:37:32.132431",
     "exception": false,
     "start_time": "2022-12-14T21:37:32.110673",
     "status": "completed"
    },
    "tags": []
   },
   "source": [
    "### 3.1.5. Quantity of products purchased"
   ]
  },
  {
   "cell_type": "code",
   "execution_count": 32,
   "id": "a4eda19a",
   "metadata": {
    "ExecuteTime": {
     "end_time": "2022-12-14T13:23:09.128994Z",
     "start_time": "2022-12-14T13:23:08.807318Z"
    },
    "execution": {
     "iopub.execute_input": "2022-12-14T21:37:32.181316Z",
     "iopub.status.busy": "2022-12-14T21:37:32.180623Z",
     "iopub.status.idle": "2022-12-14T21:37:32.293578Z",
     "shell.execute_reply": "2022-12-14T21:37:32.291556Z"
    },
    "hidden": true,
    "papermill": {
     "duration": 0.140912,
     "end_time": "2022-12-14T21:37:32.296704",
     "exception": false,
     "start_time": "2022-12-14T21:37:32.155792",
     "status": "completed"
    },
    "tags": []
   },
   "outputs": [
    {
     "data": {
      "text/plain": [
       "customer_id       0\n",
       "gross_revenue    91\n",
       "recency          91\n",
       "qtty_invoices    91\n",
       "qtty_items       91\n",
       "qtty_products    91\n",
       "dtype: int64"
      ]
     },
     "execution_count": 32,
     "metadata": {},
     "output_type": "execute_result"
    }
   ],
   "source": [
    "# qtty purchased\n",
    "df_products = ecommerce_purchases[['stock_code', 'customer_id']].groupby('customer_id').count().reset_index().rename(columns = {'stock_code' : 'qtty_products'})\n",
    "\n",
    "# Merge\n",
    "customer_df = pd.merge(customer_df, df_products, on = 'customer_id', how = 'left')\n",
    "\n",
    "customer_df.isna().sum()"
   ]
  },
  {
   "cell_type": "markdown",
   "id": "29430858",
   "metadata": {
    "heading_collapsed": true,
    "hidden": true,
    "papermill": {
     "duration": 0.02447,
     "end_time": "2022-12-14T21:37:32.346338",
     "exception": false,
     "start_time": "2022-12-14T21:37:32.321868",
     "status": "completed"
    },
    "tags": []
   },
   "source": [
    "### 3.1.6. Average Ticket"
   ]
  },
  {
   "cell_type": "code",
   "execution_count": 33,
   "id": "cd08fc98",
   "metadata": {
    "ExecuteTime": {
     "end_time": "2022-12-14T13:23:09.215547Z",
     "start_time": "2022-12-14T13:23:09.132285Z"
    },
    "execution": {
     "iopub.execute_input": "2022-12-14T21:37:32.395889Z",
     "iopub.status.busy": "2022-12-14T21:37:32.395577Z",
     "iopub.status.idle": "2022-12-14T21:37:32.430170Z",
     "shell.execute_reply": "2022-12-14T21:37:32.429348Z"
    },
    "hidden": true,
    "papermill": {
     "duration": 0.062403,
     "end_time": "2022-12-14T21:37:32.432809",
     "exception": false,
     "start_time": "2022-12-14T21:37:32.370406",
     "status": "completed"
    },
    "tags": []
   },
   "outputs": [
    {
     "data": {
      "text/plain": [
       "customer_id       0\n",
       "gross_revenue    91\n",
       "recency          91\n",
       "qtty_invoices    91\n",
       "qtty_items       91\n",
       "qtty_products    91\n",
       "avg_ticket       91\n",
       "dtype: int64"
      ]
     },
     "execution_count": 33,
     "metadata": {},
     "output_type": "execute_result"
    }
   ],
   "source": [
    "# AVG Ticket\n",
    "df_avgticket = ecommerce_purchases[['customer_id','gross_revenue']].groupby('customer_id').mean().reset_index().rename(columns = {'gross_revenue':'avg_ticket'})\n",
    "\n",
    "# Merge\n",
    "customer_df = pd.merge(customer_df, df_avgticket, on = 'customer_id', how = 'left')\n",
    "\n",
    "customer_df.isna().sum()"
   ]
  },
  {
   "cell_type": "markdown",
   "id": "61c44a7c",
   "metadata": {
    "heading_collapsed": true,
    "hidden": true,
    "papermill": {
     "duration": 0.023669,
     "end_time": "2022-12-14T21:37:32.482986",
     "exception": false,
     "start_time": "2022-12-14T21:37:32.459317",
     "status": "completed"
    },
    "tags": []
   },
   "source": [
    "### 3.1.7. Average Recency Days"
   ]
  },
  {
   "cell_type": "code",
   "execution_count": 34,
   "id": "18da81e9",
   "metadata": {
    "ExecuteTime": {
     "end_time": "2022-12-14T13:23:09.920860Z",
     "start_time": "2022-12-14T13:23:09.219376Z"
    },
    "execution": {
     "iopub.execute_input": "2022-12-14T21:37:32.534872Z",
     "iopub.status.busy": "2022-12-14T21:37:32.533586Z",
     "iopub.status.idle": "2022-12-14T21:37:33.083691Z",
     "shell.execute_reply": "2022-12-14T21:37:33.082673Z"
    },
    "hidden": true,
    "papermill": {
     "duration": 0.579419,
     "end_time": "2022-12-14T21:37:33.087406",
     "exception": false,
     "start_time": "2022-12-14T21:37:32.507987",
     "status": "completed"
    },
    "tags": []
   },
   "outputs": [
    {
     "data": {
      "text/plain": [
       "customer_id            0\n",
       "gross_revenue         91\n",
       "recency               91\n",
       "qtty_invoices         91\n",
       "qtty_items            91\n",
       "qtty_products         91\n",
       "avg_ticket            91\n",
       "avg_recency_days    2816\n",
       "dtype: int64"
      ]
     },
     "execution_count": 34,
     "metadata": {},
     "output_type": "execute_result"
    }
   ],
   "source": [
    "# AVG Recency days\n",
    "aux_recency = ecommerce2[['customer_id','invoice_date']].drop_duplicates().sort_values( ['customer_id','invoice_date'], ascending = [True, True])\n",
    "aux_recency['next_customer_id'] = aux_recency['customer_id'].shift()\n",
    "aux_recency['previous_date'] = aux_recency['invoice_date'].shift()\n",
    "aux_recency['avg_recency_days'] = aux_recency.apply( lambda x:( ( x['invoice_date'] - x['previous_date'] ).days if x['customer_id'] == x['next_customer_id'] else np.nan), axis = 1 )\n",
    "aux_recency = aux_recency.drop( ['invoice_date','next_customer_id','previous_date'], axis = 1).dropna()\n",
    "aux_recency = aux_recency.groupby('customer_id').mean().reset_index()\n",
    "\n",
    "# Merge\n",
    "customer_df = pd.merge(customer_df, aux_recency, on = 'customer_id', how = 'left')\n",
    "\n",
    "customer_df.isna().sum()"
   ]
  },
  {
   "cell_type": "markdown",
   "id": "b6ce8b76",
   "metadata": {
    "heading_collapsed": true,
    "hidden": true,
    "papermill": {
     "duration": 0.024822,
     "end_time": "2022-12-14T21:37:33.138120",
     "exception": false,
     "start_time": "2022-12-14T21:37:33.113298",
     "status": "completed"
    },
    "tags": []
   },
   "source": [
    "### 3.1.8. Fequecy Purchase"
   ]
  },
  {
   "cell_type": "code",
   "execution_count": 35,
   "id": "89f8a49f",
   "metadata": {
    "ExecuteTime": {
     "end_time": "2022-12-14T13:23:10.091626Z",
     "start_time": "2022-12-14T13:23:09.923631Z"
    },
    "execution": {
     "iopub.execute_input": "2022-12-14T21:37:33.190990Z",
     "iopub.status.busy": "2022-12-14T21:37:33.190219Z",
     "iopub.status.idle": "2022-12-14T21:37:33.361702Z",
     "shell.execute_reply": "2022-12-14T21:37:33.360885Z"
    },
    "hidden": true,
    "papermill": {
     "duration": 0.200558,
     "end_time": "2022-12-14T21:37:33.364065",
     "exception": false,
     "start_time": "2022-12-14T21:37:33.163507",
     "status": "completed"
    },
    "tags": []
   },
   "outputs": [
    {
     "data": {
      "text/plain": [
       "customer_id            0\n",
       "gross_revenue         91\n",
       "recency               91\n",
       "qtty_invoices         91\n",
       "qtty_items            91\n",
       "qtty_products         91\n",
       "avg_ticket            91\n",
       "avg_recency_days    2816\n",
       "frequency              0\n",
       "dtype: int64"
      ]
     },
     "execution_count": 35,
     "metadata": {},
     "output_type": "execute_result"
    }
   ],
   "source": [
    "# Frquency purchase\n",
    "frequency_df = (\n",
    "                ecommerce2[['customer_id','invoice_no', 'invoice_date']].drop_duplicates()\n",
    "                                                                        .groupby('customer_id')\n",
    "                                                                        .agg( max_date = ('invoice_date', 'max'),\n",
    "                                                                              min_date = ('invoice_date', 'min'),\n",
    "                                                                              qtty_purchases = ('invoice_no', 'count')     \n",
    "                                                                            ).reset_index()\n",
    "              )\n",
    "frequency_df['date_interval'] = ((frequency_df['max_date'] - frequency_df['min_date']).dt.days)\n",
    "frequency_df['frequency'] = frequency_df.apply(lambda x: ( x['qtty_purchases'] / x['date_interval'] ) if x['date_interval'] != 0 else 0, axis = 1 )\n",
    "\n",
    "# Merge\n",
    "customer_df = pd.merge(customer_df, frequency_df[['customer_id','frequency']], on = 'customer_id', how = 'left')\n",
    "\n",
    "customer_df.isna().sum()"
   ]
  },
  {
   "cell_type": "markdown",
   "id": "e6ecebf0",
   "metadata": {
    "heading_collapsed": true,
    "hidden": true,
    "papermill": {
     "duration": 0.024025,
     "end_time": "2022-12-14T21:37:33.416070",
     "exception": false,
     "start_time": "2022-12-14T21:37:33.392045",
     "status": "completed"
    },
    "tags": []
   },
   "source": [
    "### 3.1.9. Returns"
   ]
  },
  {
   "cell_type": "code",
   "execution_count": 36,
   "id": "7ff34b3c",
   "metadata": {
    "ExecuteTime": {
     "end_time": "2022-12-14T13:23:10.191619Z",
     "start_time": "2022-12-14T13:23:10.094215Z"
    },
    "execution": {
     "iopub.execute_input": "2022-12-14T21:37:33.467934Z",
     "iopub.status.busy": "2022-12-14T21:37:33.467440Z",
     "iopub.status.idle": "2022-12-14T21:37:33.509390Z",
     "shell.execute_reply": "2022-12-14T21:37:33.507855Z"
    },
    "hidden": true,
    "papermill": {
     "duration": 0.070255,
     "end_time": "2022-12-14T21:37:33.512393",
     "exception": false,
     "start_time": "2022-12-14T21:37:33.442138",
     "status": "completed"
    },
    "tags": []
   },
   "outputs": [
    {
     "data": {
      "text/plain": [
       "customer_id            0\n",
       "gross_revenue         91\n",
       "recency               91\n",
       "qtty_invoices         91\n",
       "qtty_items            91\n",
       "qtty_products         91\n",
       "avg_ticket            91\n",
       "avg_recency_days    2816\n",
       "frequency              0\n",
       "qtty_returns           0\n",
       "dtype: int64"
      ]
     },
     "execution_count": 36,
     "metadata": {},
     "output_type": "execute_result"
    }
   ],
   "source": [
    "# Number of returns\n",
    "customer_returns = ecommerce_returns[['customer_id','quantity']].groupby('customer_id').sum().reset_index().rename(columns = {'quantity' : 'qtty_returns'})\n",
    "customer_returns['qtty_returns'] = customer_returns['qtty_returns'] * - 1\n",
    "\n",
    "# Merge\n",
    "customer_df = pd.merge(customer_df, customer_returns, on = 'customer_id', how = 'left')\n",
    "customer_df.loc[customer_df['qtty_returns'].isna(),'qtty_returns'] = 0\n",
    "\n",
    "customer_df.isna().sum()"
   ]
  },
  {
   "cell_type": "markdown",
   "id": "a76bdcca",
   "metadata": {
    "heading_collapsed": true,
    "hidden": true,
    "papermill": {
     "duration": 0.023736,
     "end_time": "2022-12-14T21:37:33.562238",
     "exception": false,
     "start_time": "2022-12-14T21:37:33.538502",
     "status": "completed"
    },
    "tags": []
   },
   "source": [
    "### 3.1.10. Basket Size"
   ]
  },
  {
   "cell_type": "code",
   "execution_count": 37,
   "id": "99c92a17",
   "metadata": {
    "ExecuteTime": {
     "end_time": "2022-12-14T13:23:10.482619Z",
     "start_time": "2022-12-14T13:23:10.194215Z"
    },
    "execution": {
     "iopub.execute_input": "2022-12-14T21:37:33.612099Z",
     "iopub.status.busy": "2022-12-14T21:37:33.610970Z",
     "iopub.status.idle": "2022-12-14T21:37:33.710893Z",
     "shell.execute_reply": "2022-12-14T21:37:33.709561Z"
    },
    "hidden": true,
    "papermill": {
     "duration": 0.12786,
     "end_time": "2022-12-14T21:37:33.713101",
     "exception": false,
     "start_time": "2022-12-14T21:37:33.585241",
     "status": "completed"
    },
    "tags": []
   },
   "outputs": [
    {
     "data": {
      "text/plain": [
       "customer_id            0\n",
       "gross_revenue         91\n",
       "recency               91\n",
       "qtty_invoices         91\n",
       "qtty_items            91\n",
       "qtty_products         91\n",
       "avg_ticket            91\n",
       "avg_recency_days    2816\n",
       "frequency              0\n",
       "qtty_returns           0\n",
       "basket_size           91\n",
       "dtype: int64"
      ]
     },
     "execution_count": 37,
     "metadata": {},
     "output_type": "execute_result"
    }
   ],
   "source": [
    "basket_size = (ecommerce_purchases[['customer_id', 'invoice_no', 'quantity']].groupby('customer_id')\n",
    "                                                                 .agg(invoices = ('invoice_no','nunique'),\n",
    "                                                                      products = ('quantity','sum')).reset_index() \n",
    "                \n",
    ")\n",
    "\n",
    "basket_size['basket_size'] = basket_size['products'] / basket_size['invoices']\n",
    "\n",
    "# Merge\n",
    "customer_df = pd.merge(customer_df, basket_size[['customer_id','basket_size']], on = 'customer_id', how = 'left')\n",
    "\n",
    "customer_df.isna().sum()"
   ]
  },
  {
   "cell_type": "markdown",
   "id": "4054435d",
   "metadata": {
    "heading_collapsed": true,
    "hidden": true,
    "papermill": {
     "duration": 0.022999,
     "end_time": "2022-12-14T21:37:33.759582",
     "exception": false,
     "start_time": "2022-12-14T21:37:33.736583",
     "status": "completed"
    },
    "tags": []
   },
   "source": [
    "### 3.1.11. Unique Basket Size"
   ]
  },
  {
   "cell_type": "code",
   "execution_count": 38,
   "id": "6e1722ea",
   "metadata": {
    "ExecuteTime": {
     "end_time": "2022-12-14T13:23:10.802617Z",
     "start_time": "2022-12-14T13:23:10.485122Z"
    },
    "execution": {
     "iopub.execute_input": "2022-12-14T21:37:33.809103Z",
     "iopub.status.busy": "2022-12-14T21:37:33.808405Z",
     "iopub.status.idle": "2022-12-14T21:37:34.069127Z",
     "shell.execute_reply": "2022-12-14T21:37:34.067927Z"
    },
    "hidden": true,
    "papermill": {
     "duration": 0.290182,
     "end_time": "2022-12-14T21:37:34.072556",
     "exception": false,
     "start_time": "2022-12-14T21:37:33.782374",
     "status": "completed"
    },
    "tags": []
   },
   "outputs": [
    {
     "data": {
      "text/plain": [
       "customer_id              0\n",
       "gross_revenue           91\n",
       "recency                 91\n",
       "qtty_invoices           91\n",
       "qtty_items              91\n",
       "qtty_products           91\n",
       "avg_ticket              91\n",
       "avg_recency_days      2816\n",
       "frequency                0\n",
       "qtty_returns             0\n",
       "basket_size             91\n",
       "unique_basket_size      91\n",
       "dtype: int64"
      ]
     },
     "execution_count": 38,
     "metadata": {},
     "output_type": "execute_result"
    }
   ],
   "source": [
    "avg_basket_size = ( ecommerce_purchases[['customer_id', 'invoice_no', 'stock_code']].groupby('customer_id')\n",
    "                                                                 .agg( invoices = ('invoice_no','nunique'),\n",
    "                                                                       products = ('stock_code','nunique') ).reset_index() \n",
    "                \n",
    "                  )\n",
    "\n",
    "avg_basket_size['unique_basket_size'] = avg_basket_size['products'] / avg_basket_size['invoices']\n",
    "# Merge\n",
    "customer_df = pd.merge(customer_df, avg_basket_size[['customer_id','unique_basket_size']], on = 'customer_id', how = 'left')\n",
    "\n",
    "customer_df.isna().sum()"
   ]
  },
  {
   "cell_type": "markdown",
   "id": "9d0d09bc",
   "metadata": {
    "heading_collapsed": true,
    "papermill": {
     "duration": 0.023971,
     "end_time": "2022-12-14T21:37:34.122604",
     "exception": false,
     "start_time": "2022-12-14T21:37:34.098633",
     "status": "completed"
    },
    "tags": []
   },
   "source": [
    "# 4.0. Univariate & Bivariate Analysis"
   ]
  },
  {
   "cell_type": "code",
   "execution_count": 39,
   "id": "2dc468ad",
   "metadata": {
    "ExecuteTime": {
     "end_time": "2022-12-14T13:23:10.866108Z",
     "start_time": "2022-12-14T13:23:10.804942Z"
    },
    "execution": {
     "iopub.execute_input": "2022-12-14T21:37:34.173287Z",
     "iopub.status.busy": "2022-12-14T21:37:34.172730Z",
     "iopub.status.idle": "2022-12-14T21:37:34.181287Z",
     "shell.execute_reply": "2022-12-14T21:37:34.180380Z"
    },
    "hidden": true,
    "papermill": {
     "duration": 0.035585,
     "end_time": "2022-12-14T21:37:34.183763",
     "exception": false,
     "start_time": "2022-12-14T21:37:34.148178",
     "status": "completed"
    },
    "tags": []
   },
   "outputs": [],
   "source": [
    "ecommerce4 = customer_df.dropna().copy()"
   ]
  },
  {
   "cell_type": "markdown",
   "id": "25cef89a",
   "metadata": {
    "heading_collapsed": true,
    "papermill": {
     "duration": 0.024152,
     "end_time": "2022-12-14T21:37:34.232275",
     "exception": false,
     "start_time": "2022-12-14T21:37:34.208123",
     "status": "completed"
    },
    "tags": []
   },
   "source": [
    "# 5.0. Feature Selection"
   ]
  },
  {
   "cell_type": "code",
   "execution_count": 40,
   "id": "429af087",
   "metadata": {
    "ExecuteTime": {
     "end_time": "2022-12-14T13:23:11.052930Z",
     "start_time": "2022-12-14T13:23:10.870348Z"
    },
    "execution": {
     "iopub.execute_input": "2022-12-14T21:37:34.283580Z",
     "iopub.status.busy": "2022-12-14T21:37:34.282604Z",
     "iopub.status.idle": "2022-12-14T21:37:34.291664Z",
     "shell.execute_reply": "2022-12-14T21:37:34.290424Z"
    },
    "hidden": true,
    "papermill": {
     "duration": 0.037137,
     "end_time": "2022-12-14T21:37:34.293756",
     "exception": false,
     "start_time": "2022-12-14T21:37:34.256619",
     "status": "completed"
    },
    "tags": []
   },
   "outputs": [],
   "source": [
    "cols_select = ['customer_id','gross_revenue', 'recency', 'qtty_products', 'frequency', 'qtty_returns']\n",
    "ecommerce4 = ecommerce4[cols_select].copy()"
   ]
  },
  {
   "cell_type": "markdown",
   "id": "f6e1f936",
   "metadata": {
    "heading_collapsed": true,
    "papermill": {
     "duration": 0.02356,
     "end_time": "2022-12-14T21:37:34.340816",
     "exception": false,
     "start_time": "2022-12-14T21:37:34.317256",
     "status": "completed"
    },
    "tags": []
   },
   "source": [
    "# 6.0. Data Preparation"
   ]
  },
  {
   "cell_type": "code",
   "execution_count": 41,
   "id": "695fdbef",
   "metadata": {
    "ExecuteTime": {
     "end_time": "2022-12-14T13:23:11.238354Z",
     "start_time": "2022-12-14T13:23:11.057218Z"
    },
    "execution": {
     "iopub.execute_input": "2022-12-14T21:37:34.392602Z",
     "iopub.status.busy": "2022-12-14T21:37:34.392107Z",
     "iopub.status.idle": "2022-12-14T21:37:34.398207Z",
     "shell.execute_reply": "2022-12-14T21:37:34.396866Z"
    },
    "hidden": true,
    "papermill": {
     "duration": 0.035175,
     "end_time": "2022-12-14T21:37:34.400498",
     "exception": false,
     "start_time": "2022-12-14T21:37:34.365323",
     "status": "completed"
    },
    "tags": []
   },
   "outputs": [],
   "source": [
    "ecommerce5 = ecommerce4.copy()"
   ]
  },
  {
   "cell_type": "markdown",
   "id": "96b18330",
   "metadata": {
    "heading_collapsed": true,
    "hidden": true,
    "papermill": {
     "duration": 0.024353,
     "end_time": "2022-12-14T21:37:34.448495",
     "exception": false,
     "start_time": "2022-12-14T21:37:34.424142",
     "status": "completed"
    },
    "tags": []
   },
   "source": [
    "## 6.1. Rescaling"
   ]
  },
  {
   "cell_type": "code",
   "execution_count": 42,
   "id": "c8d92430",
   "metadata": {
    "ExecuteTime": {
     "end_time": "2022-12-14T13:23:11.601155Z",
     "start_time": "2022-12-14T13:23:11.244265Z"
    },
    "execution": {
     "iopub.execute_input": "2022-12-14T21:37:34.499549Z",
     "iopub.status.busy": "2022-12-14T21:37:34.498668Z",
     "iopub.status.idle": "2022-12-14T21:37:34.525827Z",
     "shell.execute_reply": "2022-12-14T21:37:34.524653Z"
    },
    "hidden": true,
    "papermill": {
     "duration": 0.055514,
     "end_time": "2022-12-14T21:37:34.528753",
     "exception": false,
     "start_time": "2022-12-14T21:37:34.473239",
     "status": "completed"
    },
    "tags": []
   },
   "outputs": [],
   "source": [
    "# Minmax Scaler\n",
    "mm = pp.MinMaxScaler() # not normal distribution\n",
    "ss = pp.StandardScaler() # normal distribution without outliers\n",
    "rs = pp.RobustScaler() # normal distribution with outliers\n",
    "\n",
    "ecommerce5['gross_revenue'] = mm.fit_transform(ecommerce5[['gross_revenue']])\n",
    "\n",
    "ecommerce5['recency']       = mm.fit_transform(ecommerce5[['recency']])\n",
    "\n",
    "ecommerce5['qtty_products'] = mm.fit_transform(ecommerce5[['qtty_products']])\n",
    "\n",
    "ecommerce5['frequency']     = mm.fit_transform(ecommerce5[['frequency']])\n",
    "\n",
    "ecommerce5['qtty_returns']  = mm.fit_transform(ecommerce5[['qtty_returns']])"
   ]
  },
  {
   "cell_type": "markdown",
   "id": "fb06d352",
   "metadata": {
    "papermill": {
     "duration": 0.023744,
     "end_time": "2022-12-14T21:37:34.578738",
     "exception": false,
     "start_time": "2022-12-14T21:37:34.554994",
     "status": "completed"
    },
    "tags": []
   },
   "source": [
    "# 7.0. Space Study"
   ]
  },
  {
   "cell_type": "code",
   "execution_count": 43,
   "id": "64881920",
   "metadata": {
    "ExecuteTime": {
     "end_time": "2022-12-14T13:23:11.792057Z",
     "start_time": "2022-12-14T13:23:11.603357Z"
    },
    "execution": {
     "iopub.execute_input": "2022-12-14T21:37:34.627540Z",
     "iopub.status.busy": "2022-12-14T21:37:34.627024Z",
     "iopub.status.idle": "2022-12-14T21:37:34.634068Z",
     "shell.execute_reply": "2022-12-14T21:37:34.632852Z"
    },
    "papermill": {
     "duration": 0.034656,
     "end_time": "2022-12-14T21:37:34.637537",
     "exception": false,
     "start_time": "2022-12-14T21:37:34.602881",
     "status": "completed"
    },
    "tags": []
   },
   "outputs": [],
   "source": [
    "# Selected dataset\n",
    "ecommerce6 = ecommerce5.copy()\n",
    "X = ecommerce6.drop('customer_id', axis = 1)"
   ]
  },
  {
   "cell_type": "markdown",
   "id": "23528a7a",
   "metadata": {
    "papermill": {
     "duration": 0.025277,
     "end_time": "2022-12-14T21:37:34.688059",
     "exception": false,
     "start_time": "2022-12-14T21:37:34.662782",
     "status": "completed"
    },
    "tags": []
   },
   "source": [
    "## 7.4. Tree-Based Embedding"
   ]
  },
  {
   "cell_type": "code",
   "execution_count": 44,
   "id": "4273438d",
   "metadata": {
    "ExecuteTime": {
     "end_time": "2022-12-14T13:23:12.093216Z",
     "start_time": "2022-12-14T13:23:11.796465Z"
    },
    "execution": {
     "iopub.execute_input": "2022-12-14T21:37:34.738403Z",
     "iopub.status.busy": "2022-12-14T21:37:34.737613Z",
     "iopub.status.idle": "2022-12-14T21:37:34.747166Z",
     "shell.execute_reply": "2022-12-14T21:37:34.745947Z"
    },
    "papermill": {
     "duration": 0.03716,
     "end_time": "2022-12-14T21:37:34.749471",
     "exception": false,
     "start_time": "2022-12-14T21:37:34.712311",
     "status": "completed"
    },
    "tags": []
   },
   "outputs": [],
   "source": [
    "y = X['gross_revenue']\n",
    "X = X.drop('gross_revenue', axis = 1)"
   ]
  },
  {
   "cell_type": "code",
   "execution_count": 45,
   "id": "1ecc230a",
   "metadata": {
    "ExecuteTime": {
     "end_time": "2022-12-14T13:23:13.132900Z",
     "start_time": "2022-12-14T13:23:12.097606Z"
    },
    "execution": {
     "iopub.execute_input": "2022-12-14T21:37:34.799700Z",
     "iopub.status.busy": "2022-12-14T21:37:34.798810Z",
     "iopub.status.idle": "2022-12-14T21:37:35.736777Z",
     "shell.execute_reply": "2022-12-14T21:37:35.735845Z"
    },
    "papermill": {
     "duration": 0.966221,
     "end_time": "2022-12-14T21:37:35.740020",
     "exception": false,
     "start_time": "2022-12-14T21:37:34.773799",
     "status": "completed"
    },
    "tags": []
   },
   "outputs": [],
   "source": [
    "# Model definition\n",
    "rf_model = RandomForestRegressor( n_estimators = 100, random_state = 42 )\n",
    "\n",
    "# Model training\n",
    "rf_model.fit( X, y )\n",
    "\n",
    "# Leaf\n",
    "df_leaf = pd.DataFrame( rf_model.apply( X ) )"
   ]
  },
  {
   "cell_type": "markdown",
   "id": "57fc2a0b",
   "metadata": {
    "tags": [
     "papermill-error-cell-tag"
    ]
   },
   "source": [
    "<span id=\"papermill-error-cell\" style=\"color:red; font-family:Helvetica Neue, Helvetica, Arial, sans-serif; font-size:2em;\">Execution using papermill encountered an exception here and stopped:</span>"
   ]
  },
  {
   "cell_type": "code",
   "execution_count": 46,
   "id": "ea5b57fa",
   "metadata": {
    "ExecuteTime": {
     "end_time": "2022-12-14T18:41:56.054339Z",
     "start_time": "2022-12-14T18:41:46.871493Z"
    },
    "execution": {
     "iopub.execute_input": "2022-12-14T21:37:35.795929Z",
     "iopub.status.busy": "2022-12-14T21:37:35.795162Z",
     "iopub.status.idle": "2022-12-14T21:37:54.903942Z",
     "shell.execute_reply": "2022-12-14T21:37:54.902560Z"
    },
    "papermill": {
     "duration": 19.139933,
     "end_time": "2022-12-14T21:37:54.907311",
     "exception": true,
     "start_time": "2022-12-14T21:37:35.767378",
     "status": "failed"
    },
    "scrolled": false,
    "tags": []
   },
   "outputs": [
    {
     "ename": "OSError",
     "evalue": "Cannot save file into a non-existent directory: '/data'",
     "output_type": "error",
     "traceback": [
      "\u001b[0;31m---------------------------------------------------------------------------\u001b[0m",
      "\u001b[0;31mOSError\u001b[0m                                   Traceback (most recent call last)",
      "Cell \u001b[0;32mIn [46], line 8\u001b[0m\n\u001b[1;32m      5\u001b[0m df_leaf[\u001b[38;5;124m'\u001b[39m\u001b[38;5;124membedding_x\u001b[39m\u001b[38;5;124m'\u001b[39m] \u001b[38;5;241m=\u001b[39m embedding[: , \u001b[38;5;241m0\u001b[39m]\n\u001b[1;32m      6\u001b[0m df_leaf[\u001b[38;5;124m'\u001b[39m\u001b[38;5;124membedding_y\u001b[39m\u001b[38;5;124m'\u001b[39m] \u001b[38;5;241m=\u001b[39m embedding[: , \u001b[38;5;241m1\u001b[39m ]\n\u001b[0;32m----> 8\u001b[0m \u001b[43mdf_leaf\u001b[49m\u001b[38;5;241;43m.\u001b[39;49m\u001b[43mto_csv\u001b[49m\u001b[43m(\u001b[49m\u001b[38;5;124;43m'\u001b[39;49m\u001b[38;5;124;43m/data/tree_based_embedding.csv\u001b[39;49m\u001b[38;5;124;43m'\u001b[39;49m\u001b[43m,\u001b[49m\u001b[43m \u001b[49m\u001b[43mindex\u001b[49m\u001b[43m \u001b[49m\u001b[38;5;241;43m=\u001b[39;49m\u001b[43m \u001b[49m\u001b[38;5;28;43;01mFalse\u001b[39;49;00m\u001b[43m)\u001b[49m\n",
      "File \u001b[0;32m~/.pyenv/versions/ds_em_clusterizacao/lib/python3.9/site-packages/pandas/util/_decorators.py:211\u001b[0m, in \u001b[0;36mdeprecate_kwarg.<locals>._deprecate_kwarg.<locals>.wrapper\u001b[0;34m(*args, **kwargs)\u001b[0m\n\u001b[1;32m    209\u001b[0m     \u001b[38;5;28;01melse\u001b[39;00m:\n\u001b[1;32m    210\u001b[0m         kwargs[new_arg_name] \u001b[38;5;241m=\u001b[39m new_arg_value\n\u001b[0;32m--> 211\u001b[0m \u001b[38;5;28;01mreturn\u001b[39;00m \u001b[43mfunc\u001b[49m\u001b[43m(\u001b[49m\u001b[38;5;241;43m*\u001b[39;49m\u001b[43margs\u001b[49m\u001b[43m,\u001b[49m\u001b[43m \u001b[49m\u001b[38;5;241;43m*\u001b[39;49m\u001b[38;5;241;43m*\u001b[39;49m\u001b[43mkwargs\u001b[49m\u001b[43m)\u001b[49m\n",
      "File \u001b[0;32m~/.pyenv/versions/ds_em_clusterizacao/lib/python3.9/site-packages/pandas/core/generic.py:3720\u001b[0m, in \u001b[0;36mNDFrame.to_csv\u001b[0;34m(self, path_or_buf, sep, na_rep, float_format, columns, header, index, index_label, mode, encoding, compression, quoting, quotechar, lineterminator, chunksize, date_format, doublequote, escapechar, decimal, errors, storage_options)\u001b[0m\n\u001b[1;32m   3709\u001b[0m df \u001b[38;5;241m=\u001b[39m \u001b[38;5;28mself\u001b[39m \u001b[38;5;28;01mif\u001b[39;00m \u001b[38;5;28misinstance\u001b[39m(\u001b[38;5;28mself\u001b[39m, ABCDataFrame) \u001b[38;5;28;01melse\u001b[39;00m \u001b[38;5;28mself\u001b[39m\u001b[38;5;241m.\u001b[39mto_frame()\n\u001b[1;32m   3711\u001b[0m formatter \u001b[38;5;241m=\u001b[39m DataFrameFormatter(\n\u001b[1;32m   3712\u001b[0m     frame\u001b[38;5;241m=\u001b[39mdf,\n\u001b[1;32m   3713\u001b[0m     header\u001b[38;5;241m=\u001b[39mheader,\n\u001b[0;32m   (...)\u001b[0m\n\u001b[1;32m   3717\u001b[0m     decimal\u001b[38;5;241m=\u001b[39mdecimal,\n\u001b[1;32m   3718\u001b[0m )\n\u001b[0;32m-> 3720\u001b[0m \u001b[38;5;28;01mreturn\u001b[39;00m \u001b[43mDataFrameRenderer\u001b[49m\u001b[43m(\u001b[49m\u001b[43mformatter\u001b[49m\u001b[43m)\u001b[49m\u001b[38;5;241;43m.\u001b[39;49m\u001b[43mto_csv\u001b[49m\u001b[43m(\u001b[49m\n\u001b[1;32m   3721\u001b[0m \u001b[43m    \u001b[49m\u001b[43mpath_or_buf\u001b[49m\u001b[43m,\u001b[49m\n\u001b[1;32m   3722\u001b[0m \u001b[43m    \u001b[49m\u001b[43mlineterminator\u001b[49m\u001b[38;5;241;43m=\u001b[39;49m\u001b[43mlineterminator\u001b[49m\u001b[43m,\u001b[49m\n\u001b[1;32m   3723\u001b[0m \u001b[43m    \u001b[49m\u001b[43msep\u001b[49m\u001b[38;5;241;43m=\u001b[39;49m\u001b[43msep\u001b[49m\u001b[43m,\u001b[49m\n\u001b[1;32m   3724\u001b[0m \u001b[43m    \u001b[49m\u001b[43mencoding\u001b[49m\u001b[38;5;241;43m=\u001b[39;49m\u001b[43mencoding\u001b[49m\u001b[43m,\u001b[49m\n\u001b[1;32m   3725\u001b[0m \u001b[43m    \u001b[49m\u001b[43merrors\u001b[49m\u001b[38;5;241;43m=\u001b[39;49m\u001b[43merrors\u001b[49m\u001b[43m,\u001b[49m\n\u001b[1;32m   3726\u001b[0m \u001b[43m    \u001b[49m\u001b[43mcompression\u001b[49m\u001b[38;5;241;43m=\u001b[39;49m\u001b[43mcompression\u001b[49m\u001b[43m,\u001b[49m\n\u001b[1;32m   3727\u001b[0m \u001b[43m    \u001b[49m\u001b[43mquoting\u001b[49m\u001b[38;5;241;43m=\u001b[39;49m\u001b[43mquoting\u001b[49m\u001b[43m,\u001b[49m\n\u001b[1;32m   3728\u001b[0m \u001b[43m    \u001b[49m\u001b[43mcolumns\u001b[49m\u001b[38;5;241;43m=\u001b[39;49m\u001b[43mcolumns\u001b[49m\u001b[43m,\u001b[49m\n\u001b[1;32m   3729\u001b[0m \u001b[43m    \u001b[49m\u001b[43mindex_label\u001b[49m\u001b[38;5;241;43m=\u001b[39;49m\u001b[43mindex_label\u001b[49m\u001b[43m,\u001b[49m\n\u001b[1;32m   3730\u001b[0m \u001b[43m    \u001b[49m\u001b[43mmode\u001b[49m\u001b[38;5;241;43m=\u001b[39;49m\u001b[43mmode\u001b[49m\u001b[43m,\u001b[49m\n\u001b[1;32m   3731\u001b[0m \u001b[43m    \u001b[49m\u001b[43mchunksize\u001b[49m\u001b[38;5;241;43m=\u001b[39;49m\u001b[43mchunksize\u001b[49m\u001b[43m,\u001b[49m\n\u001b[1;32m   3732\u001b[0m \u001b[43m    \u001b[49m\u001b[43mquotechar\u001b[49m\u001b[38;5;241;43m=\u001b[39;49m\u001b[43mquotechar\u001b[49m\u001b[43m,\u001b[49m\n\u001b[1;32m   3733\u001b[0m \u001b[43m    \u001b[49m\u001b[43mdate_format\u001b[49m\u001b[38;5;241;43m=\u001b[39;49m\u001b[43mdate_format\u001b[49m\u001b[43m,\u001b[49m\n\u001b[1;32m   3734\u001b[0m \u001b[43m    \u001b[49m\u001b[43mdoublequote\u001b[49m\u001b[38;5;241;43m=\u001b[39;49m\u001b[43mdoublequote\u001b[49m\u001b[43m,\u001b[49m\n\u001b[1;32m   3735\u001b[0m \u001b[43m    \u001b[49m\u001b[43mescapechar\u001b[49m\u001b[38;5;241;43m=\u001b[39;49m\u001b[43mescapechar\u001b[49m\u001b[43m,\u001b[49m\n\u001b[1;32m   3736\u001b[0m \u001b[43m    \u001b[49m\u001b[43mstorage_options\u001b[49m\u001b[38;5;241;43m=\u001b[39;49m\u001b[43mstorage_options\u001b[49m\u001b[43m,\u001b[49m\n\u001b[1;32m   3737\u001b[0m \u001b[43m\u001b[49m\u001b[43m)\u001b[49m\n",
      "File \u001b[0;32m~/.pyenv/versions/ds_em_clusterizacao/lib/python3.9/site-packages/pandas/util/_decorators.py:211\u001b[0m, in \u001b[0;36mdeprecate_kwarg.<locals>._deprecate_kwarg.<locals>.wrapper\u001b[0;34m(*args, **kwargs)\u001b[0m\n\u001b[1;32m    209\u001b[0m     \u001b[38;5;28;01melse\u001b[39;00m:\n\u001b[1;32m    210\u001b[0m         kwargs[new_arg_name] \u001b[38;5;241m=\u001b[39m new_arg_value\n\u001b[0;32m--> 211\u001b[0m \u001b[38;5;28;01mreturn\u001b[39;00m \u001b[43mfunc\u001b[49m\u001b[43m(\u001b[49m\u001b[38;5;241;43m*\u001b[39;49m\u001b[43margs\u001b[49m\u001b[43m,\u001b[49m\u001b[43m \u001b[49m\u001b[38;5;241;43m*\u001b[39;49m\u001b[38;5;241;43m*\u001b[39;49m\u001b[43mkwargs\u001b[49m\u001b[43m)\u001b[49m\n",
      "File \u001b[0;32m~/.pyenv/versions/ds_em_clusterizacao/lib/python3.9/site-packages/pandas/io/formats/format.py:1189\u001b[0m, in \u001b[0;36mDataFrameRenderer.to_csv\u001b[0;34m(self, path_or_buf, encoding, sep, columns, index_label, mode, compression, quoting, quotechar, lineterminator, chunksize, date_format, doublequote, escapechar, errors, storage_options)\u001b[0m\n\u001b[1;32m   1168\u001b[0m     created_buffer \u001b[38;5;241m=\u001b[39m \u001b[38;5;28;01mFalse\u001b[39;00m\n\u001b[1;32m   1170\u001b[0m csv_formatter \u001b[38;5;241m=\u001b[39m CSVFormatter(\n\u001b[1;32m   1171\u001b[0m     path_or_buf\u001b[38;5;241m=\u001b[39mpath_or_buf,\n\u001b[1;32m   1172\u001b[0m     lineterminator\u001b[38;5;241m=\u001b[39mlineterminator,\n\u001b[0;32m   (...)\u001b[0m\n\u001b[1;32m   1187\u001b[0m     formatter\u001b[38;5;241m=\u001b[39m\u001b[38;5;28mself\u001b[39m\u001b[38;5;241m.\u001b[39mfmt,\n\u001b[1;32m   1188\u001b[0m )\n\u001b[0;32m-> 1189\u001b[0m \u001b[43mcsv_formatter\u001b[49m\u001b[38;5;241;43m.\u001b[39;49m\u001b[43msave\u001b[49m\u001b[43m(\u001b[49m\u001b[43m)\u001b[49m\n\u001b[1;32m   1191\u001b[0m \u001b[38;5;28;01mif\u001b[39;00m created_buffer:\n\u001b[1;32m   1192\u001b[0m     \u001b[38;5;28;01massert\u001b[39;00m \u001b[38;5;28misinstance\u001b[39m(path_or_buf, StringIO)\n",
      "File \u001b[0;32m~/.pyenv/versions/ds_em_clusterizacao/lib/python3.9/site-packages/pandas/io/formats/csvs.py:241\u001b[0m, in \u001b[0;36mCSVFormatter.save\u001b[0;34m(self)\u001b[0m\n\u001b[1;32m    237\u001b[0m \u001b[38;5;124;03m\"\"\"\u001b[39;00m\n\u001b[1;32m    238\u001b[0m \u001b[38;5;124;03mCreate the writer & save.\u001b[39;00m\n\u001b[1;32m    239\u001b[0m \u001b[38;5;124;03m\"\"\"\u001b[39;00m\n\u001b[1;32m    240\u001b[0m \u001b[38;5;66;03m# apply compression and byte/text conversion\u001b[39;00m\n\u001b[0;32m--> 241\u001b[0m \u001b[38;5;28;01mwith\u001b[39;00m \u001b[43mget_handle\u001b[49m\u001b[43m(\u001b[49m\n\u001b[1;32m    242\u001b[0m \u001b[43m    \u001b[49m\u001b[38;5;28;43mself\u001b[39;49m\u001b[38;5;241;43m.\u001b[39;49m\u001b[43mfilepath_or_buffer\u001b[49m\u001b[43m,\u001b[49m\n\u001b[1;32m    243\u001b[0m \u001b[43m    \u001b[49m\u001b[38;5;28;43mself\u001b[39;49m\u001b[38;5;241;43m.\u001b[39;49m\u001b[43mmode\u001b[49m\u001b[43m,\u001b[49m\n\u001b[1;32m    244\u001b[0m \u001b[43m    \u001b[49m\u001b[43mencoding\u001b[49m\u001b[38;5;241;43m=\u001b[39;49m\u001b[38;5;28;43mself\u001b[39;49m\u001b[38;5;241;43m.\u001b[39;49m\u001b[43mencoding\u001b[49m\u001b[43m,\u001b[49m\n\u001b[1;32m    245\u001b[0m \u001b[43m    \u001b[49m\u001b[43merrors\u001b[49m\u001b[38;5;241;43m=\u001b[39;49m\u001b[38;5;28;43mself\u001b[39;49m\u001b[38;5;241;43m.\u001b[39;49m\u001b[43merrors\u001b[49m\u001b[43m,\u001b[49m\n\u001b[1;32m    246\u001b[0m \u001b[43m    \u001b[49m\u001b[43mcompression\u001b[49m\u001b[38;5;241;43m=\u001b[39;49m\u001b[38;5;28;43mself\u001b[39;49m\u001b[38;5;241;43m.\u001b[39;49m\u001b[43mcompression\u001b[49m\u001b[43m,\u001b[49m\n\u001b[1;32m    247\u001b[0m \u001b[43m    \u001b[49m\u001b[43mstorage_options\u001b[49m\u001b[38;5;241;43m=\u001b[39;49m\u001b[38;5;28;43mself\u001b[39;49m\u001b[38;5;241;43m.\u001b[39;49m\u001b[43mstorage_options\u001b[49m\u001b[43m,\u001b[49m\n\u001b[1;32m    248\u001b[0m \u001b[43m\u001b[49m\u001b[43m)\u001b[49m \u001b[38;5;28;01mas\u001b[39;00m handles:\n\u001b[1;32m    249\u001b[0m \n\u001b[1;32m    250\u001b[0m     \u001b[38;5;66;03m# Note: self.encoding is irrelevant here\u001b[39;00m\n\u001b[1;32m    251\u001b[0m     \u001b[38;5;28mself\u001b[39m\u001b[38;5;241m.\u001b[39mwriter \u001b[38;5;241m=\u001b[39m csvlib\u001b[38;5;241m.\u001b[39mwriter(\n\u001b[1;32m    252\u001b[0m         handles\u001b[38;5;241m.\u001b[39mhandle,\n\u001b[1;32m    253\u001b[0m         lineterminator\u001b[38;5;241m=\u001b[39m\u001b[38;5;28mself\u001b[39m\u001b[38;5;241m.\u001b[39mlineterminator,\n\u001b[0;32m   (...)\u001b[0m\n\u001b[1;32m    258\u001b[0m         quotechar\u001b[38;5;241m=\u001b[39m\u001b[38;5;28mself\u001b[39m\u001b[38;5;241m.\u001b[39mquotechar,\n\u001b[1;32m    259\u001b[0m     )\n\u001b[1;32m    261\u001b[0m     \u001b[38;5;28mself\u001b[39m\u001b[38;5;241m.\u001b[39m_save()\n",
      "File \u001b[0;32m~/.pyenv/versions/ds_em_clusterizacao/lib/python3.9/site-packages/pandas/io/common.py:734\u001b[0m, in \u001b[0;36mget_handle\u001b[0;34m(path_or_buf, mode, encoding, compression, memory_map, is_text, errors, storage_options)\u001b[0m\n\u001b[1;32m    732\u001b[0m \u001b[38;5;66;03m# Only for write methods\u001b[39;00m\n\u001b[1;32m    733\u001b[0m \u001b[38;5;28;01mif\u001b[39;00m \u001b[38;5;124m\"\u001b[39m\u001b[38;5;124mr\u001b[39m\u001b[38;5;124m\"\u001b[39m \u001b[38;5;129;01mnot\u001b[39;00m \u001b[38;5;129;01min\u001b[39;00m mode \u001b[38;5;129;01mand\u001b[39;00m is_path:\n\u001b[0;32m--> 734\u001b[0m     \u001b[43mcheck_parent_directory\u001b[49m\u001b[43m(\u001b[49m\u001b[38;5;28;43mstr\u001b[39;49m\u001b[43m(\u001b[49m\u001b[43mhandle\u001b[49m\u001b[43m)\u001b[49m\u001b[43m)\u001b[49m\n\u001b[1;32m    736\u001b[0m \u001b[38;5;28;01mif\u001b[39;00m compression:\n\u001b[1;32m    737\u001b[0m     \u001b[38;5;28;01mif\u001b[39;00m compression \u001b[38;5;241m!=\u001b[39m \u001b[38;5;124m\"\u001b[39m\u001b[38;5;124mzstd\u001b[39m\u001b[38;5;124m\"\u001b[39m:\n\u001b[1;32m    738\u001b[0m         \u001b[38;5;66;03m# compression libraries do not like an explicit text-mode\u001b[39;00m\n",
      "File \u001b[0;32m~/.pyenv/versions/ds_em_clusterizacao/lib/python3.9/site-packages/pandas/io/common.py:597\u001b[0m, in \u001b[0;36mcheck_parent_directory\u001b[0;34m(path)\u001b[0m\n\u001b[1;32m    595\u001b[0m parent \u001b[38;5;241m=\u001b[39m Path(path)\u001b[38;5;241m.\u001b[39mparent\n\u001b[1;32m    596\u001b[0m \u001b[38;5;28;01mif\u001b[39;00m \u001b[38;5;129;01mnot\u001b[39;00m parent\u001b[38;5;241m.\u001b[39mis_dir():\n\u001b[0;32m--> 597\u001b[0m     \u001b[38;5;28;01mraise\u001b[39;00m \u001b[38;5;167;01mOSError\u001b[39;00m(\u001b[38;5;124mrf\u001b[39m\u001b[38;5;124m\"\u001b[39m\u001b[38;5;124mCannot save file into a non-existent directory: \u001b[39m\u001b[38;5;124m'\u001b[39m\u001b[38;5;132;01m{\u001b[39;00mparent\u001b[38;5;132;01m}\u001b[39;00m\u001b[38;5;124m'\u001b[39m\u001b[38;5;124m\"\u001b[39m)\n",
      "\u001b[0;31mOSError\u001b[0m: Cannot save file into a non-existent directory: '/data'"
     ]
    }
   ],
   "source": [
    "reducer = umap.UMAP( random_state = 42 )\n",
    "embedding = reducer.fit_transform( df_leaf )\n",
    "\n",
    "# embedding\n",
    "df_leaf['embedding_x'] = embedding[: , 0]\n",
    "df_leaf['embedding_y'] = embedding[: , 1 ]\n",
    "\n",
    "df_leaf.to_csv('/data/tree_based_embedding.csv', index = False)"
   ]
  },
  {
   "cell_type": "markdown",
   "id": "897e4e50",
   "metadata": {
    "heading_collapsed": true,
    "papermill": {
     "duration": null,
     "end_time": null,
     "exception": null,
     "start_time": null,
     "status": "pending"
    },
    "tags": []
   },
   "source": [
    "# 9.0. Model Training"
   ]
  },
  {
   "cell_type": "code",
   "execution_count": null,
   "id": "9d6f32df",
   "metadata": {
    "ExecuteTime": {
     "end_time": "2022-12-14T13:23:26.879636Z",
     "start_time": "2022-12-14T13:23:26.870554Z"
    },
    "hidden": true,
    "papermill": {
     "duration": null,
     "end_time": null,
     "exception": null,
     "start_time": null,
     "status": "pending"
    },
    "tags": []
   },
   "outputs": [],
   "source": [
    "ecommerce7 = df_leaf.iloc[:,-2:].copy()\n",
    "ecommerce7['customer_id'] = ecommerce6['customer_id']\n",
    "X = ecommerce7.iloc[:,:-1].copy()"
   ]
  },
  {
   "cell_type": "markdown",
   "id": "5b1f4dd0",
   "metadata": {
    "heading_collapsed": true,
    "hidden": true,
    "papermill": {
     "duration": null,
     "end_time": null,
     "exception": null,
     "start_time": null,
     "status": "pending"
    },
    "tags": []
   },
   "source": [
    "## 9.1. GMM"
   ]
  },
  {
   "cell_type": "code",
   "execution_count": null,
   "id": "f90051ef",
   "metadata": {
    "ExecuteTime": {
     "end_time": "2022-12-14T13:23:28.934919Z",
     "start_time": "2022-12-14T13:23:26.883379Z"
    },
    "hidden": true,
    "papermill": {
     "duration": null,
     "end_time": null,
     "exception": null,
     "start_time": null,
     "status": "pending"
    },
    "tags": []
   },
   "outputs": [],
   "source": [
    "# Model definition\n",
    "k = 10\n",
    "gmm_model = mx.GaussianMixture( n_components = k, n_init = 30 )\n",
    "# Model training\n",
    "gmm_model.fit( X )\n",
    "\n",
    "# Clustering\n",
    "labels = gmm_model.predict( X )"
   ]
  },
  {
   "cell_type": "code",
   "execution_count": null,
   "id": "7eca2cdc",
   "metadata": {
    "ExecuteTime": {
     "end_time": "2022-12-14T13:23:28.943461Z",
     "start_time": "2022-12-14T13:23:28.937874Z"
    },
    "hidden": true,
    "papermill": {
     "duration": null,
     "end_time": null,
     "exception": null,
     "start_time": null,
     "status": "pending"
    },
    "tags": []
   },
   "outputs": [],
   "source": [
    "# Saving clusters labels\n",
    "idx = np.argsort( gmm_model.means_.sum(axis = 1) )\n",
    "\n",
    "new_cluster_label = np.zeros_like( idx )\n",
    "\n",
    "clustar_name = [0, 1, 2, 3, 4, 5, 6, 7, 8, 9]\n",
    "\n",
    "new_cluster_label[idx] = clustar_name\n",
    "\n",
    "labels = new_cluster_label[ labels ]"
   ]
  },
  {
   "cell_type": "markdown",
   "id": "ef898d3b",
   "metadata": {
    "heading_collapsed": true,
    "hidden": true,
    "papermill": {
     "duration": null,
     "end_time": null,
     "exception": null,
     "start_time": null,
     "status": "pending"
    },
    "tags": []
   },
   "source": [
    "## 9.2. Cluster Validation"
   ]
  },
  {
   "cell_type": "code",
   "execution_count": null,
   "id": "dad74c9d",
   "metadata": {
    "ExecuteTime": {
     "end_time": "2022-12-14T13:23:29.355034Z",
     "start_time": "2022-12-14T13:23:28.947481Z"
    },
    "hidden": true,
    "papermill": {
     "duration": null,
     "end_time": null,
     "exception": null,
     "start_time": null,
     "status": "pending"
    },
    "tags": []
   },
   "outputs": [],
   "source": [
    "## SS ( Silhouette Score)\n",
    "print(\"SS value: {}\".format ( m.silhouette_score(X, labels, metric = 'euclidean' ) ) )"
   ]
  },
  {
   "cell_type": "markdown",
   "id": "8081af84",
   "metadata": {
    "heading_collapsed": true,
    "papermill": {
     "duration": null,
     "end_time": null,
     "exception": null,
     "start_time": null,
     "status": "pending"
    },
    "tags": []
   },
   "source": [
    "# 10.0. Cluster Analysis"
   ]
  },
  {
   "cell_type": "code",
   "execution_count": null,
   "id": "97f827e6",
   "metadata": {
    "ExecuteTime": {
     "end_time": "2022-12-14T13:23:29.422827Z",
     "start_time": "2022-12-14T13:23:29.357764Z"
    },
    "hidden": true,
    "papermill": {
     "duration": null,
     "end_time": null,
     "exception": null,
     "start_time": null,
     "status": "pending"
    },
    "tags": []
   },
   "outputs": [],
   "source": [
    "ecommerce9 = ecommerce4.copy()\n",
    "ecommerce9['cluster'] = labels\n",
    "\n",
    "# Number of customers\n",
    "no_customers = ecommerce9[['customer_id','cluster']].groupby('cluster').count().reset_index()\n",
    "no_customers['percentage'] = ( no_customers['customer_id'] /  no_customers['customer_id'].sum() ) * 100\n",
    "\n",
    "# AVG Gross Revenue\n",
    "class_gross_revenue = ecommerce9[['gross_revenue','cluster']].groupby('cluster').mean().reset_index().rename(columns = {'gross_revenue':'avg_gross_revenue'})\n",
    "df_cluster = pd.merge(no_customers, class_gross_revenue, how = 'inner', on = 'cluster')\n",
    "\n",
    "# AVG Recency days\n",
    "class_recency = ecommerce9[['recency','cluster']].groupby('cluster').mean().reset_index()\n",
    "df_cluster = pd.merge(df_cluster, class_recency, how = 'inner', on = 'cluster')\n",
    "\n",
    "# AVG invoices\n",
    "class_invoices = ecommerce9[['qtty_products','cluster']].groupby('cluster').mean().reset_index()\n",
    "df_cluster = pd.merge(df_cluster, class_invoices, how = 'inner', on = 'cluster')\n",
    "\n",
    "# Frequency\n",
    "class_frequency = ecommerce9[['frequency','cluster']].groupby('cluster').mean().reset_index()\n",
    "df_cluster = pd.merge(df_cluster, class_frequency, how = 'inner', on = 'cluster')\n",
    "\n",
    "# Returns\n",
    "class_returns = ecommerce9[['qtty_returns','cluster']].groupby('cluster').mean().reset_index()\n",
    "df_cluster = pd.merge(df_cluster, class_returns, how = 'inner', on = 'cluster')\n",
    "\n",
    "# Percentual Gross Revenue\n",
    "perc_gross_revenue = ecommerce9[['gross_revenue','cluster']].groupby('cluster').sum().reset_index()\n",
    "perc_gross_revenue['percentual_gross_revenue'] = ( perc_gross_revenue['gross_revenue'] /  perc_gross_revenue['gross_revenue'].sum() ) * 100\n",
    "df_cluster = pd.merge(df_cluster, perc_gross_revenue, how = 'inner', on = 'cluster')"
   ]
  },
  {
   "cell_type": "code",
   "execution_count": null,
   "id": "a2eefd1a",
   "metadata": {
    "ExecuteTime": {
     "end_time": "2022-12-14T13:23:29.694266Z",
     "start_time": "2022-12-14T13:23:29.424949Z"
    },
    "hidden": true,
    "papermill": {
     "duration": null,
     "end_time": null,
     "exception": null,
     "start_time": null,
     "status": "pending"
    },
    "scrolled": false,
    "tags": []
   },
   "outputs": [],
   "source": [
    "df_cluster"
   ]
  },
  {
   "cell_type": "markdown",
   "id": "0ed4d5dc",
   "metadata": {
    "papermill": {
     "duration": null,
     "end_time": null,
     "exception": null,
     "start_time": null,
     "status": "pending"
    },
    "tags": []
   },
   "source": [
    "# 11.0. Deploy to Production"
   ]
  },
  {
   "cell_type": "code",
   "execution_count": null,
   "id": "5d67a42a",
   "metadata": {
    "ExecuteTime": {
     "end_time": "2022-12-14T13:23:29.872394Z",
     "start_time": "2022-12-14T13:23:29.698528Z"
    },
    "papermill": {
     "duration": null,
     "end_time": null,
     "exception": null,
     "start_time": null,
     "status": "pending"
    },
    "scrolled": true,
    "tags": []
   },
   "outputs": [],
   "source": [
    "ecommerce9.dtypes"
   ]
  },
  {
   "cell_type": "code",
   "execution_count": null,
   "id": "294b0907",
   "metadata": {
    "ExecuteTime": {
     "end_time": "2022-12-14T13:23:30.047199Z",
     "start_time": "2022-12-14T13:23:29.877030Z"
    },
    "papermill": {
     "duration": null,
     "end_time": null,
     "exception": null,
     "start_time": null,
     "status": "pending"
    },
    "tags": []
   },
   "outputs": [],
   "source": [
    "ecommerce9['recency'] = ecommerce9['recency'].astype( int )\n",
    "ecommerce9['qtty_products'] = ecommerce9['qtty_products'].astype( int )\n",
    "ecommerce9['qtty_returns'] = ecommerce9['qtty_returns'].astype( int )"
   ]
  },
  {
   "cell_type": "markdown",
   "id": "a71f9383",
   "metadata": {
    "papermill": {
     "duration": null,
     "end_time": null,
     "exception": null,
     "start_time": null,
     "status": "pending"
    },
    "tags": []
   },
   "source": [
    "## 11.1. Insert into SQLite"
   ]
  },
  {
   "cell_type": "code",
   "execution_count": null,
   "id": "f8a9797d",
   "metadata": {
    "ExecuteTime": {
     "end_time": "2022-12-14T13:23:30.935051Z",
     "start_time": "2022-12-14T13:23:30.051253Z"
    },
    "papermill": {
     "duration": null,
     "end_time": null,
     "exception": null,
     "start_time": null,
     "status": "pending"
    },
    "tags": []
   },
   "outputs": [],
   "source": [
    "# create table\n",
    "query_create_table_insiders = \"\"\"CREATE TABLE insiders (customer_id     INTEGER,\n",
    "                                                       gross_revenue   REAL,\n",
    "                                                       recency         INTEGER,\n",
    "                                                       qtty_products   INTEGER,\n",
    "                                                       frequency       REAL,\n",
    "                                                       qtty_returns    INTEGER,\n",
    "                                                       cluster         INTEGER)\"\"\"\n",
    "    \n",
    "\n",
    "\n",
    "connect = sqlite3.connect( 'insiders_db_sqlite' )\n",
    "connect.execute( query_create_table_insiders )\n",
    "connect.commit()\n",
    "connect.close()"
   ]
  },
  {
   "cell_type": "code",
   "execution_count": null,
   "id": "9d755512",
   "metadata": {
    "ExecuteTime": {
     "end_time": "2022-12-14T13:23:55.795507Z",
     "start_time": "2022-12-14T13:23:55.272052Z"
    },
    "papermill": {
     "duration": null,
     "end_time": null,
     "exception": null,
     "start_time": null,
     "status": "pending"
    },
    "tags": []
   },
   "outputs": [],
   "source": [
    "# insert data\n",
    "connect = create_engine('sqlite:///insiders_db_sqlite')\n",
    "ecommerce9.to_sql('insiders', con = connect, if_exists = 'append', index = False)"
   ]
  },
  {
   "cell_type": "code",
   "execution_count": null,
   "id": "cacdd492",
   "metadata": {
    "ExecuteTime": {
     "end_time": "2022-12-14T13:25:40.252449Z",
     "start_time": "2022-12-14T13:25:40.210252Z"
    },
    "papermill": {
     "duration": null,
     "end_time": null,
     "exception": null,
     "start_time": null,
     "status": "pending"
    },
    "tags": []
   },
   "outputs": [],
   "source": [
    "# # Consulting database\n",
    "\n",
    "# connect = create_engine('sqlite:///insiders_db_sqlite')\n",
    "\n",
    "# query = \"\"\"\n",
    "#         SELECT * FROM insiders\n",
    "#         \"\"\"\n",
    "# df = pd.read_sql_query(query, connect)"
   ]
  }
 ],
 "metadata": {
  "kernelspec": {
   "display_name": "Python 3 (ipykernel)",
   "language": "python",
   "name": "python3"
  },
  "language_info": {
   "codemirror_mode": {
    "name": "ipython",
    "version": 3
   },
   "file_extension": ".py",
   "mimetype": "text/x-python",
   "name": "python",
   "nbconvert_exporter": "python",
   "pygments_lexer": "ipython3",
   "version": "3.9.13"
  },
  "papermill": {
   "default_parameters": {},
   "duration": 41.661941,
   "end_time": "2022-12-14T21:37:56.358803",
   "environment_variables": {},
   "exception": true,
   "input_path": "/home/igor/Documents/repos/ds_em_clusterizacao/project/src/models/c09_deploy_planning.ipynb",
   "output_path": "/home/igor/Documents/repos/ds_em_clusterizacao/project/reports/c09_deploy_2022-12-14T18:37:14.ipynb",
   "parameters": {},
   "start_time": "2022-12-14T21:37:14.696862",
   "version": "2.4.0"
  },
  "varInspector": {
   "cols": {
    "lenName": 16,
    "lenType": 16,
    "lenVar": 40
   },
   "kernels_config": {
    "python": {
     "delete_cmd_postfix": "",
     "delete_cmd_prefix": "del ",
     "library": "var_list.py",
     "varRefreshCmd": "print(var_dic_list())"
    },
    "r": {
     "delete_cmd_postfix": ") ",
     "delete_cmd_prefix": "rm(",
     "library": "var_list.r",
     "varRefreshCmd": "cat(var_dic_list()) "
    }
   },
   "types_to_exclude": [
    "module",
    "function",
    "builtin_function_or_method",
    "instance",
    "_Feature"
   ],
   "window_display": false
  }
 },
 "nbformat": 4,
 "nbformat_minor": 5
}