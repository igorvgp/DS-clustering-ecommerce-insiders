{
 "cells": [
  {
   "cell_type": "markdown",
   "id": "5edda5f5",
   "metadata": {
    "tags": [
     "papermill-error-cell-tag"
    ]
   },
   "source": [
    "<span style=\"color:red; font-family:Helvetica Neue, Helvetica, Arial, sans-serif; font-size:2em;\">An Exception was encountered at '<a href=\"#papermill-error-cell\">In [46]</a>'.</span>"
   ]
  },
  {
   "cell_type": "markdown",
   "id": "f914a8bc",
   "metadata": {
    "papermill": {
     "duration": 0.024547,
     "end_time": "2022-12-14T21:44:25.345333",
     "exception": false,
     "start_time": "2022-12-14T21:44:25.320786",
     "status": "completed"
    },
    "tags": []
   },
   "source": [
    "# pa005: High Value Customer Identification (Insiders)"
   ]
  },
  {
   "cell_type": "markdown",
   "id": "98d4b461",
   "metadata": {
    "papermill": {
     "duration": 0.019103,
     "end_time": "2022-12-14T21:44:25.384435",
     "exception": false,
     "start_time": "2022-12-14T21:44:25.365332",
     "status": "completed"
    },
    "tags": []
   },
   "source": [
    "# 0.0. Imports"
   ]
  },
  {
   "cell_type": "code",
   "execution_count": 1,
   "id": "13289320",
   "metadata": {
    "ExecuteTime": {
     "end_time": "2022-12-14T20:46:29.025334Z",
     "start_time": "2022-12-14T20:46:22.902858Z"
    },
    "execution": {
     "iopub.execute_input": "2022-12-14T21:44:25.425038Z",
     "iopub.status.busy": "2022-12-14T21:44:25.423607Z",
     "iopub.status.idle": "2022-12-14T21:44:32.828230Z",
     "shell.execute_reply": "2022-12-14T21:44:32.827145Z"
    },
    "papermill": {
     "duration": 7.428402,
     "end_time": "2022-12-14T21:44:32.831654",
     "exception": false,
     "start_time": "2022-12-14T21:44:25.403252",
     "status": "completed"
    },
    "tags": []
   },
   "outputs": [],
   "source": [
    "import pandas as pd\n",
    "import numpy as np\n",
    "import seaborn as sns\n",
    "import re\n",
    "\n",
    "from IPython.display         import Image\n",
    "\n",
    "from matplotlib              import pyplot       as plt\n",
    "from matplotlib              import gridspec\n",
    "from plotly                  import express      as px\n",
    "from IPython.display         import HTML\n",
    "\n",
    "import hdbscan\n",
    "import umap.umap_                                 as umap\n",
    "\n",
    "from sklearn                 import cluster       as c\n",
    "from sklearn                 import metrics       as m\n",
    "from sklearn                 import preprocessing as pp\n",
    "from sklearn                 import decomposition as dd\n",
    "from sklearn.manifold        import TSNE\n",
    "from sklearn.ensemble        import RandomForestRegressor\n",
    "from sklearn.neighbors       import NearestNeighbors\n",
    "from sklearn                 import mixture       as mx\n",
    "from scipy.cluster           import hierarchy     as hc\n",
    "\n",
    "\n",
    "from yellowbrick.cluster     import KElbowVisualizer, SilhouetteVisualizer\n",
    "\n",
    "import sqlite3\n",
    "from sqlalchemy              import create_engine\n",
    "\n",
    "import warnings\n",
    "warnings.filterwarnings('ignore')"
   ]
  },
  {
   "cell_type": "markdown",
   "id": "6cb4e166",
   "metadata": {
    "heading_collapsed": true,
    "papermill": {
     "duration": 0.02064,
     "end_time": "2022-12-14T21:44:32.872389",
     "exception": false,
     "start_time": "2022-12-14T21:44:32.851749",
     "status": "completed"
    },
    "tags": []
   },
   "source": [
    "## 0.1 Helper Functions"
   ]
  },
  {
   "cell_type": "code",
   "execution_count": 2,
   "id": "a8b3e1ce",
   "metadata": {
    "ExecuteTime": {
     "end_time": "2022-12-14T13:22:59.092842Z",
     "start_time": "2022-12-14T13:22:59.074866Z"
    },
    "execution": {
     "iopub.execute_input": "2022-12-14T21:44:32.958233Z",
     "iopub.status.busy": "2022-12-14T21:44:32.956769Z",
     "iopub.status.idle": "2022-12-14T21:44:32.983057Z",
     "shell.execute_reply": "2022-12-14T21:44:32.982114Z"
    },
    "hidden": true,
    "papermill": {
     "duration": 0.049685,
     "end_time": "2022-12-14T21:44:32.986098",
     "exception": false,
     "start_time": "2022-12-14T21:44:32.936413",
     "status": "completed"
    },
    "tags": []
   },
   "outputs": [],
   "source": [
    "def get_silhouettes( data, labels ):\n",
    "    \n",
    "    silhouette_scores = []\n",
    "\n",
    "    for label in labels:\n",
    "\n",
    "        # model performance\n",
    "            sil = m.silhouette_score( data, label, metric = 'euclidean' )\n",
    "            silhouette_scores.append( np.round(sil,2) )\n",
    "    \n",
    "    return silhouette_scores\n",
    "\n",
    "def plot_clusters( data, k, labels ):\n",
    "    \n",
    "    data = data.copy()\n",
    "    data.columns = ['embedding_x', 'embedding_y']\n",
    "    \n",
    "    nrows = len(k) // 4 if len(k) % 4 == 0 else (len(k)//4) + 1\n",
    "    fig = plt.figure(figsize = (21,18) ) \n",
    "    specs = gridspec.GridSpec( ncols = 4, nrows = nrows, figure = fig, wspace = .3, hspace = .3 )\n",
    "    \n",
    "    plots = []\n",
    "    \n",
    "    silhouettes = get_silhouettes( data, labels)\n",
    "    \n",
    "    for i in range(nrows):\n",
    "        for j in range(4):\n",
    "            ax = fig.add_subplot( specs[ i, j ] )\n",
    "            plots.append( ax )\n",
    "    \n",
    "    for i in range(len( k )):\n",
    "       \n",
    "        # model evaluation\n",
    "        sil = silhouettes[i]\n",
    "        \n",
    "        data['cluster'] = labels[i]\n",
    "        \n",
    "        sns.scatterplot(data = data, x='embedding_x',y='embedding_y', \n",
    "                        hue = 'cluster', palette = 'deep', \n",
    "                        ax = plots[i], legend = False)\n",
    "        \n",
    "        \n",
    "        title = \"Num. Clusters = \" + str(k[i]) + \" | Silhouette Score: \" + str(np.round(sil,2))\n",
    "        plots[i].set_title( title )\n",
    "        plots[i].set_xlabel(xlabel = \"\")\n",
    "        plots[i].set_ylabel(ylabel = \"\")\n",
    "\n",
    "        \n",
    "def best_silhouette( data, k, labels ):\n",
    "    \n",
    "    silhouettes = get_silhouettes( data = data, labels = labels )\n",
    "\n",
    "    plt.figure( figsize = ( 10, 6 ))\n",
    "    plt.plot( k, silhouettes, linestyle = '--', marker = 'o', color = 'b')\n",
    "    plt.xlabel( 'K' );\n",
    "    plt.ylabel( 'Silhouette Score' );\n",
    "    plt.title( 'Silhouette Score x K' );\n",
    "    \n",
    "\n",
    "def plot_cluster_silhouette(X, labels, k):\n",
    "    \n",
    "    fig, ax = plt.subplots( 1, 1 )\n",
    "    fig.set_size_inches( 8, 7 )\n",
    "\n",
    "    ax.set_xlim( [ -0.1, 1 ] )\n",
    "    ax.set_ylim( [ 0, len( X ) + ( k + 1 ) * 10] )\n",
    "    \n",
    "    samples_silhouette_values = m.silhouette_samples( X, labels )\n",
    "\n",
    "    y_lower = 10\n",
    "    for i in range( k ):\n",
    "\n",
    "        # select clusters\n",
    "        ith_samples_silhouette_values = samples_silhouette_values[ labels == i]\n",
    "        \n",
    "        # sort values\n",
    "        ith_samples_silhouette_values.sort()\n",
    "\n",
    "        # size clusters\n",
    "        size_cluster_i = ith_samples_silhouette_values.shape[0]\n",
    "        y_upper = y_lower + size_cluster_i\n",
    "        \n",
    "        cmap = plt.get_cmap( 'Spectral' )\n",
    "        color = cmap( i / k )\n",
    "\n",
    "        ax.fill_betweenx( np.arange( y_lower, y_upper ), 0, ith_samples_silhouette_values  )\n",
    "        \n",
    "        y_lower = y_upper + 10\n",
    "\n",
    "    ax.set_yticks([])\n",
    "    ax.set_xticks( [-0.1, 0, 0.2, 0.4, 0.6, 0.8, 1])\n",
    "    ax.legend( np.unique(labels) )\n",
    "    ax.set_title(\" Clusters Silhouettes\")"
   ]
  },
  {
   "cell_type": "markdown",
   "id": "db274fc1",
   "metadata": {
    "papermill": {
     "duration": 0.019305,
     "end_time": "2022-12-14T21:44:33.027402",
     "exception": false,
     "start_time": "2022-12-14T21:44:33.008097",
     "status": "completed"
    },
    "tags": []
   },
   "source": [
    "## 0.2 Loading Dataset"
   ]
  },
  {
   "cell_type": "code",
   "execution_count": 3,
   "id": "64ef0cea",
   "metadata": {
    "ExecuteTime": {
     "end_time": "2022-12-14T20:46:29.548272Z",
     "start_time": "2022-12-14T20:46:29.029026Z"
    },
    "execution": {
     "iopub.execute_input": "2022-12-14T21:44:33.066355Z",
     "iopub.status.busy": "2022-12-14T21:44:33.065893Z",
     "iopub.status.idle": "2022-12-14T21:44:33.625435Z",
     "shell.execute_reply": "2022-12-14T21:44:33.624300Z"
    },
    "papermill": {
     "duration": 0.583747,
     "end_time": "2022-12-14T21:44:33.628908",
     "exception": false,
     "start_time": "2022-12-14T21:44:33.045161",
     "status": "completed"
    },
    "tags": []
   },
   "outputs": [],
   "source": [
    "# Load data\n",
    "path = \"/home/igor/Documents/repos/ds_em_clusterizacao/project/\"\n",
    "ecommerce = pd.read_csv(path + 'data/Ecommerce.csv',encoding='latin1')\n",
    "\n",
    "# Drop extra column\n",
    "ecommerce = ecommerce.iloc[:,:-1]"
   ]
  },
  {
   "cell_type": "markdown",
   "id": "eb37cab1",
   "metadata": {
    "papermill": {
     "duration": 0.020705,
     "end_time": "2022-12-14T21:44:33.670245",
     "exception": false,
     "start_time": "2022-12-14T21:44:33.649540",
     "status": "completed"
    },
    "tags": []
   },
   "source": [
    "# 1.0. Data description"
   ]
  },
  {
   "cell_type": "code",
   "execution_count": 4,
   "id": "cf9276dc",
   "metadata": {
    "ExecuteTime": {
     "end_time": "2022-12-14T13:23:00.110168Z",
     "start_time": "2022-12-14T13:23:00.081988Z"
    },
    "execution": {
     "iopub.execute_input": "2022-12-14T21:44:33.711392Z",
     "iopub.status.busy": "2022-12-14T21:44:33.710180Z",
     "iopub.status.idle": "2022-12-14T21:44:33.758610Z",
     "shell.execute_reply": "2022-12-14T21:44:33.757127Z"
    },
    "papermill": {
     "duration": 0.072387,
     "end_time": "2022-12-14T21:44:33.761395",
     "exception": false,
     "start_time": "2022-12-14T21:44:33.689008",
     "status": "completed"
    },
    "tags": []
   },
   "outputs": [],
   "source": [
    "ecommerce1 = ecommerce.copy()"
   ]
  },
  {
   "cell_type": "markdown",
   "id": "1e9f774d",
   "metadata": {
    "heading_collapsed": true,
    "papermill": {
     "duration": 0.019034,
     "end_time": "2022-12-14T21:44:33.802703",
     "exception": false,
     "start_time": "2022-12-14T21:44:33.783669",
     "status": "completed"
    },
    "tags": []
   },
   "source": [
    "## 1.1. Rename Columns"
   ]
  },
  {
   "cell_type": "code",
   "execution_count": 5,
   "id": "a4945b5b",
   "metadata": {
    "ExecuteTime": {
     "end_time": "2022-12-14T13:23:00.409129Z",
     "start_time": "2022-12-14T13:23:00.113403Z"
    },
    "execution": {
     "iopub.execute_input": "2022-12-14T21:44:33.841300Z",
     "iopub.status.busy": "2022-12-14T21:44:33.840716Z",
     "iopub.status.idle": "2022-12-14T21:44:33.848425Z",
     "shell.execute_reply": "2022-12-14T21:44:33.847251Z"
    },
    "hidden": true,
    "papermill": {
     "duration": 0.029434,
     "end_time": "2022-12-14T21:44:33.850471",
     "exception": false,
     "start_time": "2022-12-14T21:44:33.821037",
     "status": "completed"
    },
    "tags": []
   },
   "outputs": [],
   "source": [
    "new_cols =  ['invoice_no', 'stock_code','description', 'quantity', 'invoice_date', 'unit_price', 'customer_id', 'country']\n",
    "ecommerce1.columns = new_cols"
   ]
  },
  {
   "cell_type": "markdown",
   "id": "bdd17374",
   "metadata": {
    "heading_collapsed": true,
    "papermill": {
     "duration": 0.021353,
     "end_time": "2022-12-14T21:44:33.890268",
     "exception": false,
     "start_time": "2022-12-14T21:44:33.868915",
     "status": "completed"
    },
    "tags": []
   },
   "source": [
    "## 1.2. Data Dimensions"
   ]
  },
  {
   "cell_type": "code",
   "execution_count": 6,
   "id": "f7924b48",
   "metadata": {
    "ExecuteTime": {
     "end_time": "2022-12-14T13:23:00.693520Z",
     "start_time": "2022-12-14T13:23:00.413029Z"
    },
    "execution": {
     "iopub.execute_input": "2022-12-14T21:44:33.935114Z",
     "iopub.status.busy": "2022-12-14T21:44:33.934503Z",
     "iopub.status.idle": "2022-12-14T21:44:33.961233Z",
     "shell.execute_reply": "2022-12-14T21:44:33.959730Z"
    },
    "hidden": true,
    "papermill": {
     "duration": 0.051093,
     "end_time": "2022-12-14T21:44:33.963897",
     "exception": false,
     "start_time": "2022-12-14T21:44:33.912804",
     "status": "completed"
    },
    "tags": []
   },
   "outputs": [
    {
     "data": {
      "text/plain": [
       "(541909, 8)"
      ]
     },
     "execution_count": 6,
     "metadata": {},
     "output_type": "execute_result"
    }
   ],
   "source": [
    "ecommerce1.shape"
   ]
  },
  {
   "cell_type": "markdown",
   "id": "ceb47ef0",
   "metadata": {
    "heading_collapsed": true,
    "papermill": {
     "duration": 0.019067,
     "end_time": "2022-12-14T21:44:34.004786",
     "exception": false,
     "start_time": "2022-12-14T21:44:33.985719",
     "status": "completed"
    },
    "tags": []
   },
   "source": [
    "## 1.3. Data types"
   ]
  },
  {
   "cell_type": "code",
   "execution_count": 7,
   "id": "073adcd9",
   "metadata": {
    "ExecuteTime": {
     "end_time": "2022-12-14T13:23:00.882207Z",
     "start_time": "2022-12-14T13:23:00.699999Z"
    },
    "execution": {
     "iopub.execute_input": "2022-12-14T21:44:34.045043Z",
     "iopub.status.busy": "2022-12-14T21:44:34.043852Z",
     "iopub.status.idle": "2022-12-14T21:44:34.058040Z",
     "shell.execute_reply": "2022-12-14T21:44:34.056268Z"
    },
    "hidden": true,
    "papermill": {
     "duration": 0.037762,
     "end_time": "2022-12-14T21:44:34.061442",
     "exception": false,
     "start_time": "2022-12-14T21:44:34.023680",
     "status": "completed"
    },
    "tags": []
   },
   "outputs": [
    {
     "data": {
      "text/plain": [
       "invoice_no       object\n",
       "stock_code       object\n",
       "description      object\n",
       "quantity          int64\n",
       "invoice_date     object\n",
       "unit_price      float64\n",
       "customer_id     float64\n",
       "country          object\n",
       "dtype: object"
      ]
     },
     "execution_count": 7,
     "metadata": {},
     "output_type": "execute_result"
    }
   ],
   "source": [
    "ecommerce1.dtypes"
   ]
  },
  {
   "cell_type": "markdown",
   "id": "5d7c4a9d",
   "metadata": {
    "heading_collapsed": true,
    "papermill": {
     "duration": 0.019449,
     "end_time": "2022-12-14T21:44:34.102608",
     "exception": false,
     "start_time": "2022-12-14T21:44:34.083159",
     "status": "completed"
    },
    "tags": []
   },
   "source": [
    "## 1.4. Check NA"
   ]
  },
  {
   "cell_type": "code",
   "execution_count": 8,
   "id": "926dc7fa",
   "metadata": {
    "ExecuteTime": {
     "end_time": "2022-12-14T13:23:01.608244Z",
     "start_time": "2022-12-14T13:23:00.888148Z"
    },
    "execution": {
     "iopub.execute_input": "2022-12-14T21:44:34.146163Z",
     "iopub.status.busy": "2022-12-14T21:44:34.145190Z",
     "iopub.status.idle": "2022-12-14T21:44:34.518081Z",
     "shell.execute_reply": "2022-12-14T21:44:34.516972Z"
    },
    "hidden": true,
    "papermill": {
     "duration": 0.398674,
     "end_time": "2022-12-14T21:44:34.521854",
     "exception": false,
     "start_time": "2022-12-14T21:44:34.123180",
     "status": "completed"
    },
    "scrolled": false,
    "tags": []
   },
   "outputs": [
    {
     "data": {
      "text/plain": [
       "invoice_no           0\n",
       "stock_code           0\n",
       "description       1454\n",
       "quantity             0\n",
       "invoice_date         0\n",
       "unit_price           0\n",
       "customer_id     135080\n",
       "country              0\n",
       "dtype: int64"
      ]
     },
     "execution_count": 8,
     "metadata": {},
     "output_type": "execute_result"
    }
   ],
   "source": [
    "ecommerce1.isna().sum()"
   ]
  },
  {
   "cell_type": "markdown",
   "id": "37d4d226",
   "metadata": {
    "heading_collapsed": true,
    "papermill": {
     "duration": 0.019187,
     "end_time": "2022-12-14T21:44:34.563323",
     "exception": false,
     "start_time": "2022-12-14T21:44:34.544136",
     "status": "completed"
    },
    "tags": []
   },
   "source": [
    "## 1.5. Replace NA"
   ]
  },
  {
   "cell_type": "code",
   "execution_count": 9,
   "id": "0c767c92",
   "metadata": {
    "ExecuteTime": {
     "end_time": "2022-12-14T13:23:01.971739Z",
     "start_time": "2022-12-14T13:23:01.610692Z"
    },
    "execution": {
     "iopub.execute_input": "2022-12-14T21:44:34.606221Z",
     "iopub.status.busy": "2022-12-14T21:44:34.605227Z",
     "iopub.status.idle": "2022-12-14T21:44:34.661934Z",
     "shell.execute_reply": "2022-12-14T21:44:34.660896Z"
    },
    "hidden": true,
    "papermill": {
     "duration": 0.08166,
     "end_time": "2022-12-14T21:44:34.664810",
     "exception": false,
     "start_time": "2022-12-14T21:44:34.583150",
     "status": "completed"
    },
    "tags": []
   },
   "outputs": [],
   "source": [
    "# Missing values on customer ID\n",
    "ecommerce_missing = ecommerce1[ecommerce1['customer_id'].isna()]\n",
    "ecommerce_not_missing = ecommerce1[~ecommerce1['customer_id'].isna()]"
   ]
  },
  {
   "cell_type": "code",
   "execution_count": 10,
   "id": "74860748",
   "metadata": {
    "ExecuteTime": {
     "end_time": "2022-12-14T13:23:02.351070Z",
     "start_time": "2022-12-14T13:23:01.977287Z"
    },
    "execution": {
     "iopub.execute_input": "2022-12-14T21:44:34.712040Z",
     "iopub.status.busy": "2022-12-14T21:44:34.710684Z",
     "iopub.status.idle": "2022-12-14T21:44:34.862644Z",
     "shell.execute_reply": "2022-12-14T21:44:34.861617Z"
    },
    "hidden": true,
    "papermill": {
     "duration": 0.17821,
     "end_time": "2022-12-14T21:44:34.866441",
     "exception": false,
     "start_time": "2022-12-14T21:44:34.688231",
     "status": "completed"
    },
    "tags": []
   },
   "outputs": [],
   "source": [
    "ecommerce_missing_customerid = ecommerce_missing[['invoice_no','customer_id']].drop_duplicates()\n",
    "ecommerce_missing_customerid['customer_id'] = np.arange( 19000, 19000 + len(ecommerce_missing_customerid), 1 )\n",
    "ecommerce_missing = pd.merge(ecommerce_missing.drop('customer_id', axis = 1), ecommerce_missing_customerid, on = 'invoice_no', how = 'left')\n",
    "ecommerce_missing = ecommerce_missing[ecommerce_not_missing.columns]\n",
    "ecommerce1 = pd.concat([ecommerce_missing, ecommerce_not_missing])"
   ]
  },
  {
   "cell_type": "code",
   "execution_count": 11,
   "id": "28eea467",
   "metadata": {
    "ExecuteTime": {
     "end_time": "2022-12-14T13:23:02.911286Z",
     "start_time": "2022-12-14T13:23:02.353627Z"
    },
    "execution": {
     "iopub.execute_input": "2022-12-14T21:44:34.955338Z",
     "iopub.status.busy": "2022-12-14T21:44:34.954348Z",
     "iopub.status.idle": "2022-12-14T21:44:35.330215Z",
     "shell.execute_reply": "2022-12-14T21:44:35.328858Z"
    },
    "hidden": true,
    "papermill": {
     "duration": 0.416769,
     "end_time": "2022-12-14T21:44:35.333425",
     "exception": false,
     "start_time": "2022-12-14T21:44:34.916656",
     "status": "completed"
    },
    "tags": []
   },
   "outputs": [
    {
     "data": {
      "text/plain": [
       "invoice_no         0\n",
       "stock_code         0\n",
       "description     1454\n",
       "quantity           0\n",
       "invoice_date       0\n",
       "unit_price         0\n",
       "customer_id        0\n",
       "country            0\n",
       "dtype: int64"
      ]
     },
     "execution_count": 11,
     "metadata": {},
     "output_type": "execute_result"
    }
   ],
   "source": [
    "ecommerce1.isna().sum()"
   ]
  },
  {
   "cell_type": "markdown",
   "id": "144d703d",
   "metadata": {
    "heading_collapsed": true,
    "papermill": {
     "duration": 0.020543,
     "end_time": "2022-12-14T21:44:35.376479",
     "exception": false,
     "start_time": "2022-12-14T21:44:35.355936",
     "status": "completed"
    },
    "tags": []
   },
   "source": [
    "## 1.6. Change Dtypes"
   ]
  },
  {
   "cell_type": "code",
   "execution_count": 12,
   "id": "daaad1c8",
   "metadata": {
    "ExecuteTime": {
     "end_time": "2022-12-14T13:23:03.247201Z",
     "start_time": "2022-12-14T13:23:02.914228Z"
    },
    "execution": {
     "iopub.execute_input": "2022-12-14T21:44:35.419924Z",
     "iopub.status.busy": "2022-12-14T21:44:35.418822Z",
     "iopub.status.idle": "2022-12-14T21:44:35.472467Z",
     "shell.execute_reply": "2022-12-14T21:44:35.471276Z"
    },
    "hidden": true,
    "papermill": {
     "duration": 0.079505,
     "end_time": "2022-12-14T21:44:35.475791",
     "exception": false,
     "start_time": "2022-12-14T21:44:35.396286",
     "status": "completed"
    },
    "tags": []
   },
   "outputs": [],
   "source": [
    "# Invoice date\n",
    "ecommerce1['invoice_date'] = pd.to_datetime(ecommerce1['invoice_date'], format = '%d-%b-%y')\n",
    "\n",
    "# Customer id\n",
    "ecommerce1['customer_id'] = ecommerce1['customer_id'].astype(np.int64)"
   ]
  },
  {
   "cell_type": "code",
   "execution_count": 13,
   "id": "bde5f918",
   "metadata": {
    "ExecuteTime": {
     "end_time": "2022-12-14T13:23:03.907585Z",
     "start_time": "2022-12-14T13:23:03.249544Z"
    },
    "execution": {
     "iopub.execute_input": "2022-12-14T21:44:35.522708Z",
     "iopub.status.busy": "2022-12-14T21:44:35.521699Z",
     "iopub.status.idle": "2022-12-14T21:44:35.979820Z",
     "shell.execute_reply": "2022-12-14T21:44:35.978413Z"
    },
    "hidden": true,
    "papermill": {
     "duration": 0.484186,
     "end_time": "2022-12-14T21:44:35.983793",
     "exception": false,
     "start_time": "2022-12-14T21:44:35.499607",
     "status": "completed"
    },
    "tags": []
   },
   "outputs": [
    {
     "data": {
      "text/html": [
       "<div>\n",
       "<style scoped>\n",
       "    .dataframe tbody tr th:only-of-type {\n",
       "        vertical-align: middle;\n",
       "    }\n",
       "\n",
       "    .dataframe tbody tr th {\n",
       "        vertical-align: top;\n",
       "    }\n",
       "\n",
       "    .dataframe thead th {\n",
       "        text-align: right;\n",
       "    }\n",
       "</style>\n",
       "<table border=\"1\" class=\"dataframe\">\n",
       "  <thead>\n",
       "    <tr style=\"text-align: right;\">\n",
       "      <th></th>\n",
       "      <th>invoice_no</th>\n",
       "      <th>stock_code</th>\n",
       "      <th>description</th>\n",
       "      <th>quantity</th>\n",
       "      <th>invoice_date</th>\n",
       "      <th>unit_price</th>\n",
       "      <th>customer_id</th>\n",
       "      <th>country</th>\n",
       "    </tr>\n",
       "  </thead>\n",
       "  <tbody>\n",
       "    <tr>\n",
       "      <th>0</th>\n",
       "      <td>536365</td>\n",
       "      <td>85123A</td>\n",
       "      <td>WHITE HANGING HEART T-LIGHT HOLDER</td>\n",
       "      <td>6</td>\n",
       "      <td>2016-11-29</td>\n",
       "      <td>2.55</td>\n",
       "      <td>17850</td>\n",
       "      <td>United Kingdom</td>\n",
       "    </tr>\n",
       "    <tr>\n",
       "      <th>6</th>\n",
       "      <td>536365</td>\n",
       "      <td>21730</td>\n",
       "      <td>GLASS STAR FROSTED T-LIGHT HOLDER</td>\n",
       "      <td>6</td>\n",
       "      <td>2016-11-29</td>\n",
       "      <td>4.25</td>\n",
       "      <td>17850</td>\n",
       "      <td>United Kingdom</td>\n",
       "    </tr>\n",
       "    <tr>\n",
       "      <th>5</th>\n",
       "      <td>536365</td>\n",
       "      <td>22752</td>\n",
       "      <td>SET 7 BABUSHKA NESTING BOXES</td>\n",
       "      <td>2</td>\n",
       "      <td>2016-11-29</td>\n",
       "      <td>7.65</td>\n",
       "      <td>17850</td>\n",
       "      <td>United Kingdom</td>\n",
       "    </tr>\n",
       "    <tr>\n",
       "      <th>1</th>\n",
       "      <td>536365</td>\n",
       "      <td>71053</td>\n",
       "      <td>WHITE METAL LANTERN</td>\n",
       "      <td>6</td>\n",
       "      <td>2016-11-29</td>\n",
       "      <td>3.39</td>\n",
       "      <td>17850</td>\n",
       "      <td>United Kingdom</td>\n",
       "    </tr>\n",
       "    <tr>\n",
       "      <th>3</th>\n",
       "      <td>536365</td>\n",
       "      <td>84029G</td>\n",
       "      <td>KNITTED UNION FLAG HOT WATER BOTTLE</td>\n",
       "      <td>6</td>\n",
       "      <td>2016-11-29</td>\n",
       "      <td>3.39</td>\n",
       "      <td>17850</td>\n",
       "      <td>United Kingdom</td>\n",
       "    </tr>\n",
       "  </tbody>\n",
       "</table>\n",
       "</div>"
      ],
      "text/plain": [
       "  invoice_no stock_code                          description  quantity  \\\n",
       "0     536365     85123A   WHITE HANGING HEART T-LIGHT HOLDER         6   \n",
       "6     536365      21730    GLASS STAR FROSTED T-LIGHT HOLDER         6   \n",
       "5     536365      22752         SET 7 BABUSHKA NESTING BOXES         2   \n",
       "1     536365      71053                  WHITE METAL LANTERN         6   \n",
       "3     536365     84029G  KNITTED UNION FLAG HOT WATER BOTTLE         6   \n",
       "\n",
       "  invoice_date  unit_price  customer_id         country  \n",
       "0   2016-11-29        2.55        17850  United Kingdom  \n",
       "6   2016-11-29        4.25        17850  United Kingdom  \n",
       "5   2016-11-29        7.65        17850  United Kingdom  \n",
       "1   2016-11-29        3.39        17850  United Kingdom  \n",
       "3   2016-11-29        3.39        17850  United Kingdom  "
      ]
     },
     "execution_count": 13,
     "metadata": {},
     "output_type": "execute_result"
    }
   ],
   "source": [
    "ecommerce1.sort_values('invoice_no').head()"
   ]
  },
  {
   "cell_type": "markdown",
   "id": "66681528",
   "metadata": {
    "heading_collapsed": true,
    "papermill": {
     "duration": 0.036069,
     "end_time": "2022-12-14T21:44:36.069386",
     "exception": false,
     "start_time": "2022-12-14T21:44:36.033317",
     "status": "completed"
    },
    "tags": []
   },
   "source": [
    "## 1.7. Drop Duplicates"
   ]
  },
  {
   "cell_type": "code",
   "execution_count": 14,
   "id": "d04b49ff",
   "metadata": {
    "ExecuteTime": {
     "end_time": "2022-12-14T13:23:03.915203Z",
     "start_time": "2022-12-14T13:23:03.911289Z"
    },
    "execution": {
     "iopub.execute_input": "2022-12-14T21:44:36.114667Z",
     "iopub.status.busy": "2022-12-14T21:44:36.114069Z",
     "iopub.status.idle": "2022-12-14T21:44:36.121346Z",
     "shell.execute_reply": "2022-12-14T21:44:36.119965Z"
    },
    "hidden": true,
    "papermill": {
     "duration": 0.031047,
     "end_time": "2022-12-14T21:44:36.123783",
     "exception": false,
     "start_time": "2022-12-14T21:44:36.092736",
     "status": "completed"
    },
    "tags": []
   },
   "outputs": [],
   "source": [
    "#ecommerce1 = ecommerce1.drop_duplicates()"
   ]
  },
  {
   "cell_type": "markdown",
   "id": "30623aa6",
   "metadata": {
    "heading_collapsed": true,
    "papermill": {
     "duration": 0.020042,
     "end_time": "2022-12-14T21:44:36.164944",
     "exception": false,
     "start_time": "2022-12-14T21:44:36.144902",
     "status": "completed"
    },
    "tags": []
   },
   "source": [
    "## 1.8. Descriptive Statistics"
   ]
  },
  {
   "cell_type": "code",
   "execution_count": 15,
   "id": "a6d80b52",
   "metadata": {
    "ExecuteTime": {
     "end_time": "2022-12-14T13:23:04.180043Z",
     "start_time": "2022-12-14T13:23:03.919582Z"
    },
    "execution": {
     "iopub.execute_input": "2022-12-14T21:44:36.209413Z",
     "iopub.status.busy": "2022-12-14T21:44:36.208896Z",
     "iopub.status.idle": "2022-12-14T21:44:36.277284Z",
     "shell.execute_reply": "2022-12-14T21:44:36.276278Z"
    },
    "hidden": true,
    "papermill": {
     "duration": 0.094129,
     "end_time": "2022-12-14T21:44:36.281193",
     "exception": false,
     "start_time": "2022-12-14T21:44:36.187064",
     "status": "completed"
    },
    "tags": []
   },
   "outputs": [],
   "source": [
    "num_attributes = ecommerce1.select_dtypes( include = ['int64', 'float64'])\n",
    "cat_attributes = ecommerce1.select_dtypes( exclude = ['int64', 'float64', 'datetime64[ns]'])"
   ]
  },
  {
   "cell_type": "markdown",
   "id": "4d5a3bc3",
   "metadata": {
    "heading_collapsed": true,
    "hidden": true,
    "papermill": {
     "duration": 0.019869,
     "end_time": "2022-12-14T21:44:36.323507",
     "exception": false,
     "start_time": "2022-12-14T21:44:36.303638",
     "status": "completed"
    },
    "tags": []
   },
   "source": [
    "### 1.8.1. Numerical Attributes"
   ]
  },
  {
   "cell_type": "code",
   "execution_count": 16,
   "id": "2e991fa8",
   "metadata": {
    "ExecuteTime": {
     "end_time": "2022-12-14T13:23:04.409229Z",
     "start_time": "2022-12-14T13:23:04.182026Z"
    },
    "execution": {
     "iopub.execute_input": "2022-12-14T21:44:36.368130Z",
     "iopub.status.busy": "2022-12-14T21:44:36.366728Z",
     "iopub.status.idle": "2022-12-14T21:44:36.481544Z",
     "shell.execute_reply": "2022-12-14T21:44:36.480573Z"
    },
    "hidden": true,
    "papermill": {
     "duration": 0.141662,
     "end_time": "2022-12-14T21:44:36.485235",
     "exception": false,
     "start_time": "2022-12-14T21:44:36.343573",
     "status": "completed"
    },
    "tags": []
   },
   "outputs": [
    {
     "data": {
      "text/html": [
       "<div>\n",
       "<style scoped>\n",
       "    .dataframe tbody tr th:only-of-type {\n",
       "        vertical-align: middle;\n",
       "    }\n",
       "\n",
       "    .dataframe tbody tr th {\n",
       "        vertical-align: top;\n",
       "    }\n",
       "\n",
       "    .dataframe thead th {\n",
       "        text-align: right;\n",
       "    }\n",
       "</style>\n",
       "<table border=\"1\" class=\"dataframe\">\n",
       "  <thead>\n",
       "    <tr style=\"text-align: right;\">\n",
       "      <th></th>\n",
       "      <th>attributes</th>\n",
       "      <th>min</th>\n",
       "      <th>max</th>\n",
       "      <th>range</th>\n",
       "      <th>mean</th>\n",
       "      <th>median</th>\n",
       "      <th>std</th>\n",
       "      <th>skew</th>\n",
       "      <th>kurtosis</th>\n",
       "    </tr>\n",
       "  </thead>\n",
       "  <tbody>\n",
       "    <tr>\n",
       "      <th>0</th>\n",
       "      <td>quantity</td>\n",
       "      <td>-80995.00</td>\n",
       "      <td>80995.0</td>\n",
       "      <td>161990.00</td>\n",
       "      <td>9.552250</td>\n",
       "      <td>3.00</td>\n",
       "      <td>218.080957</td>\n",
       "      <td>80995.264076</td>\n",
       "      <td>-38774.160031</td>\n",
       "    </tr>\n",
       "    <tr>\n",
       "      <th>1</th>\n",
       "      <td>unit_price</td>\n",
       "      <td>-11062.06</td>\n",
       "      <td>38970.0</td>\n",
       "      <td>50032.06</td>\n",
       "      <td>4.611114</td>\n",
       "      <td>2.08</td>\n",
       "      <td>96.759764</td>\n",
       "      <td>38783.493028</td>\n",
       "      <td>-20035.719097</td>\n",
       "    </tr>\n",
       "    <tr>\n",
       "      <th>2</th>\n",
       "      <td>customer_id</td>\n",
       "      <td>12346.00</td>\n",
       "      <td>22709.0</td>\n",
       "      <td>10363.00</td>\n",
       "      <td>16688.840453</td>\n",
       "      <td>16249.00</td>\n",
       "      <td>2911.408666</td>\n",
       "      <td>22708.512551</td>\n",
       "      <td>22709.804287</td>\n",
       "    </tr>\n",
       "  </tbody>\n",
       "</table>\n",
       "</div>"
      ],
      "text/plain": [
       "    attributes       min      max      range          mean    median  \\\n",
       "0     quantity -80995.00  80995.0  161990.00      9.552250      3.00   \n",
       "1   unit_price -11062.06  38970.0   50032.06      4.611114      2.08   \n",
       "2  customer_id  12346.00  22709.0   10363.00  16688.840453  16249.00   \n",
       "\n",
       "           std          skew      kurtosis  \n",
       "0   218.080957  80995.264076 -38774.160031  \n",
       "1    96.759764  38783.493028 -20035.719097  \n",
       "2  2911.408666  22708.512551  22709.804287  "
      ]
     },
     "execution_count": 16,
     "metadata": {},
     "output_type": "execute_result"
    }
   ],
   "source": [
    "# Central tendency (mean, median)\n",
    "ct1 = ( num_attributes.apply( np.mean ) ).T\n",
    "ct2 = ( num_attributes.apply( np.median ) ).T\n",
    "# Dispersion ( std, min, max. range, skew, kurtosis)\n",
    "d1 = ( num_attributes.apply( np.std ) ).T\n",
    "d2 = ( num_attributes.apply( np.min ) ).T\n",
    "d3 = ( num_attributes.apply( np.max ) ).T\n",
    "d4 = ( num_attributes.apply( lambda x: x.max() - x.min() ) ).T\n",
    "d5 = ( num_attributes.apply( lambda x: x.max() - x.skew() ) ).T\n",
    "d6 = ( num_attributes.apply( lambda x: x.max() - x.kurtosis() ) ).T\n",
    "\n",
    "# Concatenate\n",
    "ecommerce_stats = pd.concat( [d2, d3, d4, ct1, ct2, d1, d5, d6], axis = 1 ).reset_index()\n",
    "ecommerce_stats.columns = ['attributes','min','max', 'range', 'mean', 'median',' std',' skew', 'kurtosis']\n",
    "ecommerce_stats"
   ]
  },
  {
   "cell_type": "markdown",
   "id": "cf204385",
   "metadata": {
    "heading_collapsed": true,
    "hidden": true,
    "papermill": {
     "duration": 0.035429,
     "end_time": "2022-12-14T21:44:36.572736",
     "exception": false,
     "start_time": "2022-12-14T21:44:36.537307",
     "status": "completed"
    },
    "tags": []
   },
   "source": [
    "### 1.8.2. Categorical Attributes"
   ]
  },
  {
   "cell_type": "markdown",
   "id": "42548006",
   "metadata": {
    "heading_collapsed": true,
    "hidden": true,
    "papermill": {
     "duration": 0.021595,
     "end_time": "2022-12-14T21:44:36.615977",
     "exception": false,
     "start_time": "2022-12-14T21:44:36.594382",
     "status": "completed"
    },
    "tags": []
   },
   "source": [
    "##### Invoice Number"
   ]
  },
  {
   "cell_type": "code",
   "execution_count": 17,
   "id": "8b379702",
   "metadata": {
    "ExecuteTime": {
     "end_time": "2022-12-14T13:23:05.261371Z",
     "start_time": "2022-12-14T13:23:04.413562Z"
    },
    "execution": {
     "iopub.execute_input": "2022-12-14T21:44:36.661095Z",
     "iopub.status.busy": "2022-12-14T21:44:36.659971Z",
     "iopub.status.idle": "2022-12-14T21:44:37.473071Z",
     "shell.execute_reply": "2022-12-14T21:44:37.472136Z"
    },
    "hidden": true,
    "papermill": {
     "duration": 0.838695,
     "end_time": "2022-12-14T21:44:37.476526",
     "exception": false,
     "start_time": "2022-12-14T21:44:36.637831",
     "status": "completed"
    },
    "tags": []
   },
   "outputs": [
    {
     "name": "stdout",
     "output_type": "stream",
     "text": [
      "Total number of invoices number with letter:  9291 \n",
      "Total number of negative quantity:  9288\n"
     ]
    }
   ],
   "source": [
    " # Invoice number\n",
    "invoices_w_letters = ecommerce1.loc[ecommerce1['invoice_no'].apply( lambda x: bool( re.search( '[^0-9]+', x ) ) ), : ]\n",
    "negative_quantity = len( invoices_w_letters.loc[invoices_w_letters['quantity'] < 0, : ] )\n",
    "print('Total number of invoices number with letter: ',len( invoices_w_letters ), '\\nTotal number of negative quantity: ', negative_quantity)"
   ]
  },
  {
   "cell_type": "markdown",
   "id": "1c70018e",
   "metadata": {
    "heading_collapsed": true,
    "hidden": true,
    "papermill": {
     "duration": 0.03926,
     "end_time": "2022-12-14T21:44:37.566897",
     "exception": false,
     "start_time": "2022-12-14T21:44:37.527637",
     "status": "completed"
    },
    "tags": []
   },
   "source": [
    "##### Stock code"
   ]
  },
  {
   "cell_type": "code",
   "execution_count": 18,
   "id": "45ad4afa",
   "metadata": {
    "ExecuteTime": {
     "end_time": "2022-12-14T13:23:05.972688Z",
     "start_time": "2022-12-14T13:23:05.266821Z"
    },
    "execution": {
     "iopub.execute_input": "2022-12-14T21:44:37.614688Z",
     "iopub.status.busy": "2022-12-14T21:44:37.613785Z",
     "iopub.status.idle": "2022-12-14T21:44:38.367533Z",
     "shell.execute_reply": "2022-12-14T21:44:38.366464Z"
    },
    "hidden": true,
    "papermill": {
     "duration": 0.781219,
     "end_time": "2022-12-14T21:44:38.370672",
     "exception": false,
     "start_time": "2022-12-14T21:44:37.589453",
     "status": "completed"
    },
    "tags": []
   },
   "outputs": [
    {
     "data": {
      "text/plain": [
       "array(['DOT', 'M', 'S', 'AMAZONFEE', 'm', 'POST', 'DCGSSBOY', 'DCGSSGIRL',\n",
       "       'B', 'D', 'PADS', 'CRUK'], dtype=object)"
      ]
     },
     "execution_count": 18,
     "metadata": {},
     "output_type": "execute_result"
    }
   ],
   "source": [
    "# Stock code\n",
    "# Check only characters on stock code\n",
    "ecommerce1.loc[ecommerce1['stock_code'].apply( lambda x: bool( re.search( '^[a-zA-Z]+$',  x ) ) ), 'stock_code' ].unique()\n",
    "\n",
    "# Action: Remove stock code in ['DOT', 'M', 'S', 'AMAZONFEE', 'm', 'POST', 'DCGSSBOY', 'DCGSSGIRL', 'B', 'D', 'PADS', 'CRUK']\n"
   ]
  },
  {
   "cell_type": "markdown",
   "id": "c4715144",
   "metadata": {
    "heading_collapsed": true,
    "hidden": true,
    "papermill": {
     "duration": 0.033193,
     "end_time": "2022-12-14T21:44:38.461737",
     "exception": false,
     "start_time": "2022-12-14T21:44:38.428544",
     "status": "completed"
    },
    "tags": []
   },
   "source": [
    "##### Description"
   ]
  },
  {
   "cell_type": "code",
   "execution_count": 19,
   "id": "3919b91a",
   "metadata": {
    "ExecuteTime": {
     "end_time": "2022-12-14T13:23:05.980968Z",
     "start_time": "2022-12-14T13:23:05.976006Z"
    },
    "execution": {
     "iopub.execute_input": "2022-12-14T21:44:38.505349Z",
     "iopub.status.busy": "2022-12-14T21:44:38.504623Z",
     "iopub.status.idle": "2022-12-14T21:44:38.510261Z",
     "shell.execute_reply": "2022-12-14T21:44:38.508925Z"
    },
    "hidden": true,
    "papermill": {
     "duration": 0.030575,
     "end_time": "2022-12-14T21:44:38.512785",
     "exception": false,
     "start_time": "2022-12-14T21:44:38.482210",
     "status": "completed"
    },
    "tags": []
   },
   "outputs": [],
   "source": [
    "# Action: delete description"
   ]
  },
  {
   "cell_type": "markdown",
   "id": "987194e5",
   "metadata": {
    "heading_collapsed": true,
    "hidden": true,
    "papermill": {
     "duration": 0.020824,
     "end_time": "2022-12-14T21:44:38.555289",
     "exception": false,
     "start_time": "2022-12-14T21:44:38.534465",
     "status": "completed"
    },
    "tags": []
   },
   "source": [
    "##### Country"
   ]
  },
  {
   "cell_type": "code",
   "execution_count": 20,
   "id": "4d20ce18",
   "metadata": {
    "ExecuteTime": {
     "end_time": "2022-12-14T13:23:06.301122Z",
     "start_time": "2022-12-14T13:23:05.984521Z"
    },
    "execution": {
     "iopub.execute_input": "2022-12-14T21:44:38.600316Z",
     "iopub.status.busy": "2022-12-14T21:44:38.599587Z",
     "iopub.status.idle": "2022-12-14T21:44:38.632051Z",
     "shell.execute_reply": "2022-12-14T21:44:38.630985Z"
    },
    "hidden": true,
    "papermill": {
     "duration": 0.058059,
     "end_time": "2022-12-14T21:44:38.634664",
     "exception": false,
     "start_time": "2022-12-14T21:44:38.576605",
     "status": "completed"
    },
    "tags": []
   },
   "outputs": [
    {
     "data": {
      "text/plain": [
       "array(['United Kingdom', 'EIRE', 'Bahrain', 'Israel', 'Hong Kong',\n",
       "       'Unspecified', 'France', 'Switzerland', 'Portugal', 'Australia',\n",
       "       'Netherlands', 'Germany', 'Norway', 'Spain', 'Poland', 'Italy',\n",
       "       'Belgium', 'Lithuania', 'Japan', 'Iceland', 'Channel Islands',\n",
       "       'Denmark', 'Cyprus', 'Sweden', 'Austria', 'Finland', 'Greece',\n",
       "       'Singapore', 'Lebanon', 'United Arab Emirates', 'Saudi Arabia',\n",
       "       'Czech Republic', 'Canada', 'Brazil', 'USA', 'European Community',\n",
       "       'Malta', 'RSA'], dtype=object)"
      ]
     },
     "execution_count": 20,
     "metadata": {},
     "output_type": "execute_result"
    }
   ],
   "source": [
    "ecommerce1['country'].unique()"
   ]
  },
  {
   "cell_type": "code",
   "execution_count": 21,
   "id": "10ea5f53",
   "metadata": {
    "ExecuteTime": {
     "end_time": "2022-12-14T13:23:06.534102Z",
     "start_time": "2022-12-14T13:23:06.306256Z"
    },
    "execution": {
     "iopub.execute_input": "2022-12-14T21:44:38.679556Z",
     "iopub.status.busy": "2022-12-14T21:44:38.678525Z",
     "iopub.status.idle": "2022-12-14T21:44:38.728898Z",
     "shell.execute_reply": "2022-12-14T21:44:38.727984Z"
    },
    "hidden": true,
    "papermill": {
     "duration": 0.075391,
     "end_time": "2022-12-14T21:44:38.732341",
     "exception": false,
     "start_time": "2022-12-14T21:44:38.656950",
     "status": "completed"
    },
    "scrolled": true,
    "tags": []
   },
   "outputs": [
    {
     "data": {
      "text/plain": [
       "United Kingdom          0.914320\n",
       "Germany                 0.017521\n",
       "France                  0.015790\n",
       "EIRE                    0.015124\n",
       "Spain                   0.004674\n",
       "Netherlands             0.004375\n",
       "Belgium                 0.003818\n",
       "Switzerland             0.003694\n",
       "Portugal                0.002803\n",
       "Australia               0.002323\n",
       "Norway                  0.002004\n",
       "Italy                   0.001482\n",
       "Channel Islands         0.001399\n",
       "Finland                 0.001283\n",
       "Cyprus                  0.001148\n",
       "Sweden                  0.000853\n",
       "Unspecified             0.000823\n",
       "Austria                 0.000740\n",
       "Denmark                 0.000718\n",
       "Japan                   0.000661\n",
       "Poland                  0.000629\n",
       "Israel                  0.000548\n",
       "USA                     0.000537\n",
       "Hong Kong               0.000531\n",
       "Singapore               0.000423\n",
       "Iceland                 0.000336\n",
       "Canada                  0.000279\n",
       "Greece                  0.000269\n",
       "Malta                   0.000234\n",
       "United Arab Emirates    0.000125\n",
       "European Community      0.000113\n",
       "RSA                     0.000107\n",
       "Lebanon                 0.000083\n",
       "Lithuania               0.000065\n",
       "Brazil                  0.000059\n",
       "Czech Republic          0.000055\n",
       "Bahrain                 0.000035\n",
       "Saudi Arabia            0.000018\n",
       "Name: country, dtype: float64"
      ]
     },
     "execution_count": 21,
     "metadata": {},
     "output_type": "execute_result"
    }
   ],
   "source": [
    "ecommerce1['country'].value_counts(normalize = True)"
   ]
  },
  {
   "cell_type": "code",
   "execution_count": 22,
   "id": "8709b3d6",
   "metadata": {
    "ExecuteTime": {
     "end_time": "2022-12-14T13:23:06.862895Z",
     "start_time": "2022-12-14T13:23:06.536759Z"
    },
    "execution": {
     "iopub.execute_input": "2022-12-14T21:44:38.783371Z",
     "iopub.status.busy": "2022-12-14T21:44:38.782232Z",
     "iopub.status.idle": "2022-12-14T21:44:38.843009Z",
     "shell.execute_reply": "2022-12-14T21:44:38.842245Z"
    },
    "hidden": true,
    "papermill": {
     "duration": 0.090018,
     "end_time": "2022-12-14T21:44:38.846762",
     "exception": false,
     "start_time": "2022-12-14T21:44:38.756744",
     "status": "completed"
    },
    "tags": []
   },
   "outputs": [
    {
     "data": {
      "text/html": [
       "<div>\n",
       "<style scoped>\n",
       "    .dataframe tbody tr th:only-of-type {\n",
       "        vertical-align: middle;\n",
       "    }\n",
       "\n",
       "    .dataframe tbody tr th {\n",
       "        vertical-align: top;\n",
       "    }\n",
       "\n",
       "    .dataframe thead th {\n",
       "        text-align: right;\n",
       "    }\n",
       "</style>\n",
       "<table border=\"1\" class=\"dataframe\">\n",
       "  <thead>\n",
       "    <tr style=\"text-align: right;\">\n",
       "      <th></th>\n",
       "      <th>country</th>\n",
       "      <th>customer_id</th>\n",
       "    </tr>\n",
       "  </thead>\n",
       "  <tbody>\n",
       "    <tr>\n",
       "      <th>36</th>\n",
       "      <td>United Kingdom</td>\n",
       "      <td>7587</td>\n",
       "    </tr>\n",
       "    <tr>\n",
       "      <th>14</th>\n",
       "      <td>Germany</td>\n",
       "      <td>95</td>\n",
       "    </tr>\n",
       "    <tr>\n",
       "      <th>13</th>\n",
       "      <td>France</td>\n",
       "      <td>90</td>\n",
       "    </tr>\n",
       "    <tr>\n",
       "      <th>10</th>\n",
       "      <td>EIRE</td>\n",
       "      <td>44</td>\n",
       "    </tr>\n",
       "  </tbody>\n",
       "</table>\n",
       "</div>"
      ],
      "text/plain": [
       "           country  customer_id\n",
       "36  United Kingdom         7587\n",
       "14         Germany           95\n",
       "13          France           90\n",
       "10            EIRE           44"
      ]
     },
     "execution_count": 22,
     "metadata": {},
     "output_type": "execute_result"
    }
   ],
   "source": [
    "ecommerce1[['customer_id','country']].drop_duplicates().groupby('country').count().reset_index().sort_values(by = 'customer_id', ascending = False).head(4)"
   ]
  },
  {
   "cell_type": "markdown",
   "id": "4ac55ad1",
   "metadata": {
    "heading_collapsed": true,
    "papermill": {
     "duration": 0.027567,
     "end_time": "2022-12-14T21:44:38.931296",
     "exception": false,
     "start_time": "2022-12-14T21:44:38.903729",
     "status": "completed"
    },
    "tags": []
   },
   "source": [
    "# 2.0. Data Filtering"
   ]
  },
  {
   "cell_type": "code",
   "execution_count": 23,
   "id": "a2bb4949",
   "metadata": {
    "ExecuteTime": {
     "end_time": "2022-12-14T13:23:07.042407Z",
     "start_time": "2022-12-14T13:23:06.865481Z"
    },
    "execution": {
     "iopub.execute_input": "2022-12-14T21:44:38.981546Z",
     "iopub.status.busy": "2022-12-14T21:44:38.980962Z",
     "iopub.status.idle": "2022-12-14T21:44:38.986810Z",
     "shell.execute_reply": "2022-12-14T21:44:38.985708Z"
    },
    "hidden": true,
    "papermill": {
     "duration": 0.034792,
     "end_time": "2022-12-14T21:44:38.988981",
     "exception": false,
     "start_time": "2022-12-14T21:44:38.954189",
     "status": "completed"
    },
    "tags": []
   },
   "outputs": [],
   "source": [
    "ecommerce2 = ecommerce1"
   ]
  },
  {
   "cell_type": "code",
   "execution_count": 24,
   "id": "ced7cf42",
   "metadata": {
    "ExecuteTime": {
     "end_time": "2022-12-14T13:23:07.294971Z",
     "start_time": "2022-12-14T13:23:07.047108Z"
    },
    "execution": {
     "iopub.execute_input": "2022-12-14T21:44:39.037768Z",
     "iopub.status.busy": "2022-12-14T21:44:39.036676Z",
     "iopub.status.idle": "2022-12-14T21:44:39.062180Z",
     "shell.execute_reply": "2022-12-14T21:44:39.061325Z"
    },
    "hidden": true,
    "papermill": {
     "duration": 0.053155,
     "end_time": "2022-12-14T21:44:39.065754",
     "exception": false,
     "start_time": "2022-12-14T21:44:39.012599",
     "status": "completed"
    },
    "tags": []
   },
   "outputs": [],
   "source": [
    "# Drop description column\n",
    "ecommerce2 = ecommerce2.drop('description', axis = 1)"
   ]
  },
  {
   "cell_type": "code",
   "execution_count": 25,
   "id": "5fc89e87",
   "metadata": {
    "ExecuteTime": {
     "end_time": "2022-12-14T13:23:07.730327Z",
     "start_time": "2022-12-14T13:23:07.299440Z"
    },
    "execution": {
     "iopub.execute_input": "2022-12-14T21:44:39.116606Z",
     "iopub.status.busy": "2022-12-14T21:44:39.116013Z",
     "iopub.status.idle": "2022-12-14T21:44:39.331348Z",
     "shell.execute_reply": "2022-12-14T21:44:39.329628Z"
    },
    "hidden": true,
    "papermill": {
     "duration": 0.244218,
     "end_time": "2022-12-14T21:44:39.335134",
     "exception": false,
     "start_time": "2022-12-14T21:44:39.090916",
     "status": "completed"
    },
    "tags": []
   },
   "outputs": [],
   "source": [
    "# Categorical attributes\n",
    "\n",
    "# Stock code\n",
    "ecommerce2 = ecommerce2[~ecommerce2['stock_code'].isin(['DOT', 'M', 'S', 'AMAZONFEE', 'm', 'POST', 'DCGSSBOY', 'DCGSSGIRL', 'B', 'D', 'PADS', 'CRUK'])]\n",
    "\n",
    "# Country\n",
    "ecommerce2 = ecommerce2[~ecommerce2['country'].isin( ['European Community', 'Unspecified'] )] \n",
    "\n",
    "# Numerical attributes\n",
    "\n",
    "# Unit price\n",
    "ecommerce2 = ecommerce2[ecommerce2['unit_price'] >= 0.04]\n",
    "\n",
    "# Bad users\n",
    "ecommerce2 = ecommerce2[~ecommerce2['customer_id'].isin( [16446] )]\n",
    "\n",
    "# Quantity\n",
    "ecommerce_returns = ecommerce2.loc[ecommerce2['quantity'] < 0, : ] \n",
    "ecommerce_purchases = ecommerce2.loc[ecommerce2['quantity'] >= 0, : ] "
   ]
  },
  {
   "cell_type": "markdown",
   "id": "5d69dffc",
   "metadata": {
    "heading_collapsed": true,
    "papermill": {
     "duration": 0.023247,
     "end_time": "2022-12-14T21:44:39.381004",
     "exception": false,
     "start_time": "2022-12-14T21:44:39.357757",
     "status": "completed"
    },
    "tags": []
   },
   "source": [
    "# 3.0. Feature Engineering"
   ]
  },
  {
   "cell_type": "code",
   "execution_count": 26,
   "id": "5e3beb9a",
   "metadata": {
    "ExecuteTime": {
     "end_time": "2022-12-14T13:23:07.782775Z",
     "start_time": "2022-12-14T13:23:07.732314Z"
    },
    "execution": {
     "iopub.execute_input": "2022-12-14T21:44:39.432831Z",
     "iopub.status.busy": "2022-12-14T21:44:39.432342Z",
     "iopub.status.idle": "2022-12-14T21:44:39.437377Z",
     "shell.execute_reply": "2022-12-14T21:44:39.436409Z"
    },
    "hidden": true,
    "papermill": {
     "duration": 0.03341,
     "end_time": "2022-12-14T21:44:39.439320",
     "exception": false,
     "start_time": "2022-12-14T21:44:39.405910",
     "status": "completed"
    },
    "tags": []
   },
   "outputs": [],
   "source": [
    "ecommerce3 = ecommerce2"
   ]
  },
  {
   "cell_type": "code",
   "execution_count": 27,
   "id": "d6edf8ab",
   "metadata": {
    "ExecuteTime": {
     "end_time": "2022-12-14T13:23:07.977313Z",
     "start_time": "2022-12-14T13:23:07.788084Z"
    },
    "execution": {
     "iopub.execute_input": "2022-12-14T21:44:39.489444Z",
     "iopub.status.busy": "2022-12-14T21:44:39.488550Z",
     "iopub.status.idle": "2022-12-14T21:44:39.505930Z",
     "shell.execute_reply": "2022-12-14T21:44:39.504788Z"
    },
    "hidden": true,
    "papermill": {
     "duration": 0.045414,
     "end_time": "2022-12-14T21:44:39.508937",
     "exception": false,
     "start_time": "2022-12-14T21:44:39.463523",
     "status": "completed"
    },
    "tags": []
   },
   "outputs": [],
   "source": [
    "customer_df = ecommerce3.drop(['invoice_no', 'stock_code', 'quantity', 'invoice_date', 'unit_price', 'country'], axis = 1).drop_duplicates(ignore_index = True)"
   ]
  },
  {
   "cell_type": "markdown",
   "id": "2bd5d4a8",
   "metadata": {
    "hidden": true,
    "papermill": {
     "duration": 0.022372,
     "end_time": "2022-12-14T21:44:39.555217",
     "exception": false,
     "start_time": "2022-12-14T21:44:39.532845",
     "status": "completed"
    },
    "tags": []
   },
   "source": [
    "## 3.1. Feature Creation"
   ]
  },
  {
   "cell_type": "markdown",
   "id": "06ceabda",
   "metadata": {
    "heading_collapsed": true,
    "hidden": true,
    "papermill": {
     "duration": 0.023158,
     "end_time": "2022-12-14T21:44:39.601476",
     "exception": false,
     "start_time": "2022-12-14T21:44:39.578318",
     "status": "completed"
    },
    "tags": []
   },
   "source": [
    "### 3.1.1. Gross Revenue"
   ]
  },
  {
   "cell_type": "code",
   "execution_count": 28,
   "id": "843b4fa2",
   "metadata": {
    "ExecuteTime": {
     "end_time": "2022-12-14T13:23:08.217264Z",
     "start_time": "2022-12-14T13:23:07.996310Z"
    },
    "execution": {
     "iopub.execute_input": "2022-12-14T21:44:39.647634Z",
     "iopub.status.busy": "2022-12-14T21:44:39.647293Z",
     "iopub.status.idle": "2022-12-14T21:44:39.685786Z",
     "shell.execute_reply": "2022-12-14T21:44:39.684533Z"
    },
    "hidden": true,
    "papermill": {
     "duration": 0.064737,
     "end_time": "2022-12-14T21:44:39.688212",
     "exception": false,
     "start_time": "2022-12-14T21:44:39.623475",
     "status": "completed"
    },
    "tags": []
   },
   "outputs": [
    {
     "data": {
      "text/plain": [
       "customer_id       0\n",
       "gross_revenue    91\n",
       "dtype: int64"
      ]
     },
     "execution_count": 28,
     "metadata": {},
     "output_type": "execute_result"
    }
   ],
   "source": [
    "# Gross Revenue\n",
    "ecommerce_purchases['gross_revenue'] = ecommerce_purchases['quantity'] * ecommerce_purchases['unit_price']\n",
    "df_gross_revenue = ecommerce_purchases[['gross_revenue','customer_id']].groupby('customer_id').sum().reset_index()\n",
    "customer_df = pd.merge(customer_df, df_gross_revenue,on = 'customer_id', how = 'left')\n",
    "\n",
    "customer_df.isna().sum()"
   ]
  },
  {
   "cell_type": "markdown",
   "id": "4f324df3",
   "metadata": {
    "heading_collapsed": true,
    "hidden": true,
    "papermill": {
     "duration": 0.021619,
     "end_time": "2022-12-14T21:44:39.730770",
     "exception": false,
     "start_time": "2022-12-14T21:44:39.709151",
     "status": "completed"
    },
    "tags": []
   },
   "source": [
    "### 3.1.2. Recency"
   ]
  },
  {
   "cell_type": "code",
   "execution_count": 29,
   "id": "b45fdba3",
   "metadata": {
    "ExecuteTime": {
     "end_time": "2022-12-14T13:23:08.391700Z",
     "start_time": "2022-12-14T13:23:08.221492Z"
    },
    "execution": {
     "iopub.execute_input": "2022-12-14T21:44:39.777768Z",
     "iopub.status.busy": "2022-12-14T21:44:39.777110Z",
     "iopub.status.idle": "2022-12-14T21:44:39.815732Z",
     "shell.execute_reply": "2022-12-14T21:44:39.814112Z"
    },
    "hidden": true,
    "papermill": {
     "duration": 0.066823,
     "end_time": "2022-12-14T21:44:39.819283",
     "exception": false,
     "start_time": "2022-12-14T21:44:39.752460",
     "status": "completed"
    },
    "tags": []
   },
   "outputs": [
    {
     "data": {
      "text/plain": [
       "customer_id       0\n",
       "gross_revenue    91\n",
       "recency          91\n",
       "dtype: int64"
      ]
     },
     "execution_count": 29,
     "metadata": {},
     "output_type": "execute_result"
    }
   ],
   "source": [
    "# Recency - Last day purchase\n",
    "df_recency = ecommerce_purchases[['customer_id', 'invoice_date']].groupby('customer_id').max().reset_index()\n",
    "df_recency['recency'] = (ecommerce_purchases['invoice_date'].max() - df_recency['invoice_date']).dt.days\n",
    "df_recency = df_recency[['customer_id','recency']].copy()\n",
    "\n",
    "# Merge\n",
    "customer_df = pd.merge(customer_df, df_recency, on = 'customer_id', how = 'left')\n",
    "\n",
    "customer_df.isna().sum()"
   ]
  },
  {
   "cell_type": "markdown",
   "id": "d769cd55",
   "metadata": {
    "heading_collapsed": true,
    "hidden": true,
    "papermill": {
     "duration": 0.024032,
     "end_time": "2022-12-14T21:44:39.868113",
     "exception": false,
     "start_time": "2022-12-14T21:44:39.844081",
     "status": "completed"
    },
    "tags": []
   },
   "source": [
    "### 3.1.3. Quantity of purchases"
   ]
  },
  {
   "cell_type": "code",
   "execution_count": 30,
   "id": "f428c783",
   "metadata": {
    "ExecuteTime": {
     "end_time": "2022-12-14T13:23:08.632220Z",
     "start_time": "2022-12-14T13:23:08.396034Z"
    },
    "execution": {
     "iopub.execute_input": "2022-12-14T21:44:39.920857Z",
     "iopub.status.busy": "2022-12-14T21:44:39.920089Z",
     "iopub.status.idle": "2022-12-14T21:44:40.035833Z",
     "shell.execute_reply": "2022-12-14T21:44:40.034936Z"
    },
    "hidden": true,
    "papermill": {
     "duration": 0.141968,
     "end_time": "2022-12-14T21:44:40.038253",
     "exception": false,
     "start_time": "2022-12-14T21:44:39.896285",
     "status": "completed"
    },
    "tags": []
   },
   "outputs": [
    {
     "data": {
      "text/plain": [
       "customer_id       0\n",
       "gross_revenue    91\n",
       "recency          91\n",
       "qtty_invoices    91\n",
       "dtype: int64"
      ]
     },
     "execution_count": 30,
     "metadata": {},
     "output_type": "execute_result"
    }
   ],
   "source": [
    "# qtty purchased\n",
    "df_frequency = ecommerce_purchases[['invoice_no', 'customer_id']].drop_duplicates().groupby('customer_id').count().reset_index().rename(columns = {'invoice_no' : 'qtty_invoices'})\n",
    "\n",
    "# Merge\n",
    "customer_df = pd.merge(customer_df, df_frequency, on = 'customer_id', how = 'left')\n",
    "customer_df.isna().sum()"
   ]
  },
  {
   "cell_type": "markdown",
   "id": "bb25bd62",
   "metadata": {
    "heading_collapsed": true,
    "hidden": true,
    "papermill": {
     "duration": 0.074106,
     "end_time": "2022-12-14T21:44:40.137488",
     "exception": false,
     "start_time": "2022-12-14T21:44:40.063382",
     "status": "completed"
    },
    "tags": []
   },
   "source": [
    "### 3.1.4. Quantity of items purchased"
   ]
  },
  {
   "cell_type": "code",
   "execution_count": 31,
   "id": "0d51c704",
   "metadata": {
    "ExecuteTime": {
     "end_time": "2022-12-14T13:23:08.802816Z",
     "start_time": "2022-12-14T13:23:08.635077Z"
    },
    "execution": {
     "iopub.execute_input": "2022-12-14T21:44:40.204851Z",
     "iopub.status.busy": "2022-12-14T21:44:40.204373Z",
     "iopub.status.idle": "2022-12-14T21:44:40.237520Z",
     "shell.execute_reply": "2022-12-14T21:44:40.236467Z"
    },
    "hidden": true,
    "papermill": {
     "duration": 0.062418,
     "end_time": "2022-12-14T21:44:40.240403",
     "exception": false,
     "start_time": "2022-12-14T21:44:40.177985",
     "status": "completed"
    },
    "tags": []
   },
   "outputs": [
    {
     "data": {
      "text/plain": [
       "customer_id       0\n",
       "gross_revenue    91\n",
       "recency          91\n",
       "qtty_invoices    91\n",
       "qtty_items       91\n",
       "dtype: int64"
      ]
     },
     "execution_count": 31,
     "metadata": {},
     "output_type": "execute_result"
    }
   ],
   "source": [
    "# qtty purchased\n",
    "df_products = ecommerce_purchases[['quantity', 'customer_id']].groupby('customer_id').sum().reset_index().rename(columns = {'quantity' : 'qtty_items'})\n",
    "\n",
    "# Merge\n",
    "customer_df = pd.merge(customer_df, df_products, on = 'customer_id', how = 'left')\n",
    "\n",
    "customer_df.isna().sum()"
   ]
  },
  {
   "cell_type": "markdown",
   "id": "83d572be",
   "metadata": {
    "heading_collapsed": true,
    "hidden": true,
    "papermill": {
     "duration": 0.081194,
     "end_time": "2022-12-14T21:44:40.343995",
     "exception": false,
     "start_time": "2022-12-14T21:44:40.262801",
     "status": "completed"
    },
    "tags": []
   },
   "source": [
    "### 3.1.5. Quantity of products purchased"
   ]
  },
  {
   "cell_type": "code",
   "execution_count": 32,
   "id": "a4eda19a",
   "metadata": {
    "ExecuteTime": {
     "end_time": "2022-12-14T13:23:09.128994Z",
     "start_time": "2022-12-14T13:23:08.807318Z"
    },
    "execution": {
     "iopub.execute_input": "2022-12-14T21:44:40.394808Z",
     "iopub.status.busy": "2022-12-14T21:44:40.393970Z",
     "iopub.status.idle": "2022-12-14T21:44:40.498760Z",
     "shell.execute_reply": "2022-12-14T21:44:40.497010Z"
    },
    "hidden": true,
    "papermill": {
     "duration": 0.133473,
     "end_time": "2022-12-14T21:44:40.501868",
     "exception": false,
     "start_time": "2022-12-14T21:44:40.368395",
     "status": "completed"
    },
    "tags": []
   },
   "outputs": [
    {
     "data": {
      "text/plain": [
       "customer_id       0\n",
       "gross_revenue    91\n",
       "recency          91\n",
       "qtty_invoices    91\n",
       "qtty_items       91\n",
       "qtty_products    91\n",
       "dtype: int64"
      ]
     },
     "execution_count": 32,
     "metadata": {},
     "output_type": "execute_result"
    }
   ],
   "source": [
    "# qtty purchased\n",
    "df_products = ecommerce_purchases[['stock_code', 'customer_id']].groupby('customer_id').count().reset_index().rename(columns = {'stock_code' : 'qtty_products'})\n",
    "\n",
    "# Merge\n",
    "customer_df = pd.merge(customer_df, df_products, on = 'customer_id', how = 'left')\n",
    "\n",
    "customer_df.isna().sum()"
   ]
  },
  {
   "cell_type": "markdown",
   "id": "29430858",
   "metadata": {
    "heading_collapsed": true,
    "hidden": true,
    "papermill": {
     "duration": 0.022108,
     "end_time": "2022-12-14T21:44:40.550962",
     "exception": false,
     "start_time": "2022-12-14T21:44:40.528854",
     "status": "completed"
    },
    "tags": []
   },
   "source": [
    "### 3.1.6. Average Ticket"
   ]
  },
  {
   "cell_type": "code",
   "execution_count": 33,
   "id": "cd08fc98",
   "metadata": {
    "ExecuteTime": {
     "end_time": "2022-12-14T13:23:09.215547Z",
     "start_time": "2022-12-14T13:23:09.132285Z"
    },
    "execution": {
     "iopub.execute_input": "2022-12-14T21:44:40.599153Z",
     "iopub.status.busy": "2022-12-14T21:44:40.598801Z",
     "iopub.status.idle": "2022-12-14T21:44:40.626703Z",
     "shell.execute_reply": "2022-12-14T21:44:40.625579Z"
    },
    "hidden": true,
    "papermill": {
     "duration": 0.054709,
     "end_time": "2022-12-14T21:44:40.628828",
     "exception": false,
     "start_time": "2022-12-14T21:44:40.574119",
     "status": "completed"
    },
    "tags": []
   },
   "outputs": [
    {
     "data": {
      "text/plain": [
       "customer_id       0\n",
       "gross_revenue    91\n",
       "recency          91\n",
       "qtty_invoices    91\n",
       "qtty_items       91\n",
       "qtty_products    91\n",
       "avg_ticket       91\n",
       "dtype: int64"
      ]
     },
     "execution_count": 33,
     "metadata": {},
     "output_type": "execute_result"
    }
   ],
   "source": [
    "# AVG Ticket\n",
    "df_avgticket = ecommerce_purchases[['customer_id','gross_revenue']].groupby('customer_id').mean().reset_index().rename(columns = {'gross_revenue':'avg_ticket'})\n",
    "\n",
    "# Merge\n",
    "customer_df = pd.merge(customer_df, df_avgticket, on = 'customer_id', how = 'left')\n",
    "\n",
    "customer_df.isna().sum()"
   ]
  },
  {
   "cell_type": "markdown",
   "id": "61c44a7c",
   "metadata": {
    "heading_collapsed": true,
    "hidden": true,
    "papermill": {
     "duration": 0.020799,
     "end_time": "2022-12-14T21:44:40.672825",
     "exception": false,
     "start_time": "2022-12-14T21:44:40.652026",
     "status": "completed"
    },
    "tags": []
   },
   "source": [
    "### 3.1.7. Average Recency Days"
   ]
  },
  {
   "cell_type": "code",
   "execution_count": 34,
   "id": "18da81e9",
   "metadata": {
    "ExecuteTime": {
     "end_time": "2022-12-14T13:23:09.920860Z",
     "start_time": "2022-12-14T13:23:09.219376Z"
    },
    "execution": {
     "iopub.execute_input": "2022-12-14T21:44:40.719530Z",
     "iopub.status.busy": "2022-12-14T21:44:40.719170Z",
     "iopub.status.idle": "2022-12-14T21:44:41.249169Z",
     "shell.execute_reply": "2022-12-14T21:44:41.247876Z"
    },
    "hidden": true,
    "papermill": {
     "duration": 0.557119,
     "end_time": "2022-12-14T21:44:41.251789",
     "exception": false,
     "start_time": "2022-12-14T21:44:40.694670",
     "status": "completed"
    },
    "tags": []
   },
   "outputs": [
    {
     "data": {
      "text/plain": [
       "customer_id            0\n",
       "gross_revenue         91\n",
       "recency               91\n",
       "qtty_invoices         91\n",
       "qtty_items            91\n",
       "qtty_products         91\n",
       "avg_ticket            91\n",
       "avg_recency_days    2816\n",
       "dtype: int64"
      ]
     },
     "execution_count": 34,
     "metadata": {},
     "output_type": "execute_result"
    }
   ],
   "source": [
    "# AVG Recency days\n",
    "aux_recency = ecommerce2[['customer_id','invoice_date']].drop_duplicates().sort_values( ['customer_id','invoice_date'], ascending = [True, True])\n",
    "aux_recency['next_customer_id'] = aux_recency['customer_id'].shift()\n",
    "aux_recency['previous_date'] = aux_recency['invoice_date'].shift()\n",
    "aux_recency['avg_recency_days'] = aux_recency.apply( lambda x:( ( x['invoice_date'] - x['previous_date'] ).days if x['customer_id'] == x['next_customer_id'] else np.nan), axis = 1 )\n",
    "aux_recency = aux_recency.drop( ['invoice_date','next_customer_id','previous_date'], axis = 1).dropna()\n",
    "aux_recency = aux_recency.groupby('customer_id').mean().reset_index()\n",
    "\n",
    "# Merge\n",
    "customer_df = pd.merge(customer_df, aux_recency, on = 'customer_id', how = 'left')\n",
    "\n",
    "customer_df.isna().sum()"
   ]
  },
  {
   "cell_type": "markdown",
   "id": "b6ce8b76",
   "metadata": {
    "heading_collapsed": true,
    "hidden": true,
    "papermill": {
     "duration": 0.024225,
     "end_time": "2022-12-14T21:44:41.299405",
     "exception": false,
     "start_time": "2022-12-14T21:44:41.275180",
     "status": "completed"
    },
    "tags": []
   },
   "source": [
    "### 3.1.8. Fequecy Purchase"
   ]
  },
  {
   "cell_type": "code",
   "execution_count": 35,
   "id": "89f8a49f",
   "metadata": {
    "ExecuteTime": {
     "end_time": "2022-12-14T13:23:10.091626Z",
     "start_time": "2022-12-14T13:23:09.923631Z"
    },
    "execution": {
     "iopub.execute_input": "2022-12-14T21:44:41.347715Z",
     "iopub.status.busy": "2022-12-14T21:44:41.346938Z",
     "iopub.status.idle": "2022-12-14T21:44:41.527040Z",
     "shell.execute_reply": "2022-12-14T21:44:41.526111Z"
    },
    "hidden": true,
    "papermill": {
     "duration": 0.209064,
     "end_time": "2022-12-14T21:44:41.531912",
     "exception": false,
     "start_time": "2022-12-14T21:44:41.322848",
     "status": "completed"
    },
    "tags": []
   },
   "outputs": [
    {
     "data": {
      "text/plain": [
       "customer_id            0\n",
       "gross_revenue         91\n",
       "recency               91\n",
       "qtty_invoices         91\n",
       "qtty_items            91\n",
       "qtty_products         91\n",
       "avg_ticket            91\n",
       "avg_recency_days    2816\n",
       "frequency              0\n",
       "dtype: int64"
      ]
     },
     "execution_count": 35,
     "metadata": {},
     "output_type": "execute_result"
    }
   ],
   "source": [
    "# Frquency purchase\n",
    "frequency_df = (\n",
    "                ecommerce2[['customer_id','invoice_no', 'invoice_date']].drop_duplicates()\n",
    "                                                                        .groupby('customer_id')\n",
    "                                                                        .agg( max_date = ('invoice_date', 'max'),\n",
    "                                                                              min_date = ('invoice_date', 'min'),\n",
    "                                                                              qtty_purchases = ('invoice_no', 'count')     \n",
    "                                                                            ).reset_index()\n",
    "              )\n",
    "frequency_df['date_interval'] = ((frequency_df['max_date'] - frequency_df['min_date']).dt.days)\n",
    "frequency_df['frequency'] = frequency_df.apply(lambda x: ( x['qtty_purchases'] / x['date_interval'] ) if x['date_interval'] != 0 else 0, axis = 1 )\n",
    "\n",
    "# Merge\n",
    "customer_df = pd.merge(customer_df, frequency_df[['customer_id','frequency']], on = 'customer_id', how = 'left')\n",
    "\n",
    "customer_df.isna().sum()"
   ]
  },
  {
   "cell_type": "markdown",
   "id": "e6ecebf0",
   "metadata": {
    "heading_collapsed": true,
    "hidden": true,
    "papermill": {
     "duration": 0.024155,
     "end_time": "2022-12-14T21:44:41.613042",
     "exception": false,
     "start_time": "2022-12-14T21:44:41.588887",
     "status": "completed"
    },
    "tags": []
   },
   "source": [
    "### 3.1.9. Returns"
   ]
  },
  {
   "cell_type": "code",
   "execution_count": 36,
   "id": "7ff34b3c",
   "metadata": {
    "ExecuteTime": {
     "end_time": "2022-12-14T13:23:10.191619Z",
     "start_time": "2022-12-14T13:23:10.094215Z"
    },
    "execution": {
     "iopub.execute_input": "2022-12-14T21:44:41.659177Z",
     "iopub.status.busy": "2022-12-14T21:44:41.658611Z",
     "iopub.status.idle": "2022-12-14T21:44:41.683814Z",
     "shell.execute_reply": "2022-12-14T21:44:41.682765Z"
    },
    "hidden": true,
    "papermill": {
     "duration": 0.051764,
     "end_time": "2022-12-14T21:44:41.686454",
     "exception": false,
     "start_time": "2022-12-14T21:44:41.634690",
     "status": "completed"
    },
    "tags": []
   },
   "outputs": [
    {
     "data": {
      "text/plain": [
       "customer_id            0\n",
       "gross_revenue         91\n",
       "recency               91\n",
       "qtty_invoices         91\n",
       "qtty_items            91\n",
       "qtty_products         91\n",
       "avg_ticket            91\n",
       "avg_recency_days    2816\n",
       "frequency              0\n",
       "qtty_returns           0\n",
       "dtype: int64"
      ]
     },
     "execution_count": 36,
     "metadata": {},
     "output_type": "execute_result"
    }
   ],
   "source": [
    "# Number of returns\n",
    "customer_returns = ecommerce_returns[['customer_id','quantity']].groupby('customer_id').sum().reset_index().rename(columns = {'quantity' : 'qtty_returns'})\n",
    "customer_returns['qtty_returns'] = customer_returns['qtty_returns'] * - 1\n",
    "\n",
    "# Merge\n",
    "customer_df = pd.merge(customer_df, customer_returns, on = 'customer_id', how = 'left')\n",
    "customer_df.loc[customer_df['qtty_returns'].isna(),'qtty_returns'] = 0\n",
    "\n",
    "customer_df.isna().sum()"
   ]
  },
  {
   "cell_type": "markdown",
   "id": "a76bdcca",
   "metadata": {
    "heading_collapsed": true,
    "hidden": true,
    "papermill": {
     "duration": 0.02379,
     "end_time": "2022-12-14T21:44:41.735817",
     "exception": false,
     "start_time": "2022-12-14T21:44:41.712027",
     "status": "completed"
    },
    "tags": []
   },
   "source": [
    "### 3.1.10. Basket Size"
   ]
  },
  {
   "cell_type": "code",
   "execution_count": 37,
   "id": "99c92a17",
   "metadata": {
    "ExecuteTime": {
     "end_time": "2022-12-14T13:23:10.482619Z",
     "start_time": "2022-12-14T13:23:10.194215Z"
    },
    "execution": {
     "iopub.execute_input": "2022-12-14T21:44:41.783404Z",
     "iopub.status.busy": "2022-12-14T21:44:41.782933Z",
     "iopub.status.idle": "2022-12-14T21:44:41.883120Z",
     "shell.execute_reply": "2022-12-14T21:44:41.881740Z"
    },
    "hidden": true,
    "papermill": {
     "duration": 0.12857,
     "end_time": "2022-12-14T21:44:41.886195",
     "exception": false,
     "start_time": "2022-12-14T21:44:41.757625",
     "status": "completed"
    },
    "tags": []
   },
   "outputs": [
    {
     "data": {
      "text/plain": [
       "customer_id            0\n",
       "gross_revenue         91\n",
       "recency               91\n",
       "qtty_invoices         91\n",
       "qtty_items            91\n",
       "qtty_products         91\n",
       "avg_ticket            91\n",
       "avg_recency_days    2816\n",
       "frequency              0\n",
       "qtty_returns           0\n",
       "basket_size           91\n",
       "dtype: int64"
      ]
     },
     "execution_count": 37,
     "metadata": {},
     "output_type": "execute_result"
    }
   ],
   "source": [
    "basket_size = (ecommerce_purchases[['customer_id', 'invoice_no', 'quantity']].groupby('customer_id')\n",
    "                                                                 .agg(invoices = ('invoice_no','nunique'),\n",
    "                                                                      products = ('quantity','sum')).reset_index() \n",
    "                \n",
    ")\n",
    "\n",
    "basket_size['basket_size'] = basket_size['products'] / basket_size['invoices']\n",
    "\n",
    "# Merge\n",
    "customer_df = pd.merge(customer_df, basket_size[['customer_id','basket_size']], on = 'customer_id', how = 'left')\n",
    "\n",
    "customer_df.isna().sum()"
   ]
  },
  {
   "cell_type": "markdown",
   "id": "4054435d",
   "metadata": {
    "heading_collapsed": true,
    "hidden": true,
    "papermill": {
     "duration": 0.024795,
     "end_time": "2022-12-14T21:44:41.937682",
     "exception": false,
     "start_time": "2022-12-14T21:44:41.912887",
     "status": "completed"
    },
    "tags": []
   },
   "source": [
    "### 3.1.11. Unique Basket Size"
   ]
  },
  {
   "cell_type": "code",
   "execution_count": 38,
   "id": "6e1722ea",
   "metadata": {
    "ExecuteTime": {
     "end_time": "2022-12-14T13:23:10.802617Z",
     "start_time": "2022-12-14T13:23:10.485122Z"
    },
    "execution": {
     "iopub.execute_input": "2022-12-14T21:44:41.989251Z",
     "iopub.status.busy": "2022-12-14T21:44:41.988756Z",
     "iopub.status.idle": "2022-12-14T21:44:42.279139Z",
     "shell.execute_reply": "2022-12-14T21:44:42.277104Z"
    },
    "hidden": true,
    "papermill": {
     "duration": 0.320554,
     "end_time": "2022-12-14T21:44:42.282645",
     "exception": false,
     "start_time": "2022-12-14T21:44:41.962091",
     "status": "completed"
    },
    "tags": []
   },
   "outputs": [
    {
     "data": {
      "text/plain": [
       "customer_id              0\n",
       "gross_revenue           91\n",
       "recency                 91\n",
       "qtty_invoices           91\n",
       "qtty_items              91\n",
       "qtty_products           91\n",
       "avg_ticket              91\n",
       "avg_recency_days      2816\n",
       "frequency                0\n",
       "qtty_returns             0\n",
       "basket_size             91\n",
       "unique_basket_size      91\n",
       "dtype: int64"
      ]
     },
     "execution_count": 38,
     "metadata": {},
     "output_type": "execute_result"
    }
   ],
   "source": [
    "avg_basket_size = ( ecommerce_purchases[['customer_id', 'invoice_no', 'stock_code']].groupby('customer_id')\n",
    "                                                                 .agg( invoices = ('invoice_no','nunique'),\n",
    "                                                                       products = ('stock_code','nunique') ).reset_index() \n",
    "                \n",
    "                  )\n",
    "\n",
    "avg_basket_size['unique_basket_size'] = avg_basket_size['products'] / avg_basket_size['invoices']\n",
    "# Merge\n",
    "customer_df = pd.merge(customer_df, avg_basket_size[['customer_id','unique_basket_size']], on = 'customer_id', how = 'left')\n",
    "\n",
    "customer_df.isna().sum()"
   ]
  },
  {
   "cell_type": "markdown",
   "id": "9d0d09bc",
   "metadata": {
    "heading_collapsed": true,
    "papermill": {
     "duration": 0.024873,
     "end_time": "2022-12-14T21:44:42.334354",
     "exception": false,
     "start_time": "2022-12-14T21:44:42.309481",
     "status": "completed"
    },
    "tags": []
   },
   "source": [
    "# 4.0. Univariate & Bivariate Analysis"
   ]
  },
  {
   "cell_type": "code",
   "execution_count": 39,
   "id": "2dc468ad",
   "metadata": {
    "ExecuteTime": {
     "end_time": "2022-12-14T13:23:10.866108Z",
     "start_time": "2022-12-14T13:23:10.804942Z"
    },
    "execution": {
     "iopub.execute_input": "2022-12-14T21:44:42.386388Z",
     "iopub.status.busy": "2022-12-14T21:44:42.385212Z",
     "iopub.status.idle": "2022-12-14T21:44:42.396038Z",
     "shell.execute_reply": "2022-12-14T21:44:42.393763Z"
    },
    "hidden": true,
    "papermill": {
     "duration": 0.040675,
     "end_time": "2022-12-14T21:44:42.399085",
     "exception": false,
     "start_time": "2022-12-14T21:44:42.358410",
     "status": "completed"
    },
    "tags": []
   },
   "outputs": [],
   "source": [
    "ecommerce4 = customer_df.dropna().copy()"
   ]
  },
  {
   "cell_type": "markdown",
   "id": "25cef89a",
   "metadata": {
    "heading_collapsed": true,
    "papermill": {
     "duration": 0.024673,
     "end_time": "2022-12-14T21:44:42.450527",
     "exception": false,
     "start_time": "2022-12-14T21:44:42.425854",
     "status": "completed"
    },
    "tags": []
   },
   "source": [
    "# 5.0. Feature Selection"
   ]
  },
  {
   "cell_type": "code",
   "execution_count": 40,
   "id": "429af087",
   "metadata": {
    "ExecuteTime": {
     "end_time": "2022-12-14T13:23:11.052930Z",
     "start_time": "2022-12-14T13:23:10.870348Z"
    },
    "execution": {
     "iopub.execute_input": "2022-12-14T21:44:42.501404Z",
     "iopub.status.busy": "2022-12-14T21:44:42.500971Z",
     "iopub.status.idle": "2022-12-14T21:44:42.508904Z",
     "shell.execute_reply": "2022-12-14T21:44:42.507720Z"
    },
    "hidden": true,
    "papermill": {
     "duration": 0.037061,
     "end_time": "2022-12-14T21:44:42.511936",
     "exception": false,
     "start_time": "2022-12-14T21:44:42.474875",
     "status": "completed"
    },
    "tags": []
   },
   "outputs": [],
   "source": [
    "cols_select = ['customer_id','gross_revenue', 'recency', 'qtty_products', 'frequency', 'qtty_returns']\n",
    "ecommerce4 = ecommerce4[cols_select].copy()"
   ]
  },
  {
   "cell_type": "markdown",
   "id": "f6e1f936",
   "metadata": {
    "heading_collapsed": true,
    "papermill": {
     "duration": 0.025707,
     "end_time": "2022-12-14T21:44:42.561807",
     "exception": false,
     "start_time": "2022-12-14T21:44:42.536100",
     "status": "completed"
    },
    "tags": []
   },
   "source": [
    "# 6.0. Data Preparation"
   ]
  },
  {
   "cell_type": "code",
   "execution_count": 41,
   "id": "695fdbef",
   "metadata": {
    "ExecuteTime": {
     "end_time": "2022-12-14T13:23:11.238354Z",
     "start_time": "2022-12-14T13:23:11.057218Z"
    },
    "execution": {
     "iopub.execute_input": "2022-12-14T21:44:42.613292Z",
     "iopub.status.busy": "2022-12-14T21:44:42.612661Z",
     "iopub.status.idle": "2022-12-14T21:44:42.619197Z",
     "shell.execute_reply": "2022-12-14T21:44:42.617902Z"
    },
    "hidden": true,
    "papermill": {
     "duration": 0.035426,
     "end_time": "2022-12-14T21:44:42.621373",
     "exception": false,
     "start_time": "2022-12-14T21:44:42.585947",
     "status": "completed"
    },
    "tags": []
   },
   "outputs": [],
   "source": [
    "ecommerce5 = ecommerce4.copy()"
   ]
  },
  {
   "cell_type": "markdown",
   "id": "96b18330",
   "metadata": {
    "heading_collapsed": true,
    "hidden": true,
    "papermill": {
     "duration": 0.024111,
     "end_time": "2022-12-14T21:44:42.671919",
     "exception": false,
     "start_time": "2022-12-14T21:44:42.647808",
     "status": "completed"
    },
    "tags": []
   },
   "source": [
    "## 6.1. Rescaling"
   ]
  },
  {
   "cell_type": "code",
   "execution_count": 42,
   "id": "c8d92430",
   "metadata": {
    "ExecuteTime": {
     "end_time": "2022-12-14T13:23:11.601155Z",
     "start_time": "2022-12-14T13:23:11.244265Z"
    },
    "execution": {
     "iopub.execute_input": "2022-12-14T21:44:42.722509Z",
     "iopub.status.busy": "2022-12-14T21:44:42.722034Z",
     "iopub.status.idle": "2022-12-14T21:44:42.751666Z",
     "shell.execute_reply": "2022-12-14T21:44:42.750856Z"
    },
    "hidden": true,
    "papermill": {
     "duration": 0.058651,
     "end_time": "2022-12-14T21:44:42.754799",
     "exception": false,
     "start_time": "2022-12-14T21:44:42.696148",
     "status": "completed"
    },
    "tags": []
   },
   "outputs": [],
   "source": [
    "# Minmax Scaler\n",
    "mm = pp.MinMaxScaler() # not normal distribution\n",
    "ss = pp.StandardScaler() # normal distribution without outliers\n",
    "rs = pp.RobustScaler() # normal distribution with outliers\n",
    "\n",
    "ecommerce5['gross_revenue'] = mm.fit_transform(ecommerce5[['gross_revenue']])\n",
    "\n",
    "ecommerce5['recency']       = mm.fit_transform(ecommerce5[['recency']])\n",
    "\n",
    "ecommerce5['qtty_products'] = mm.fit_transform(ecommerce5[['qtty_products']])\n",
    "\n",
    "ecommerce5['frequency']     = mm.fit_transform(ecommerce5[['frequency']])\n",
    "\n",
    "ecommerce5['qtty_returns']  = mm.fit_transform(ecommerce5[['qtty_returns']])"
   ]
  },
  {
   "cell_type": "markdown",
   "id": "fb06d352",
   "metadata": {
    "papermill": {
     "duration": 0.024532,
     "end_time": "2022-12-14T21:44:42.806076",
     "exception": false,
     "start_time": "2022-12-14T21:44:42.781544",
     "status": "completed"
    },
    "tags": []
   },
   "source": [
    "# 7.0. Space Study"
   ]
  },
  {
   "cell_type": "code",
   "execution_count": 43,
   "id": "64881920",
   "metadata": {
    "ExecuteTime": {
     "end_time": "2022-12-14T13:23:11.792057Z",
     "start_time": "2022-12-14T13:23:11.603357Z"
    },
    "execution": {
     "iopub.execute_input": "2022-12-14T21:44:42.857062Z",
     "iopub.status.busy": "2022-12-14T21:44:42.856556Z",
     "iopub.status.idle": "2022-12-14T21:44:42.866260Z",
     "shell.execute_reply": "2022-12-14T21:44:42.864812Z"
    },
    "papermill": {
     "duration": 0.037217,
     "end_time": "2022-12-14T21:44:42.868609",
     "exception": false,
     "start_time": "2022-12-14T21:44:42.831392",
     "status": "completed"
    },
    "tags": []
   },
   "outputs": [],
   "source": [
    "# Selected dataset\n",
    "ecommerce6 = ecommerce5.copy()\n",
    "X = ecommerce6.drop('customer_id', axis = 1)"
   ]
  },
  {
   "cell_type": "markdown",
   "id": "23528a7a",
   "metadata": {
    "papermill": {
     "duration": 0.024448,
     "end_time": "2022-12-14T21:44:42.918059",
     "exception": false,
     "start_time": "2022-12-14T21:44:42.893611",
     "status": "completed"
    },
    "tags": []
   },
   "source": [
    "## 7.4. Tree-Based Embedding"
   ]
  },
  {
   "cell_type": "code",
   "execution_count": 44,
   "id": "4273438d",
   "metadata": {
    "ExecuteTime": {
     "end_time": "2022-12-14T13:23:12.093216Z",
     "start_time": "2022-12-14T13:23:11.796465Z"
    },
    "execution": {
     "iopub.execute_input": "2022-12-14T21:44:42.969881Z",
     "iopub.status.busy": "2022-12-14T21:44:42.969309Z",
     "iopub.status.idle": "2022-12-14T21:44:42.978975Z",
     "shell.execute_reply": "2022-12-14T21:44:42.977341Z"
    },
    "papermill": {
     "duration": 0.039405,
     "end_time": "2022-12-14T21:44:42.981876",
     "exception": false,
     "start_time": "2022-12-14T21:44:42.942471",
     "status": "completed"
    },
    "tags": []
   },
   "outputs": [],
   "source": [
    "y = X['gross_revenue']\n",
    "X = X.drop('gross_revenue', axis = 1)"
   ]
  },
  {
   "cell_type": "code",
   "execution_count": 45,
   "id": "1ecc230a",
   "metadata": {
    "ExecuteTime": {
     "end_time": "2022-12-14T13:23:13.132900Z",
     "start_time": "2022-12-14T13:23:12.097606Z"
    },
    "execution": {
     "iopub.execute_input": "2022-12-14T21:44:43.034604Z",
     "iopub.status.busy": "2022-12-14T21:44:43.033647Z",
     "iopub.status.idle": "2022-12-14T21:44:43.962466Z",
     "shell.execute_reply": "2022-12-14T21:44:43.960984Z"
    },
    "papermill": {
     "duration": 0.960897,
     "end_time": "2022-12-14T21:44:43.967359",
     "exception": false,
     "start_time": "2022-12-14T21:44:43.006462",
     "status": "completed"
    },
    "tags": []
   },
   "outputs": [],
   "source": [
    "# Model definition\n",
    "rf_model = RandomForestRegressor( n_estimators = 100, random_state = 42 )\n",
    "\n",
    "# Model training\n",
    "rf_model.fit( X, y )\n",
    "\n",
    "# Leaf\n",
    "df_leaf = pd.DataFrame( rf_model.apply( X ) )"
   ]
  },
  {
   "cell_type": "markdown",
   "id": "35a25527",
   "metadata": {
    "tags": [
     "papermill-error-cell-tag"
    ]
   },
   "source": [
    "<span id=\"papermill-error-cell\" style=\"color:red; font-family:Helvetica Neue, Helvetica, Arial, sans-serif; font-size:2em;\">Execution using papermill encountered an exception here and stopped:</span>"
   ]
  },
  {
   "cell_type": "code",
   "execution_count": 46,
   "id": "ea5b57fa",
   "metadata": {
    "ExecuteTime": {
     "end_time": "2022-12-14T18:41:56.054339Z",
     "start_time": "2022-12-14T18:41:46.871493Z"
    },
    "execution": {
     "iopub.execute_input": "2022-12-14T21:44:44.027283Z",
     "iopub.status.busy": "2022-12-14T21:44:44.026446Z",
     "iopub.status.idle": "2022-12-14T21:45:04.199812Z",
     "shell.execute_reply": "2022-12-14T21:45:04.198074Z"
    },
    "papermill": {
     "duration": 20.204727,
     "end_time": "2022-12-14T21:45:04.202262",
     "exception": true,
     "start_time": "2022-12-14T21:44:43.997535",
     "status": "failed"
    },
    "scrolled": false,
    "tags": []
   },
   "outputs": [
    {
     "ename": "OSError",
     "evalue": "Cannot save file into a non-existent directory: '/data'",
     "output_type": "error",
     "traceback": [
      "\u001b[0;31m---------------------------------------------------------------------------\u001b[0m",
      "\u001b[0;31mOSError\u001b[0m                                   Traceback (most recent call last)",
      "Cell \u001b[0;32mIn [46], line 8\u001b[0m\n\u001b[1;32m      5\u001b[0m df_leaf[\u001b[38;5;124m'\u001b[39m\u001b[38;5;124membedding_x\u001b[39m\u001b[38;5;124m'\u001b[39m] \u001b[38;5;241m=\u001b[39m embedding[: , \u001b[38;5;241m0\u001b[39m]\n\u001b[1;32m      6\u001b[0m df_leaf[\u001b[38;5;124m'\u001b[39m\u001b[38;5;124membedding_y\u001b[39m\u001b[38;5;124m'\u001b[39m] \u001b[38;5;241m=\u001b[39m embedding[: , \u001b[38;5;241m1\u001b[39m ]\n\u001b[0;32m----> 8\u001b[0m \u001b[43mdf_leaf\u001b[49m\u001b[38;5;241;43m.\u001b[39;49m\u001b[43mto_csv\u001b[49m\u001b[43m(\u001b[49m\u001b[38;5;124;43m'\u001b[39;49m\u001b[38;5;124;43m/data/tree_based_embedding.csv\u001b[39;49m\u001b[38;5;124;43m'\u001b[39;49m\u001b[43m,\u001b[49m\u001b[43m \u001b[49m\u001b[43mindex\u001b[49m\u001b[43m \u001b[49m\u001b[38;5;241;43m=\u001b[39;49m\u001b[43m \u001b[49m\u001b[38;5;28;43;01mFalse\u001b[39;49;00m\u001b[43m)\u001b[49m\n",
      "File \u001b[0;32m~/.pyenv/versions/ds_em_clusterizacao/lib/python3.9/site-packages/pandas/util/_decorators.py:211\u001b[0m, in \u001b[0;36mdeprecate_kwarg.<locals>._deprecate_kwarg.<locals>.wrapper\u001b[0;34m(*args, **kwargs)\u001b[0m\n\u001b[1;32m    209\u001b[0m     \u001b[38;5;28;01melse\u001b[39;00m:\n\u001b[1;32m    210\u001b[0m         kwargs[new_arg_name] \u001b[38;5;241m=\u001b[39m new_arg_value\n\u001b[0;32m--> 211\u001b[0m \u001b[38;5;28;01mreturn\u001b[39;00m \u001b[43mfunc\u001b[49m\u001b[43m(\u001b[49m\u001b[38;5;241;43m*\u001b[39;49m\u001b[43margs\u001b[49m\u001b[43m,\u001b[49m\u001b[43m \u001b[49m\u001b[38;5;241;43m*\u001b[39;49m\u001b[38;5;241;43m*\u001b[39;49m\u001b[43mkwargs\u001b[49m\u001b[43m)\u001b[49m\n",
      "File \u001b[0;32m~/.pyenv/versions/ds_em_clusterizacao/lib/python3.9/site-packages/pandas/core/generic.py:3720\u001b[0m, in \u001b[0;36mNDFrame.to_csv\u001b[0;34m(self, path_or_buf, sep, na_rep, float_format, columns, header, index, index_label, mode, encoding, compression, quoting, quotechar, lineterminator, chunksize, date_format, doublequote, escapechar, decimal, errors, storage_options)\u001b[0m\n\u001b[1;32m   3709\u001b[0m df \u001b[38;5;241m=\u001b[39m \u001b[38;5;28mself\u001b[39m \u001b[38;5;28;01mif\u001b[39;00m \u001b[38;5;28misinstance\u001b[39m(\u001b[38;5;28mself\u001b[39m, ABCDataFrame) \u001b[38;5;28;01melse\u001b[39;00m \u001b[38;5;28mself\u001b[39m\u001b[38;5;241m.\u001b[39mto_frame()\n\u001b[1;32m   3711\u001b[0m formatter \u001b[38;5;241m=\u001b[39m DataFrameFormatter(\n\u001b[1;32m   3712\u001b[0m     frame\u001b[38;5;241m=\u001b[39mdf,\n\u001b[1;32m   3713\u001b[0m     header\u001b[38;5;241m=\u001b[39mheader,\n\u001b[0;32m   (...)\u001b[0m\n\u001b[1;32m   3717\u001b[0m     decimal\u001b[38;5;241m=\u001b[39mdecimal,\n\u001b[1;32m   3718\u001b[0m )\n\u001b[0;32m-> 3720\u001b[0m \u001b[38;5;28;01mreturn\u001b[39;00m \u001b[43mDataFrameRenderer\u001b[49m\u001b[43m(\u001b[49m\u001b[43mformatter\u001b[49m\u001b[43m)\u001b[49m\u001b[38;5;241;43m.\u001b[39;49m\u001b[43mto_csv\u001b[49m\u001b[43m(\u001b[49m\n\u001b[1;32m   3721\u001b[0m \u001b[43m    \u001b[49m\u001b[43mpath_or_buf\u001b[49m\u001b[43m,\u001b[49m\n\u001b[1;32m   3722\u001b[0m \u001b[43m    \u001b[49m\u001b[43mlineterminator\u001b[49m\u001b[38;5;241;43m=\u001b[39;49m\u001b[43mlineterminator\u001b[49m\u001b[43m,\u001b[49m\n\u001b[1;32m   3723\u001b[0m \u001b[43m    \u001b[49m\u001b[43msep\u001b[49m\u001b[38;5;241;43m=\u001b[39;49m\u001b[43msep\u001b[49m\u001b[43m,\u001b[49m\n\u001b[1;32m   3724\u001b[0m \u001b[43m    \u001b[49m\u001b[43mencoding\u001b[49m\u001b[38;5;241;43m=\u001b[39;49m\u001b[43mencoding\u001b[49m\u001b[43m,\u001b[49m\n\u001b[1;32m   3725\u001b[0m \u001b[43m    \u001b[49m\u001b[43merrors\u001b[49m\u001b[38;5;241;43m=\u001b[39;49m\u001b[43merrors\u001b[49m\u001b[43m,\u001b[49m\n\u001b[1;32m   3726\u001b[0m \u001b[43m    \u001b[49m\u001b[43mcompression\u001b[49m\u001b[38;5;241;43m=\u001b[39;49m\u001b[43mcompression\u001b[49m\u001b[43m,\u001b[49m\n\u001b[1;32m   3727\u001b[0m \u001b[43m    \u001b[49m\u001b[43mquoting\u001b[49m\u001b[38;5;241;43m=\u001b[39;49m\u001b[43mquoting\u001b[49m\u001b[43m,\u001b[49m\n\u001b[1;32m   3728\u001b[0m \u001b[43m    \u001b[49m\u001b[43mcolumns\u001b[49m\u001b[38;5;241;43m=\u001b[39;49m\u001b[43mcolumns\u001b[49m\u001b[43m,\u001b[49m\n\u001b[1;32m   3729\u001b[0m \u001b[43m    \u001b[49m\u001b[43mindex_label\u001b[49m\u001b[38;5;241;43m=\u001b[39;49m\u001b[43mindex_label\u001b[49m\u001b[43m,\u001b[49m\n\u001b[1;32m   3730\u001b[0m \u001b[43m    \u001b[49m\u001b[43mmode\u001b[49m\u001b[38;5;241;43m=\u001b[39;49m\u001b[43mmode\u001b[49m\u001b[43m,\u001b[49m\n\u001b[1;32m   3731\u001b[0m \u001b[43m    \u001b[49m\u001b[43mchunksize\u001b[49m\u001b[38;5;241;43m=\u001b[39;49m\u001b[43mchunksize\u001b[49m\u001b[43m,\u001b[49m\n\u001b[1;32m   3732\u001b[0m \u001b[43m    \u001b[49m\u001b[43mquotechar\u001b[49m\u001b[38;5;241;43m=\u001b[39;49m\u001b[43mquotechar\u001b[49m\u001b[43m,\u001b[49m\n\u001b[1;32m   3733\u001b[0m \u001b[43m    \u001b[49m\u001b[43mdate_format\u001b[49m\u001b[38;5;241;43m=\u001b[39;49m\u001b[43mdate_format\u001b[49m\u001b[43m,\u001b[49m\n\u001b[1;32m   3734\u001b[0m \u001b[43m    \u001b[49m\u001b[43mdoublequote\u001b[49m\u001b[38;5;241;43m=\u001b[39;49m\u001b[43mdoublequote\u001b[49m\u001b[43m,\u001b[49m\n\u001b[1;32m   3735\u001b[0m \u001b[43m    \u001b[49m\u001b[43mescapechar\u001b[49m\u001b[38;5;241;43m=\u001b[39;49m\u001b[43mescapechar\u001b[49m\u001b[43m,\u001b[49m\n\u001b[1;32m   3736\u001b[0m \u001b[43m    \u001b[49m\u001b[43mstorage_options\u001b[49m\u001b[38;5;241;43m=\u001b[39;49m\u001b[43mstorage_options\u001b[49m\u001b[43m,\u001b[49m\n\u001b[1;32m   3737\u001b[0m \u001b[43m\u001b[49m\u001b[43m)\u001b[49m\n",
      "File \u001b[0;32m~/.pyenv/versions/ds_em_clusterizacao/lib/python3.9/site-packages/pandas/util/_decorators.py:211\u001b[0m, in \u001b[0;36mdeprecate_kwarg.<locals>._deprecate_kwarg.<locals>.wrapper\u001b[0;34m(*args, **kwargs)\u001b[0m\n\u001b[1;32m    209\u001b[0m     \u001b[38;5;28;01melse\u001b[39;00m:\n\u001b[1;32m    210\u001b[0m         kwargs[new_arg_name] \u001b[38;5;241m=\u001b[39m new_arg_value\n\u001b[0;32m--> 211\u001b[0m \u001b[38;5;28;01mreturn\u001b[39;00m \u001b[43mfunc\u001b[49m\u001b[43m(\u001b[49m\u001b[38;5;241;43m*\u001b[39;49m\u001b[43margs\u001b[49m\u001b[43m,\u001b[49m\u001b[43m \u001b[49m\u001b[38;5;241;43m*\u001b[39;49m\u001b[38;5;241;43m*\u001b[39;49m\u001b[43mkwargs\u001b[49m\u001b[43m)\u001b[49m\n",
      "File \u001b[0;32m~/.pyenv/versions/ds_em_clusterizacao/lib/python3.9/site-packages/pandas/io/formats/format.py:1189\u001b[0m, in \u001b[0;36mDataFrameRenderer.to_csv\u001b[0;34m(self, path_or_buf, encoding, sep, columns, index_label, mode, compression, quoting, quotechar, lineterminator, chunksize, date_format, doublequote, escapechar, errors, storage_options)\u001b[0m\n\u001b[1;32m   1168\u001b[0m     created_buffer \u001b[38;5;241m=\u001b[39m \u001b[38;5;28;01mFalse\u001b[39;00m\n\u001b[1;32m   1170\u001b[0m csv_formatter \u001b[38;5;241m=\u001b[39m CSVFormatter(\n\u001b[1;32m   1171\u001b[0m     path_or_buf\u001b[38;5;241m=\u001b[39mpath_or_buf,\n\u001b[1;32m   1172\u001b[0m     lineterminator\u001b[38;5;241m=\u001b[39mlineterminator,\n\u001b[0;32m   (...)\u001b[0m\n\u001b[1;32m   1187\u001b[0m     formatter\u001b[38;5;241m=\u001b[39m\u001b[38;5;28mself\u001b[39m\u001b[38;5;241m.\u001b[39mfmt,\n\u001b[1;32m   1188\u001b[0m )\n\u001b[0;32m-> 1189\u001b[0m \u001b[43mcsv_formatter\u001b[49m\u001b[38;5;241;43m.\u001b[39;49m\u001b[43msave\u001b[49m\u001b[43m(\u001b[49m\u001b[43m)\u001b[49m\n\u001b[1;32m   1191\u001b[0m \u001b[38;5;28;01mif\u001b[39;00m created_buffer:\n\u001b[1;32m   1192\u001b[0m     \u001b[38;5;28;01massert\u001b[39;00m \u001b[38;5;28misinstance\u001b[39m(path_or_buf, StringIO)\n",
      "File \u001b[0;32m~/.pyenv/versions/ds_em_clusterizacao/lib/python3.9/site-packages/pandas/io/formats/csvs.py:241\u001b[0m, in \u001b[0;36mCSVFormatter.save\u001b[0;34m(self)\u001b[0m\n\u001b[1;32m    237\u001b[0m \u001b[38;5;124;03m\"\"\"\u001b[39;00m\n\u001b[1;32m    238\u001b[0m \u001b[38;5;124;03mCreate the writer & save.\u001b[39;00m\n\u001b[1;32m    239\u001b[0m \u001b[38;5;124;03m\"\"\"\u001b[39;00m\n\u001b[1;32m    240\u001b[0m \u001b[38;5;66;03m# apply compression and byte/text conversion\u001b[39;00m\n\u001b[0;32m--> 241\u001b[0m \u001b[38;5;28;01mwith\u001b[39;00m \u001b[43mget_handle\u001b[49m\u001b[43m(\u001b[49m\n\u001b[1;32m    242\u001b[0m \u001b[43m    \u001b[49m\u001b[38;5;28;43mself\u001b[39;49m\u001b[38;5;241;43m.\u001b[39;49m\u001b[43mfilepath_or_buffer\u001b[49m\u001b[43m,\u001b[49m\n\u001b[1;32m    243\u001b[0m \u001b[43m    \u001b[49m\u001b[38;5;28;43mself\u001b[39;49m\u001b[38;5;241;43m.\u001b[39;49m\u001b[43mmode\u001b[49m\u001b[43m,\u001b[49m\n\u001b[1;32m    244\u001b[0m \u001b[43m    \u001b[49m\u001b[43mencoding\u001b[49m\u001b[38;5;241;43m=\u001b[39;49m\u001b[38;5;28;43mself\u001b[39;49m\u001b[38;5;241;43m.\u001b[39;49m\u001b[43mencoding\u001b[49m\u001b[43m,\u001b[49m\n\u001b[1;32m    245\u001b[0m \u001b[43m    \u001b[49m\u001b[43merrors\u001b[49m\u001b[38;5;241;43m=\u001b[39;49m\u001b[38;5;28;43mself\u001b[39;49m\u001b[38;5;241;43m.\u001b[39;49m\u001b[43merrors\u001b[49m\u001b[43m,\u001b[49m\n\u001b[1;32m    246\u001b[0m \u001b[43m    \u001b[49m\u001b[43mcompression\u001b[49m\u001b[38;5;241;43m=\u001b[39;49m\u001b[38;5;28;43mself\u001b[39;49m\u001b[38;5;241;43m.\u001b[39;49m\u001b[43mcompression\u001b[49m\u001b[43m,\u001b[49m\n\u001b[1;32m    247\u001b[0m \u001b[43m    \u001b[49m\u001b[43mstorage_options\u001b[49m\u001b[38;5;241;43m=\u001b[39;49m\u001b[38;5;28;43mself\u001b[39;49m\u001b[38;5;241;43m.\u001b[39;49m\u001b[43mstorage_options\u001b[49m\u001b[43m,\u001b[49m\n\u001b[1;32m    248\u001b[0m \u001b[43m\u001b[49m\u001b[43m)\u001b[49m \u001b[38;5;28;01mas\u001b[39;00m handles:\n\u001b[1;32m    249\u001b[0m \n\u001b[1;32m    250\u001b[0m     \u001b[38;5;66;03m# Note: self.encoding is irrelevant here\u001b[39;00m\n\u001b[1;32m    251\u001b[0m     \u001b[38;5;28mself\u001b[39m\u001b[38;5;241m.\u001b[39mwriter \u001b[38;5;241m=\u001b[39m csvlib\u001b[38;5;241m.\u001b[39mwriter(\n\u001b[1;32m    252\u001b[0m         handles\u001b[38;5;241m.\u001b[39mhandle,\n\u001b[1;32m    253\u001b[0m         lineterminator\u001b[38;5;241m=\u001b[39m\u001b[38;5;28mself\u001b[39m\u001b[38;5;241m.\u001b[39mlineterminator,\n\u001b[0;32m   (...)\u001b[0m\n\u001b[1;32m    258\u001b[0m         quotechar\u001b[38;5;241m=\u001b[39m\u001b[38;5;28mself\u001b[39m\u001b[38;5;241m.\u001b[39mquotechar,\n\u001b[1;32m    259\u001b[0m     )\n\u001b[1;32m    261\u001b[0m     \u001b[38;5;28mself\u001b[39m\u001b[38;5;241m.\u001b[39m_save()\n",
      "File \u001b[0;32m~/.pyenv/versions/ds_em_clusterizacao/lib/python3.9/site-packages/pandas/io/common.py:734\u001b[0m, in \u001b[0;36mget_handle\u001b[0;34m(path_or_buf, mode, encoding, compression, memory_map, is_text, errors, storage_options)\u001b[0m\n\u001b[1;32m    732\u001b[0m \u001b[38;5;66;03m# Only for write methods\u001b[39;00m\n\u001b[1;32m    733\u001b[0m \u001b[38;5;28;01mif\u001b[39;00m \u001b[38;5;124m\"\u001b[39m\u001b[38;5;124mr\u001b[39m\u001b[38;5;124m\"\u001b[39m \u001b[38;5;129;01mnot\u001b[39;00m \u001b[38;5;129;01min\u001b[39;00m mode \u001b[38;5;129;01mand\u001b[39;00m is_path:\n\u001b[0;32m--> 734\u001b[0m     \u001b[43mcheck_parent_directory\u001b[49m\u001b[43m(\u001b[49m\u001b[38;5;28;43mstr\u001b[39;49m\u001b[43m(\u001b[49m\u001b[43mhandle\u001b[49m\u001b[43m)\u001b[49m\u001b[43m)\u001b[49m\n\u001b[1;32m    736\u001b[0m \u001b[38;5;28;01mif\u001b[39;00m compression:\n\u001b[1;32m    737\u001b[0m     \u001b[38;5;28;01mif\u001b[39;00m compression \u001b[38;5;241m!=\u001b[39m \u001b[38;5;124m\"\u001b[39m\u001b[38;5;124mzstd\u001b[39m\u001b[38;5;124m\"\u001b[39m:\n\u001b[1;32m    738\u001b[0m         \u001b[38;5;66;03m# compression libraries do not like an explicit text-mode\u001b[39;00m\n",
      "File \u001b[0;32m~/.pyenv/versions/ds_em_clusterizacao/lib/python3.9/site-packages/pandas/io/common.py:597\u001b[0m, in \u001b[0;36mcheck_parent_directory\u001b[0;34m(path)\u001b[0m\n\u001b[1;32m    595\u001b[0m parent \u001b[38;5;241m=\u001b[39m Path(path)\u001b[38;5;241m.\u001b[39mparent\n\u001b[1;32m    596\u001b[0m \u001b[38;5;28;01mif\u001b[39;00m \u001b[38;5;129;01mnot\u001b[39;00m parent\u001b[38;5;241m.\u001b[39mis_dir():\n\u001b[0;32m--> 597\u001b[0m     \u001b[38;5;28;01mraise\u001b[39;00m \u001b[38;5;167;01mOSError\u001b[39;00m(\u001b[38;5;124mrf\u001b[39m\u001b[38;5;124m\"\u001b[39m\u001b[38;5;124mCannot save file into a non-existent directory: \u001b[39m\u001b[38;5;124m'\u001b[39m\u001b[38;5;132;01m{\u001b[39;00mparent\u001b[38;5;132;01m}\u001b[39;00m\u001b[38;5;124m'\u001b[39m\u001b[38;5;124m\"\u001b[39m)\n",
      "\u001b[0;31mOSError\u001b[0m: Cannot save file into a non-existent directory: '/data'"
     ]
    }
   ],
   "source": [
    "reducer = umap.UMAP( random_state = 42 )\n",
    "embedding = reducer.fit_transform( df_leaf )\n",
    "\n",
    "# embedding\n",
    "df_leaf['embedding_x'] = embedding[: , 0]\n",
    "df_leaf['embedding_y'] = embedding[: , 1 ]\n",
    "\n",
    "df_leaf.to_csv('/data/tree_based_embedding.csv', index = False)"
   ]
  },
  {
   "cell_type": "markdown",
   "id": "897e4e50",
   "metadata": {
    "heading_collapsed": true,
    "papermill": {
     "duration": null,
     "end_time": null,
     "exception": null,
     "start_time": null,
     "status": "pending"
    },
    "tags": []
   },
   "source": [
    "# 9.0. Model Training"
   ]
  },
  {
   "cell_type": "code",
   "execution_count": null,
   "id": "9d6f32df",
   "metadata": {
    "ExecuteTime": {
     "end_time": "2022-12-14T13:23:26.879636Z",
     "start_time": "2022-12-14T13:23:26.870554Z"
    },
    "hidden": true,
    "papermill": {
     "duration": null,
     "end_time": null,
     "exception": null,
     "start_time": null,
     "status": "pending"
    },
    "tags": []
   },
   "outputs": [],
   "source": [
    "ecommerce7 = df_leaf.iloc[:,-2:].copy()\n",
    "ecommerce7['customer_id'] = ecommerce6['customer_id']\n",
    "X = ecommerce7.iloc[:,:-1].copy()"
   ]
  },
  {
   "cell_type": "markdown",
   "id": "5b1f4dd0",
   "metadata": {
    "heading_collapsed": true,
    "hidden": true,
    "papermill": {
     "duration": null,
     "end_time": null,
     "exception": null,
     "start_time": null,
     "status": "pending"
    },
    "tags": []
   },
   "source": [
    "## 9.1. GMM"
   ]
  },
  {
   "cell_type": "code",
   "execution_count": null,
   "id": "f90051ef",
   "metadata": {
    "ExecuteTime": {
     "end_time": "2022-12-14T13:23:28.934919Z",
     "start_time": "2022-12-14T13:23:26.883379Z"
    },
    "hidden": true,
    "papermill": {
     "duration": null,
     "end_time": null,
     "exception": null,
     "start_time": null,
     "status": "pending"
    },
    "tags": []
   },
   "outputs": [],
   "source": [
    "# Model definition\n",
    "k = 10\n",
    "gmm_model = mx.GaussianMixture( n_components = k, n_init = 30 )\n",
    "# Model training\n",
    "gmm_model.fit( X )\n",
    "\n",
    "# Clustering\n",
    "labels = gmm_model.predict( X )"
   ]
  },
  {
   "cell_type": "code",
   "execution_count": null,
   "id": "7eca2cdc",
   "metadata": {
    "ExecuteTime": {
     "end_time": "2022-12-14T13:23:28.943461Z",
     "start_time": "2022-12-14T13:23:28.937874Z"
    },
    "hidden": true,
    "papermill": {
     "duration": null,
     "end_time": null,
     "exception": null,
     "start_time": null,
     "status": "pending"
    },
    "tags": []
   },
   "outputs": [],
   "source": [
    "# Saving clusters labels\n",
    "idx = np.argsort( gmm_model.means_.sum(axis = 1) )\n",
    "\n",
    "new_cluster_label = np.zeros_like( idx )\n",
    "\n",
    "clustar_name = [0, 1, 2, 3, 4, 5, 6, 7, 8, 9]\n",
    "\n",
    "new_cluster_label[idx] = clustar_name\n",
    "\n",
    "labels = new_cluster_label[ labels ]"
   ]
  },
  {
   "cell_type": "markdown",
   "id": "ef898d3b",
   "metadata": {
    "heading_collapsed": true,
    "hidden": true,
    "papermill": {
     "duration": null,
     "end_time": null,
     "exception": null,
     "start_time": null,
     "status": "pending"
    },
    "tags": []
   },
   "source": [
    "## 9.2. Cluster Validation"
   ]
  },
  {
   "cell_type": "code",
   "execution_count": null,
   "id": "dad74c9d",
   "metadata": {
    "ExecuteTime": {
     "end_time": "2022-12-14T13:23:29.355034Z",
     "start_time": "2022-12-14T13:23:28.947481Z"
    },
    "hidden": true,
    "papermill": {
     "duration": null,
     "end_time": null,
     "exception": null,
     "start_time": null,
     "status": "pending"
    },
    "tags": []
   },
   "outputs": [],
   "source": [
    "## SS ( Silhouette Score)\n",
    "print(\"SS value: {}\".format ( m.silhouette_score(X, labels, metric = 'euclidean' ) ) )"
   ]
  },
  {
   "cell_type": "markdown",
   "id": "8081af84",
   "metadata": {
    "heading_collapsed": true,
    "papermill": {
     "duration": null,
     "end_time": null,
     "exception": null,
     "start_time": null,
     "status": "pending"
    },
    "tags": []
   },
   "source": [
    "# 10.0. Cluster Analysis"
   ]
  },
  {
   "cell_type": "code",
   "execution_count": null,
   "id": "97f827e6",
   "metadata": {
    "ExecuteTime": {
     "end_time": "2022-12-14T13:23:29.422827Z",
     "start_time": "2022-12-14T13:23:29.357764Z"
    },
    "hidden": true,
    "papermill": {
     "duration": null,
     "end_time": null,
     "exception": null,
     "start_time": null,
     "status": "pending"
    },
    "tags": []
   },
   "outputs": [],
   "source": [
    "ecommerce9 = ecommerce4.copy()\n",
    "ecommerce9['cluster'] = labels\n",
    "\n",
    "# Number of customers\n",
    "no_customers = ecommerce9[['customer_id','cluster']].groupby('cluster').count().reset_index()\n",
    "no_customers['percentage'] = ( no_customers['customer_id'] /  no_customers['customer_id'].sum() ) * 100\n",
    "\n",
    "# AVG Gross Revenue\n",
    "class_gross_revenue = ecommerce9[['gross_revenue','cluster']].groupby('cluster').mean().reset_index().rename(columns = {'gross_revenue':'avg_gross_revenue'})\n",
    "df_cluster = pd.merge(no_customers, class_gross_revenue, how = 'inner', on = 'cluster')\n",
    "\n",
    "# AVG Recency days\n",
    "class_recency = ecommerce9[['recency','cluster']].groupby('cluster').mean().reset_index()\n",
    "df_cluster = pd.merge(df_cluster, class_recency, how = 'inner', on = 'cluster')\n",
    "\n",
    "# AVG invoices\n",
    "class_invoices = ecommerce9[['qtty_products','cluster']].groupby('cluster').mean().reset_index()\n",
    "df_cluster = pd.merge(df_cluster, class_invoices, how = 'inner', on = 'cluster')\n",
    "\n",
    "# Frequency\n",
    "class_frequency = ecommerce9[['frequency','cluster']].groupby('cluster').mean().reset_index()\n",
    "df_cluster = pd.merge(df_cluster, class_frequency, how = 'inner', on = 'cluster')\n",
    "\n",
    "# Returns\n",
    "class_returns = ecommerce9[['qtty_returns','cluster']].groupby('cluster').mean().reset_index()\n",
    "df_cluster = pd.merge(df_cluster, class_returns, how = 'inner', on = 'cluster')\n",
    "\n",
    "# Percentual Gross Revenue\n",
    "perc_gross_revenue = ecommerce9[['gross_revenue','cluster']].groupby('cluster').sum().reset_index()\n",
    "perc_gross_revenue['percentual_gross_revenue'] = ( perc_gross_revenue['gross_revenue'] /  perc_gross_revenue['gross_revenue'].sum() ) * 100\n",
    "df_cluster = pd.merge(df_cluster, perc_gross_revenue, how = 'inner', on = 'cluster')"
   ]
  },
  {
   "cell_type": "code",
   "execution_count": null,
   "id": "a2eefd1a",
   "metadata": {
    "ExecuteTime": {
     "end_time": "2022-12-14T13:23:29.694266Z",
     "start_time": "2022-12-14T13:23:29.424949Z"
    },
    "hidden": true,
    "papermill": {
     "duration": null,
     "end_time": null,
     "exception": null,
     "start_time": null,
     "status": "pending"
    },
    "scrolled": false,
    "tags": []
   },
   "outputs": [],
   "source": [
    "df_cluster"
   ]
  },
  {
   "cell_type": "markdown",
   "id": "0ed4d5dc",
   "metadata": {
    "papermill": {
     "duration": null,
     "end_time": null,
     "exception": null,
     "start_time": null,
     "status": "pending"
    },
    "tags": []
   },
   "source": [
    "# 11.0. Deploy to Production"
   ]
  },
  {
   "cell_type": "code",
   "execution_count": null,
   "id": "5d67a42a",
   "metadata": {
    "ExecuteTime": {
     "end_time": "2022-12-14T13:23:29.872394Z",
     "start_time": "2022-12-14T13:23:29.698528Z"
    },
    "papermill": {
     "duration": null,
     "end_time": null,
     "exception": null,
     "start_time": null,
     "status": "pending"
    },
    "scrolled": true,
    "tags": []
   },
   "outputs": [],
   "source": [
    "ecommerce9.dtypes"
   ]
  },
  {
   "cell_type": "code",
   "execution_count": null,
   "id": "294b0907",
   "metadata": {
    "ExecuteTime": {
     "end_time": "2022-12-14T13:23:30.047199Z",
     "start_time": "2022-12-14T13:23:29.877030Z"
    },
    "papermill": {
     "duration": null,
     "end_time": null,
     "exception": null,
     "start_time": null,
     "status": "pending"
    },
    "tags": []
   },
   "outputs": [],
   "source": [
    "ecommerce9['recency'] = ecommerce9['recency'].astype( int )\n",
    "ecommerce9['qtty_products'] = ecommerce9['qtty_products'].astype( int )\n",
    "ecommerce9['qtty_returns'] = ecommerce9['qtty_returns'].astype( int )"
   ]
  },
  {
   "cell_type": "markdown",
   "id": "a71f9383",
   "metadata": {
    "papermill": {
     "duration": null,
     "end_time": null,
     "exception": null,
     "start_time": null,
     "status": "pending"
    },
    "tags": []
   },
   "source": [
    "## 11.1. Insert into SQLite"
   ]
  },
  {
   "cell_type": "code",
   "execution_count": null,
   "id": "f8a9797d",
   "metadata": {
    "ExecuteTime": {
     "end_time": "2022-12-14T13:23:30.935051Z",
     "start_time": "2022-12-14T13:23:30.051253Z"
    },
    "papermill": {
     "duration": null,
     "end_time": null,
     "exception": null,
     "start_time": null,
     "status": "pending"
    },
    "tags": []
   },
   "outputs": [],
   "source": [
    "# create table\n",
    "query_create_table_insiders = \"\"\"CREATE TABLE insiders (customer_id     INTEGER,\n",
    "                                                       gross_revenue   REAL,\n",
    "                                                       recency         INTEGER,\n",
    "                                                       qtty_products   INTEGER,\n",
    "                                                       frequency       REAL,\n",
    "                                                       qtty_returns    INTEGER,\n",
    "                                                       cluster         INTEGER)\"\"\"\n",
    "    \n",
    "\n",
    "\n",
    "connect = sqlite3.connect( 'insiders_db_sqlite' )\n",
    "connect.execute( query_create_table_insiders )\n",
    "connect.commit()\n",
    "connect.close()"
   ]
  },
  {
   "cell_type": "code",
   "execution_count": null,
   "id": "9d755512",
   "metadata": {
    "ExecuteTime": {
     "end_time": "2022-12-14T13:23:55.795507Z",
     "start_time": "2022-12-14T13:23:55.272052Z"
    },
    "papermill": {
     "duration": null,
     "end_time": null,
     "exception": null,
     "start_time": null,
     "status": "pending"
    },
    "tags": []
   },
   "outputs": [],
   "source": [
    "# insert data\n",
    "connect = create_engine('sqlite:///insiders_db_sqlite')\n",
    "ecommerce9.to_sql('insiders', con = connect, if_exists = 'append', index = False)"
   ]
  },
  {
   "cell_type": "code",
   "execution_count": null,
   "id": "cacdd492",
   "metadata": {
    "ExecuteTime": {
     "end_time": "2022-12-14T13:25:40.252449Z",
     "start_time": "2022-12-14T13:25:40.210252Z"
    },
    "papermill": {
     "duration": null,
     "end_time": null,
     "exception": null,
     "start_time": null,
     "status": "pending"
    },
    "tags": []
   },
   "outputs": [],
   "source": [
    "# # Consulting database\n",
    "\n",
    "# connect = create_engine('sqlite:///insiders_db_sqlite')\n",
    "\n",
    "# query = \"\"\"\n",
    "#         SELECT * FROM insiders\n",
    "#         \"\"\"\n",
    "# df = pd.read_sql_query(query, connect)"
   ]
  }
 ],
 "metadata": {
  "kernelspec": {
   "display_name": "Python 3 (ipykernel)",
   "language": "python",
   "name": "python3"
  },
  "language_info": {
   "codemirror_mode": {
    "name": "ipython",
    "version": 3
   },
   "file_extension": ".py",
   "mimetype": "text/x-python",
   "name": "python",
   "nbconvert_exporter": "python",
   "pygments_lexer": "ipython3",
   "version": "3.9.13"
  },
  "papermill": {
   "default_parameters": {},
   "duration": 41.877103,
   "end_time": "2022-12-14T21:45:05.757635",
   "environment_variables": {},
   "exception": true,
   "input_path": "/home/igor/Documents/repos/ds_em_clusterizacao/project/src/models/c09_deploy_planning.ipynb",
   "output_path": "/home/igor/Documents/repos/ds_em_clusterizacao/project/reports/c09_deploy_2022-12-14T18:44:23.ipynb",
   "parameters": {},
   "start_time": "2022-12-14T21:44:23.880532",
   "version": "2.4.0"
  },
  "varInspector": {
   "cols": {
    "lenName": 16,
    "lenType": 16,
    "lenVar": 40
   },
   "kernels_config": {
    "python": {
     "delete_cmd_postfix": "",
     "delete_cmd_prefix": "del ",
     "library": "var_list.py",
     "varRefreshCmd": "print(var_dic_list())"
    },
    "r": {
     "delete_cmd_postfix": ") ",
     "delete_cmd_prefix": "rm(",
     "library": "var_list.r",
     "varRefreshCmd": "cat(var_dic_list()) "
    }
   },
   "types_to_exclude": [
    "module",
    "function",
    "builtin_function_or_method",
    "instance",
    "_Feature"
   ],
   "window_display": false
  }
 },
 "nbformat": 4,
 "nbformat_minor": 5
}